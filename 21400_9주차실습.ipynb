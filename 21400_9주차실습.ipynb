{
  "nbformat": 4,
  "nbformat_minor": 0,
  "metadata": {
    "colab": {
      "name": "21400_9주차실습.ipynb",
      "provenance": [],
      "collapsed_sections": [],
      "authorship_tag": "ABX9TyM1GKCfoTxAHavAID1ZJSHu",
      "include_colab_link": true
    },
    "kernelspec": {
      "name": "python3",
      "display_name": "Python 3"
    },
    "language_info": {
      "name": "python"
    }
  },
  "cells": [
    {
      "cell_type": "markdown",
      "metadata": {
        "id": "view-in-github",
        "colab_type": "text"
      },
      "source": [
        "<a href=\"https://colab.research.google.com/github/bmt0106/bmt_python/blob/main/21400_9%EC%A3%BC%EC%B0%A8%EC%8B%A4%EC%8A%B5.ipynb\" target=\"_parent\"><img src=\"https://colab.research.google.com/assets/colab-badge.svg\" alt=\"Open In Colab\"/></a>"
      ]
    },
    {
      "cell_type": "code",
      "metadata": {
        "id": "8pXjeQz5dOOv"
      },
      "source": [
        "import pandas as pd\n",
        "import numpy as np\n",
        "import matplotlib.pyplot as plt"
      ],
      "execution_count": 1,
      "outputs": []
    },
    {
      "cell_type": "code",
      "metadata": {
        "id": "Cg42gj16fnjo"
      },
      "source": [
        "s = pd.Series(  [1, 2, 5, np.nan, 6, 8   ]   )"
      ],
      "execution_count": 2,
      "outputs": []
    },
    {
      "cell_type": "code",
      "metadata": {
        "colab": {
          "base_uri": "https://localhost:8080/"
        },
        "id": "LxolSl9sgG_-",
        "outputId": "d062e500-b86f-4996-88c1-6aa59a6d8cb2"
      },
      "source": [
        "s"
      ],
      "execution_count": 3,
      "outputs": [
        {
          "output_type": "execute_result",
          "data": {
            "text/plain": [
              "0    1.0\n",
              "1    2.0\n",
              "2    5.0\n",
              "3    NaN\n",
              "4    6.0\n",
              "5    8.0\n",
              "dtype: float64"
            ]
          },
          "metadata": {
            "tags": []
          },
          "execution_count": 3
        }
      ]
    },
    {
      "cell_type": "code",
      "metadata": {
        "colab": {
          "base_uri": "https://localhost:8080/"
        },
        "id": "qpH_3UyVgoeY",
        "outputId": "0f6b187f-bb53-4984-b28d-2256d8e8c6e2"
      },
      "source": [
        "type(s)"
      ],
      "execution_count": 4,
      "outputs": [
        {
          "output_type": "execute_result",
          "data": {
            "text/plain": [
              "pandas.core.series.Series"
            ]
          },
          "metadata": {
            "tags": []
          },
          "execution_count": 4
        }
      ]
    },
    {
      "cell_type": "code",
      "metadata": {
        "id": "liHMK6Jdg54o"
      },
      "source": [
        "dates = pd.date_range('20210430', periods=6)"
      ],
      "execution_count": 9,
      "outputs": []
    },
    {
      "cell_type": "code",
      "metadata": {
        "colab": {
          "base_uri": "https://localhost:8080/"
        },
        "id": "MR_piTDtg8LG",
        "outputId": "52fa882b-e573-4fb0-ed39-f510371afad6"
      },
      "source": [
        "dates"
      ],
      "execution_count": 10,
      "outputs": [
        {
          "output_type": "execute_result",
          "data": {
            "text/plain": [
              "DatetimeIndex(['2021-04-30', '2021-05-01', '2021-05-02', '2021-05-03',\n",
              "               '2021-05-04', '2021-05-05'],\n",
              "              dtype='datetime64[ns]', freq='D')"
            ]
          },
          "metadata": {
            "tags": []
          },
          "execution_count": 10
        }
      ]
    },
    {
      "cell_type": "code",
      "metadata": {
        "id": "mYwiGEtdg-He"
      },
      "source": [
        "df = pd.DataFrame(np.random.randn(6,4), index=dates, columns=list('ABCD'))"
      ],
      "execution_count": 11,
      "outputs": []
    },
    {
      "cell_type": "code",
      "metadata": {
        "colab": {
          "base_uri": "https://localhost:8080/",
          "height": 233
        },
        "id": "9Z7mIr1NhW-p",
        "outputId": "21a10baa-aef8-4d8a-ae32-c4ff4ed47ae6"
      },
      "source": [
        "df"
      ],
      "execution_count": 12,
      "outputs": [
        {
          "output_type": "execute_result",
          "data": {
            "text/html": [
              "<div>\n",
              "<style scoped>\n",
              "    .dataframe tbody tr th:only-of-type {\n",
              "        vertical-align: middle;\n",
              "    }\n",
              "\n",
              "    .dataframe tbody tr th {\n",
              "        vertical-align: top;\n",
              "    }\n",
              "\n",
              "    .dataframe thead th {\n",
              "        text-align: right;\n",
              "    }\n",
              "</style>\n",
              "<table border=\"1\" class=\"dataframe\">\n",
              "  <thead>\n",
              "    <tr style=\"text-align: right;\">\n",
              "      <th></th>\n",
              "      <th>A</th>\n",
              "      <th>B</th>\n",
              "      <th>C</th>\n",
              "      <th>D</th>\n",
              "    </tr>\n",
              "  </thead>\n",
              "  <tbody>\n",
              "    <tr>\n",
              "      <th>2021-04-30</th>\n",
              "      <td>-0.402876</td>\n",
              "      <td>1.205379</td>\n",
              "      <td>-2.455459</td>\n",
              "      <td>-3.014287</td>\n",
              "    </tr>\n",
              "    <tr>\n",
              "      <th>2021-05-01</th>\n",
              "      <td>0.410843</td>\n",
              "      <td>-1.670028</td>\n",
              "      <td>-0.054530</td>\n",
              "      <td>0.581192</td>\n",
              "    </tr>\n",
              "    <tr>\n",
              "      <th>2021-05-02</th>\n",
              "      <td>0.354471</td>\n",
              "      <td>1.276734</td>\n",
              "      <td>-1.600181</td>\n",
              "      <td>-0.763117</td>\n",
              "    </tr>\n",
              "    <tr>\n",
              "      <th>2021-05-03</th>\n",
              "      <td>-0.973903</td>\n",
              "      <td>-0.173350</td>\n",
              "      <td>-1.493612</td>\n",
              "      <td>0.499010</td>\n",
              "    </tr>\n",
              "    <tr>\n",
              "      <th>2021-05-04</th>\n",
              "      <td>-0.398096</td>\n",
              "      <td>1.286313</td>\n",
              "      <td>0.661230</td>\n",
              "      <td>-0.624158</td>\n",
              "    </tr>\n",
              "    <tr>\n",
              "      <th>2021-05-05</th>\n",
              "      <td>0.298105</td>\n",
              "      <td>0.504051</td>\n",
              "      <td>0.063373</td>\n",
              "      <td>-0.730589</td>\n",
              "    </tr>\n",
              "  </tbody>\n",
              "</table>\n",
              "</div>"
            ],
            "text/plain": [
              "                   A         B         C         D\n",
              "2021-04-30 -0.402876  1.205379 -2.455459 -3.014287\n",
              "2021-05-01  0.410843 -1.670028 -0.054530  0.581192\n",
              "2021-05-02  0.354471  1.276734 -1.600181 -0.763117\n",
              "2021-05-03 -0.973903 -0.173350 -1.493612  0.499010\n",
              "2021-05-04 -0.398096  1.286313  0.661230 -0.624158\n",
              "2021-05-05  0.298105  0.504051  0.063373 -0.730589"
            ]
          },
          "metadata": {
            "tags": []
          },
          "execution_count": 12
        }
      ]
    },
    {
      "cell_type": "code",
      "metadata": {
        "id": "3zqwAuaghYAv"
      },
      "source": [
        "df2 = pd.DataFrame(\n",
        "    {\n",
        "        'A':1.,\n",
        "        'B':pd.Timestamp('20210430'),\n",
        "        'C':pd.Series(1, index=list(range(4)), dtype='float32'),\n",
        "        'D':np.array([3]*4, dtype='int32'),\n",
        "        'E':pd.Categorical(['test','train','test','train']),\n",
        "        'F':'foo'\n",
        "    }\n",
        ")"
      ],
      "execution_count": 18,
      "outputs": []
    },
    {
      "cell_type": "code",
      "metadata": {
        "colab": {
          "base_uri": "https://localhost:8080/",
          "height": 171
        },
        "id": "HLUKHvzCkgYW",
        "outputId": "d5e5c477-1ff7-47ea-f96d-0dfaaf6a7e26"
      },
      "source": [
        "df2"
      ],
      "execution_count": 19,
      "outputs": [
        {
          "output_type": "execute_result",
          "data": {
            "text/html": [
              "<div>\n",
              "<style scoped>\n",
              "    .dataframe tbody tr th:only-of-type {\n",
              "        vertical-align: middle;\n",
              "    }\n",
              "\n",
              "    .dataframe tbody tr th {\n",
              "        vertical-align: top;\n",
              "    }\n",
              "\n",
              "    .dataframe thead th {\n",
              "        text-align: right;\n",
              "    }\n",
              "</style>\n",
              "<table border=\"1\" class=\"dataframe\">\n",
              "  <thead>\n",
              "    <tr style=\"text-align: right;\">\n",
              "      <th></th>\n",
              "      <th>A</th>\n",
              "      <th>B</th>\n",
              "      <th>C</th>\n",
              "      <th>D</th>\n",
              "      <th>E</th>\n",
              "      <th>F</th>\n",
              "    </tr>\n",
              "  </thead>\n",
              "  <tbody>\n",
              "    <tr>\n",
              "      <th>0</th>\n",
              "      <td>1.0</td>\n",
              "      <td>2021-04-30</td>\n",
              "      <td>1.0</td>\n",
              "      <td>3</td>\n",
              "      <td>test</td>\n",
              "      <td>foo</td>\n",
              "    </tr>\n",
              "    <tr>\n",
              "      <th>1</th>\n",
              "      <td>1.0</td>\n",
              "      <td>2021-04-30</td>\n",
              "      <td>1.0</td>\n",
              "      <td>3</td>\n",
              "      <td>train</td>\n",
              "      <td>foo</td>\n",
              "    </tr>\n",
              "    <tr>\n",
              "      <th>2</th>\n",
              "      <td>1.0</td>\n",
              "      <td>2021-04-30</td>\n",
              "      <td>1.0</td>\n",
              "      <td>3</td>\n",
              "      <td>test</td>\n",
              "      <td>foo</td>\n",
              "    </tr>\n",
              "    <tr>\n",
              "      <th>3</th>\n",
              "      <td>1.0</td>\n",
              "      <td>2021-04-30</td>\n",
              "      <td>1.0</td>\n",
              "      <td>3</td>\n",
              "      <td>train</td>\n",
              "      <td>foo</td>\n",
              "    </tr>\n",
              "  </tbody>\n",
              "</table>\n",
              "</div>"
            ],
            "text/plain": [
              "     A          B    C  D      E    F\n",
              "0  1.0 2021-04-30  1.0  3   test  foo\n",
              "1  1.0 2021-04-30  1.0  3  train  foo\n",
              "2  1.0 2021-04-30  1.0  3   test  foo\n",
              "3  1.0 2021-04-30  1.0  3  train  foo"
            ]
          },
          "metadata": {
            "tags": []
          },
          "execution_count": 19
        }
      ]
    },
    {
      "cell_type": "code",
      "metadata": {
        "colab": {
          "base_uri": "https://localhost:8080/"
        },
        "id": "dujgUUSXkpjo",
        "outputId": "dd975d0d-e72d-4d55-ab8e-c7187ec716a5"
      },
      "source": [
        "type(df2)"
      ],
      "execution_count": 20,
      "outputs": [
        {
          "output_type": "execute_result",
          "data": {
            "text/plain": [
              "pandas.core.frame.DataFrame"
            ]
          },
          "metadata": {
            "tags": []
          },
          "execution_count": 20
        }
      ]
    },
    {
      "cell_type": "code",
      "metadata": {
        "colab": {
          "base_uri": "https://localhost:8080/"
        },
        "id": "InXeP150lEee",
        "outputId": "5d1a386b-2b73-4154-d86b-51c373b7add8"
      },
      "source": [
        "df2.dtypes"
      ],
      "execution_count": 21,
      "outputs": [
        {
          "output_type": "execute_result",
          "data": {
            "text/plain": [
              "A           float64\n",
              "B    datetime64[ns]\n",
              "C           float32\n",
              "D             int32\n",
              "E          category\n",
              "F            object\n",
              "dtype: object"
            ]
          },
          "metadata": {
            "tags": []
          },
          "execution_count": 21
        }
      ]
    },
    {
      "cell_type": "code",
      "metadata": {
        "colab": {
          "base_uri": "https://localhost:8080/"
        },
        "id": "NsBA-sDplKlP",
        "outputId": "2bb82369-a90a-4266-9ce6-760ff884387d"
      },
      "source": [
        "dates"
      ],
      "execution_count": 22,
      "outputs": [
        {
          "output_type": "execute_result",
          "data": {
            "text/plain": [
              "DatetimeIndex(['2021-04-30', '2021-05-01', '2021-05-02', '2021-05-03',\n",
              "               '2021-05-04', '2021-05-05'],\n",
              "              dtype='datetime64[ns]', freq='D')"
            ]
          },
          "metadata": {
            "tags": []
          },
          "execution_count": 22
        }
      ]
    },
    {
      "cell_type": "code",
      "metadata": {
        "colab": {
          "base_uri": "https://localhost:8080/",
          "height": 225
        },
        "id": "JKHnurY9lrCK",
        "outputId": "3cece690-04cd-45f5-a174-c1815c980425"
      },
      "source": [
        "df"
      ],
      "execution_count": 23,
      "outputs": [
        {
          "output_type": "execute_result",
          "data": {
            "text/html": [
              "<div>\n",
              "<style scoped>\n",
              "    .dataframe tbody tr th:only-of-type {\n",
              "        vertical-align: middle;\n",
              "    }\n",
              "\n",
              "    .dataframe tbody tr th {\n",
              "        vertical-align: top;\n",
              "    }\n",
              "\n",
              "    .dataframe thead th {\n",
              "        text-align: right;\n",
              "    }\n",
              "</style>\n",
              "<table border=\"1\" class=\"dataframe\">\n",
              "  <thead>\n",
              "    <tr style=\"text-align: right;\">\n",
              "      <th></th>\n",
              "      <th>A</th>\n",
              "      <th>B</th>\n",
              "      <th>C</th>\n",
              "      <th>D</th>\n",
              "    </tr>\n",
              "  </thead>\n",
              "  <tbody>\n",
              "    <tr>\n",
              "      <th>2021-04-30</th>\n",
              "      <td>-0.402876</td>\n",
              "      <td>1.205379</td>\n",
              "      <td>-2.455459</td>\n",
              "      <td>-3.014287</td>\n",
              "    </tr>\n",
              "    <tr>\n",
              "      <th>2021-05-01</th>\n",
              "      <td>0.410843</td>\n",
              "      <td>-1.670028</td>\n",
              "      <td>-0.054530</td>\n",
              "      <td>0.581192</td>\n",
              "    </tr>\n",
              "    <tr>\n",
              "      <th>2021-05-02</th>\n",
              "      <td>0.354471</td>\n",
              "      <td>1.276734</td>\n",
              "      <td>-1.600181</td>\n",
              "      <td>-0.763117</td>\n",
              "    </tr>\n",
              "    <tr>\n",
              "      <th>2021-05-03</th>\n",
              "      <td>-0.973903</td>\n",
              "      <td>-0.173350</td>\n",
              "      <td>-1.493612</td>\n",
              "      <td>0.499010</td>\n",
              "    </tr>\n",
              "    <tr>\n",
              "      <th>2021-05-04</th>\n",
              "      <td>-0.398096</td>\n",
              "      <td>1.286313</td>\n",
              "      <td>0.661230</td>\n",
              "      <td>-0.624158</td>\n",
              "    </tr>\n",
              "    <tr>\n",
              "      <th>2021-05-05</th>\n",
              "      <td>0.298105</td>\n",
              "      <td>0.504051</td>\n",
              "      <td>0.063373</td>\n",
              "      <td>-0.730589</td>\n",
              "    </tr>\n",
              "  </tbody>\n",
              "</table>\n",
              "</div>"
            ],
            "text/plain": [
              "                   A         B         C         D\n",
              "2021-04-30 -0.402876  1.205379 -2.455459 -3.014287\n",
              "2021-05-01  0.410843 -1.670028 -0.054530  0.581192\n",
              "2021-05-02  0.354471  1.276734 -1.600181 -0.763117\n",
              "2021-05-03 -0.973903 -0.173350 -1.493612  0.499010\n",
              "2021-05-04 -0.398096  1.286313  0.661230 -0.624158\n",
              "2021-05-05  0.298105  0.504051  0.063373 -0.730589"
            ]
          },
          "metadata": {
            "tags": []
          },
          "execution_count": 23
        }
      ]
    },
    {
      "cell_type": "code",
      "metadata": {
        "colab": {
          "base_uri": "https://localhost:8080/",
          "height": 77
        },
        "id": "KsX-XoJzlsD2",
        "outputId": "13bfd6c3-7257-4d23-ea26-a3cb69c19cc9"
      },
      "source": [
        "df.head(1)"
      ],
      "execution_count": 28,
      "outputs": [
        {
          "output_type": "execute_result",
          "data": {
            "text/html": [
              "<div>\n",
              "<style scoped>\n",
              "    .dataframe tbody tr th:only-of-type {\n",
              "        vertical-align: middle;\n",
              "    }\n",
              "\n",
              "    .dataframe tbody tr th {\n",
              "        vertical-align: top;\n",
              "    }\n",
              "\n",
              "    .dataframe thead th {\n",
              "        text-align: right;\n",
              "    }\n",
              "</style>\n",
              "<table border=\"1\" class=\"dataframe\">\n",
              "  <thead>\n",
              "    <tr style=\"text-align: right;\">\n",
              "      <th></th>\n",
              "      <th>A</th>\n",
              "      <th>B</th>\n",
              "      <th>C</th>\n",
              "      <th>D</th>\n",
              "    </tr>\n",
              "  </thead>\n",
              "  <tbody>\n",
              "    <tr>\n",
              "      <th>2021-04-30</th>\n",
              "      <td>-0.402876</td>\n",
              "      <td>1.205379</td>\n",
              "      <td>-2.455459</td>\n",
              "      <td>-3.014287</td>\n",
              "    </tr>\n",
              "  </tbody>\n",
              "</table>\n",
              "</div>"
            ],
            "text/plain": [
              "                   A         B         C         D\n",
              "2021-04-30 -0.402876  1.205379 -2.455459 -3.014287"
            ]
          },
          "metadata": {
            "tags": []
          },
          "execution_count": 28
        }
      ]
    },
    {
      "cell_type": "code",
      "metadata": {
        "colab": {
          "base_uri": "https://localhost:8080/",
          "height": 106
        },
        "id": "ycmjPGrXlwAw",
        "outputId": "8af46835-864f-4be3-92c8-9310d28c8dbb"
      },
      "source": [
        "df.tail(2)"
      ],
      "execution_count": 27,
      "outputs": [
        {
          "output_type": "execute_result",
          "data": {
            "text/html": [
              "<div>\n",
              "<style scoped>\n",
              "    .dataframe tbody tr th:only-of-type {\n",
              "        vertical-align: middle;\n",
              "    }\n",
              "\n",
              "    .dataframe tbody tr th {\n",
              "        vertical-align: top;\n",
              "    }\n",
              "\n",
              "    .dataframe thead th {\n",
              "        text-align: right;\n",
              "    }\n",
              "</style>\n",
              "<table border=\"1\" class=\"dataframe\">\n",
              "  <thead>\n",
              "    <tr style=\"text-align: right;\">\n",
              "      <th></th>\n",
              "      <th>A</th>\n",
              "      <th>B</th>\n",
              "      <th>C</th>\n",
              "      <th>D</th>\n",
              "    </tr>\n",
              "  </thead>\n",
              "  <tbody>\n",
              "    <tr>\n",
              "      <th>2021-05-04</th>\n",
              "      <td>-0.398096</td>\n",
              "      <td>1.286313</td>\n",
              "      <td>0.661230</td>\n",
              "      <td>-0.624158</td>\n",
              "    </tr>\n",
              "    <tr>\n",
              "      <th>2021-05-05</th>\n",
              "      <td>0.298105</td>\n",
              "      <td>0.504051</td>\n",
              "      <td>0.063373</td>\n",
              "      <td>-0.730589</td>\n",
              "    </tr>\n",
              "  </tbody>\n",
              "</table>\n",
              "</div>"
            ],
            "text/plain": [
              "                   A         B         C         D\n",
              "2021-05-04 -0.398096  1.286313  0.661230 -0.624158\n",
              "2021-05-05  0.298105  0.504051  0.063373 -0.730589"
            ]
          },
          "metadata": {
            "tags": []
          },
          "execution_count": 27
        }
      ]
    },
    {
      "cell_type": "code",
      "metadata": {
        "colab": {
          "base_uri": "https://localhost:8080/",
          "height": 225
        },
        "id": "mcqiLpAWmCHH",
        "outputId": "10584242-a200-4062-b2b9-b12c597e44e5"
      },
      "source": [
        "df"
      ],
      "execution_count": 29,
      "outputs": [
        {
          "output_type": "execute_result",
          "data": {
            "text/html": [
              "<div>\n",
              "<style scoped>\n",
              "    .dataframe tbody tr th:only-of-type {\n",
              "        vertical-align: middle;\n",
              "    }\n",
              "\n",
              "    .dataframe tbody tr th {\n",
              "        vertical-align: top;\n",
              "    }\n",
              "\n",
              "    .dataframe thead th {\n",
              "        text-align: right;\n",
              "    }\n",
              "</style>\n",
              "<table border=\"1\" class=\"dataframe\">\n",
              "  <thead>\n",
              "    <tr style=\"text-align: right;\">\n",
              "      <th></th>\n",
              "      <th>A</th>\n",
              "      <th>B</th>\n",
              "      <th>C</th>\n",
              "      <th>D</th>\n",
              "    </tr>\n",
              "  </thead>\n",
              "  <tbody>\n",
              "    <tr>\n",
              "      <th>2021-04-30</th>\n",
              "      <td>-0.402876</td>\n",
              "      <td>1.205379</td>\n",
              "      <td>-2.455459</td>\n",
              "      <td>-3.014287</td>\n",
              "    </tr>\n",
              "    <tr>\n",
              "      <th>2021-05-01</th>\n",
              "      <td>0.410843</td>\n",
              "      <td>-1.670028</td>\n",
              "      <td>-0.054530</td>\n",
              "      <td>0.581192</td>\n",
              "    </tr>\n",
              "    <tr>\n",
              "      <th>2021-05-02</th>\n",
              "      <td>0.354471</td>\n",
              "      <td>1.276734</td>\n",
              "      <td>-1.600181</td>\n",
              "      <td>-0.763117</td>\n",
              "    </tr>\n",
              "    <tr>\n",
              "      <th>2021-05-03</th>\n",
              "      <td>-0.973903</td>\n",
              "      <td>-0.173350</td>\n",
              "      <td>-1.493612</td>\n",
              "      <td>0.499010</td>\n",
              "    </tr>\n",
              "    <tr>\n",
              "      <th>2021-05-04</th>\n",
              "      <td>-0.398096</td>\n",
              "      <td>1.286313</td>\n",
              "      <td>0.661230</td>\n",
              "      <td>-0.624158</td>\n",
              "    </tr>\n",
              "    <tr>\n",
              "      <th>2021-05-05</th>\n",
              "      <td>0.298105</td>\n",
              "      <td>0.504051</td>\n",
              "      <td>0.063373</td>\n",
              "      <td>-0.730589</td>\n",
              "    </tr>\n",
              "  </tbody>\n",
              "</table>\n",
              "</div>"
            ],
            "text/plain": [
              "                   A         B         C         D\n",
              "2021-04-30 -0.402876  1.205379 -2.455459 -3.014287\n",
              "2021-05-01  0.410843 -1.670028 -0.054530  0.581192\n",
              "2021-05-02  0.354471  1.276734 -1.600181 -0.763117\n",
              "2021-05-03 -0.973903 -0.173350 -1.493612  0.499010\n",
              "2021-05-04 -0.398096  1.286313  0.661230 -0.624158\n",
              "2021-05-05  0.298105  0.504051  0.063373 -0.730589"
            ]
          },
          "metadata": {
            "tags": []
          },
          "execution_count": 29
        }
      ]
    },
    {
      "cell_type": "code",
      "metadata": {
        "colab": {
          "base_uri": "https://localhost:8080/"
        },
        "id": "Sw5chhnkmdIv",
        "outputId": "4106a43f-714e-44f8-d70b-73879d5c8705"
      },
      "source": [
        "df.index"
      ],
      "execution_count": 30,
      "outputs": [
        {
          "output_type": "execute_result",
          "data": {
            "text/plain": [
              "DatetimeIndex(['2021-04-30', '2021-05-01', '2021-05-02', '2021-05-03',\n",
              "               '2021-05-04', '2021-05-05'],\n",
              "              dtype='datetime64[ns]', freq='D')"
            ]
          },
          "metadata": {
            "tags": []
          },
          "execution_count": 30
        }
      ]
    },
    {
      "cell_type": "code",
      "metadata": {
        "colab": {
          "base_uri": "https://localhost:8080/"
        },
        "id": "Uy0JQwbqmhpo",
        "outputId": "bee27cfb-59f4-479c-9309-d54aa5dd39e8"
      },
      "source": [
        "df.columns"
      ],
      "execution_count": 31,
      "outputs": [
        {
          "output_type": "execute_result",
          "data": {
            "text/plain": [
              "Index(['A', 'B', 'C', 'D'], dtype='object')"
            ]
          },
          "metadata": {
            "tags": []
          },
          "execution_count": 31
        }
      ]
    },
    {
      "cell_type": "code",
      "metadata": {
        "colab": {
          "base_uri": "https://localhost:8080/"
        },
        "id": "rCX2xMeRmk9w",
        "outputId": "2366656b-c3d3-4492-d184-b8488527938d"
      },
      "source": [
        "df.values"
      ],
      "execution_count": 32,
      "outputs": [
        {
          "output_type": "execute_result",
          "data": {
            "text/plain": [
              "array([[-0.40287563,  1.20537875, -2.45545866, -3.01428678],\n",
              "       [ 0.41084291, -1.67002784, -0.05452985,  0.58119206],\n",
              "       [ 0.35447102,  1.27673425, -1.60018124, -0.76311734],\n",
              "       [-0.97390306, -0.17335006, -1.49361187,  0.49901045],\n",
              "       [-0.3980964 ,  1.28631265,  0.66122983, -0.62415804],\n",
              "       [ 0.29810497,  0.50405066,  0.06337283, -0.73058912]])"
            ]
          },
          "metadata": {
            "tags": []
          },
          "execution_count": 32
        }
      ]
    },
    {
      "cell_type": "code",
      "metadata": {
        "colab": {
          "base_uri": "https://localhost:8080/",
          "height": 225
        },
        "id": "MHvZ2moAmnqf",
        "outputId": "411c472d-f072-44f5-8ed2-b5fc50c5adb8"
      },
      "source": [
        "df"
      ],
      "execution_count": 33,
      "outputs": [
        {
          "output_type": "execute_result",
          "data": {
            "text/html": [
              "<div>\n",
              "<style scoped>\n",
              "    .dataframe tbody tr th:only-of-type {\n",
              "        vertical-align: middle;\n",
              "    }\n",
              "\n",
              "    .dataframe tbody tr th {\n",
              "        vertical-align: top;\n",
              "    }\n",
              "\n",
              "    .dataframe thead th {\n",
              "        text-align: right;\n",
              "    }\n",
              "</style>\n",
              "<table border=\"1\" class=\"dataframe\">\n",
              "  <thead>\n",
              "    <tr style=\"text-align: right;\">\n",
              "      <th></th>\n",
              "      <th>A</th>\n",
              "      <th>B</th>\n",
              "      <th>C</th>\n",
              "      <th>D</th>\n",
              "    </tr>\n",
              "  </thead>\n",
              "  <tbody>\n",
              "    <tr>\n",
              "      <th>2021-04-30</th>\n",
              "      <td>-0.402876</td>\n",
              "      <td>1.205379</td>\n",
              "      <td>-2.455459</td>\n",
              "      <td>-3.014287</td>\n",
              "    </tr>\n",
              "    <tr>\n",
              "      <th>2021-05-01</th>\n",
              "      <td>0.410843</td>\n",
              "      <td>-1.670028</td>\n",
              "      <td>-0.054530</td>\n",
              "      <td>0.581192</td>\n",
              "    </tr>\n",
              "    <tr>\n",
              "      <th>2021-05-02</th>\n",
              "      <td>0.354471</td>\n",
              "      <td>1.276734</td>\n",
              "      <td>-1.600181</td>\n",
              "      <td>-0.763117</td>\n",
              "    </tr>\n",
              "    <tr>\n",
              "      <th>2021-05-03</th>\n",
              "      <td>-0.973903</td>\n",
              "      <td>-0.173350</td>\n",
              "      <td>-1.493612</td>\n",
              "      <td>0.499010</td>\n",
              "    </tr>\n",
              "    <tr>\n",
              "      <th>2021-05-04</th>\n",
              "      <td>-0.398096</td>\n",
              "      <td>1.286313</td>\n",
              "      <td>0.661230</td>\n",
              "      <td>-0.624158</td>\n",
              "    </tr>\n",
              "    <tr>\n",
              "      <th>2021-05-05</th>\n",
              "      <td>0.298105</td>\n",
              "      <td>0.504051</td>\n",
              "      <td>0.063373</td>\n",
              "      <td>-0.730589</td>\n",
              "    </tr>\n",
              "  </tbody>\n",
              "</table>\n",
              "</div>"
            ],
            "text/plain": [
              "                   A         B         C         D\n",
              "2021-04-30 -0.402876  1.205379 -2.455459 -3.014287\n",
              "2021-05-01  0.410843 -1.670028 -0.054530  0.581192\n",
              "2021-05-02  0.354471  1.276734 -1.600181 -0.763117\n",
              "2021-05-03 -0.973903 -0.173350 -1.493612  0.499010\n",
              "2021-05-04 -0.398096  1.286313  0.661230 -0.624158\n",
              "2021-05-05  0.298105  0.504051  0.063373 -0.730589"
            ]
          },
          "metadata": {
            "tags": []
          },
          "execution_count": 33
        }
      ]
    },
    {
      "cell_type": "code",
      "metadata": {
        "colab": {
          "base_uri": "https://localhost:8080/",
          "height": 171
        },
        "id": "P4fGzh4FmupI",
        "outputId": "3d2565f3-7c1a-410e-ae68-8f38cdb6e44b"
      },
      "source": [
        "df.T"
      ],
      "execution_count": 34,
      "outputs": [
        {
          "output_type": "execute_result",
          "data": {
            "text/html": [
              "<div>\n",
              "<style scoped>\n",
              "    .dataframe tbody tr th:only-of-type {\n",
              "        vertical-align: middle;\n",
              "    }\n",
              "\n",
              "    .dataframe tbody tr th {\n",
              "        vertical-align: top;\n",
              "    }\n",
              "\n",
              "    .dataframe thead th {\n",
              "        text-align: right;\n",
              "    }\n",
              "</style>\n",
              "<table border=\"1\" class=\"dataframe\">\n",
              "  <thead>\n",
              "    <tr style=\"text-align: right;\">\n",
              "      <th></th>\n",
              "      <th>2021-04-30</th>\n",
              "      <th>2021-05-01</th>\n",
              "      <th>2021-05-02</th>\n",
              "      <th>2021-05-03</th>\n",
              "      <th>2021-05-04</th>\n",
              "      <th>2021-05-05</th>\n",
              "    </tr>\n",
              "  </thead>\n",
              "  <tbody>\n",
              "    <tr>\n",
              "      <th>A</th>\n",
              "      <td>-0.402876</td>\n",
              "      <td>0.410843</td>\n",
              "      <td>0.354471</td>\n",
              "      <td>-0.973903</td>\n",
              "      <td>-0.398096</td>\n",
              "      <td>0.298105</td>\n",
              "    </tr>\n",
              "    <tr>\n",
              "      <th>B</th>\n",
              "      <td>1.205379</td>\n",
              "      <td>-1.670028</td>\n",
              "      <td>1.276734</td>\n",
              "      <td>-0.173350</td>\n",
              "      <td>1.286313</td>\n",
              "      <td>0.504051</td>\n",
              "    </tr>\n",
              "    <tr>\n",
              "      <th>C</th>\n",
              "      <td>-2.455459</td>\n",
              "      <td>-0.054530</td>\n",
              "      <td>-1.600181</td>\n",
              "      <td>-1.493612</td>\n",
              "      <td>0.661230</td>\n",
              "      <td>0.063373</td>\n",
              "    </tr>\n",
              "    <tr>\n",
              "      <th>D</th>\n",
              "      <td>-3.014287</td>\n",
              "      <td>0.581192</td>\n",
              "      <td>-0.763117</td>\n",
              "      <td>0.499010</td>\n",
              "      <td>-0.624158</td>\n",
              "      <td>-0.730589</td>\n",
              "    </tr>\n",
              "  </tbody>\n",
              "</table>\n",
              "</div>"
            ],
            "text/plain": [
              "   2021-04-30  2021-05-01  2021-05-02  2021-05-03  2021-05-04  2021-05-05\n",
              "A   -0.402876    0.410843    0.354471   -0.973903   -0.398096    0.298105\n",
              "B    1.205379   -1.670028    1.276734   -0.173350    1.286313    0.504051\n",
              "C   -2.455459   -0.054530   -1.600181   -1.493612    0.661230    0.063373\n",
              "D   -3.014287    0.581192   -0.763117    0.499010   -0.624158   -0.730589"
            ]
          },
          "metadata": {
            "tags": []
          },
          "execution_count": 34
        }
      ]
    },
    {
      "cell_type": "code",
      "metadata": {
        "colab": {
          "base_uri": "https://localhost:8080/",
          "height": 233
        },
        "id": "liYvbtFYm12G",
        "outputId": "df3eaec3-872b-44b9-a06d-fdabe47cac60"
      },
      "source": [
        "df"
      ],
      "execution_count": 35,
      "outputs": [
        {
          "output_type": "execute_result",
          "data": {
            "text/html": [
              "<div>\n",
              "<style scoped>\n",
              "    .dataframe tbody tr th:only-of-type {\n",
              "        vertical-align: middle;\n",
              "    }\n",
              "\n",
              "    .dataframe tbody tr th {\n",
              "        vertical-align: top;\n",
              "    }\n",
              "\n",
              "    .dataframe thead th {\n",
              "        text-align: right;\n",
              "    }\n",
              "</style>\n",
              "<table border=\"1\" class=\"dataframe\">\n",
              "  <thead>\n",
              "    <tr style=\"text-align: right;\">\n",
              "      <th></th>\n",
              "      <th>A</th>\n",
              "      <th>B</th>\n",
              "      <th>C</th>\n",
              "      <th>D</th>\n",
              "    </tr>\n",
              "  </thead>\n",
              "  <tbody>\n",
              "    <tr>\n",
              "      <th>2021-04-30</th>\n",
              "      <td>-0.402876</td>\n",
              "      <td>1.205379</td>\n",
              "      <td>-2.455459</td>\n",
              "      <td>-3.014287</td>\n",
              "    </tr>\n",
              "    <tr>\n",
              "      <th>2021-05-01</th>\n",
              "      <td>0.410843</td>\n",
              "      <td>-1.670028</td>\n",
              "      <td>-0.054530</td>\n",
              "      <td>0.581192</td>\n",
              "    </tr>\n",
              "    <tr>\n",
              "      <th>2021-05-02</th>\n",
              "      <td>0.354471</td>\n",
              "      <td>1.276734</td>\n",
              "      <td>-1.600181</td>\n",
              "      <td>-0.763117</td>\n",
              "    </tr>\n",
              "    <tr>\n",
              "      <th>2021-05-03</th>\n",
              "      <td>-0.973903</td>\n",
              "      <td>-0.173350</td>\n",
              "      <td>-1.493612</td>\n",
              "      <td>0.499010</td>\n",
              "    </tr>\n",
              "    <tr>\n",
              "      <th>2021-05-04</th>\n",
              "      <td>-0.398096</td>\n",
              "      <td>1.286313</td>\n",
              "      <td>0.661230</td>\n",
              "      <td>-0.624158</td>\n",
              "    </tr>\n",
              "    <tr>\n",
              "      <th>2021-05-05</th>\n",
              "      <td>0.298105</td>\n",
              "      <td>0.504051</td>\n",
              "      <td>0.063373</td>\n",
              "      <td>-0.730589</td>\n",
              "    </tr>\n",
              "  </tbody>\n",
              "</table>\n",
              "</div>"
            ],
            "text/plain": [
              "                   A         B         C         D\n",
              "2021-04-30 -0.402876  1.205379 -2.455459 -3.014287\n",
              "2021-05-01  0.410843 -1.670028 -0.054530  0.581192\n",
              "2021-05-02  0.354471  1.276734 -1.600181 -0.763117\n",
              "2021-05-03 -0.973903 -0.173350 -1.493612  0.499010\n",
              "2021-05-04 -0.398096  1.286313  0.661230 -0.624158\n",
              "2021-05-05  0.298105  0.504051  0.063373 -0.730589"
            ]
          },
          "metadata": {
            "tags": []
          },
          "execution_count": 35
        }
      ]
    },
    {
      "cell_type": "code",
      "metadata": {
        "colab": {
          "base_uri": "https://localhost:8080/",
          "height": 233
        },
        "id": "jp0tkxgVoyr3",
        "outputId": "f2668e07-9230-48ab-e678-e66161f741cf"
      },
      "source": [
        "df.sort_index(axis=0, ascending=True)"
      ],
      "execution_count": 37,
      "outputs": [
        {
          "output_type": "execute_result",
          "data": {
            "text/html": [
              "<div>\n",
              "<style scoped>\n",
              "    .dataframe tbody tr th:only-of-type {\n",
              "        vertical-align: middle;\n",
              "    }\n",
              "\n",
              "    .dataframe tbody tr th {\n",
              "        vertical-align: top;\n",
              "    }\n",
              "\n",
              "    .dataframe thead th {\n",
              "        text-align: right;\n",
              "    }\n",
              "</style>\n",
              "<table border=\"1\" class=\"dataframe\">\n",
              "  <thead>\n",
              "    <tr style=\"text-align: right;\">\n",
              "      <th></th>\n",
              "      <th>A</th>\n",
              "      <th>B</th>\n",
              "      <th>C</th>\n",
              "      <th>D</th>\n",
              "    </tr>\n",
              "  </thead>\n",
              "  <tbody>\n",
              "    <tr>\n",
              "      <th>2021-04-30</th>\n",
              "      <td>-0.402876</td>\n",
              "      <td>1.205379</td>\n",
              "      <td>-2.455459</td>\n",
              "      <td>-3.014287</td>\n",
              "    </tr>\n",
              "    <tr>\n",
              "      <th>2021-05-01</th>\n",
              "      <td>0.410843</td>\n",
              "      <td>-1.670028</td>\n",
              "      <td>-0.054530</td>\n",
              "      <td>0.581192</td>\n",
              "    </tr>\n",
              "    <tr>\n",
              "      <th>2021-05-02</th>\n",
              "      <td>0.354471</td>\n",
              "      <td>1.276734</td>\n",
              "      <td>-1.600181</td>\n",
              "      <td>-0.763117</td>\n",
              "    </tr>\n",
              "    <tr>\n",
              "      <th>2021-05-03</th>\n",
              "      <td>-0.973903</td>\n",
              "      <td>-0.173350</td>\n",
              "      <td>-1.493612</td>\n",
              "      <td>0.499010</td>\n",
              "    </tr>\n",
              "    <tr>\n",
              "      <th>2021-05-04</th>\n",
              "      <td>-0.398096</td>\n",
              "      <td>1.286313</td>\n",
              "      <td>0.661230</td>\n",
              "      <td>-0.624158</td>\n",
              "    </tr>\n",
              "    <tr>\n",
              "      <th>2021-05-05</th>\n",
              "      <td>0.298105</td>\n",
              "      <td>0.504051</td>\n",
              "      <td>0.063373</td>\n",
              "      <td>-0.730589</td>\n",
              "    </tr>\n",
              "  </tbody>\n",
              "</table>\n",
              "</div>"
            ],
            "text/plain": [
              "                   A         B         C         D\n",
              "2021-04-30 -0.402876  1.205379 -2.455459 -3.014287\n",
              "2021-05-01  0.410843 -1.670028 -0.054530  0.581192\n",
              "2021-05-02  0.354471  1.276734 -1.600181 -0.763117\n",
              "2021-05-03 -0.973903 -0.173350 -1.493612  0.499010\n",
              "2021-05-04 -0.398096  1.286313  0.661230 -0.624158\n",
              "2021-05-05  0.298105  0.504051  0.063373 -0.730589"
            ]
          },
          "metadata": {
            "tags": []
          },
          "execution_count": 37
        }
      ]
    },
    {
      "cell_type": "code",
      "metadata": {
        "colab": {
          "base_uri": "https://localhost:8080/",
          "height": 233
        },
        "id": "6WJ_4S_jpM64",
        "outputId": "635ad998-613b-4b14-fb7f-05c9c6f4bfb6"
      },
      "source": [
        "df.sort_index(axis=0, ascending=False)"
      ],
      "execution_count": 38,
      "outputs": [
        {
          "output_type": "execute_result",
          "data": {
            "text/html": [
              "<div>\n",
              "<style scoped>\n",
              "    .dataframe tbody tr th:only-of-type {\n",
              "        vertical-align: middle;\n",
              "    }\n",
              "\n",
              "    .dataframe tbody tr th {\n",
              "        vertical-align: top;\n",
              "    }\n",
              "\n",
              "    .dataframe thead th {\n",
              "        text-align: right;\n",
              "    }\n",
              "</style>\n",
              "<table border=\"1\" class=\"dataframe\">\n",
              "  <thead>\n",
              "    <tr style=\"text-align: right;\">\n",
              "      <th></th>\n",
              "      <th>A</th>\n",
              "      <th>B</th>\n",
              "      <th>C</th>\n",
              "      <th>D</th>\n",
              "    </tr>\n",
              "  </thead>\n",
              "  <tbody>\n",
              "    <tr>\n",
              "      <th>2021-05-05</th>\n",
              "      <td>0.298105</td>\n",
              "      <td>0.504051</td>\n",
              "      <td>0.063373</td>\n",
              "      <td>-0.730589</td>\n",
              "    </tr>\n",
              "    <tr>\n",
              "      <th>2021-05-04</th>\n",
              "      <td>-0.398096</td>\n",
              "      <td>1.286313</td>\n",
              "      <td>0.661230</td>\n",
              "      <td>-0.624158</td>\n",
              "    </tr>\n",
              "    <tr>\n",
              "      <th>2021-05-03</th>\n",
              "      <td>-0.973903</td>\n",
              "      <td>-0.173350</td>\n",
              "      <td>-1.493612</td>\n",
              "      <td>0.499010</td>\n",
              "    </tr>\n",
              "    <tr>\n",
              "      <th>2021-05-02</th>\n",
              "      <td>0.354471</td>\n",
              "      <td>1.276734</td>\n",
              "      <td>-1.600181</td>\n",
              "      <td>-0.763117</td>\n",
              "    </tr>\n",
              "    <tr>\n",
              "      <th>2021-05-01</th>\n",
              "      <td>0.410843</td>\n",
              "      <td>-1.670028</td>\n",
              "      <td>-0.054530</td>\n",
              "      <td>0.581192</td>\n",
              "    </tr>\n",
              "    <tr>\n",
              "      <th>2021-04-30</th>\n",
              "      <td>-0.402876</td>\n",
              "      <td>1.205379</td>\n",
              "      <td>-2.455459</td>\n",
              "      <td>-3.014287</td>\n",
              "    </tr>\n",
              "  </tbody>\n",
              "</table>\n",
              "</div>"
            ],
            "text/plain": [
              "                   A         B         C         D\n",
              "2021-05-05  0.298105  0.504051  0.063373 -0.730589\n",
              "2021-05-04 -0.398096  1.286313  0.661230 -0.624158\n",
              "2021-05-03 -0.973903 -0.173350 -1.493612  0.499010\n",
              "2021-05-02  0.354471  1.276734 -1.600181 -0.763117\n",
              "2021-05-01  0.410843 -1.670028 -0.054530  0.581192\n",
              "2021-04-30 -0.402876  1.205379 -2.455459 -3.014287"
            ]
          },
          "metadata": {
            "tags": []
          },
          "execution_count": 38
        }
      ]
    },
    {
      "cell_type": "code",
      "metadata": {
        "colab": {
          "base_uri": "https://localhost:8080/",
          "height": 233
        },
        "id": "mKv2fHsxpkgX",
        "outputId": "99501006-d560-4c22-b369-0c23712b115c"
      },
      "source": [
        "df.sort_index(axis=1, ascending=True)"
      ],
      "execution_count": 39,
      "outputs": [
        {
          "output_type": "execute_result",
          "data": {
            "text/html": [
              "<div>\n",
              "<style scoped>\n",
              "    .dataframe tbody tr th:only-of-type {\n",
              "        vertical-align: middle;\n",
              "    }\n",
              "\n",
              "    .dataframe tbody tr th {\n",
              "        vertical-align: top;\n",
              "    }\n",
              "\n",
              "    .dataframe thead th {\n",
              "        text-align: right;\n",
              "    }\n",
              "</style>\n",
              "<table border=\"1\" class=\"dataframe\">\n",
              "  <thead>\n",
              "    <tr style=\"text-align: right;\">\n",
              "      <th></th>\n",
              "      <th>A</th>\n",
              "      <th>B</th>\n",
              "      <th>C</th>\n",
              "      <th>D</th>\n",
              "    </tr>\n",
              "  </thead>\n",
              "  <tbody>\n",
              "    <tr>\n",
              "      <th>2021-04-30</th>\n",
              "      <td>-0.402876</td>\n",
              "      <td>1.205379</td>\n",
              "      <td>-2.455459</td>\n",
              "      <td>-3.014287</td>\n",
              "    </tr>\n",
              "    <tr>\n",
              "      <th>2021-05-01</th>\n",
              "      <td>0.410843</td>\n",
              "      <td>-1.670028</td>\n",
              "      <td>-0.054530</td>\n",
              "      <td>0.581192</td>\n",
              "    </tr>\n",
              "    <tr>\n",
              "      <th>2021-05-02</th>\n",
              "      <td>0.354471</td>\n",
              "      <td>1.276734</td>\n",
              "      <td>-1.600181</td>\n",
              "      <td>-0.763117</td>\n",
              "    </tr>\n",
              "    <tr>\n",
              "      <th>2021-05-03</th>\n",
              "      <td>-0.973903</td>\n",
              "      <td>-0.173350</td>\n",
              "      <td>-1.493612</td>\n",
              "      <td>0.499010</td>\n",
              "    </tr>\n",
              "    <tr>\n",
              "      <th>2021-05-04</th>\n",
              "      <td>-0.398096</td>\n",
              "      <td>1.286313</td>\n",
              "      <td>0.661230</td>\n",
              "      <td>-0.624158</td>\n",
              "    </tr>\n",
              "    <tr>\n",
              "      <th>2021-05-05</th>\n",
              "      <td>0.298105</td>\n",
              "      <td>0.504051</td>\n",
              "      <td>0.063373</td>\n",
              "      <td>-0.730589</td>\n",
              "    </tr>\n",
              "  </tbody>\n",
              "</table>\n",
              "</div>"
            ],
            "text/plain": [
              "                   A         B         C         D\n",
              "2021-04-30 -0.402876  1.205379 -2.455459 -3.014287\n",
              "2021-05-01  0.410843 -1.670028 -0.054530  0.581192\n",
              "2021-05-02  0.354471  1.276734 -1.600181 -0.763117\n",
              "2021-05-03 -0.973903 -0.173350 -1.493612  0.499010\n",
              "2021-05-04 -0.398096  1.286313  0.661230 -0.624158\n",
              "2021-05-05  0.298105  0.504051  0.063373 -0.730589"
            ]
          },
          "metadata": {
            "tags": []
          },
          "execution_count": 39
        }
      ]
    },
    {
      "cell_type": "code",
      "metadata": {
        "colab": {
          "base_uri": "https://localhost:8080/",
          "height": 233
        },
        "id": "H_g7xLKKpw_w",
        "outputId": "325179fe-d2ac-4468-d4ed-e9ccdb74d635"
      },
      "source": [
        "df.sort_index(axis=1, ascending=False)"
      ],
      "execution_count": 40,
      "outputs": [
        {
          "output_type": "execute_result",
          "data": {
            "text/html": [
              "<div>\n",
              "<style scoped>\n",
              "    .dataframe tbody tr th:only-of-type {\n",
              "        vertical-align: middle;\n",
              "    }\n",
              "\n",
              "    .dataframe tbody tr th {\n",
              "        vertical-align: top;\n",
              "    }\n",
              "\n",
              "    .dataframe thead th {\n",
              "        text-align: right;\n",
              "    }\n",
              "</style>\n",
              "<table border=\"1\" class=\"dataframe\">\n",
              "  <thead>\n",
              "    <tr style=\"text-align: right;\">\n",
              "      <th></th>\n",
              "      <th>D</th>\n",
              "      <th>C</th>\n",
              "      <th>B</th>\n",
              "      <th>A</th>\n",
              "    </tr>\n",
              "  </thead>\n",
              "  <tbody>\n",
              "    <tr>\n",
              "      <th>2021-04-30</th>\n",
              "      <td>-3.014287</td>\n",
              "      <td>-2.455459</td>\n",
              "      <td>1.205379</td>\n",
              "      <td>-0.402876</td>\n",
              "    </tr>\n",
              "    <tr>\n",
              "      <th>2021-05-01</th>\n",
              "      <td>0.581192</td>\n",
              "      <td>-0.054530</td>\n",
              "      <td>-1.670028</td>\n",
              "      <td>0.410843</td>\n",
              "    </tr>\n",
              "    <tr>\n",
              "      <th>2021-05-02</th>\n",
              "      <td>-0.763117</td>\n",
              "      <td>-1.600181</td>\n",
              "      <td>1.276734</td>\n",
              "      <td>0.354471</td>\n",
              "    </tr>\n",
              "    <tr>\n",
              "      <th>2021-05-03</th>\n",
              "      <td>0.499010</td>\n",
              "      <td>-1.493612</td>\n",
              "      <td>-0.173350</td>\n",
              "      <td>-0.973903</td>\n",
              "    </tr>\n",
              "    <tr>\n",
              "      <th>2021-05-04</th>\n",
              "      <td>-0.624158</td>\n",
              "      <td>0.661230</td>\n",
              "      <td>1.286313</td>\n",
              "      <td>-0.398096</td>\n",
              "    </tr>\n",
              "    <tr>\n",
              "      <th>2021-05-05</th>\n",
              "      <td>-0.730589</td>\n",
              "      <td>0.063373</td>\n",
              "      <td>0.504051</td>\n",
              "      <td>0.298105</td>\n",
              "    </tr>\n",
              "  </tbody>\n",
              "</table>\n",
              "</div>"
            ],
            "text/plain": [
              "                   D         C         B         A\n",
              "2021-04-30 -3.014287 -2.455459  1.205379 -0.402876\n",
              "2021-05-01  0.581192 -0.054530 -1.670028  0.410843\n",
              "2021-05-02 -0.763117 -1.600181  1.276734  0.354471\n",
              "2021-05-03  0.499010 -1.493612 -0.173350 -0.973903\n",
              "2021-05-04 -0.624158  0.661230  1.286313 -0.398096\n",
              "2021-05-05 -0.730589  0.063373  0.504051  0.298105"
            ]
          },
          "metadata": {
            "tags": []
          },
          "execution_count": 40
        }
      ]
    },
    {
      "cell_type": "code",
      "metadata": {
        "colab": {
          "base_uri": "https://localhost:8080/",
          "height": 233
        },
        "id": "U7TzWxdCp19l",
        "outputId": "078d82d5-4d69-4dea-fb6f-510d938394dd"
      },
      "source": [
        "df"
      ],
      "execution_count": 41,
      "outputs": [
        {
          "output_type": "execute_result",
          "data": {
            "text/html": [
              "<div>\n",
              "<style scoped>\n",
              "    .dataframe tbody tr th:only-of-type {\n",
              "        vertical-align: middle;\n",
              "    }\n",
              "\n",
              "    .dataframe tbody tr th {\n",
              "        vertical-align: top;\n",
              "    }\n",
              "\n",
              "    .dataframe thead th {\n",
              "        text-align: right;\n",
              "    }\n",
              "</style>\n",
              "<table border=\"1\" class=\"dataframe\">\n",
              "  <thead>\n",
              "    <tr style=\"text-align: right;\">\n",
              "      <th></th>\n",
              "      <th>A</th>\n",
              "      <th>B</th>\n",
              "      <th>C</th>\n",
              "      <th>D</th>\n",
              "    </tr>\n",
              "  </thead>\n",
              "  <tbody>\n",
              "    <tr>\n",
              "      <th>2021-04-30</th>\n",
              "      <td>-0.402876</td>\n",
              "      <td>1.205379</td>\n",
              "      <td>-2.455459</td>\n",
              "      <td>-3.014287</td>\n",
              "    </tr>\n",
              "    <tr>\n",
              "      <th>2021-05-01</th>\n",
              "      <td>0.410843</td>\n",
              "      <td>-1.670028</td>\n",
              "      <td>-0.054530</td>\n",
              "      <td>0.581192</td>\n",
              "    </tr>\n",
              "    <tr>\n",
              "      <th>2021-05-02</th>\n",
              "      <td>0.354471</td>\n",
              "      <td>1.276734</td>\n",
              "      <td>-1.600181</td>\n",
              "      <td>-0.763117</td>\n",
              "    </tr>\n",
              "    <tr>\n",
              "      <th>2021-05-03</th>\n",
              "      <td>-0.973903</td>\n",
              "      <td>-0.173350</td>\n",
              "      <td>-1.493612</td>\n",
              "      <td>0.499010</td>\n",
              "    </tr>\n",
              "    <tr>\n",
              "      <th>2021-05-04</th>\n",
              "      <td>-0.398096</td>\n",
              "      <td>1.286313</td>\n",
              "      <td>0.661230</td>\n",
              "      <td>-0.624158</td>\n",
              "    </tr>\n",
              "    <tr>\n",
              "      <th>2021-05-05</th>\n",
              "      <td>0.298105</td>\n",
              "      <td>0.504051</td>\n",
              "      <td>0.063373</td>\n",
              "      <td>-0.730589</td>\n",
              "    </tr>\n",
              "  </tbody>\n",
              "</table>\n",
              "</div>"
            ],
            "text/plain": [
              "                   A         B         C         D\n",
              "2021-04-30 -0.402876  1.205379 -2.455459 -3.014287\n",
              "2021-05-01  0.410843 -1.670028 -0.054530  0.581192\n",
              "2021-05-02  0.354471  1.276734 -1.600181 -0.763117\n",
              "2021-05-03 -0.973903 -0.173350 -1.493612  0.499010\n",
              "2021-05-04 -0.398096  1.286313  0.661230 -0.624158\n",
              "2021-05-05  0.298105  0.504051  0.063373 -0.730589"
            ]
          },
          "metadata": {
            "tags": []
          },
          "execution_count": 41
        }
      ]
    },
    {
      "cell_type": "code",
      "metadata": {
        "colab": {
          "base_uri": "https://localhost:8080/",
          "height": 233
        },
        "id": "fkZUqjoKqB8Y",
        "outputId": "663e5163-6c1f-4dc6-9abb-5dc23259db1a"
      },
      "source": [
        "df.sort_values(by='B')"
      ],
      "execution_count": 42,
      "outputs": [
        {
          "output_type": "execute_result",
          "data": {
            "text/html": [
              "<div>\n",
              "<style scoped>\n",
              "    .dataframe tbody tr th:only-of-type {\n",
              "        vertical-align: middle;\n",
              "    }\n",
              "\n",
              "    .dataframe tbody tr th {\n",
              "        vertical-align: top;\n",
              "    }\n",
              "\n",
              "    .dataframe thead th {\n",
              "        text-align: right;\n",
              "    }\n",
              "</style>\n",
              "<table border=\"1\" class=\"dataframe\">\n",
              "  <thead>\n",
              "    <tr style=\"text-align: right;\">\n",
              "      <th></th>\n",
              "      <th>A</th>\n",
              "      <th>B</th>\n",
              "      <th>C</th>\n",
              "      <th>D</th>\n",
              "    </tr>\n",
              "  </thead>\n",
              "  <tbody>\n",
              "    <tr>\n",
              "      <th>2021-05-01</th>\n",
              "      <td>0.410843</td>\n",
              "      <td>-1.670028</td>\n",
              "      <td>-0.054530</td>\n",
              "      <td>0.581192</td>\n",
              "    </tr>\n",
              "    <tr>\n",
              "      <th>2021-05-03</th>\n",
              "      <td>-0.973903</td>\n",
              "      <td>-0.173350</td>\n",
              "      <td>-1.493612</td>\n",
              "      <td>0.499010</td>\n",
              "    </tr>\n",
              "    <tr>\n",
              "      <th>2021-05-05</th>\n",
              "      <td>0.298105</td>\n",
              "      <td>0.504051</td>\n",
              "      <td>0.063373</td>\n",
              "      <td>-0.730589</td>\n",
              "    </tr>\n",
              "    <tr>\n",
              "      <th>2021-04-30</th>\n",
              "      <td>-0.402876</td>\n",
              "      <td>1.205379</td>\n",
              "      <td>-2.455459</td>\n",
              "      <td>-3.014287</td>\n",
              "    </tr>\n",
              "    <tr>\n",
              "      <th>2021-05-02</th>\n",
              "      <td>0.354471</td>\n",
              "      <td>1.276734</td>\n",
              "      <td>-1.600181</td>\n",
              "      <td>-0.763117</td>\n",
              "    </tr>\n",
              "    <tr>\n",
              "      <th>2021-05-04</th>\n",
              "      <td>-0.398096</td>\n",
              "      <td>1.286313</td>\n",
              "      <td>0.661230</td>\n",
              "      <td>-0.624158</td>\n",
              "    </tr>\n",
              "  </tbody>\n",
              "</table>\n",
              "</div>"
            ],
            "text/plain": [
              "                   A         B         C         D\n",
              "2021-05-01  0.410843 -1.670028 -0.054530  0.581192\n",
              "2021-05-03 -0.973903 -0.173350 -1.493612  0.499010\n",
              "2021-05-05  0.298105  0.504051  0.063373 -0.730589\n",
              "2021-04-30 -0.402876  1.205379 -2.455459 -3.014287\n",
              "2021-05-02  0.354471  1.276734 -1.600181 -0.763117\n",
              "2021-05-04 -0.398096  1.286313  0.661230 -0.624158"
            ]
          },
          "metadata": {
            "tags": []
          },
          "execution_count": 42
        }
      ]
    },
    {
      "cell_type": "code",
      "metadata": {
        "colab": {
          "base_uri": "https://localhost:8080/"
        },
        "id": "iaBzgpfIqKrm",
        "outputId": "adb24f50-d511-4e2d-abe8-3c0115aa7127"
      },
      "source": [
        "dates"
      ],
      "execution_count": 43,
      "outputs": [
        {
          "output_type": "execute_result",
          "data": {
            "text/plain": [
              "DatetimeIndex(['2021-04-30', '2021-05-01', '2021-05-02', '2021-05-03',\n",
              "               '2021-05-04', '2021-05-05'],\n",
              "              dtype='datetime64[ns]', freq='D')"
            ]
          },
          "metadata": {
            "tags": []
          },
          "execution_count": 43
        }
      ]
    },
    {
      "cell_type": "code",
      "metadata": {
        "colab": {
          "base_uri": "https://localhost:8080/",
          "height": 233
        },
        "id": "r-_kCjNOqdC_",
        "outputId": "f6e0410a-17a6-49b3-bcdf-f8b5942a2923"
      },
      "source": [
        "df"
      ],
      "execution_count": 44,
      "outputs": [
        {
          "output_type": "execute_result",
          "data": {
            "text/html": [
              "<div>\n",
              "<style scoped>\n",
              "    .dataframe tbody tr th:only-of-type {\n",
              "        vertical-align: middle;\n",
              "    }\n",
              "\n",
              "    .dataframe tbody tr th {\n",
              "        vertical-align: top;\n",
              "    }\n",
              "\n",
              "    .dataframe thead th {\n",
              "        text-align: right;\n",
              "    }\n",
              "</style>\n",
              "<table border=\"1\" class=\"dataframe\">\n",
              "  <thead>\n",
              "    <tr style=\"text-align: right;\">\n",
              "      <th></th>\n",
              "      <th>A</th>\n",
              "      <th>B</th>\n",
              "      <th>C</th>\n",
              "      <th>D</th>\n",
              "    </tr>\n",
              "  </thead>\n",
              "  <tbody>\n",
              "    <tr>\n",
              "      <th>2021-04-30</th>\n",
              "      <td>-0.402876</td>\n",
              "      <td>1.205379</td>\n",
              "      <td>-2.455459</td>\n",
              "      <td>-3.014287</td>\n",
              "    </tr>\n",
              "    <tr>\n",
              "      <th>2021-05-01</th>\n",
              "      <td>0.410843</td>\n",
              "      <td>-1.670028</td>\n",
              "      <td>-0.054530</td>\n",
              "      <td>0.581192</td>\n",
              "    </tr>\n",
              "    <tr>\n",
              "      <th>2021-05-02</th>\n",
              "      <td>0.354471</td>\n",
              "      <td>1.276734</td>\n",
              "      <td>-1.600181</td>\n",
              "      <td>-0.763117</td>\n",
              "    </tr>\n",
              "    <tr>\n",
              "      <th>2021-05-03</th>\n",
              "      <td>-0.973903</td>\n",
              "      <td>-0.173350</td>\n",
              "      <td>-1.493612</td>\n",
              "      <td>0.499010</td>\n",
              "    </tr>\n",
              "    <tr>\n",
              "      <th>2021-05-04</th>\n",
              "      <td>-0.398096</td>\n",
              "      <td>1.286313</td>\n",
              "      <td>0.661230</td>\n",
              "      <td>-0.624158</td>\n",
              "    </tr>\n",
              "    <tr>\n",
              "      <th>2021-05-05</th>\n",
              "      <td>0.298105</td>\n",
              "      <td>0.504051</td>\n",
              "      <td>0.063373</td>\n",
              "      <td>-0.730589</td>\n",
              "    </tr>\n",
              "  </tbody>\n",
              "</table>\n",
              "</div>"
            ],
            "text/plain": [
              "                   A         B         C         D\n",
              "2021-04-30 -0.402876  1.205379 -2.455459 -3.014287\n",
              "2021-05-01  0.410843 -1.670028 -0.054530  0.581192\n",
              "2021-05-02  0.354471  1.276734 -1.600181 -0.763117\n",
              "2021-05-03 -0.973903 -0.173350 -1.493612  0.499010\n",
              "2021-05-04 -0.398096  1.286313  0.661230 -0.624158\n",
              "2021-05-05  0.298105  0.504051  0.063373 -0.730589"
            ]
          },
          "metadata": {
            "tags": []
          },
          "execution_count": 44
        }
      ]
    },
    {
      "cell_type": "code",
      "metadata": {
        "colab": {
          "base_uri": "https://localhost:8080/"
        },
        "id": "0TXIuqZ5qeQG",
        "outputId": "8d7c4822-9d9c-4fd1-f710-3b04ff4f6b41"
      },
      "source": [
        "df['C']"
      ],
      "execution_count": 47,
      "outputs": [
        {
          "output_type": "execute_result",
          "data": {
            "text/plain": [
              "2021-04-30   -2.455459\n",
              "2021-05-01   -0.054530\n",
              "2021-05-02   -1.600181\n",
              "2021-05-03   -1.493612\n",
              "2021-05-04    0.661230\n",
              "2021-05-05    0.063373\n",
              "Freq: D, Name: C, dtype: float64"
            ]
          },
          "metadata": {
            "tags": []
          },
          "execution_count": 47
        }
      ]
    },
    {
      "cell_type": "code",
      "metadata": {
        "colab": {
          "base_uri": "https://localhost:8080/",
          "height": 233
        },
        "id": "qNtRgc_nqpFH",
        "outputId": "54634081-f74f-4161-bebc-93261587e20e"
      },
      "source": [
        "df[['A','B','D']]"
      ],
      "execution_count": 52,
      "outputs": [
        {
          "output_type": "execute_result",
          "data": {
            "text/html": [
              "<div>\n",
              "<style scoped>\n",
              "    .dataframe tbody tr th:only-of-type {\n",
              "        vertical-align: middle;\n",
              "    }\n",
              "\n",
              "    .dataframe tbody tr th {\n",
              "        vertical-align: top;\n",
              "    }\n",
              "\n",
              "    .dataframe thead th {\n",
              "        text-align: right;\n",
              "    }\n",
              "</style>\n",
              "<table border=\"1\" class=\"dataframe\">\n",
              "  <thead>\n",
              "    <tr style=\"text-align: right;\">\n",
              "      <th></th>\n",
              "      <th>A</th>\n",
              "      <th>B</th>\n",
              "      <th>D</th>\n",
              "    </tr>\n",
              "  </thead>\n",
              "  <tbody>\n",
              "    <tr>\n",
              "      <th>2021-04-30</th>\n",
              "      <td>-0.402876</td>\n",
              "      <td>1.205379</td>\n",
              "      <td>-3.014287</td>\n",
              "    </tr>\n",
              "    <tr>\n",
              "      <th>2021-05-01</th>\n",
              "      <td>0.410843</td>\n",
              "      <td>-1.670028</td>\n",
              "      <td>0.581192</td>\n",
              "    </tr>\n",
              "    <tr>\n",
              "      <th>2021-05-02</th>\n",
              "      <td>0.354471</td>\n",
              "      <td>1.276734</td>\n",
              "      <td>-0.763117</td>\n",
              "    </tr>\n",
              "    <tr>\n",
              "      <th>2021-05-03</th>\n",
              "      <td>-0.973903</td>\n",
              "      <td>-0.173350</td>\n",
              "      <td>0.499010</td>\n",
              "    </tr>\n",
              "    <tr>\n",
              "      <th>2021-05-04</th>\n",
              "      <td>-0.398096</td>\n",
              "      <td>1.286313</td>\n",
              "      <td>-0.624158</td>\n",
              "    </tr>\n",
              "    <tr>\n",
              "      <th>2021-05-05</th>\n",
              "      <td>0.298105</td>\n",
              "      <td>0.504051</td>\n",
              "      <td>-0.730589</td>\n",
              "    </tr>\n",
              "  </tbody>\n",
              "</table>\n",
              "</div>"
            ],
            "text/plain": [
              "                   A         B         D\n",
              "2021-04-30 -0.402876  1.205379 -3.014287\n",
              "2021-05-01  0.410843 -1.670028  0.581192\n",
              "2021-05-02  0.354471  1.276734 -0.763117\n",
              "2021-05-03 -0.973903 -0.173350  0.499010\n",
              "2021-05-04 -0.398096  1.286313 -0.624158\n",
              "2021-05-05  0.298105  0.504051 -0.730589"
            ]
          },
          "metadata": {
            "tags": []
          },
          "execution_count": 52
        }
      ]
    },
    {
      "cell_type": "code",
      "metadata": {
        "colab": {
          "base_uri": "https://localhost:8080/",
          "height": 233
        },
        "id": "D_RqYixRq8-Y",
        "outputId": "912874ad-a716-4055-8fb8-aab0e2c3cd72"
      },
      "source": [
        "df"
      ],
      "execution_count": 53,
      "outputs": [
        {
          "output_type": "execute_result",
          "data": {
            "text/html": [
              "<div>\n",
              "<style scoped>\n",
              "    .dataframe tbody tr th:only-of-type {\n",
              "        vertical-align: middle;\n",
              "    }\n",
              "\n",
              "    .dataframe tbody tr th {\n",
              "        vertical-align: top;\n",
              "    }\n",
              "\n",
              "    .dataframe thead th {\n",
              "        text-align: right;\n",
              "    }\n",
              "</style>\n",
              "<table border=\"1\" class=\"dataframe\">\n",
              "  <thead>\n",
              "    <tr style=\"text-align: right;\">\n",
              "      <th></th>\n",
              "      <th>A</th>\n",
              "      <th>B</th>\n",
              "      <th>C</th>\n",
              "      <th>D</th>\n",
              "    </tr>\n",
              "  </thead>\n",
              "  <tbody>\n",
              "    <tr>\n",
              "      <th>2021-04-30</th>\n",
              "      <td>-0.402876</td>\n",
              "      <td>1.205379</td>\n",
              "      <td>-2.455459</td>\n",
              "      <td>-3.014287</td>\n",
              "    </tr>\n",
              "    <tr>\n",
              "      <th>2021-05-01</th>\n",
              "      <td>0.410843</td>\n",
              "      <td>-1.670028</td>\n",
              "      <td>-0.054530</td>\n",
              "      <td>0.581192</td>\n",
              "    </tr>\n",
              "    <tr>\n",
              "      <th>2021-05-02</th>\n",
              "      <td>0.354471</td>\n",
              "      <td>1.276734</td>\n",
              "      <td>-1.600181</td>\n",
              "      <td>-0.763117</td>\n",
              "    </tr>\n",
              "    <tr>\n",
              "      <th>2021-05-03</th>\n",
              "      <td>-0.973903</td>\n",
              "      <td>-0.173350</td>\n",
              "      <td>-1.493612</td>\n",
              "      <td>0.499010</td>\n",
              "    </tr>\n",
              "    <tr>\n",
              "      <th>2021-05-04</th>\n",
              "      <td>-0.398096</td>\n",
              "      <td>1.286313</td>\n",
              "      <td>0.661230</td>\n",
              "      <td>-0.624158</td>\n",
              "    </tr>\n",
              "    <tr>\n",
              "      <th>2021-05-05</th>\n",
              "      <td>0.298105</td>\n",
              "      <td>0.504051</td>\n",
              "      <td>0.063373</td>\n",
              "      <td>-0.730589</td>\n",
              "    </tr>\n",
              "  </tbody>\n",
              "</table>\n",
              "</div>"
            ],
            "text/plain": [
              "                   A         B         C         D\n",
              "2021-04-30 -0.402876  1.205379 -2.455459 -3.014287\n",
              "2021-05-01  0.410843 -1.670028 -0.054530  0.581192\n",
              "2021-05-02  0.354471  1.276734 -1.600181 -0.763117\n",
              "2021-05-03 -0.973903 -0.173350 -1.493612  0.499010\n",
              "2021-05-04 -0.398096  1.286313  0.661230 -0.624158\n",
              "2021-05-05  0.298105  0.504051  0.063373 -0.730589"
            ]
          },
          "metadata": {
            "tags": []
          },
          "execution_count": 53
        }
      ]
    },
    {
      "cell_type": "code",
      "metadata": {
        "colab": {
          "base_uri": "https://localhost:8080/",
          "height": 79
        },
        "id": "op2KkfiTrfZ3",
        "outputId": "3f732dcd-ad1d-4fe2-b3ef-3fdcff58aa79"
      },
      "source": [
        "df[0:1]"
      ],
      "execution_count": 56,
      "outputs": [
        {
          "output_type": "execute_result",
          "data": {
            "text/html": [
              "<div>\n",
              "<style scoped>\n",
              "    .dataframe tbody tr th:only-of-type {\n",
              "        vertical-align: middle;\n",
              "    }\n",
              "\n",
              "    .dataframe tbody tr th {\n",
              "        vertical-align: top;\n",
              "    }\n",
              "\n",
              "    .dataframe thead th {\n",
              "        text-align: right;\n",
              "    }\n",
              "</style>\n",
              "<table border=\"1\" class=\"dataframe\">\n",
              "  <thead>\n",
              "    <tr style=\"text-align: right;\">\n",
              "      <th></th>\n",
              "      <th>A</th>\n",
              "      <th>B</th>\n",
              "      <th>C</th>\n",
              "      <th>D</th>\n",
              "    </tr>\n",
              "  </thead>\n",
              "  <tbody>\n",
              "    <tr>\n",
              "      <th>2021-04-30</th>\n",
              "      <td>-0.402876</td>\n",
              "      <td>1.205379</td>\n",
              "      <td>-2.455459</td>\n",
              "      <td>-3.014287</td>\n",
              "    </tr>\n",
              "  </tbody>\n",
              "</table>\n",
              "</div>"
            ],
            "text/plain": [
              "                   A         B         C         D\n",
              "2021-04-30 -0.402876  1.205379 -2.455459 -3.014287"
            ]
          },
          "metadata": {
            "tags": []
          },
          "execution_count": 56
        }
      ]
    },
    {
      "cell_type": "code",
      "metadata": {
        "colab": {
          "base_uri": "https://localhost:8080/",
          "height": 79
        },
        "id": "tRA4o30rrhYn",
        "outputId": "4c76068c-2ced-4a16-ab35-31e3880993a1"
      },
      "source": [
        "df['20210430':'20210430']"
      ],
      "execution_count": 62,
      "outputs": [
        {
          "output_type": "execute_result",
          "data": {
            "text/html": [
              "<div>\n",
              "<style scoped>\n",
              "    .dataframe tbody tr th:only-of-type {\n",
              "        vertical-align: middle;\n",
              "    }\n",
              "\n",
              "    .dataframe tbody tr th {\n",
              "        vertical-align: top;\n",
              "    }\n",
              "\n",
              "    .dataframe thead th {\n",
              "        text-align: right;\n",
              "    }\n",
              "</style>\n",
              "<table border=\"1\" class=\"dataframe\">\n",
              "  <thead>\n",
              "    <tr style=\"text-align: right;\">\n",
              "      <th></th>\n",
              "      <th>A</th>\n",
              "      <th>B</th>\n",
              "      <th>C</th>\n",
              "      <th>D</th>\n",
              "    </tr>\n",
              "  </thead>\n",
              "  <tbody>\n",
              "    <tr>\n",
              "      <th>2021-04-30</th>\n",
              "      <td>-0.402876</td>\n",
              "      <td>1.205379</td>\n",
              "      <td>-2.455459</td>\n",
              "      <td>-3.014287</td>\n",
              "    </tr>\n",
              "  </tbody>\n",
              "</table>\n",
              "</div>"
            ],
            "text/plain": [
              "                   A         B         C         D\n",
              "2021-04-30 -0.402876  1.205379 -2.455459 -3.014287"
            ]
          },
          "metadata": {
            "tags": []
          },
          "execution_count": 62
        }
      ]
    },
    {
      "cell_type": "code",
      "metadata": {
        "colab": {
          "base_uri": "https://localhost:8080/",
          "height": 233
        },
        "id": "eyomm5j3sCkz",
        "outputId": "ccf4f96c-914b-4744-d6f4-7e550d8574b7"
      },
      "source": [
        "df"
      ],
      "execution_count": 63,
      "outputs": [
        {
          "output_type": "execute_result",
          "data": {
            "text/html": [
              "<div>\n",
              "<style scoped>\n",
              "    .dataframe tbody tr th:only-of-type {\n",
              "        vertical-align: middle;\n",
              "    }\n",
              "\n",
              "    .dataframe tbody tr th {\n",
              "        vertical-align: top;\n",
              "    }\n",
              "\n",
              "    .dataframe thead th {\n",
              "        text-align: right;\n",
              "    }\n",
              "</style>\n",
              "<table border=\"1\" class=\"dataframe\">\n",
              "  <thead>\n",
              "    <tr style=\"text-align: right;\">\n",
              "      <th></th>\n",
              "      <th>A</th>\n",
              "      <th>B</th>\n",
              "      <th>C</th>\n",
              "      <th>D</th>\n",
              "    </tr>\n",
              "  </thead>\n",
              "  <tbody>\n",
              "    <tr>\n",
              "      <th>2021-04-30</th>\n",
              "      <td>-0.402876</td>\n",
              "      <td>1.205379</td>\n",
              "      <td>-2.455459</td>\n",
              "      <td>-3.014287</td>\n",
              "    </tr>\n",
              "    <tr>\n",
              "      <th>2021-05-01</th>\n",
              "      <td>0.410843</td>\n",
              "      <td>-1.670028</td>\n",
              "      <td>-0.054530</td>\n",
              "      <td>0.581192</td>\n",
              "    </tr>\n",
              "    <tr>\n",
              "      <th>2021-05-02</th>\n",
              "      <td>0.354471</td>\n",
              "      <td>1.276734</td>\n",
              "      <td>-1.600181</td>\n",
              "      <td>-0.763117</td>\n",
              "    </tr>\n",
              "    <tr>\n",
              "      <th>2021-05-03</th>\n",
              "      <td>-0.973903</td>\n",
              "      <td>-0.173350</td>\n",
              "      <td>-1.493612</td>\n",
              "      <td>0.499010</td>\n",
              "    </tr>\n",
              "    <tr>\n",
              "      <th>2021-05-04</th>\n",
              "      <td>-0.398096</td>\n",
              "      <td>1.286313</td>\n",
              "      <td>0.661230</td>\n",
              "      <td>-0.624158</td>\n",
              "    </tr>\n",
              "    <tr>\n",
              "      <th>2021-05-05</th>\n",
              "      <td>0.298105</td>\n",
              "      <td>0.504051</td>\n",
              "      <td>0.063373</td>\n",
              "      <td>-0.730589</td>\n",
              "    </tr>\n",
              "  </tbody>\n",
              "</table>\n",
              "</div>"
            ],
            "text/plain": [
              "                   A         B         C         D\n",
              "2021-04-30 -0.402876  1.205379 -2.455459 -3.014287\n",
              "2021-05-01  0.410843 -1.670028 -0.054530  0.581192\n",
              "2021-05-02  0.354471  1.276734 -1.600181 -0.763117\n",
              "2021-05-03 -0.973903 -0.173350 -1.493612  0.499010\n",
              "2021-05-04 -0.398096  1.286313  0.661230 -0.624158\n",
              "2021-05-05  0.298105  0.504051  0.063373 -0.730589"
            ]
          },
          "metadata": {
            "tags": []
          },
          "execution_count": 63
        }
      ]
    },
    {
      "cell_type": "code",
      "metadata": {
        "colab": {
          "base_uri": "https://localhost:8080/"
        },
        "id": "dUgEjdjsse7k",
        "outputId": "48e84ada-588f-4054-efac-d564af3ec291"
      },
      "source": [
        "df.loc['20210430']"
      ],
      "execution_count": 69,
      "outputs": [
        {
          "output_type": "execute_result",
          "data": {
            "text/plain": [
              "A   -0.402876\n",
              "B    1.205379\n",
              "C   -2.455459\n",
              "D   -3.014287\n",
              "Name: 2021-04-30 00:00:00, dtype: float64"
            ]
          },
          "metadata": {
            "tags": []
          },
          "execution_count": 69
        }
      ]
    },
    {
      "cell_type": "code",
      "metadata": {
        "colab": {
          "base_uri": "https://localhost:8080/"
        },
        "id": "giuGvmv3sjcX",
        "outputId": "245fd798-0759-45d5-d5aa-7877016f5edf"
      },
      "source": [
        "df['A']"
      ],
      "execution_count": 70,
      "outputs": [
        {
          "output_type": "execute_result",
          "data": {
            "text/plain": [
              "2021-04-30   -0.402876\n",
              "2021-05-01    0.410843\n",
              "2021-05-02    0.354471\n",
              "2021-05-03   -0.973903\n",
              "2021-05-04   -0.398096\n",
              "2021-05-05    0.298105\n",
              "Freq: D, Name: A, dtype: float64"
            ]
          },
          "metadata": {
            "tags": []
          },
          "execution_count": 70
        }
      ]
    },
    {
      "cell_type": "code",
      "metadata": {
        "colab": {
          "base_uri": "https://localhost:8080/"
        },
        "id": "-8ErRw67s-m3",
        "outputId": "18afd977-a913-401b-d001-97a0c020638c"
      },
      "source": [
        "df.loc[dates[0]]"
      ],
      "execution_count": 71,
      "outputs": [
        {
          "output_type": "execute_result",
          "data": {
            "text/plain": [
              "A   -0.402876\n",
              "B    1.205379\n",
              "C   -2.455459\n",
              "D   -3.014287\n",
              "Name: 2021-04-30 00:00:00, dtype: float64"
            ]
          },
          "metadata": {
            "tags": []
          },
          "execution_count": 71
        }
      ]
    },
    {
      "cell_type": "code",
      "metadata": {
        "colab": {
          "base_uri": "https://localhost:8080/"
        },
        "id": "GJ6jjmExtJVn",
        "outputId": "94d647db-79e0-46df-b40a-a10ee9929e20"
      },
      "source": [
        "# df.loc[행, 열]\n",
        "# 행 => :\n",
        "df.loc[:,'A']"
      ],
      "execution_count": 72,
      "outputs": [
        {
          "output_type": "execute_result",
          "data": {
            "text/plain": [
              "2021-04-30   -0.402876\n",
              "2021-05-01    0.410843\n",
              "2021-05-02    0.354471\n",
              "2021-05-03   -0.973903\n",
              "2021-05-04   -0.398096\n",
              "2021-05-05    0.298105\n",
              "Freq: D, Name: A, dtype: float64"
            ]
          },
          "metadata": {
            "tags": []
          },
          "execution_count": 72
        }
      ]
    },
    {
      "cell_type": "code",
      "metadata": {
        "colab": {
          "base_uri": "https://localhost:8080/"
        },
        "id": "vDV10SARtXxX",
        "outputId": "0a5f6ea6-211b-4c51-faf9-730b0e67f798"
      },
      "source": [
        "df.loc['20210430':'20210503','A']"
      ],
      "execution_count": 74,
      "outputs": [
        {
          "output_type": "execute_result",
          "data": {
            "text/plain": [
              "2021-04-30   -0.402876\n",
              "2021-05-01    0.410843\n",
              "2021-05-02    0.354471\n",
              "2021-05-03   -0.973903\n",
              "Freq: D, Name: A, dtype: float64"
            ]
          },
          "metadata": {
            "tags": []
          },
          "execution_count": 74
        }
      ]
    },
    {
      "cell_type": "code",
      "metadata": {
        "colab": {
          "base_uri": "https://localhost:8080/",
          "height": 171
        },
        "id": "roRKezrLtbLA",
        "outputId": "9dd41004-54a0-4043-dec9-0c09be9bef3a"
      },
      "source": [
        "df.loc['20210430':'20210503',['A', 'C', 'D']]"
      ],
      "execution_count": 75,
      "outputs": [
        {
          "output_type": "execute_result",
          "data": {
            "text/html": [
              "<div>\n",
              "<style scoped>\n",
              "    .dataframe tbody tr th:only-of-type {\n",
              "        vertical-align: middle;\n",
              "    }\n",
              "\n",
              "    .dataframe tbody tr th {\n",
              "        vertical-align: top;\n",
              "    }\n",
              "\n",
              "    .dataframe thead th {\n",
              "        text-align: right;\n",
              "    }\n",
              "</style>\n",
              "<table border=\"1\" class=\"dataframe\">\n",
              "  <thead>\n",
              "    <tr style=\"text-align: right;\">\n",
              "      <th></th>\n",
              "      <th>A</th>\n",
              "      <th>C</th>\n",
              "      <th>D</th>\n",
              "    </tr>\n",
              "  </thead>\n",
              "  <tbody>\n",
              "    <tr>\n",
              "      <th>2021-04-30</th>\n",
              "      <td>-0.402876</td>\n",
              "      <td>-2.455459</td>\n",
              "      <td>-3.014287</td>\n",
              "    </tr>\n",
              "    <tr>\n",
              "      <th>2021-05-01</th>\n",
              "      <td>0.410843</td>\n",
              "      <td>-0.054530</td>\n",
              "      <td>0.581192</td>\n",
              "    </tr>\n",
              "    <tr>\n",
              "      <th>2021-05-02</th>\n",
              "      <td>0.354471</td>\n",
              "      <td>-1.600181</td>\n",
              "      <td>-0.763117</td>\n",
              "    </tr>\n",
              "    <tr>\n",
              "      <th>2021-05-03</th>\n",
              "      <td>-0.973903</td>\n",
              "      <td>-1.493612</td>\n",
              "      <td>0.499010</td>\n",
              "    </tr>\n",
              "  </tbody>\n",
              "</table>\n",
              "</div>"
            ],
            "text/plain": [
              "                   A         C         D\n",
              "2021-04-30 -0.402876 -2.455459 -3.014287\n",
              "2021-05-01  0.410843 -0.054530  0.581192\n",
              "2021-05-02  0.354471 -1.600181 -0.763117\n",
              "2021-05-03 -0.973903 -1.493612  0.499010"
            ]
          },
          "metadata": {
            "tags": []
          },
          "execution_count": 75
        }
      ]
    },
    {
      "cell_type": "code",
      "metadata": {
        "colab": {
          "base_uri": "https://localhost:8080/"
        },
        "id": "S9-xVoW0tthf",
        "outputId": "2984447d-023c-47a0-8087-a0704914df7f"
      },
      "source": [
        "df.at[dates[0],'A']"
      ],
      "execution_count": 76,
      "outputs": [
        {
          "output_type": "execute_result",
          "data": {
            "text/plain": [
              "-0.40287562717713826"
            ]
          },
          "metadata": {
            "tags": []
          },
          "execution_count": 76
        }
      ]
    },
    {
      "cell_type": "code",
      "metadata": {
        "colab": {
          "base_uri": "https://localhost:8080/",
          "height": 233
        },
        "id": "MUsnOva0t7Y3",
        "outputId": "93d72160-d97d-4c42-a6a4-7a74ebc9093e"
      },
      "source": [
        "df"
      ],
      "execution_count": 77,
      "outputs": [
        {
          "output_type": "execute_result",
          "data": {
            "text/html": [
              "<div>\n",
              "<style scoped>\n",
              "    .dataframe tbody tr th:only-of-type {\n",
              "        vertical-align: middle;\n",
              "    }\n",
              "\n",
              "    .dataframe tbody tr th {\n",
              "        vertical-align: top;\n",
              "    }\n",
              "\n",
              "    .dataframe thead th {\n",
              "        text-align: right;\n",
              "    }\n",
              "</style>\n",
              "<table border=\"1\" class=\"dataframe\">\n",
              "  <thead>\n",
              "    <tr style=\"text-align: right;\">\n",
              "      <th></th>\n",
              "      <th>A</th>\n",
              "      <th>B</th>\n",
              "      <th>C</th>\n",
              "      <th>D</th>\n",
              "    </tr>\n",
              "  </thead>\n",
              "  <tbody>\n",
              "    <tr>\n",
              "      <th>2021-04-30</th>\n",
              "      <td>-0.402876</td>\n",
              "      <td>1.205379</td>\n",
              "      <td>-2.455459</td>\n",
              "      <td>-3.014287</td>\n",
              "    </tr>\n",
              "    <tr>\n",
              "      <th>2021-05-01</th>\n",
              "      <td>0.410843</td>\n",
              "      <td>-1.670028</td>\n",
              "      <td>-0.054530</td>\n",
              "      <td>0.581192</td>\n",
              "    </tr>\n",
              "    <tr>\n",
              "      <th>2021-05-02</th>\n",
              "      <td>0.354471</td>\n",
              "      <td>1.276734</td>\n",
              "      <td>-1.600181</td>\n",
              "      <td>-0.763117</td>\n",
              "    </tr>\n",
              "    <tr>\n",
              "      <th>2021-05-03</th>\n",
              "      <td>-0.973903</td>\n",
              "      <td>-0.173350</td>\n",
              "      <td>-1.493612</td>\n",
              "      <td>0.499010</td>\n",
              "    </tr>\n",
              "    <tr>\n",
              "      <th>2021-05-04</th>\n",
              "      <td>-0.398096</td>\n",
              "      <td>1.286313</td>\n",
              "      <td>0.661230</td>\n",
              "      <td>-0.624158</td>\n",
              "    </tr>\n",
              "    <tr>\n",
              "      <th>2021-05-05</th>\n",
              "      <td>0.298105</td>\n",
              "      <td>0.504051</td>\n",
              "      <td>0.063373</td>\n",
              "      <td>-0.730589</td>\n",
              "    </tr>\n",
              "  </tbody>\n",
              "</table>\n",
              "</div>"
            ],
            "text/plain": [
              "                   A         B         C         D\n",
              "2021-04-30 -0.402876  1.205379 -2.455459 -3.014287\n",
              "2021-05-01  0.410843 -1.670028 -0.054530  0.581192\n",
              "2021-05-02  0.354471  1.276734 -1.600181 -0.763117\n",
              "2021-05-03 -0.973903 -0.173350 -1.493612  0.499010\n",
              "2021-05-04 -0.398096  1.286313  0.661230 -0.624158\n",
              "2021-05-05  0.298105  0.504051  0.063373 -0.730589"
            ]
          },
          "metadata": {
            "tags": []
          },
          "execution_count": 77
        }
      ]
    },
    {
      "cell_type": "code",
      "metadata": {
        "colab": {
          "base_uri": "https://localhost:8080/",
          "height": 141
        },
        "id": "xen-05HwuCSo",
        "outputId": "e73ffa98-7726-4826-9175-884fb7e59f32"
      },
      "source": [
        "df.iloc[0:3,1:3]"
      ],
      "execution_count": 90,
      "outputs": [
        {
          "output_type": "execute_result",
          "data": {
            "text/html": [
              "<div>\n",
              "<style scoped>\n",
              "    .dataframe tbody tr th:only-of-type {\n",
              "        vertical-align: middle;\n",
              "    }\n",
              "\n",
              "    .dataframe tbody tr th {\n",
              "        vertical-align: top;\n",
              "    }\n",
              "\n",
              "    .dataframe thead th {\n",
              "        text-align: right;\n",
              "    }\n",
              "</style>\n",
              "<table border=\"1\" class=\"dataframe\">\n",
              "  <thead>\n",
              "    <tr style=\"text-align: right;\">\n",
              "      <th></th>\n",
              "      <th>B</th>\n",
              "      <th>C</th>\n",
              "    </tr>\n",
              "  </thead>\n",
              "  <tbody>\n",
              "    <tr>\n",
              "      <th>2021-04-30</th>\n",
              "      <td>1.205379</td>\n",
              "      <td>-2.455459</td>\n",
              "    </tr>\n",
              "    <tr>\n",
              "      <th>2021-05-01</th>\n",
              "      <td>-1.670028</td>\n",
              "      <td>-0.054530</td>\n",
              "    </tr>\n",
              "    <tr>\n",
              "      <th>2021-05-02</th>\n",
              "      <td>1.276734</td>\n",
              "      <td>-1.600181</td>\n",
              "    </tr>\n",
              "  </tbody>\n",
              "</table>\n",
              "</div>"
            ],
            "text/plain": [
              "                   B         C\n",
              "2021-04-30  1.205379 -2.455459\n",
              "2021-05-01 -1.670028 -0.054530\n",
              "2021-05-02  1.276734 -1.600181"
            ]
          },
          "metadata": {
            "tags": []
          },
          "execution_count": 90
        }
      ]
    },
    {
      "cell_type": "code",
      "metadata": {
        "colab": {
          "base_uri": "https://localhost:8080/",
          "height": 233
        },
        "id": "qd8mTqLEuH2f",
        "outputId": "a77ac89d-e8da-49ce-afe5-4da9fd3968dc"
      },
      "source": [
        "df"
      ],
      "execution_count": 91,
      "outputs": [
        {
          "output_type": "execute_result",
          "data": {
            "text/html": [
              "<div>\n",
              "<style scoped>\n",
              "    .dataframe tbody tr th:only-of-type {\n",
              "        vertical-align: middle;\n",
              "    }\n",
              "\n",
              "    .dataframe tbody tr th {\n",
              "        vertical-align: top;\n",
              "    }\n",
              "\n",
              "    .dataframe thead th {\n",
              "        text-align: right;\n",
              "    }\n",
              "</style>\n",
              "<table border=\"1\" class=\"dataframe\">\n",
              "  <thead>\n",
              "    <tr style=\"text-align: right;\">\n",
              "      <th></th>\n",
              "      <th>A</th>\n",
              "      <th>B</th>\n",
              "      <th>C</th>\n",
              "      <th>D</th>\n",
              "    </tr>\n",
              "  </thead>\n",
              "  <tbody>\n",
              "    <tr>\n",
              "      <th>2021-04-30</th>\n",
              "      <td>-0.402876</td>\n",
              "      <td>1.205379</td>\n",
              "      <td>-2.455459</td>\n",
              "      <td>-3.014287</td>\n",
              "    </tr>\n",
              "    <tr>\n",
              "      <th>2021-05-01</th>\n",
              "      <td>0.410843</td>\n",
              "      <td>-1.670028</td>\n",
              "      <td>-0.054530</td>\n",
              "      <td>0.581192</td>\n",
              "    </tr>\n",
              "    <tr>\n",
              "      <th>2021-05-02</th>\n",
              "      <td>0.354471</td>\n",
              "      <td>1.276734</td>\n",
              "      <td>-1.600181</td>\n",
              "      <td>-0.763117</td>\n",
              "    </tr>\n",
              "    <tr>\n",
              "      <th>2021-05-03</th>\n",
              "      <td>-0.973903</td>\n",
              "      <td>-0.173350</td>\n",
              "      <td>-1.493612</td>\n",
              "      <td>0.499010</td>\n",
              "    </tr>\n",
              "    <tr>\n",
              "      <th>2021-05-04</th>\n",
              "      <td>-0.398096</td>\n",
              "      <td>1.286313</td>\n",
              "      <td>0.661230</td>\n",
              "      <td>-0.624158</td>\n",
              "    </tr>\n",
              "    <tr>\n",
              "      <th>2021-05-05</th>\n",
              "      <td>0.298105</td>\n",
              "      <td>0.504051</td>\n",
              "      <td>0.063373</td>\n",
              "      <td>-0.730589</td>\n",
              "    </tr>\n",
              "  </tbody>\n",
              "</table>\n",
              "</div>"
            ],
            "text/plain": [
              "                   A         B         C         D\n",
              "2021-04-30 -0.402876  1.205379 -2.455459 -3.014287\n",
              "2021-05-01  0.410843 -1.670028 -0.054530  0.581192\n",
              "2021-05-02  0.354471  1.276734 -1.600181 -0.763117\n",
              "2021-05-03 -0.973903 -0.173350 -1.493612  0.499010\n",
              "2021-05-04 -0.398096  1.286313  0.661230 -0.624158\n",
              "2021-05-05  0.298105  0.504051  0.063373 -0.730589"
            ]
          },
          "metadata": {
            "tags": []
          },
          "execution_count": 91
        }
      ]
    },
    {
      "cell_type": "code",
      "metadata": {
        "colab": {
          "base_uri": "https://localhost:8080/"
        },
        "id": "2KFHIdXTuNee",
        "outputId": "2b31e71d-6480-4ce9-88a6-72aadce1ab9e"
      },
      "source": [
        "df.A"
      ],
      "execution_count": 93,
      "outputs": [
        {
          "output_type": "execute_result",
          "data": {
            "text/plain": [
              "2021-04-30   -0.402876\n",
              "2021-05-01    0.410843\n",
              "2021-05-02    0.354471\n",
              "2021-05-03   -0.973903\n",
              "2021-05-04   -0.398096\n",
              "2021-05-05    0.298105\n",
              "Freq: D, Name: A, dtype: float64"
            ]
          },
          "metadata": {
            "tags": []
          },
          "execution_count": 93
        }
      ]
    },
    {
      "cell_type": "code",
      "metadata": {
        "colab": {
          "base_uri": "https://localhost:8080/"
        },
        "id": "C02dYbC7uUWA",
        "outputId": "a67d5916-77b3-47c1-e9d1-d92268c1005a"
      },
      "source": [
        "df.A > 0"
      ],
      "execution_count": 97,
      "outputs": [
        {
          "output_type": "execute_result",
          "data": {
            "text/plain": [
              "2021-04-30    False\n",
              "2021-05-01     True\n",
              "2021-05-02     True\n",
              "2021-05-03    False\n",
              "2021-05-04    False\n",
              "2021-05-05     True\n",
              "Freq: D, Name: A, dtype: bool"
            ]
          },
          "metadata": {
            "tags": []
          },
          "execution_count": 97
        }
      ]
    },
    {
      "cell_type": "code",
      "metadata": {
        "colab": {
          "base_uri": "https://localhost:8080/",
          "height": 141
        },
        "id": "QvdSbpJuvp_Z",
        "outputId": "2fad6dae-f91e-42a5-8566-49ea1e6ddda4"
      },
      "source": [
        "df[ df.A > 0 ]"
      ],
      "execution_count": 95,
      "outputs": [
        {
          "output_type": "execute_result",
          "data": {
            "text/html": [
              "<div>\n",
              "<style scoped>\n",
              "    .dataframe tbody tr th:only-of-type {\n",
              "        vertical-align: middle;\n",
              "    }\n",
              "\n",
              "    .dataframe tbody tr th {\n",
              "        vertical-align: top;\n",
              "    }\n",
              "\n",
              "    .dataframe thead th {\n",
              "        text-align: right;\n",
              "    }\n",
              "</style>\n",
              "<table border=\"1\" class=\"dataframe\">\n",
              "  <thead>\n",
              "    <tr style=\"text-align: right;\">\n",
              "      <th></th>\n",
              "      <th>A</th>\n",
              "      <th>B</th>\n",
              "      <th>C</th>\n",
              "      <th>D</th>\n",
              "    </tr>\n",
              "  </thead>\n",
              "  <tbody>\n",
              "    <tr>\n",
              "      <th>2021-05-01</th>\n",
              "      <td>0.410843</td>\n",
              "      <td>-1.670028</td>\n",
              "      <td>-0.054530</td>\n",
              "      <td>0.581192</td>\n",
              "    </tr>\n",
              "    <tr>\n",
              "      <th>2021-05-02</th>\n",
              "      <td>0.354471</td>\n",
              "      <td>1.276734</td>\n",
              "      <td>-1.600181</td>\n",
              "      <td>-0.763117</td>\n",
              "    </tr>\n",
              "    <tr>\n",
              "      <th>2021-05-05</th>\n",
              "      <td>0.298105</td>\n",
              "      <td>0.504051</td>\n",
              "      <td>0.063373</td>\n",
              "      <td>-0.730589</td>\n",
              "    </tr>\n",
              "  </tbody>\n",
              "</table>\n",
              "</div>"
            ],
            "text/plain": [
              "                   A         B         C         D\n",
              "2021-05-01  0.410843 -1.670028 -0.054530  0.581192\n",
              "2021-05-02  0.354471  1.276734 -1.600181 -0.763117\n",
              "2021-05-05  0.298105  0.504051  0.063373 -0.730589"
            ]
          },
          "metadata": {
            "tags": []
          },
          "execution_count": 95
        }
      ]
    },
    {
      "cell_type": "code",
      "metadata": {
        "colab": {
          "base_uri": "https://localhost:8080/",
          "height": 233
        },
        "id": "unxy96Vlv2IH",
        "outputId": "47792bcf-ce09-482a-80a6-89d0eed3ae62"
      },
      "source": [
        "df > 0"
      ],
      "execution_count": 98,
      "outputs": [
        {
          "output_type": "execute_result",
          "data": {
            "text/html": [
              "<div>\n",
              "<style scoped>\n",
              "    .dataframe tbody tr th:only-of-type {\n",
              "        vertical-align: middle;\n",
              "    }\n",
              "\n",
              "    .dataframe tbody tr th {\n",
              "        vertical-align: top;\n",
              "    }\n",
              "\n",
              "    .dataframe thead th {\n",
              "        text-align: right;\n",
              "    }\n",
              "</style>\n",
              "<table border=\"1\" class=\"dataframe\">\n",
              "  <thead>\n",
              "    <tr style=\"text-align: right;\">\n",
              "      <th></th>\n",
              "      <th>A</th>\n",
              "      <th>B</th>\n",
              "      <th>C</th>\n",
              "      <th>D</th>\n",
              "    </tr>\n",
              "  </thead>\n",
              "  <tbody>\n",
              "    <tr>\n",
              "      <th>2021-04-30</th>\n",
              "      <td>False</td>\n",
              "      <td>True</td>\n",
              "      <td>False</td>\n",
              "      <td>False</td>\n",
              "    </tr>\n",
              "    <tr>\n",
              "      <th>2021-05-01</th>\n",
              "      <td>True</td>\n",
              "      <td>False</td>\n",
              "      <td>False</td>\n",
              "      <td>True</td>\n",
              "    </tr>\n",
              "    <tr>\n",
              "      <th>2021-05-02</th>\n",
              "      <td>True</td>\n",
              "      <td>True</td>\n",
              "      <td>False</td>\n",
              "      <td>False</td>\n",
              "    </tr>\n",
              "    <tr>\n",
              "      <th>2021-05-03</th>\n",
              "      <td>False</td>\n",
              "      <td>False</td>\n",
              "      <td>False</td>\n",
              "      <td>True</td>\n",
              "    </tr>\n",
              "    <tr>\n",
              "      <th>2021-05-04</th>\n",
              "      <td>False</td>\n",
              "      <td>True</td>\n",
              "      <td>True</td>\n",
              "      <td>False</td>\n",
              "    </tr>\n",
              "    <tr>\n",
              "      <th>2021-05-05</th>\n",
              "      <td>True</td>\n",
              "      <td>True</td>\n",
              "      <td>True</td>\n",
              "      <td>False</td>\n",
              "    </tr>\n",
              "  </tbody>\n",
              "</table>\n",
              "</div>"
            ],
            "text/plain": [
              "                A      B      C      D\n",
              "2021-04-30  False   True  False  False\n",
              "2021-05-01   True  False  False   True\n",
              "2021-05-02   True   True  False  False\n",
              "2021-05-03  False  False  False   True\n",
              "2021-05-04  False   True   True  False\n",
              "2021-05-05   True   True   True  False"
            ]
          },
          "metadata": {
            "tags": []
          },
          "execution_count": 98
        }
      ]
    },
    {
      "cell_type": "code",
      "metadata": {
        "colab": {
          "base_uri": "https://localhost:8080/",
          "height": 233
        },
        "id": "8jJL7bsYwIdo",
        "outputId": "90a9b23c-3297-493d-9b35-812924084de2"
      },
      "source": [
        "df [ df > 0]"
      ],
      "execution_count": 99,
      "outputs": [
        {
          "output_type": "execute_result",
          "data": {
            "text/html": [
              "<div>\n",
              "<style scoped>\n",
              "    .dataframe tbody tr th:only-of-type {\n",
              "        vertical-align: middle;\n",
              "    }\n",
              "\n",
              "    .dataframe tbody tr th {\n",
              "        vertical-align: top;\n",
              "    }\n",
              "\n",
              "    .dataframe thead th {\n",
              "        text-align: right;\n",
              "    }\n",
              "</style>\n",
              "<table border=\"1\" class=\"dataframe\">\n",
              "  <thead>\n",
              "    <tr style=\"text-align: right;\">\n",
              "      <th></th>\n",
              "      <th>A</th>\n",
              "      <th>B</th>\n",
              "      <th>C</th>\n",
              "      <th>D</th>\n",
              "    </tr>\n",
              "  </thead>\n",
              "  <tbody>\n",
              "    <tr>\n",
              "      <th>2021-04-30</th>\n",
              "      <td>NaN</td>\n",
              "      <td>1.205379</td>\n",
              "      <td>NaN</td>\n",
              "      <td>NaN</td>\n",
              "    </tr>\n",
              "    <tr>\n",
              "      <th>2021-05-01</th>\n",
              "      <td>0.410843</td>\n",
              "      <td>NaN</td>\n",
              "      <td>NaN</td>\n",
              "      <td>0.581192</td>\n",
              "    </tr>\n",
              "    <tr>\n",
              "      <th>2021-05-02</th>\n",
              "      <td>0.354471</td>\n",
              "      <td>1.276734</td>\n",
              "      <td>NaN</td>\n",
              "      <td>NaN</td>\n",
              "    </tr>\n",
              "    <tr>\n",
              "      <th>2021-05-03</th>\n",
              "      <td>NaN</td>\n",
              "      <td>NaN</td>\n",
              "      <td>NaN</td>\n",
              "      <td>0.499010</td>\n",
              "    </tr>\n",
              "    <tr>\n",
              "      <th>2021-05-04</th>\n",
              "      <td>NaN</td>\n",
              "      <td>1.286313</td>\n",
              "      <td>0.661230</td>\n",
              "      <td>NaN</td>\n",
              "    </tr>\n",
              "    <tr>\n",
              "      <th>2021-05-05</th>\n",
              "      <td>0.298105</td>\n",
              "      <td>0.504051</td>\n",
              "      <td>0.063373</td>\n",
              "      <td>NaN</td>\n",
              "    </tr>\n",
              "  </tbody>\n",
              "</table>\n",
              "</div>"
            ],
            "text/plain": [
              "                   A         B         C         D\n",
              "2021-04-30       NaN  1.205379       NaN       NaN\n",
              "2021-05-01  0.410843       NaN       NaN  0.581192\n",
              "2021-05-02  0.354471  1.276734       NaN       NaN\n",
              "2021-05-03       NaN       NaN       NaN  0.499010\n",
              "2021-05-04       NaN  1.286313  0.661230       NaN\n",
              "2021-05-05  0.298105  0.504051  0.063373       NaN"
            ]
          },
          "metadata": {
            "tags": []
          },
          "execution_count": 99
        }
      ]
    },
    {
      "cell_type": "code",
      "metadata": {
        "id": "CozZXbbXwLKQ"
      },
      "source": [
        ""
      ],
      "execution_count": null,
      "outputs": []
    }
  ]
}