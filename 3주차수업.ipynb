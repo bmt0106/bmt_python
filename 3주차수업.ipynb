{
  "nbformat": 4,
  "nbformat_minor": 0,
  "metadata": {
    "colab": {
      "name": "3주차수업.ipynb",
      "provenance": [],
      "collapsed_sections": [],
      "authorship_tag": "ABX9TyPfMEpX6Q59F5mTePkdxijH",
      "include_colab_link": true
    },
    "kernelspec": {
      "name": "python3",
      "display_name": "Python 3"
    },
    "language_info": {
      "name": "python"
    }
  },
  "cells": [
    {
      "cell_type": "markdown",
      "metadata": {
        "id": "view-in-github",
        "colab_type": "text"
      },
      "source": [
        "<a href=\"https://colab.research.google.com/github/bmt0106/bmt_python/blob/main/3%EC%A3%BC%EC%B0%A8%EC%88%98%EC%97%85.ipynb\" target=\"_parent\"><img src=\"https://colab.research.google.com/assets/colab-badge.svg\" alt=\"Open In Colab\"/></a>"
      ]
    },
    {
      "cell_type": "code",
      "metadata": {
        "colab": {
          "base_uri": "https://localhost:8080/"
        },
        "id": "eOhQhjR2J8Wo",
        "outputId": "c6d7b0ad-5936-4908-cae7-e572ecbb20f0"
      },
      "source": [
        "from random import randint\n",
        "\n",
        "dice = randint(1,6)\n",
        "\n",
        "print(dice)"
      ],
      "execution_count": 3,
      "outputs": [
        {
          "output_type": "stream",
          "text": [
            "4\n"
          ],
          "name": "stdout"
        }
      ]
    },
    {
      "cell_type": "code",
      "metadata": {
        "colab": {
          "base_uri": "https://localhost:8080/"
        },
        "id": "8RsNgyZPXsFQ",
        "outputId": "3336558d-5804-4486-ba3a-83b15f5b1fac"
      },
      "source": [
        "import math\n",
        "\n",
        "math."
      ],
      "execution_count": 11,
      "outputs": [
        {
          "output_type": "execute_result",
          "data": {
            "text/plain": [
              "0.49999999999999994"
            ]
          },
          "metadata": {
            "tags": []
          },
          "execution_count": 11
        }
      ]
    },
    {
      "cell_type": "code",
      "metadata": {
        "colab": {
          "base_uri": "https://localhost:8080/"
        },
        "id": "uqiWzwoRX-vf",
        "outputId": "e973eb38-150b-4db6-ddc4-486b519fd83a"
      },
      "source": [
        "name = '부산기계공고'\n",
        "\n",
        "for i in name:\n",
        "  print(i)"
      ],
      "execution_count": 12,
      "outputs": [
        {
          "output_type": "stream",
          "text": [
            "부\n",
            "산\n",
            "기\n",
            "계\n",
            "공\n",
            "고\n"
          ],
          "name": "stdout"
        }
      ]
    },
    {
      "cell_type": "code",
      "metadata": {
        "colab": {
          "base_uri": "https://localhost:8080/"
        },
        "id": "sE1nLBj-aMRl",
        "outputId": "77c8b9d3-8e3a-4cc8-a1ae-81bb5e15e5e8"
      },
      "source": [
        "for i in name:\n",
        "  print(i, end='')"
      ],
      "execution_count": 16,
      "outputs": [
        {
          "output_type": "stream",
          "text": [
            "부산기계공고"
          ],
          "name": "stdout"
        }
      ]
    },
    {
      "cell_type": "code",
      "metadata": {
        "colab": {
          "base_uri": "https://localhost:8080/"
        },
        "id": "6OESZDuzanUe",
        "outputId": "b889dde6-e95c-4ac1-dfa5-370bc3e7c965"
      },
      "source": [
        "for i in [0, 1, 2, 3]:\n",
        "  print(f'{i}의 제곱근 : {i**2}')"
      ],
      "execution_count": 18,
      "outputs": [
        {
          "output_type": "stream",
          "text": [
            "0의 제곱근 : 0\n",
            "1의 제곱근 : 1\n",
            "2의 제곱근 : 4\n",
            "3의 제곱근 : 9\n"
          ],
          "name": "stdout"
        }
      ]
    },
    {
      "cell_type": "code",
      "metadata": {
        "colab": {
          "base_uri": "https://localhost:8080/"
        },
        "id": "snGuz_mbbQo0",
        "outputId": "28547c04-6041-4396-e88b-af1fe7c23b6e"
      },
      "source": [
        "for i in range(10):\n",
        "  print(f'{i}의 제곱근 : {i**2}')"
      ],
      "execution_count": 20,
      "outputs": [
        {
          "output_type": "stream",
          "text": [
            "0의 제곱근 : 0\n",
            "1의 제곱근 : 1\n",
            "2의 제곱근 : 4\n",
            "3의 제곱근 : 9\n",
            "4의 제곱근 : 16\n",
            "5의 제곱근 : 25\n",
            "6의 제곱근 : 36\n",
            "7의 제곱근 : 49\n",
            "8의 제곱근 : 64\n",
            "9의 제곱근 : 81\n"
          ],
          "name": "stdout"
        }
      ]
    },
    {
      "cell_type": "code",
      "metadata": {
        "colab": {
          "base_uri": "https://localhost:8080/"
        },
        "id": "QXWCWD54b5fj",
        "outputId": "67507ed2-940a-4957-da7b-b6dcd40be374"
      },
      "source": [
        "type(range(10))"
      ],
      "execution_count": 22,
      "outputs": [
        {
          "output_type": "execute_result",
          "data": {
            "text/plain": [
              "range"
            ]
          },
          "metadata": {
            "tags": []
          },
          "execution_count": 22
        }
      ]
    },
    {
      "cell_type": "code",
      "metadata": {
        "colab": {
          "base_uri": "https://localhost:8080/"
        },
        "id": "Ov5FAd7CcZOP",
        "outputId": "3500b97c-cad8-4e1e-b7d4-7b1679cd29c7"
      },
      "source": [
        "for i in range(1,-10,-1):\n",
        "  print(i**2)"
      ],
      "execution_count": 26,
      "outputs": [
        {
          "output_type": "stream",
          "text": [
            "1\n",
            "0\n",
            "1\n",
            "4\n",
            "9\n",
            "16\n",
            "25\n",
            "36\n",
            "49\n",
            "64\n",
            "81\n"
          ],
          "name": "stdout"
        }
      ]
    },
    {
      "cell_type": "code",
      "metadata": {
        "colab": {
          "base_uri": "https://localhost:8080/"
        },
        "id": "mDg6uFCEdBbu",
        "outputId": "22f87a67-24f6-4c48-c099-f7c8a1c44429"
      },
      "source": [
        "if 10 > 0:\n",
        "  print('안녕하세요')"
      ],
      "execution_count": 27,
      "outputs": [
        {
          "output_type": "stream",
          "text": [
            "안녕하세요\n"
          ],
          "name": "stdout"
        }
      ]
    },
    {
      "cell_type": "code",
      "metadata": {
        "colab": {
          "base_uri": "https://localhost:8080/"
        },
        "id": "kq28fGOIdnDF",
        "outputId": "e9c4abb2-3ac4-4829-c4e0-f4f157dcc584"
      },
      "source": [
        "for _ in [1, 2, 4]:\n",
        "  print('전기과 화이팅!!!')"
      ],
      "execution_count": 31,
      "outputs": [
        {
          "output_type": "stream",
          "text": [
            "전기과 화이팅!!!\n",
            "전기과 화이팅!!!\n",
            "전기과 화이팅!!!\n"
          ],
          "name": "stdout"
        }
      ]
    },
    {
      "cell_type": "code",
      "metadata": {
        "colab": {
          "base_uri": "https://localhost:8080/"
        },
        "id": "2sS49CuHdvqe",
        "outputId": "adeff9e8-2f49-49d2-cea3-5293e2d58871"
      },
      "source": [
        "if 10 != 0 and 5 % 2 == 1:\n",
        "  print('안녕하세요')"
      ],
      "execution_count": 32,
      "outputs": [
        {
          "output_type": "stream",
          "text": [
            "안녕하세요\n"
          ],
          "name": "stdout"
        }
      ]
    },
    {
      "cell_type": "code",
      "metadata": {
        "colab": {
          "base_uri": "https://localhost:8080/"
        },
        "id": "1l9G7niSeFJG",
        "outputId": "51cabc3c-50cd-4878-d2de-b5624a6c4c3d"
      },
      "source": [
        "passwd = int(input('비밀번호 4자리 숫자 입력 : '))\n",
        "\n",
        "if passwd == 2021 :\n",
        "  print('비밀번호가 일치')\n",
        "elif passwd == 2020 :\n",
        "  print('이 숫자에 한 개만 더해주세요.')\n",
        "else :\n",
        "  print('다시 시작 해주세요.')"
      ],
      "execution_count": 37,
      "outputs": [
        {
          "output_type": "stream",
          "text": [
            "비밀번호 4자리 숫자 입력 : 2020\n",
            "이 숫자에 한 개만 더해주세요.\n"
          ],
          "name": "stdout"
        }
      ]
    },
    {
      "cell_type": "code",
      "metadata": {
        "colab": {
          "base_uri": "https://localhost:8080/"
        },
        "id": "gT0p9tJKegf1",
        "outputId": "2bbf64c6-2836-40fa-da25-f857cd80fedf"
      },
      "source": [
        "for i in range(1,100000):\n",
        "  if i == 2020:\n",
        "    print('비밀번호가 일치')\n",
        "    print(f'비밀번호는 {i} 입니다.')"
      ],
      "execution_count": 38,
      "outputs": [
        {
          "output_type": "stream",
          "text": [
            "비밀번호가 일치\n",
            "비밀번호는 2020 입니다.\n"
          ],
          "name": "stdout"
        }
      ]
    },
    {
      "cell_type": "code",
      "metadata": {
        "colab": {
          "base_uri": "https://localhost:8080/"
        },
        "id": "qfNyd1gAfkf0",
        "outputId": "1d5da45b-b7ce-493a-fb66-907ad1afb836"
      },
      "source": [
        "print('[ 소름끼치도록 놀라운 심리테스트 ]')\n",
        "\n",
        "menu = input('당신이 좋아하는 과일을 입력해주세요 : ')\n",
        "\n",
        "if menu == '사과':\n",
        "  print(f'당신은 {menu}을 좋아하는 사람입니다.')\n",
        "elif menu == '바나나':\n",
        "  print(f'당신은 {menu}을 좋아하는 사람입니다.')\n",
        "elif menu == '멜론':\n",
        "  print(f'당신은 {menu}을 좋아하는 사람입니다.')\n",
        "else :\n",
        "  print(f'당신은 사과, 바나나, 멜론을 좋아하지 않는 사람입니다.')"
      ],
      "execution_count": 39,
      "outputs": [
        {
          "output_type": "stream",
          "text": [
            "[ 소름끼치도록 놀라운 심리테스트 ]\n",
            "당신이 좋아하는 과일을 입력해주세요 : 사과\n",
            "당신은 사과을 좋아하는 사람입니다.\n"
          ],
          "name": "stdout"
        }
      ]
    },
    {
      "cell_type": "code",
      "metadata": {
        "id": "7UC_5bZjgh0U"
      },
      "source": [
        ""
      ],
      "execution_count": null,
      "outputs": []
    }
  ]
}