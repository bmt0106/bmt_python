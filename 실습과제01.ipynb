{
  "nbformat": 4,
  "nbformat_minor": 0,
  "metadata": {
    "colab": {
      "name": "실습과제01.ipynb",
      "provenance": [],
      "collapsed_sections": [],
      "authorship_tag": "ABX9TyMnEwsdAxyitFweW9s8hOYK",
      "include_colab_link": true
    },
    "kernelspec": {
      "name": "python3",
      "display_name": "Python 3"
    }
  },
  "cells": [
    {
      "cell_type": "markdown",
      "metadata": {
        "id": "view-in-github",
        "colab_type": "text"
      },
      "source": [
        "<a href=\"https://colab.research.google.com/github/bmt0106/bmt_python/blob/main/%EC%8B%A4%EC%8A%B5%EA%B3%BC%EC%A0%9C01.ipynb\" target=\"_parent\"><img src=\"https://colab.research.google.com/assets/colab-badge.svg\" alt=\"Open In Colab\"/></a>"
      ]
    },
    {
      "cell_type": "markdown",
      "metadata": {
        "id": "0P6a1-2T1Fea"
      },
      "source": [
        "## 파이선 기본 학습"
      ]
    },
    {
      "cell_type": "code",
      "metadata": {
        "id": "weFKUSB80wHH"
      },
      "source": [
        "# 입력, 출력, 연산자\r\n",
        "names = ['정밀', '폴리', '산설', '메카', '로봇', '전기' ]"
      ],
      "execution_count": 2,
      "outputs": []
    },
    {
      "cell_type": "code",
      "metadata": {
        "colab": {
          "base_uri": "https://localhost:8080/"
        },
        "id": "yrK8SL8K6ErL",
        "outputId": "ed647b78-70f0-4754-f38f-df00eb2804df"
      },
      "source": [
        "names"
      ],
      "execution_count": 6,
      "outputs": [
        {
          "output_type": "execute_result",
          "data": {
            "text/plain": [
              "['정밀', '폴리', '산설', '메카', '로봇', '전기']"
            ]
          },
          "metadata": {
            "tags": []
          },
          "execution_count": 6
        }
      ]
    },
    {
      "cell_type": "code",
      "metadata": {
        "colab": {
          "base_uri": "https://localhost:8080/",
          "height": 35
        },
        "id": "xp7ByhNM6Mu4",
        "outputId": "b1628e5a-e59b-4c7e-8b6c-ca783fb111fd"
      },
      "source": [
        "names[0]"
      ],
      "execution_count": 22,
      "outputs": [
        {
          "output_type": "execute_result",
          "data": {
            "application/vnd.google.colaboratory.intrinsic+json": {
              "type": "string"
            },
            "text/plain": [
              "'정밀'"
            ]
          },
          "metadata": {
            "tags": []
          },
          "execution_count": 22
        }
      ]
    },
    {
      "cell_type": "code",
      "metadata": {
        "colab": {
          "base_uri": "https://localhost:8080/",
          "height": 35
        },
        "id": "sdLL_gEw6-lU",
        "outputId": "b5384514-399e-4dfd-c7c6-6f1251aa8208"
      },
      "source": [
        "names[-1]"
      ],
      "execution_count": 23,
      "outputs": [
        {
          "output_type": "execute_result",
          "data": {
            "application/vnd.google.colaboratory.intrinsic+json": {
              "type": "string"
            },
            "text/plain": [
              "'전기'"
            ]
          },
          "metadata": {
            "tags": []
          },
          "execution_count": 23
        }
      ]
    },
    {
      "cell_type": "code",
      "metadata": {
        "colab": {
          "base_uri": "https://localhost:8080/"
        },
        "id": "hZaiNAHg7EnA",
        "outputId": "0388ebd4-1232-4bac-f6c7-8ea2c1bf498c"
      },
      "source": [
        "names"
      ],
      "execution_count": 24,
      "outputs": [
        {
          "output_type": "execute_result",
          "data": {
            "text/plain": [
              "['정밀', '폴리', '산설', '메카', '로봇', '전기']"
            ]
          },
          "metadata": {
            "tags": []
          },
          "execution_count": 24
        }
      ]
    },
    {
      "cell_type": "code",
      "metadata": {
        "id": "gmhUro3D8E4I"
      },
      "source": [
        "names.append('부산기계')"
      ],
      "execution_count": 25,
      "outputs": []
    },
    {
      "cell_type": "code",
      "metadata": {
        "colab": {
          "base_uri": "https://localhost:8080/"
        },
        "id": "PQrdUgFt8Um_",
        "outputId": "85ba8abd-70ef-4943-9e23-97afb7a2e0bf"
      },
      "source": [
        "names"
      ],
      "execution_count": 34,
      "outputs": [
        {
          "output_type": "execute_result",
          "data": {
            "text/plain": [
              "['정밀', '폴리', '산설', '메카', '로봇', '전기', '부산기계']"
            ]
          },
          "metadata": {
            "tags": []
          },
          "execution_count": 34
        }
      ]
    },
    {
      "cell_type": "code",
      "metadata": {
        "colab": {
          "base_uri": "https://localhost:8080/"
        },
        "id": "e_rLJ74p8Wi2",
        "outputId": "13dad89b-ba1a-4c69-d5b1-2ced0823f7b5"
      },
      "source": [
        "for name in names:\r\n",
        "    if '정' in name:\r\n",
        "      print('기계과',name+'전공')\r\n",
        "    if '폴' in name:\r\n",
        "      print('기계과',name+'전공')\r\n",
        "    if '산' in name:\r\n",
        "      print('기계과',name+'전공')\r\n",
        "    if '메' in name:\r\n",
        "      print('전자기계과',name+'전공')\r\n",
        "    if '로' in name:\r\n",
        "      print('전자기계과',name+'전공')  \r\n",
        "    if '전기' in name:\r\n",
        "      print(name+'과')    "
      ],
      "execution_count": 45,
      "outputs": [
        {
          "output_type": "stream",
          "text": [
            "기계과 정밀전공\n",
            "기계과 폴리전공\n",
            "기계과 산설전공\n",
            "전자기계과 메카전공\n",
            "전자기계과 로봇전공\n",
            "전기과\n",
            "기계과 부산기계전공\n"
          ],
          "name": "stdout"
        }
      ]
    },
    {
      "cell_type": "code",
      "metadata": {
        "colab": {
          "base_uri": "https://localhost:8080/"
        },
        "id": "rVOX6IyR9F1U",
        "outputId": "9d0e9197-c7c1-4f4a-daf3-d312a2ac6632"
      },
      "source": [
        "print(20**3)"
      ],
      "execution_count": 46,
      "outputs": [
        {
          "output_type": "stream",
          "text": [
            "8000\n"
          ],
          "name": "stdout"
        }
      ]
    },
    {
      "cell_type": "code",
      "metadata": {
        "colab": {
          "base_uri": "https://localhost:8080/"
        },
        "id": "_1RT7BKUAk_Q",
        "outputId": "d677aa49-b27e-479b-f6d8-b9d0c3980a4c"
      },
      "source": [
        "print('Hello, World')"
      ],
      "execution_count": 47,
      "outputs": [
        {
          "output_type": "stream",
          "text": [
            "Hello, World\n"
          ],
          "name": "stdout"
        }
      ]
    },
    {
      "cell_type": "code",
      "metadata": {
        "colab": {
          "base_uri": "https://localhost:8080/"
        },
        "id": "cBf-MSIOAoTW",
        "outputId": "0a3bc964-c43b-42f8-fac1-1ec3b85b3d0f"
      },
      "source": [
        "school = '부산기계공고'\r\n",
        "print(school)\r\n",
        "\r\n",
        "a = 215\r\n",
        "print(a)\r\n",
        "\r\n",
        "name = '전기과'\r\n",
        "print(name+' 화이팅!!!')"
      ],
      "execution_count": 49,
      "outputs": [
        {
          "output_type": "stream",
          "text": [
            "부산기계공고\n",
            "215\n",
            "전기과 화이팅!!!\n"
          ],
          "name": "stdout"
        }
      ]
    },
    {
      "cell_type": "code",
      "metadata": {
        "colab": {
          "base_uri": "https://localhost:8080/"
        },
        "id": "Dq60CmFBBI27",
        "outputId": "f8d6f4a9-a554-492e-bfca-d3afd5e99d25"
      },
      "source": [
        "print(f'2021학년도 {school} {name} 화이팅!!!')  # f 포맷팅"
      ],
      "execution_count": 53,
      "outputs": [
        {
          "output_type": "stream",
          "text": [
            "2021학년도 부산기계공고 전기과 화이팅!!!\n"
          ],
          "name": "stdout"
        }
      ]
    },
    {
      "cell_type": "code",
      "metadata": {
        "colab": {
          "base_uri": "https://localhost:8080/"
        },
        "id": "GzQQd-GzBVUl",
        "outputId": "361460e8-575b-4455-d824-f2f5efa7ffab"
      },
      "source": [
        "name = input()\r\n",
        "\r\n",
        "print(name + '님! 안녕하세요.!')"
      ],
      "execution_count": 57,
      "outputs": [
        {
          "output_type": "stream",
          "text": [
            "ㄴㅇㄴㅁㄹ\n",
            "ㄴㅇㄴㅁㄹ님! 안녕하세요.!\n"
          ],
          "name": "stdout"
        }
      ]
    },
    {
      "cell_type": "code",
      "metadata": {
        "colab": {
          "base_uri": "https://localhost:8080/"
        },
        "id": "QaeS_u6qCDfW",
        "outputId": "8ef030d0-2aa2-4e06-8070-93c0b9b3f56c"
      },
      "source": [
        "name = input('이름을 입력해 주세요 : ')\r\n",
        "print(name+ ' 안녕하세요.')"
      ],
      "execution_count": 59,
      "outputs": [
        {
          "output_type": "stream",
          "text": [
            "이름을 입력해 주세요 : 김기태\n",
            "김기태 안녕하세요.\n"
          ],
          "name": "stdout"
        }
      ]
    },
    {
      "cell_type": "code",
      "metadata": {
        "colab": {
          "base_uri": "https://localhost:8080/"
        },
        "id": "hpKdZ-PbCczV",
        "outputId": "12874c5a-d6bd-48b4-ad36-01f8eafc63ac"
      },
      "source": [
        "age = float(input('나이 입력 : '))\r\n",
        "\r\n",
        "print(age-1)"
      ],
      "execution_count": 62,
      "outputs": [
        {
          "output_type": "stream",
          "text": [
            "나이 입력 : 18.9\n",
            "17.9\n"
          ],
          "name": "stdout"
        }
      ]
    },
    {
      "cell_type": "code",
      "metadata": {
        "colab": {
          "base_uri": "https://localhost:8080/"
        },
        "id": "ptjR7N18CuEW",
        "outputId": "9f082bed-7715-4808-df72-b3dc08c80f2e"
      },
      "source": [
        "key = 'abcd'\r\n",
        "\r\n",
        "password = input('암호 입력(4글자) : ')\r\n",
        "\r\n",
        "if key == password:\r\n",
        "  print(\"암호해제\")\r\n",
        "else :\r\n",
        "  print(\"다시입력\")"
      ],
      "execution_count": 65,
      "outputs": [
        {
          "output_type": "stream",
          "text": [
            "암호 입력(4글자) : afdaf\n",
            "다시입력\n"
          ],
          "name": "stdout"
        }
      ]
    },
    {
      "cell_type": "code",
      "metadata": {
        "id": "z_8B5MQaDdLS"
      },
      "source": [
        ""
      ],
      "execution_count": null,
      "outputs": []
    }
  ]
}