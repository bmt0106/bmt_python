{
  "nbformat": 4,
  "nbformat_minor": 0,
  "metadata": {
    "colab": {
      "name": "4주차_21400.ipynb",
      "provenance": [],
      "collapsed_sections": [],
      "authorship_tag": "ABX9TyNFMYh4wYKd2AKr8GSN/7iW",
      "include_colab_link": true
    },
    "kernelspec": {
      "name": "python3",
      "display_name": "Python 3"
    },
    "language_info": {
      "name": "python"
    }
  },
  "cells": [
    {
      "cell_type": "markdown",
      "metadata": {
        "id": "view-in-github",
        "colab_type": "text"
      },
      "source": [
        "<a href=\"https://colab.research.google.com/github/bmt0106/bmt_python/blob/main/4%EC%A3%BC%EC%B0%A8_21400.ipynb\" target=\"_parent\"><img src=\"https://colab.research.google.com/assets/colab-badge.svg\" alt=\"Open In Colab\"/></a>"
      ]
    },
    {
      "cell_type": "code",
      "metadata": {
        "colab": {
          "base_uri": "https://localhost:8080/"
        },
        "id": "vWC7UL_rPLob",
        "outputId": "4bd05500-dc53-49a4-e91a-3d2d85e687fb"
      },
      "source": [
        "print('Hello World', end='\\n')\n",
        "print('Busan')"
      ],
      "execution_count": 5,
      "outputs": [
        {
          "output_type": "stream",
          "text": [
            "Hello World\n",
            "Busan\n"
          ],
          "name": "stdout"
        }
      ]
    },
    {
      "cell_type": "code",
      "metadata": {
        "colab": {
          "base_uri": "https://localhost:8080/"
        },
        "id": "GRbAilEPPR1w",
        "outputId": "dcd8def6-a041-4ba9-fc25-ad8c52f3913c"
      },
      "source": [
        "print('Hello','World','Busan')\n",
        "print('Hello'*3)"
      ],
      "execution_count": 15,
      "outputs": [
        {
          "output_type": "stream",
          "text": [
            "Hello World Busan\n",
            "HelloHelloHello\n"
          ],
          "name": "stdout"
        }
      ]
    },
    {
      "cell_type": "code",
      "metadata": {
        "colab": {
          "base_uri": "https://localhost:8080/"
        },
        "id": "jQRu7cdbQUzq",
        "outputId": "3474c3c0-2885-4c38-8be5-26b57474a4ed"
      },
      "source": [
        "print('Hello\\nPython')"
      ],
      "execution_count": 25,
      "outputs": [
        {
          "output_type": "stream",
          "text": [
            "Hello\n",
            "Python\n"
          ],
          "name": "stdout"
        }
      ]
    },
    {
      "cell_type": "code",
      "metadata": {
        "colab": {
          "base_uri": "https://localhost:8080/"
        },
        "id": "UlPhqSOTRMrK",
        "outputId": "77374edf-e71f-42f8-df22-5ece7c671a6a"
      },
      "source": [
        "x = input()"
      ],
      "execution_count": 30,
      "outputs": [
        {
          "output_type": "stream",
          "text": [
            "안녕하세요\n"
          ],
          "name": "stdout"
        }
      ]
    },
    {
      "cell_type": "code",
      "metadata": {
        "colab": {
          "base_uri": "https://localhost:8080/",
          "height": 35
        },
        "id": "8Dxp2jMgR_C_",
        "outputId": "891d8e24-0193-41cf-c59d-db634fc27f1f"
      },
      "source": [
        "x"
      ],
      "execution_count": 29,
      "outputs": [
        {
          "output_type": "execute_result",
          "data": {
            "application/vnd.google.colaboratory.intrinsic+json": {
              "type": "string"
            },
            "text/plain": [
              "'안녕하세요'"
            ]
          },
          "metadata": {
            "tags": []
          },
          "execution_count": 29
        }
      ]
    },
    {
      "cell_type": "code",
      "metadata": {
        "colab": {
          "base_uri": "https://localhost:8080/"
        },
        "id": "tBzYtuRISLwp",
        "outputId": "adb7af99-58ff-4d7f-c17e-3d4d9fdfa30f"
      },
      "source": [
        "x = input('x 입력 : ')\n",
        "y = input('y 입력 : ')"
      ],
      "execution_count": 31,
      "outputs": [
        {
          "output_type": "stream",
          "text": [
            "x 입력 : 10\n",
            "y 입력 : 20\n"
          ],
          "name": "stdout"
        }
      ]
    },
    {
      "cell_type": "code",
      "metadata": {
        "colab": {
          "base_uri": "https://localhost:8080/"
        },
        "id": "6Mt1O_MJScJ5",
        "outputId": "876ae998-3f0b-4d01-8874-79edc52414bc"
      },
      "source": [
        "print(x, '+', y, '=', x+y)"
      ],
      "execution_count": 32,
      "outputs": [
        {
          "output_type": "stream",
          "text": [
            "10 + 20 = 1020\n"
          ],
          "name": "stdout"
        }
      ]
    },
    {
      "cell_type": "code",
      "metadata": {
        "id": "C8-z1Y1QS0Go"
      },
      "source": [
        "x = int(x)\n",
        "y = int(y)"
      ],
      "execution_count": 33,
      "outputs": []
    },
    {
      "cell_type": "code",
      "metadata": {
        "colab": {
          "base_uri": "https://localhost:8080/"
        },
        "id": "xzUqGN6zTCB4",
        "outputId": "bc7bec00-054f-47ec-c5a1-3d7323a89dac"
      },
      "source": [
        "print(x, '+', y, '=', x+y)"
      ],
      "execution_count": 34,
      "outputs": [
        {
          "output_type": "stream",
          "text": [
            "10 + 20 = 30\n"
          ],
          "name": "stdout"
        }
      ]
    },
    {
      "cell_type": "code",
      "metadata": {
        "colab": {
          "base_uri": "https://localhost:8080/"
        },
        "id": "1r4PkjI4TDIo",
        "outputId": "97ba1f8b-dafd-4a09-811d-ce2eca150fcb"
      },
      "source": [
        "# 두 정수 입력 받아 사칙연산 프로그램\n",
        "\n",
        "# 입력부\n",
        "x = int(input('x 정수 입력 : '))\n",
        "y = int(input('y 정수 입력 : '))"
      ],
      "execution_count": 35,
      "outputs": [
        {
          "output_type": "stream",
          "text": [
            "x 정수 입력 : 10\n",
            "y 정수 입력 : 20\n"
          ],
          "name": "stdout"
        }
      ]
    },
    {
      "cell_type": "code",
      "metadata": {
        "colab": {
          "base_uri": "https://localhost:8080/"
        },
        "id": "muiQlNtxTlC4",
        "outputId": "2c93e383-8beb-44d5-bf37-559259f34dce"
      },
      "source": [
        "# 제어부(연산작업) + 출력부\n",
        "print(x, '+', y, '=', (x + y))\n",
        "print(x, '-', y, '=', (x - y))\n",
        "print(x, 'x', y, '=', (x * y))\n",
        "print(x, '/', y, '=', (x / y))"
      ],
      "execution_count": 36,
      "outputs": [
        {
          "output_type": "stream",
          "text": [
            "10 + 20 = 30\n",
            "10 - 20 = -10\n",
            "10 x 20 = 200\n",
            "10 / 20 = 0.5\n"
          ],
          "name": "stdout"
        }
      ]
    },
    {
      "cell_type": "code",
      "metadata": {
        "colab": {
          "base_uri": "https://localhost:8080/"
        },
        "id": "3uzZGCP6Tv7Y",
        "outputId": "79d2d8b8-fa29-4b17-d221-5b738a109b3e"
      },
      "source": [
        "# BMI 지수 구하기\n",
        "\n",
        "# 입력부\n",
        "weight = float(input('weight(kg) : '))\n",
        "height = float(input('height(cm) : '))"
      ],
      "execution_count": 38,
      "outputs": [
        {
          "output_type": "stream",
          "text": [
            "weight(kg) : 78\n",
            "height(cm) : 174\n"
          ],
          "name": "stdout"
        }
      ]
    },
    {
      "cell_type": "code",
      "metadata": {
        "id": "LnTXM4HnUoko"
      },
      "source": [
        "# 제어부\n",
        "BMI = weight / (height/100)**2"
      ],
      "execution_count": 39,
      "outputs": []
    },
    {
      "cell_type": "code",
      "metadata": {
        "colab": {
          "base_uri": "https://localhost:8080/"
        },
        "id": "uuDVfrnrVBQn",
        "outputId": "66057cec-f21a-4c13-841b-36a31764c3db"
      },
      "source": [
        "# 출력부\n",
        "print(f'BMI : {BMI:.2f}')"
      ],
      "execution_count": 41,
      "outputs": [
        {
          "output_type": "stream",
          "text": [
            "BMI : 25.76\n"
          ],
          "name": "stdout"
        }
      ]
    },
    {
      "cell_type": "code",
      "metadata": {
        "colab": {
          "base_uri": "https://localhost:8080/"
        },
        "id": "i350b0h_VHyH",
        "outputId": "1116f7af-f284-4a02-8cd2-ec762f037391"
      },
      "source": [
        "if BMI > 20 :\n",
        "  print('넌 살좀 빼야돼!!!👌👌')\n",
        "elif BMI > 30 :\n",
        "  print('넌 헬스장 가야돼!!!👌👌')\n",
        "elif BMI > 0 and BMI <= 20 :\n",
        "  print('넌 괜찮아')\n",
        "else :\n",
        "  print('먼가 이상해')"
      ],
      "execution_count": 42,
      "outputs": [
        {
          "output_type": "stream",
          "text": [
            "넌 살좀 빼야돼!!!👌👌\n"
          ],
          "name": "stdout"
        }
      ]
    },
    {
      "cell_type": "code",
      "metadata": {
        "colab": {
          "base_uri": "https://localhost:8080/"
        },
        "id": "zMDdG-0TWIG3",
        "outputId": "dce6f9d4-3d68-4bf7-945c-e18a33444e39"
      },
      "source": [
        "# BMI 지수 구하기\n",
        "\n",
        "# 입력부\n",
        "weight = float(input('weight(kg) : '))\n",
        "height = float(input('height(cm) : '))\n",
        "\n",
        "# 제어부\n",
        "BMI = weight / (height/100)**2\n",
        "\n",
        "# 출력부\n",
        "print(f'BMI : {BMI:.2f}')\n",
        "\n",
        "if BMI > 20 :\n",
        "  print('넌 살좀 빼야돼!!!👌👌')\n",
        "elif BMI > 30 :\n",
        "  print('넌 헬스장 가야돼!!!👌👌')\n",
        "elif BMI > 0 and BMI <= 20 :\n",
        "  print('넌 괜찮아')\n",
        "else :\n",
        "  print('먼가 이상해')"
      ],
      "execution_count": 44,
      "outputs": [
        {
          "output_type": "stream",
          "text": [
            "weight(kg) : 62\n",
            "height(cm) : 184\n",
            "BMI : 18.31\n",
            "넌 괜찮아\n"
          ],
          "name": "stdout"
        }
      ]
    },
    {
      "cell_type": "code",
      "metadata": {
        "id": "_S97Xj0ZWbJd"
      },
      "source": [
        "x = 'Hello Python'"
      ],
      "execution_count": 45,
      "outputs": []
    },
    {
      "cell_type": "code",
      "metadata": {
        "colab": {
          "base_uri": "https://localhost:8080/",
          "height": 35
        },
        "id": "a6A1BocSamFZ",
        "outputId": "7f7b2f15-0208-4ea1-d962-127eccaf5891"
      },
      "source": [
        "x"
      ],
      "execution_count": 46,
      "outputs": [
        {
          "output_type": "execute_result",
          "data": {
            "application/vnd.google.colaboratory.intrinsic+json": {
              "type": "string"
            },
            "text/plain": [
              "'Hello Python'"
            ]
          },
          "metadata": {
            "tags": []
          },
          "execution_count": 46
        }
      ]
    },
    {
      "cell_type": "code",
      "metadata": {
        "colab": {
          "base_uri": "https://localhost:8080/"
        },
        "id": "qJVcgrl-am_k",
        "outputId": "e23712e7-6f99-4e0a-aef2-3e1642f0db02"
      },
      "source": [
        "len(x)"
      ],
      "execution_count": 47,
      "outputs": [
        {
          "output_type": "execute_result",
          "data": {
            "text/plain": [
              "12"
            ]
          },
          "metadata": {
            "tags": []
          },
          "execution_count": 47
        }
      ]
    },
    {
      "cell_type": "code",
      "metadata": {
        "colab": {
          "base_uri": "https://localhost:8080/",
          "height": 35
        },
        "id": "QkEPRN23bVJD",
        "outputId": "86fe6429-1e4d-4605-c40a-59bbc54a1765"
      },
      "source": [
        "x"
      ],
      "execution_count": 48,
      "outputs": [
        {
          "output_type": "execute_result",
          "data": {
            "application/vnd.google.colaboratory.intrinsic+json": {
              "type": "string"
            },
            "text/plain": [
              "'Hello Python'"
            ]
          },
          "metadata": {
            "tags": []
          },
          "execution_count": 48
        }
      ]
    },
    {
      "cell_type": "code",
      "metadata": {
        "colab": {
          "base_uri": "https://localhost:8080/"
        },
        "id": "HsaeEhN5bbVT",
        "outputId": "27bda71b-dd74-409b-e795-a8597dda7eb3"
      },
      "source": [
        "x.count('H')"
      ],
      "execution_count": 50,
      "outputs": [
        {
          "output_type": "execute_result",
          "data": {
            "text/plain": [
              "1"
            ]
          },
          "metadata": {
            "tags": []
          },
          "execution_count": 50
        }
      ]
    },
    {
      "cell_type": "code",
      "metadata": {
        "colab": {
          "base_uri": "https://localhost:8080/",
          "height": 35
        },
        "id": "MK8ovs7dbscT",
        "outputId": "a7c06386-c637-4d98-ea49-fe62e0525241"
      },
      "source": [
        "x"
      ],
      "execution_count": 51,
      "outputs": [
        {
          "output_type": "execute_result",
          "data": {
            "application/vnd.google.colaboratory.intrinsic+json": {
              "type": "string"
            },
            "text/plain": [
              "'Hello Python'"
            ]
          },
          "metadata": {
            "tags": []
          },
          "execution_count": 51
        }
      ]
    },
    {
      "cell_type": "code",
      "metadata": {
        "colab": {
          "base_uri": "https://localhost:8080/"
        },
        "id": "NBATOCw0b9CT",
        "outputId": "a81a67e6-4e3f-4ffc-cfb8-46df48518d64"
      },
      "source": [
        "x.find('o')"
      ],
      "execution_count": 54,
      "outputs": [
        {
          "output_type": "execute_result",
          "data": {
            "text/plain": [
              "4"
            ]
          },
          "metadata": {
            "tags": []
          },
          "execution_count": 54
        }
      ]
    },
    {
      "cell_type": "code",
      "metadata": {
        "colab": {
          "base_uri": "https://localhost:8080/",
          "height": 35
        },
        "id": "cghFZExjcF8N",
        "outputId": "15a3d2a6-1244-4515-f58b-99590d2aedb9"
      },
      "source": [
        "x[0]"
      ],
      "execution_count": 53,
      "outputs": [
        {
          "output_type": "execute_result",
          "data": {
            "application/vnd.google.colaboratory.intrinsic+json": {
              "type": "string"
            },
            "text/plain": [
              "'H'"
            ]
          },
          "metadata": {
            "tags": []
          },
          "execution_count": 53
        }
      ]
    },
    {
      "cell_type": "code",
      "metadata": {
        "colab": {
          "base_uri": "https://localhost:8080/",
          "height": 35
        },
        "id": "Oas85Fg4cJt9",
        "outputId": "418bff06-b380-47b1-bc20-aeb1bb4258b7"
      },
      "source": [
        "x"
      ],
      "execution_count": 55,
      "outputs": [
        {
          "output_type": "execute_result",
          "data": {
            "application/vnd.google.colaboratory.intrinsic+json": {
              "type": "string"
            },
            "text/plain": [
              "'Hello Python'"
            ]
          },
          "metadata": {
            "tags": []
          },
          "execution_count": 55
        }
      ]
    },
    {
      "cell_type": "code",
      "metadata": {
        "colab": {
          "base_uri": "https://localhost:8080/"
        },
        "id": "OV0VaA6Sca0z",
        "outputId": "f278c850-7762-425a-9bcf-f9014663df57"
      },
      "source": [
        "x.index('Python')"
      ],
      "execution_count": 58,
      "outputs": [
        {
          "output_type": "execute_result",
          "data": {
            "text/plain": [
              "6"
            ]
          },
          "metadata": {
            "tags": []
          },
          "execution_count": 58
        }
      ]
    },
    {
      "cell_type": "code",
      "metadata": {
        "colab": {
          "base_uri": "https://localhost:8080/",
          "height": 35
        },
        "id": "pfmyVDDHceyy",
        "outputId": "082dde7e-704e-421a-9915-54a360504177"
      },
      "source": [
        "x[6:]"
      ],
      "execution_count": 59,
      "outputs": [
        {
          "output_type": "execute_result",
          "data": {
            "application/vnd.google.colaboratory.intrinsic+json": {
              "type": "string"
            },
            "text/plain": [
              "'Python'"
            ]
          },
          "metadata": {
            "tags": []
          },
          "execution_count": 59
        }
      ]
    },
    {
      "cell_type": "code",
      "metadata": {
        "colab": {
          "base_uri": "https://localhost:8080/",
          "height": 35
        },
        "id": "LW_ZvgqrctKx",
        "outputId": "e28663b3-e891-4ae3-9102-df76a126bfc7"
      },
      "source": [
        "x"
      ],
      "execution_count": 60,
      "outputs": [
        {
          "output_type": "execute_result",
          "data": {
            "application/vnd.google.colaboratory.intrinsic+json": {
              "type": "string"
            },
            "text/plain": [
              "'Hello Python'"
            ]
          },
          "metadata": {
            "tags": []
          },
          "execution_count": 60
        }
      ]
    },
    {
      "cell_type": "code",
      "metadata": {
        "colab": {
          "base_uri": "https://localhost:8080/",
          "height": 35
        },
        "id": "kGQx3NQScxaj",
        "outputId": "d7d0e63b-0a8a-47a3-bc2b-55e81eb922a4"
      },
      "source": [
        "'-'.join(x)"
      ],
      "execution_count": 61,
      "outputs": [
        {
          "output_type": "execute_result",
          "data": {
            "application/vnd.google.colaboratory.intrinsic+json": {
              "type": "string"
            },
            "text/plain": [
              "'H-e-l-l-o- -P-y-t-h-o-n'"
            ]
          },
          "metadata": {
            "tags": []
          },
          "execution_count": 61
        }
      ]
    },
    {
      "cell_type": "code",
      "metadata": {
        "colab": {
          "base_uri": "https://localhost:8080/",
          "height": 35
        },
        "id": "usD6_B2Rc4JS",
        "outputId": "fdbc7c9d-1fdd-408c-9956-388ce10d9c30"
      },
      "source": [
        "x"
      ],
      "execution_count": 62,
      "outputs": [
        {
          "output_type": "execute_result",
          "data": {
            "application/vnd.google.colaboratory.intrinsic+json": {
              "type": "string"
            },
            "text/plain": [
              "'Hello Python'"
            ]
          },
          "metadata": {
            "tags": []
          },
          "execution_count": 62
        }
      ]
    },
    {
      "cell_type": "code",
      "metadata": {
        "colab": {
          "base_uri": "https://localhost:8080/",
          "height": 35
        },
        "id": "CenMbjn6c-bS",
        "outputId": "2f98b18e-e43c-48fc-918b-90d1e79ee5d7"
      },
      "source": [
        "x.upper()"
      ],
      "execution_count": 63,
      "outputs": [
        {
          "output_type": "execute_result",
          "data": {
            "application/vnd.google.colaboratory.intrinsic+json": {
              "type": "string"
            },
            "text/plain": [
              "'HELLO PYTHON'"
            ]
          },
          "metadata": {
            "tags": []
          },
          "execution_count": 63
        }
      ]
    },
    {
      "cell_type": "code",
      "metadata": {
        "colab": {
          "base_uri": "https://localhost:8080/",
          "height": 35
        },
        "id": "4AMt4vzxdBRy",
        "outputId": "70d8b454-f5ac-4944-c70f-30b7427ffb0f"
      },
      "source": [
        "x"
      ],
      "execution_count": 64,
      "outputs": [
        {
          "output_type": "execute_result",
          "data": {
            "application/vnd.google.colaboratory.intrinsic+json": {
              "type": "string"
            },
            "text/plain": [
              "'Hello Python'"
            ]
          },
          "metadata": {
            "tags": []
          },
          "execution_count": 64
        }
      ]
    },
    {
      "cell_type": "code",
      "metadata": {
        "colab": {
          "base_uri": "https://localhost:8080/",
          "height": 35
        },
        "id": "4dVcyYlNdDDD",
        "outputId": "8c276099-b060-4c4c-a1bb-35430d903d94"
      },
      "source": [
        "x.lower()"
      ],
      "execution_count": 65,
      "outputs": [
        {
          "output_type": "execute_result",
          "data": {
            "application/vnd.google.colaboratory.intrinsic+json": {
              "type": "string"
            },
            "text/plain": [
              "'hello python'"
            ]
          },
          "metadata": {
            "tags": []
          },
          "execution_count": 65
        }
      ]
    },
    {
      "cell_type": "code",
      "metadata": {
        "colab": {
          "base_uri": "https://localhost:8080/",
          "height": 35
        },
        "id": "lXWxT3QhdFgC",
        "outputId": "bb4787e5-dc7d-408c-c771-c11ead21f4f5"
      },
      "source": [
        "x"
      ],
      "execution_count": 66,
      "outputs": [
        {
          "output_type": "execute_result",
          "data": {
            "application/vnd.google.colaboratory.intrinsic+json": {
              "type": "string"
            },
            "text/plain": [
              "'Hello Python'"
            ]
          },
          "metadata": {
            "tags": []
          },
          "execution_count": 66
        }
      ]
    },
    {
      "cell_type": "code",
      "metadata": {
        "colab": {
          "base_uri": "https://localhost:8080/",
          "height": 35
        },
        "id": "AgCVSjefdRHD",
        "outputId": "6ed741ed-55c9-4d6e-99a7-9d15b7799a8e"
      },
      "source": [
        "x.replace('o','😊')"
      ],
      "execution_count": 68,
      "outputs": [
        {
          "output_type": "execute_result",
          "data": {
            "application/vnd.google.colaboratory.intrinsic+json": {
              "type": "string"
            },
            "text/plain": [
              "'Hell😊 Pyth😊n'"
            ]
          },
          "metadata": {
            "tags": []
          },
          "execution_count": 68
        }
      ]
    },
    {
      "cell_type": "code",
      "metadata": {
        "colab": {
          "base_uri": "https://localhost:8080/",
          "height": 34
        },
        "id": "hSuG8qrDdVzy",
        "outputId": "2460489e-1a57-4c0d-9da1-c43dbc3f657c"
      },
      "source": [
        "x"
      ],
      "execution_count": 69,
      "outputs": [
        {
          "output_type": "execute_result",
          "data": {
            "application/vnd.google.colaboratory.intrinsic+json": {
              "type": "string"
            },
            "text/plain": [
              "'Hello Python'"
            ]
          },
          "metadata": {
            "tags": []
          },
          "execution_count": 69
        }
      ]
    },
    {
      "cell_type": "code",
      "metadata": {
        "colab": {
          "base_uri": "https://localhost:8080/",
          "height": 34
        },
        "id": "2Ipbs7lrdp9x",
        "outputId": "397502c0-112c-40b4-c6e5-2aafb5dea627"
      },
      "source": [
        "y=','.join(x)\n",
        "y"
      ],
      "execution_count": 72,
      "outputs": [
        {
          "output_type": "execute_result",
          "data": {
            "application/vnd.google.colaboratory.intrinsic+json": {
              "type": "string"
            },
            "text/plain": [
              "'H,e,l,l,o, ,P,y,t,h,o,n'"
            ]
          },
          "metadata": {
            "tags": []
          },
          "execution_count": 72
        }
      ]
    },
    {
      "cell_type": "code",
      "metadata": {
        "colab": {
          "base_uri": "https://localhost:8080/"
        },
        "id": "ABjf0PbeduNi",
        "outputId": "feff6db4-76c2-4923-863f-c822f5af0d6e"
      },
      "source": [
        "y.split(',')"
      ],
      "execution_count": 73,
      "outputs": [
        {
          "output_type": "execute_result",
          "data": {
            "text/plain": [
              "['H', 'e', 'l', 'l', 'o', ' ', 'P', 'y', 't', 'h', 'o', 'n']"
            ]
          },
          "metadata": {
            "tags": []
          },
          "execution_count": 73
        }
      ]
    },
    {
      "cell_type": "code",
      "metadata": {
        "colab": {
          "base_uri": "https://localhost:8080/"
        },
        "id": "5N3_y0cXdyHS",
        "outputId": "fe6e305d-5cfd-42ee-e071-5d7ec8d9dc84"
      },
      "source": [
        "corona = '''\n",
        "왜들 그리 다운돼있어? 뭐가 문제야 say something\n",
        "분위기가 겁나 싸해 요새는 이런 게 유행인가\n",
        "왜들 그리 재미없어? 아 그건 나도 마찬가지\n",
        "Tell me what I got to do 급한 대로 블루투스 켜\n",
        "아무 노래나 일단 틀어 아무거나 신나는 걸로\n",
        "아무렇게나 춤춰 아무렇지 않아 보이게\n",
        "아무 생각 하기 싫어 아무개로 살래 잠시\n",
        "I'm sick and tired of my every day, keep it up 한 곡 더\n",
        "아무 노래나 일단 틀어 아무렴 어때 it's so boring\n",
        "아무래도 refresh가 시급한 듯해 쌓여가 스트레스가\n",
        "배꼽 빠질 만큼만 폭소하고 싶은 날이야\n",
        "What up my dawgs? 어디야 너희 올 때 병맥주랑 까까 몇 개 사 와 uh\n",
        "클럽은 구미가 잘 안 당겨 우리 집 거실로 빨랑 모여\n",
        "외부인은 요령껏 차단 시켜 밤새 수다 떨 시간도 모자라\n",
        "누군 힘들어 죽겠고 누군 축제 괜히 싱숭생숭 I want my youth back\n",
        "좀 전까지 왁자지껄 하다 한 명 두 명씩 자릴 떠\n",
        "왜들 그리 다운돼있어? 뭐가 문제야 say something\n",
        "분위기가 겁나 싸해 요새는 이런 게 유행인가\n",
        "왜들 그리 재미없어? 아 그건 나도 마찬가지\n",
        "Tell me what I got to do 급한 대로 블루투스 켜\n",
        "아무 노래나 일단 틀어 아무거나 신나는 걸로\n",
        "아무렇게나 춤춰 아무렇지 않아 보이게\n",
        "아무 생각 하기 싫어 아무개로 살래 잠시\n",
        "I'm sick and tired of my every day, keep it up 한 곡 더\n",
        "떠나질 못할 바엔\n",
        "창밖은 쳐다도 안 봐\n",
        "회까닥해서 추태를 부려도\n",
        "No worries at all 이미지 왜 챙겨 그래 봤자 우리끼린데\n",
        "Ooh 늦기 전에 막판 스퍼트 20대가 얼마 안 남았어\n",
        "편한 옷으로 갈아입어 you look nice, get 'em high\n",
        "얼핏 보면 그냥 코미디 이렇게 무해한 파티 처음이지?\n",
        "만감이 교차하는 새벽 2시경 술잔과 감정이 소용돌이쳐\n",
        "왜들 그리 다운돼있어? 뭐가 문제야 say something\n",
        "분위기가 겁나 싸해 요새는 이런 게 유행인가\n",
        "왜들 그리 재미없어? 아 그건 나도 마찬가지\n",
        "Tell me what I got to do 급한 대로 블루투스 켜\n",
        "아무 노래나 일단 틀어 아무거나 신나는 걸로\n",
        "아무렇게나 춤춰 아무렇지 않아 보이게\n",
        "아무 생각 하기 싫어 아무개로 살래 잠시\n",
        "I'm sick and tired of my every day, keep it up 한 곡 더\n",
        "아무 노래나 일단\n",
        "La-la-la, la-la-la, la-la-la-la\n",
        "La-la-la, la-la-la, la-la-la-la (You ain't gonna get a day like this)\n",
        "아무 노래 아무 노래 아무 노래나 틀어봐\n",
        "아무 노래 아무 노래 아무 노래나 틀어봐 (Yeah)\n",
        "아무 노래 (ooh) 아무 노래 아무 노래나 틀어봐\n",
        "아무 노래 아무 노래 아무 노래나 KOZ\n",
        "'''\n",
        "print('[코로나 어원 분석]')\n",
        "print('-'*50)\n",
        "\n",
        "sentence = corona.count('.')\n",
        "print(f'{sentence} 개의 문장으로 이루어짐')\n",
        "print(corona.replace('\\n','').split('.'))\n",
        "\n",
        "print('-'*50)\n",
        "\n",
        "str = input('찾는 단어 입력 : ')\n",
        "cnt = corona.count(str)\n",
        "print(f\"'{str}'(은/는) {cnt} 번 언급됨\")\n"
      ],
      "execution_count": 87,
      "outputs": [
        {
          "output_type": "stream",
          "text": [
            "[코로나 어원 분석]\n",
            "--------------------------------------------------\n",
            "0 개의 문장으로 이루어짐\n",
            "[\"왜들 그리 다운돼있어? 뭐가 문제야 say something분위기가 겁나 싸해 요새는 이런 게 유행인가왜들 그리 재미없어? 아 그건 나도 마찬가지Tell me what I got to do 급한 대로 블루투스 켜아무 노래나 일단 틀어 아무거나 신나는 걸로아무렇게나 춤춰 아무렇지 않아 보이게아무 생각 하기 싫어 아무개로 살래 잠시I'm sick and tired of my every day, keep it up 한 곡 더아무 노래나 일단 틀어 아무렴 어때 it's so boring아무래도 refresh가 시급한 듯해 쌓여가 스트레스가배꼽 빠질 만큼만 폭소하고 싶은 날이야What up my dawgs? 어디야 너희 올 때 병맥주랑 까까 몇 개 사 와 uh클럽은 구미가 잘 안 당겨 우리 집 거실로 빨랑 모여외부인은 요령껏 차단 시켜 밤새 수다 떨 시간도 모자라누군 힘들어 죽겠고 누군 축제 괜히 싱숭생숭 I want my youth back좀 전까지 왁자지껄 하다 한 명 두 명씩 자릴 떠왜들 그리 다운돼있어? 뭐가 문제야 say something분위기가 겁나 싸해 요새는 이런 게 유행인가왜들 그리 재미없어? 아 그건 나도 마찬가지Tell me what I got to do 급한 대로 블루투스 켜아무 노래나 일단 틀어 아무거나 신나는 걸로아무렇게나 춤춰 아무렇지 않아 보이게아무 생각 하기 싫어 아무개로 살래 잠시I'm sick and tired of my every day, keep it up 한 곡 더떠나질 못할 바엔창밖은 쳐다도 안 봐회까닥해서 추태를 부려도No worries at all 이미지 왜 챙겨 그래 봤자 우리끼린데Ooh 늦기 전에 막판 스퍼트 20대가 얼마 안 남았어편한 옷으로 갈아입어 you look nice, get 'em high얼핏 보면 그냥 코미디 이렇게 무해한 파티 처음이지?만감이 교차하는 새벽 2시경 술잔과 감정이 소용돌이쳐왜들 그리 다운돼있어? 뭐가 문제야 say something분위기가 겁나 싸해 요새는 이런 게 유행인가왜들 그리 재미없어? 아 그건 나도 마찬가지Tell me what I got to do 급한 대로 블루투스 켜아무 노래나 일단 틀어 아무거나 신나는 걸로아무렇게나 춤춰 아무렇지 않아 보이게아무 생각 하기 싫어 아무개로 살래 잠시I'm sick and tired of my every day, keep it up 한 곡 더아무 노래나 일단La-la-la, la-la-la, la-la-la-laLa-la-la, la-la-la, la-la-la-la (You ain't gonna get a day like this)아무 노래 아무 노래 아무 노래나 틀어봐아무 노래 아무 노래 아무 노래나 틀어봐 (Yeah)아무 노래 (ooh) 아무 노래 아무 노래나 틀어봐아무 노래 아무 노래 아무 노래나 KOZ\"]\n",
            "--------------------------------------------------\n",
            "찾는 단어 입력 : 아무 노래\n",
            "'아무 노래'(은/는) 17 번 언급됨\n"
          ],
          "name": "stdout"
        }
      ]
    },
    {
      "cell_type": "code",
      "metadata": {
        "id": "P8gBWzQneglR"
      },
      "source": [
        "lst = [ ]"
      ],
      "execution_count": 88,
      "outputs": []
    },
    {
      "cell_type": "code",
      "metadata": {
        "colab": {
          "base_uri": "https://localhost:8080/"
        },
        "id": "YYPSTC0Hhf_x",
        "outputId": "2780ce7d-c228-401d-ac42-fd06b65467cb"
      },
      "source": [
        "type(lst)"
      ],
      "execution_count": 89,
      "outputs": [
        {
          "output_type": "execute_result",
          "data": {
            "text/plain": [
              "list"
            ]
          },
          "metadata": {
            "tags": []
          },
          "execution_count": 89
        }
      ]
    },
    {
      "cell_type": "code",
      "metadata": {
        "colab": {
          "base_uri": "https://localhost:8080/"
        },
        "id": "DSyido_Lhja_",
        "outputId": "3847bc29-cb7c-48c0-f054-2122b4d9a53f"
      },
      "source": [
        "lst = [10, 20, 30]\n",
        "lst"
      ],
      "execution_count": 93,
      "outputs": [
        {
          "output_type": "execute_result",
          "data": {
            "text/plain": [
              "[10, 20, 30]"
            ]
          },
          "metadata": {
            "tags": []
          },
          "execution_count": 93
        }
      ]
    },
    {
      "cell_type": "code",
      "metadata": {
        "colab": {
          "base_uri": "https://localhost:8080/"
        },
        "id": "eWZFJBDOhqp_",
        "outputId": "ab62cd60-a7f9-40f9-f0f6-c0967801bb8c"
      },
      "source": [
        "lst[0]"
      ],
      "execution_count": 95,
      "outputs": [
        {
          "output_type": "execute_result",
          "data": {
            "text/plain": [
              "10"
            ]
          },
          "metadata": {
            "tags": []
          },
          "execution_count": 95
        }
      ]
    },
    {
      "cell_type": "code",
      "metadata": {
        "colab": {
          "base_uri": "https://localhost:8080/"
        },
        "id": "cvHlpvgQiA5_",
        "outputId": "94b96f3a-773c-49d2-efcc-b8abf3523e6f"
      },
      "source": [
        "lst[-1]"
      ],
      "execution_count": 96,
      "outputs": [
        {
          "output_type": "execute_result",
          "data": {
            "text/plain": [
              "30"
            ]
          },
          "metadata": {
            "tags": []
          },
          "execution_count": 96
        }
      ]
    },
    {
      "cell_type": "code",
      "metadata": {
        "colab": {
          "base_uri": "https://localhost:8080/"
        },
        "id": "nc35DDpRiE3A",
        "outputId": "cf3c0d75-0426-4d85-8192-812e7f601930"
      },
      "source": [
        "lst"
      ],
      "execution_count": 97,
      "outputs": [
        {
          "output_type": "execute_result",
          "data": {
            "text/plain": [
              "[10, 20, 30]"
            ]
          },
          "metadata": {
            "tags": []
          },
          "execution_count": 97
        }
      ]
    },
    {
      "cell_type": "code",
      "metadata": {
        "colab": {
          "base_uri": "https://localhost:8080/"
        },
        "id": "2n5KNTWwiGbQ",
        "outputId": "a46ce242-94c3-4b37-a49e-c05008b2d111"
      },
      "source": [
        "lst[:2]"
      ],
      "execution_count": 98,
      "outputs": [
        {
          "output_type": "execute_result",
          "data": {
            "text/plain": [
              "[10, 20]"
            ]
          },
          "metadata": {
            "tags": []
          },
          "execution_count": 98
        }
      ]
    },
    {
      "cell_type": "code",
      "metadata": {
        "id": "3ZV4udKEiJ5P"
      },
      "source": [
        "lst1 = [10, 20]\n",
        "lst2 = [100, 200]"
      ],
      "execution_count": 99,
      "outputs": []
    },
    {
      "cell_type": "code",
      "metadata": {
        "id": "xw5QSpj1iPfv"
      },
      "source": [
        "lst3 = lst1+lst2"
      ],
      "execution_count": 103,
      "outputs": []
    },
    {
      "cell_type": "code",
      "metadata": {
        "colab": {
          "base_uri": "https://localhost:8080/"
        },
        "id": "ucBwgQ6KiUPd",
        "outputId": "2bcf910d-f837-46f2-a840-bb8b3b49ee3f"
      },
      "source": [
        "lst3*3"
      ],
      "execution_count": 104,
      "outputs": [
        {
          "output_type": "execute_result",
          "data": {
            "text/plain": [
              "[10, 20, 100, 200, 10, 20, 100, 200, 10, 20, 100, 200]"
            ]
          },
          "metadata": {
            "tags": []
          },
          "execution_count": 104
        }
      ]
    },
    {
      "cell_type": "code",
      "metadata": {
        "id": "G3zp4C9viZKu"
      },
      "source": [
        "lst = ['a', 'b', 'c']"
      ],
      "execution_count": 105,
      "outputs": []
    },
    {
      "cell_type": "code",
      "metadata": {
        "colab": {
          "base_uri": "https://localhost:8080/"
        },
        "id": "LbsSpbHQiq0v",
        "outputId": "eb7273bf-dd2d-470b-eca8-2d4d40fb3d3b"
      },
      "source": [
        "lst"
      ],
      "execution_count": 106,
      "outputs": [
        {
          "output_type": "execute_result",
          "data": {
            "text/plain": [
              "['a', 'b', 'c']"
            ]
          },
          "metadata": {
            "tags": []
          },
          "execution_count": 106
        }
      ]
    },
    {
      "cell_type": "code",
      "metadata": {
        "id": "yTNTUIybirwv"
      },
      "source": [
        "lst.append('d')"
      ],
      "execution_count": 107,
      "outputs": []
    },
    {
      "cell_type": "code",
      "metadata": {
        "colab": {
          "base_uri": "https://localhost:8080/"
        },
        "id": "nfgKEcR5ivpf",
        "outputId": "0a303316-764e-4c7c-dde2-077dfe4d26d9"
      },
      "source": [
        "lst"
      ],
      "execution_count": 108,
      "outputs": [
        {
          "output_type": "execute_result",
          "data": {
            "text/plain": [
              "['a', 'b', 'c', 'd']"
            ]
          },
          "metadata": {
            "tags": []
          },
          "execution_count": 108
        }
      ]
    },
    {
      "cell_type": "code",
      "metadata": {
        "colab": {
          "base_uri": "https://localhost:8080/",
          "height": 34
        },
        "id": "ktO_wAueixZD",
        "outputId": "daf632f2-7eac-4671-ecd7-fc5381f14005"
      },
      "source": [
        "lst.pop()"
      ],
      "execution_count": 109,
      "outputs": [
        {
          "output_type": "execute_result",
          "data": {
            "application/vnd.google.colaboratory.intrinsic+json": {
              "type": "string"
            },
            "text/plain": [
              "'d'"
            ]
          },
          "metadata": {
            "tags": []
          },
          "execution_count": 109
        }
      ]
    },
    {
      "cell_type": "code",
      "metadata": {
        "colab": {
          "base_uri": "https://localhost:8080/"
        },
        "id": "qnxNQjjmi-Ve",
        "outputId": "88bfe47b-6be6-41d9-b841-0dff1473bad3"
      },
      "source": [
        "lst"
      ],
      "execution_count": 110,
      "outputs": [
        {
          "output_type": "execute_result",
          "data": {
            "text/plain": [
              "['a', 'b', 'c']"
            ]
          },
          "metadata": {
            "tags": []
          },
          "execution_count": 110
        }
      ]
    },
    {
      "cell_type": "code",
      "metadata": {
        "colab": {
          "base_uri": "https://localhost:8080/"
        },
        "id": "NfWzEYl2i_ne",
        "outputId": "16f9791f-839f-4322-a35b-c9bf3f49b3f7"
      },
      "source": [
        "lst"
      ],
      "execution_count": 111,
      "outputs": [
        {
          "output_type": "execute_result",
          "data": {
            "text/plain": [
              "['a', 'b', 'c']"
            ]
          },
          "metadata": {
            "tags": []
          },
          "execution_count": 111
        }
      ]
    },
    {
      "cell_type": "code",
      "metadata": {
        "id": "YO9FZHOFjEtP"
      },
      "source": [
        "lst[0] = 'e'"
      ],
      "execution_count": 113,
      "outputs": []
    },
    {
      "cell_type": "code",
      "metadata": {
        "colab": {
          "base_uri": "https://localhost:8080/"
        },
        "id": "r9SUe21ZjGRg",
        "outputId": "6297c309-55b0-4462-ee02-9915a783a3e8"
      },
      "source": [
        "lst"
      ],
      "execution_count": 114,
      "outputs": [
        {
          "output_type": "execute_result",
          "data": {
            "text/plain": [
              "['e', 'b', 'c']"
            ]
          },
          "metadata": {
            "tags": []
          },
          "execution_count": 114
        }
      ]
    },
    {
      "cell_type": "code",
      "metadata": {
        "id": "V7cIX-kejLKu"
      },
      "source": [
        "lst[0] = 'a'"
      ],
      "execution_count": 115,
      "outputs": []
    },
    {
      "cell_type": "code",
      "metadata": {
        "colab": {
          "base_uri": "https://localhost:8080/"
        },
        "id": "qXJZUTkAjSoe",
        "outputId": "2bc111c4-ee25-470a-fd82-8598ab392965"
      },
      "source": [
        "lst"
      ],
      "execution_count": 116,
      "outputs": [
        {
          "output_type": "execute_result",
          "data": {
            "text/plain": [
              "['a', 'b', 'c']"
            ]
          },
          "metadata": {
            "tags": []
          },
          "execution_count": 116
        }
      ]
    },
    {
      "cell_type": "code",
      "metadata": {
        "colab": {
          "base_uri": "https://localhost:8080/"
        },
        "id": "BASn_nvfjTRu",
        "outputId": "120ddc9a-7c04-493c-ea19-04f0e9dcda37"
      },
      "source": [
        "lst.index('c')"
      ],
      "execution_count": 117,
      "outputs": [
        {
          "output_type": "execute_result",
          "data": {
            "text/plain": [
              "2"
            ]
          },
          "metadata": {
            "tags": []
          },
          "execution_count": 117
        }
      ]
    },
    {
      "cell_type": "code",
      "metadata": {
        "colab": {
          "base_uri": "https://localhost:8080/",
          "height": 34
        },
        "id": "0S_jRf7IjYpu",
        "outputId": "45e821a6-67eb-465e-a570-f1980c3bfbe3"
      },
      "source": [
        "lst[2]"
      ],
      "execution_count": 118,
      "outputs": [
        {
          "output_type": "execute_result",
          "data": {
            "application/vnd.google.colaboratory.intrinsic+json": {
              "type": "string"
            },
            "text/plain": [
              "'c'"
            ]
          },
          "metadata": {
            "tags": []
          },
          "execution_count": 118
        }
      ]
    },
    {
      "cell_type": "code",
      "metadata": {
        "id": "Q00k3wKvjbkm"
      },
      "source": [
        "lst.append('a')"
      ],
      "execution_count": 121,
      "outputs": []
    },
    {
      "cell_type": "code",
      "metadata": {
        "colab": {
          "base_uri": "https://localhost:8080/"
        },
        "id": "cUj41T-PjfVW",
        "outputId": "ee258fe2-056e-4f91-9907-8e10e4f7bd1d"
      },
      "source": [
        "lst"
      ],
      "execution_count": 122,
      "outputs": [
        {
          "output_type": "execute_result",
          "data": {
            "text/plain": [
              "['a', 'b', 'c', 'a']"
            ]
          },
          "metadata": {
            "tags": []
          },
          "execution_count": 122
        }
      ]
    },
    {
      "cell_type": "code",
      "metadata": {
        "colab": {
          "base_uri": "https://localhost:8080/"
        },
        "id": "E1w4WRQbjj0G",
        "outputId": "3eacb1c1-8546-471c-aac6-f7b90da74cde"
      },
      "source": [
        "lst.count('a')"
      ],
      "execution_count": 123,
      "outputs": [
        {
          "output_type": "execute_result",
          "data": {
            "text/plain": [
              "2"
            ]
          },
          "metadata": {
            "tags": []
          },
          "execution_count": 123
        }
      ]
    },
    {
      "cell_type": "code",
      "metadata": {
        "colab": {
          "base_uri": "https://localhost:8080/",
          "height": 34
        },
        "id": "OcVeVDWyjp1q",
        "outputId": "a5078e25-f740-44b9-d5f5-8d1db46a51cb"
      },
      "source": [
        "lst.pop()"
      ],
      "execution_count": 124,
      "outputs": [
        {
          "output_type": "execute_result",
          "data": {
            "application/vnd.google.colaboratory.intrinsic+json": {
              "type": "string"
            },
            "text/plain": [
              "'a'"
            ]
          },
          "metadata": {
            "tags": []
          },
          "execution_count": 124
        }
      ]
    },
    {
      "cell_type": "code",
      "metadata": {
        "colab": {
          "base_uri": "https://localhost:8080/"
        },
        "id": "brhxn_3FjyrJ",
        "outputId": "1f820c0c-9301-403d-fed3-0c259e531e73"
      },
      "source": [
        "lst"
      ],
      "execution_count": 125,
      "outputs": [
        {
          "output_type": "execute_result",
          "data": {
            "text/plain": [
              "['a', 'b', 'c']"
            ]
          },
          "metadata": {
            "tags": []
          },
          "execution_count": 125
        }
      ]
    },
    {
      "cell_type": "code",
      "metadata": {
        "id": "j7X8RbRFjz0a"
      },
      "source": [
        "lst = ['c', 'a', 'b']"
      ],
      "execution_count": 126,
      "outputs": []
    },
    {
      "cell_type": "code",
      "metadata": {
        "colab": {
          "base_uri": "https://localhost:8080/"
        },
        "id": "hbxA_xq6j2qK",
        "outputId": "d5f301f1-32ae-4c3e-c13c-6dcd33662590"
      },
      "source": [
        "lst"
      ],
      "execution_count": 127,
      "outputs": [
        {
          "output_type": "execute_result",
          "data": {
            "text/plain": [
              "['c', 'a', 'b']"
            ]
          },
          "metadata": {
            "tags": []
          },
          "execution_count": 127
        }
      ]
    },
    {
      "cell_type": "code",
      "metadata": {
        "id": "1cbbC0xmj3ch"
      },
      "source": [
        "lst.sort()"
      ],
      "execution_count": 128,
      "outputs": []
    },
    {
      "cell_type": "code",
      "metadata": {
        "colab": {
          "base_uri": "https://localhost:8080/"
        },
        "id": "NOLJ4iAgj7pu",
        "outputId": "51f8b1ba-a625-4a7d-a413-b499f5832b65"
      },
      "source": [
        "lst"
      ],
      "execution_count": 129,
      "outputs": [
        {
          "output_type": "execute_result",
          "data": {
            "text/plain": [
              "['a', 'b', 'c']"
            ]
          },
          "metadata": {
            "tags": []
          },
          "execution_count": 129
        }
      ]
    },
    {
      "cell_type": "code",
      "metadata": {
        "id": "VGK2_W8yj9Fu"
      },
      "source": [
        "lst.sort(reverse=True)"
      ],
      "execution_count": 130,
      "outputs": []
    },
    {
      "cell_type": "code",
      "metadata": {
        "colab": {
          "base_uri": "https://localhost:8080/"
        },
        "id": "JwojffPEkWwO",
        "outputId": "bfd48c74-9ef2-4f86-b3d8-c59fc05e7a7c"
      },
      "source": [
        "lst"
      ],
      "execution_count": 131,
      "outputs": [
        {
          "output_type": "execute_result",
          "data": {
            "text/plain": [
              "['c', 'b', 'a']"
            ]
          },
          "metadata": {
            "tags": []
          },
          "execution_count": 131
        }
      ]
    },
    {
      "cell_type": "code",
      "metadata": {
        "id": "5yHo3E3ZkXTQ"
      },
      "source": [
        "lst.reverse()"
      ],
      "execution_count": 132,
      "outputs": []
    },
    {
      "cell_type": "code",
      "metadata": {
        "colab": {
          "base_uri": "https://localhost:8080/"
        },
        "id": "tlQT36KwkcNe",
        "outputId": "1de9763c-d227-4adf-8fe1-1c1fe32f5ceb"
      },
      "source": [
        "lst"
      ],
      "execution_count": 133,
      "outputs": [
        {
          "output_type": "execute_result",
          "data": {
            "text/plain": [
              "['a', 'b', 'c']"
            ]
          },
          "metadata": {
            "tags": []
          },
          "execution_count": 133
        }
      ]
    },
    {
      "cell_type": "code",
      "metadata": {
        "id": "UI_9tvFfkdC-"
      },
      "source": [
        ""
      ],
      "execution_count": null,
      "outputs": []
    }
  ]
}