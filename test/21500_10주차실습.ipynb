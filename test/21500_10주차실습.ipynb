{
  "nbformat": 4,
  "nbformat_minor": 0,
  "metadata": {
    "colab": {
      "name": "21500_10주차실습.ipynb",
      "provenance": [],
      "collapsed_sections": [],
      "authorship_tag": "ABX9TyNBBHMTVjFZYGVTReAkIRoV",
      "include_colab_link": true
    },
    "kernelspec": {
      "name": "python3",
      "display_name": "Python 3"
    },
    "language_info": {
      "name": "python"
    }
  },
  "cells": [
    {
      "cell_type": "markdown",
      "metadata": {
        "id": "view-in-github",
        "colab_type": "text"
      },
      "source": [
        "<a href=\"https://colab.research.google.com/github/bmt0106/bmt_python/blob/main/test/21500_10%EC%A3%BC%EC%B0%A8%EC%8B%A4%EC%8A%B5.ipynb\" target=\"_parent\"><img src=\"https://colab.research.google.com/assets/colab-badge.svg\" alt=\"Open In Colab\"/></a>"
      ]
    },
    {
      "cell_type": "code",
      "metadata": {
        "id": "u3-GdxoLGHDi"
      },
      "source": [
        "import pandas as pd\n",
        "import numpy as np\n",
        "import matplotlib.pyplot as plt"
      ],
      "execution_count": 1,
      "outputs": []
    },
    {
      "cell_type": "code",
      "metadata": {
        "colab": {
          "base_uri": "https://localhost:8080/"
        },
        "id": "DjgVSVmwHcMh",
        "outputId": "5dcb6995-64f7-4795-bc09-ed307e030c99"
      },
      "source": [
        "# 1. Series 생성\n",
        "\n",
        "s = pd.Series( [1, 3, 5, np.nan, 6, 8]  )\n",
        "a = [1, 3, 5, np.nan, 6, 8]\n",
        "s"
      ],
      "execution_count": 12,
      "outputs": [
        {
          "output_type": "execute_result",
          "data": {
            "text/plain": [
              "0    1.0\n",
              "1    3.0\n",
              "2    5.0\n",
              "3    NaN\n",
              "4    6.0\n",
              "5    8.0\n",
              "dtype: float64"
            ]
          },
          "metadata": {
            "tags": []
          },
          "execution_count": 12
        }
      ]
    },
    {
      "cell_type": "code",
      "metadata": {
        "colab": {
          "base_uri": "https://localhost:8080/"
        },
        "id": "kXOJPhmoH-qK",
        "outputId": "089a0ccf-47fa-42ca-cd35-56870f78e8f5"
      },
      "source": [
        "type(s)"
      ],
      "execution_count": 13,
      "outputs": [
        {
          "output_type": "execute_result",
          "data": {
            "text/plain": [
              "pandas.core.series.Series"
            ]
          },
          "metadata": {
            "tags": []
          },
          "execution_count": 13
        }
      ]
    },
    {
      "cell_type": "code",
      "metadata": {
        "colab": {
          "base_uri": "https://localhost:8080/"
        },
        "id": "whqempyjIpV6",
        "outputId": "9381ed45-e6c9-4688-d1e8-0f7388252434"
      },
      "source": [
        "type(a)"
      ],
      "execution_count": 14,
      "outputs": [
        {
          "output_type": "execute_result",
          "data": {
            "text/plain": [
              "list"
            ]
          },
          "metadata": {
            "tags": []
          },
          "execution_count": 14
        }
      ]
    },
    {
      "cell_type": "code",
      "metadata": {
        "colab": {
          "base_uri": "https://localhost:8080/"
        },
        "id": "YuLlNkRnIsxJ",
        "outputId": "517eac99-64d6-4ff2-8b3e-6e6fdc120e97"
      },
      "source": [
        "dates = pd.date_range('20210507', periods=6)\n",
        "dates"
      ],
      "execution_count": 15,
      "outputs": [
        {
          "output_type": "execute_result",
          "data": {
            "text/plain": [
              "DatetimeIndex(['2021-05-07', '2021-05-08', '2021-05-09', '2021-05-10',\n",
              "               '2021-05-11', '2021-05-12'],\n",
              "              dtype='datetime64[ns]', freq='D')"
            ]
          },
          "metadata": {
            "tags": []
          },
          "execution_count": 15
        }
      ]
    },
    {
      "cell_type": "code",
      "metadata": {
        "colab": {
          "base_uri": "https://localhost:8080/",
          "height": 233
        },
        "id": "VmtvJbrzJSHb",
        "outputId": "5717da1e-9206-4605-8076-664d5e303e52"
      },
      "source": [
        "df = pd.DataFrame(np.random.randn(6,4))\n",
        "df"
      ],
      "execution_count": 16,
      "outputs": [
        {
          "output_type": "execute_result",
          "data": {
            "text/html": [
              "<div>\n",
              "<style scoped>\n",
              "    .dataframe tbody tr th:only-of-type {\n",
              "        vertical-align: middle;\n",
              "    }\n",
              "\n",
              "    .dataframe tbody tr th {\n",
              "        vertical-align: top;\n",
              "    }\n",
              "\n",
              "    .dataframe thead th {\n",
              "        text-align: right;\n",
              "    }\n",
              "</style>\n",
              "<table border=\"1\" class=\"dataframe\">\n",
              "  <thead>\n",
              "    <tr style=\"text-align: right;\">\n",
              "      <th></th>\n",
              "      <th>0</th>\n",
              "      <th>1</th>\n",
              "      <th>2</th>\n",
              "      <th>3</th>\n",
              "    </tr>\n",
              "  </thead>\n",
              "  <tbody>\n",
              "    <tr>\n",
              "      <th>0</th>\n",
              "      <td>-1.398844</td>\n",
              "      <td>0.699750</td>\n",
              "      <td>-0.585379</td>\n",
              "      <td>0.007927</td>\n",
              "    </tr>\n",
              "    <tr>\n",
              "      <th>1</th>\n",
              "      <td>1.202864</td>\n",
              "      <td>0.685467</td>\n",
              "      <td>-2.191255</td>\n",
              "      <td>0.621019</td>\n",
              "    </tr>\n",
              "    <tr>\n",
              "      <th>2</th>\n",
              "      <td>-1.898055</td>\n",
              "      <td>-2.053655</td>\n",
              "      <td>0.572131</td>\n",
              "      <td>0.926257</td>\n",
              "    </tr>\n",
              "    <tr>\n",
              "      <th>3</th>\n",
              "      <td>-0.719645</td>\n",
              "      <td>-1.150385</td>\n",
              "      <td>0.423665</td>\n",
              "      <td>-0.234236</td>\n",
              "    </tr>\n",
              "    <tr>\n",
              "      <th>4</th>\n",
              "      <td>-1.677089</td>\n",
              "      <td>-2.991081</td>\n",
              "      <td>0.899581</td>\n",
              "      <td>-0.567262</td>\n",
              "    </tr>\n",
              "    <tr>\n",
              "      <th>5</th>\n",
              "      <td>-2.084791</td>\n",
              "      <td>-0.260612</td>\n",
              "      <td>0.422506</td>\n",
              "      <td>1.111862</td>\n",
              "    </tr>\n",
              "  </tbody>\n",
              "</table>\n",
              "</div>"
            ],
            "text/plain": [
              "          0         1         2         3\n",
              "0 -1.398844  0.699750 -0.585379  0.007927\n",
              "1  1.202864  0.685467 -2.191255  0.621019\n",
              "2 -1.898055 -2.053655  0.572131  0.926257\n",
              "3 -0.719645 -1.150385  0.423665 -0.234236\n",
              "4 -1.677089 -2.991081  0.899581 -0.567262\n",
              "5 -2.084791 -0.260612  0.422506  1.111862"
            ]
          },
          "metadata": {
            "tags": []
          },
          "execution_count": 16
        }
      ]
    },
    {
      "cell_type": "code",
      "metadata": {
        "colab": {
          "base_uri": "https://localhost:8080/",
          "height": 235
        },
        "id": "j0c5KlMOJ0k5",
        "outputId": "027c78ca-6999-48e1-9a99-4b936e27a3fa"
      },
      "source": [
        "df = pd.DataFrame(np.random.randn(6,4), index=dates)\n",
        "df"
      ],
      "execution_count": 17,
      "outputs": [
        {
          "output_type": "execute_result",
          "data": {
            "text/html": [
              "<div>\n",
              "<style scoped>\n",
              "    .dataframe tbody tr th:only-of-type {\n",
              "        vertical-align: middle;\n",
              "    }\n",
              "\n",
              "    .dataframe tbody tr th {\n",
              "        vertical-align: top;\n",
              "    }\n",
              "\n",
              "    .dataframe thead th {\n",
              "        text-align: right;\n",
              "    }\n",
              "</style>\n",
              "<table border=\"1\" class=\"dataframe\">\n",
              "  <thead>\n",
              "    <tr style=\"text-align: right;\">\n",
              "      <th></th>\n",
              "      <th>0</th>\n",
              "      <th>1</th>\n",
              "      <th>2</th>\n",
              "      <th>3</th>\n",
              "    </tr>\n",
              "  </thead>\n",
              "  <tbody>\n",
              "    <tr>\n",
              "      <th>2021-05-07</th>\n",
              "      <td>2.019251</td>\n",
              "      <td>0.138365</td>\n",
              "      <td>0.871767</td>\n",
              "      <td>0.494140</td>\n",
              "    </tr>\n",
              "    <tr>\n",
              "      <th>2021-05-08</th>\n",
              "      <td>-2.457761</td>\n",
              "      <td>1.791337</td>\n",
              "      <td>0.188741</td>\n",
              "      <td>0.886687</td>\n",
              "    </tr>\n",
              "    <tr>\n",
              "      <th>2021-05-09</th>\n",
              "      <td>-0.320288</td>\n",
              "      <td>-0.441777</td>\n",
              "      <td>-1.020365</td>\n",
              "      <td>0.270448</td>\n",
              "    </tr>\n",
              "    <tr>\n",
              "      <th>2021-05-10</th>\n",
              "      <td>0.650549</td>\n",
              "      <td>0.509276</td>\n",
              "      <td>-1.935064</td>\n",
              "      <td>1.162976</td>\n",
              "    </tr>\n",
              "    <tr>\n",
              "      <th>2021-05-11</th>\n",
              "      <td>-0.441766</td>\n",
              "      <td>1.106635</td>\n",
              "      <td>0.828455</td>\n",
              "      <td>-0.865695</td>\n",
              "    </tr>\n",
              "    <tr>\n",
              "      <th>2021-05-12</th>\n",
              "      <td>-0.546669</td>\n",
              "      <td>1.200694</td>\n",
              "      <td>-0.109476</td>\n",
              "      <td>-0.254401</td>\n",
              "    </tr>\n",
              "  </tbody>\n",
              "</table>\n",
              "</div>"
            ],
            "text/plain": [
              "                   0         1         2         3\n",
              "2021-05-07  2.019251  0.138365  0.871767  0.494140\n",
              "2021-05-08 -2.457761  1.791337  0.188741  0.886687\n",
              "2021-05-09 -0.320288 -0.441777 -1.020365  0.270448\n",
              "2021-05-10  0.650549  0.509276 -1.935064  1.162976\n",
              "2021-05-11 -0.441766  1.106635  0.828455 -0.865695\n",
              "2021-05-12 -0.546669  1.200694 -0.109476 -0.254401"
            ]
          },
          "metadata": {
            "tags": []
          },
          "execution_count": 17
        }
      ]
    },
    {
      "cell_type": "code",
      "metadata": {
        "colab": {
          "base_uri": "https://localhost:8080/",
          "height": 235
        },
        "id": "FcUngauBKSUK",
        "outputId": "99e1e700-669f-47fe-cf87-ede89daa8739"
      },
      "source": [
        "df = pd.DataFrame(np.random.randn(6,4), index=dates, columns=['국어','영어','수학','물리'])\n",
        "df"
      ],
      "execution_count": 19,
      "outputs": [
        {
          "output_type": "execute_result",
          "data": {
            "text/html": [
              "<div>\n",
              "<style scoped>\n",
              "    .dataframe tbody tr th:only-of-type {\n",
              "        vertical-align: middle;\n",
              "    }\n",
              "\n",
              "    .dataframe tbody tr th {\n",
              "        vertical-align: top;\n",
              "    }\n",
              "\n",
              "    .dataframe thead th {\n",
              "        text-align: right;\n",
              "    }\n",
              "</style>\n",
              "<table border=\"1\" class=\"dataframe\">\n",
              "  <thead>\n",
              "    <tr style=\"text-align: right;\">\n",
              "      <th></th>\n",
              "      <th>국어</th>\n",
              "      <th>영어</th>\n",
              "      <th>수학</th>\n",
              "      <th>물리</th>\n",
              "    </tr>\n",
              "  </thead>\n",
              "  <tbody>\n",
              "    <tr>\n",
              "      <th>2021-05-07</th>\n",
              "      <td>-1.066044</td>\n",
              "      <td>1.522275</td>\n",
              "      <td>-0.545770</td>\n",
              "      <td>-2.601582</td>\n",
              "    </tr>\n",
              "    <tr>\n",
              "      <th>2021-05-08</th>\n",
              "      <td>-0.949822</td>\n",
              "      <td>1.541957</td>\n",
              "      <td>-0.751442</td>\n",
              "      <td>-1.614985</td>\n",
              "    </tr>\n",
              "    <tr>\n",
              "      <th>2021-05-09</th>\n",
              "      <td>0.399944</td>\n",
              "      <td>0.096554</td>\n",
              "      <td>0.976068</td>\n",
              "      <td>-0.477701</td>\n",
              "    </tr>\n",
              "    <tr>\n",
              "      <th>2021-05-10</th>\n",
              "      <td>0.919186</td>\n",
              "      <td>1.438829</td>\n",
              "      <td>-1.680019</td>\n",
              "      <td>-2.447819</td>\n",
              "    </tr>\n",
              "    <tr>\n",
              "      <th>2021-05-11</th>\n",
              "      <td>-2.013705</td>\n",
              "      <td>0.568707</td>\n",
              "      <td>1.809828</td>\n",
              "      <td>0.503497</td>\n",
              "    </tr>\n",
              "    <tr>\n",
              "      <th>2021-05-12</th>\n",
              "      <td>1.363150</td>\n",
              "      <td>1.002446</td>\n",
              "      <td>1.016609</td>\n",
              "      <td>-2.227253</td>\n",
              "    </tr>\n",
              "  </tbody>\n",
              "</table>\n",
              "</div>"
            ],
            "text/plain": [
              "                  국어        영어        수학        물리\n",
              "2021-05-07 -1.066044  1.522275 -0.545770 -2.601582\n",
              "2021-05-08 -0.949822  1.541957 -0.751442 -1.614985\n",
              "2021-05-09  0.399944  0.096554  0.976068 -0.477701\n",
              "2021-05-10  0.919186  1.438829 -1.680019 -2.447819\n",
              "2021-05-11 -2.013705  0.568707  1.809828  0.503497\n",
              "2021-05-12  1.363150  1.002446  1.016609 -2.227253"
            ]
          },
          "metadata": {
            "tags": []
          },
          "execution_count": 19
        }
      ]
    },
    {
      "cell_type": "code",
      "metadata": {
        "colab": {
          "base_uri": "https://localhost:8080/",
          "height": 235
        },
        "id": "QzWoMAxmKlC5",
        "outputId": "e8b351f2-668a-4d63-b437-37005d95d9a2"
      },
      "source": [
        "df = pd.DataFrame(np.random.randn(6,4), index=dates, columns=list('ABCD'))\n",
        "df"
      ],
      "execution_count": 22,
      "outputs": [
        {
          "output_type": "execute_result",
          "data": {
            "text/html": [
              "<div>\n",
              "<style scoped>\n",
              "    .dataframe tbody tr th:only-of-type {\n",
              "        vertical-align: middle;\n",
              "    }\n",
              "\n",
              "    .dataframe tbody tr th {\n",
              "        vertical-align: top;\n",
              "    }\n",
              "\n",
              "    .dataframe thead th {\n",
              "        text-align: right;\n",
              "    }\n",
              "</style>\n",
              "<table border=\"1\" class=\"dataframe\">\n",
              "  <thead>\n",
              "    <tr style=\"text-align: right;\">\n",
              "      <th></th>\n",
              "      <th>A</th>\n",
              "      <th>B</th>\n",
              "      <th>C</th>\n",
              "      <th>D</th>\n",
              "    </tr>\n",
              "  </thead>\n",
              "  <tbody>\n",
              "    <tr>\n",
              "      <th>2021-05-07</th>\n",
              "      <td>-1.533255</td>\n",
              "      <td>0.388405</td>\n",
              "      <td>0.068276</td>\n",
              "      <td>-0.312922</td>\n",
              "    </tr>\n",
              "    <tr>\n",
              "      <th>2021-05-08</th>\n",
              "      <td>-1.106509</td>\n",
              "      <td>-1.601579</td>\n",
              "      <td>1.186206</td>\n",
              "      <td>-1.339727</td>\n",
              "    </tr>\n",
              "    <tr>\n",
              "      <th>2021-05-09</th>\n",
              "      <td>0.589555</td>\n",
              "      <td>0.657157</td>\n",
              "      <td>0.686625</td>\n",
              "      <td>-1.090934</td>\n",
              "    </tr>\n",
              "    <tr>\n",
              "      <th>2021-05-10</th>\n",
              "      <td>0.140175</td>\n",
              "      <td>-0.116257</td>\n",
              "      <td>-0.937970</td>\n",
              "      <td>0.500341</td>\n",
              "    </tr>\n",
              "    <tr>\n",
              "      <th>2021-05-11</th>\n",
              "      <td>-1.416478</td>\n",
              "      <td>0.542964</td>\n",
              "      <td>-0.150942</td>\n",
              "      <td>0.498580</td>\n",
              "    </tr>\n",
              "    <tr>\n",
              "      <th>2021-05-12</th>\n",
              "      <td>-1.248686</td>\n",
              "      <td>0.715119</td>\n",
              "      <td>-1.298888</td>\n",
              "      <td>-0.878634</td>\n",
              "    </tr>\n",
              "  </tbody>\n",
              "</table>\n",
              "</div>"
            ],
            "text/plain": [
              "                   A         B         C         D\n",
              "2021-05-07 -1.533255  0.388405  0.068276 -0.312922\n",
              "2021-05-08 -1.106509 -1.601579  1.186206 -1.339727\n",
              "2021-05-09  0.589555  0.657157  0.686625 -1.090934\n",
              "2021-05-10  0.140175 -0.116257 -0.937970  0.500341\n",
              "2021-05-11 -1.416478  0.542964 -0.150942  0.498580\n",
              "2021-05-12 -1.248686  0.715119 -1.298888 -0.878634"
            ]
          },
          "metadata": {
            "tags": []
          },
          "execution_count": 22
        }
      ]
    },
    {
      "cell_type": "code",
      "metadata": {
        "colab": {
          "base_uri": "https://localhost:8080/",
          "height": 173
        },
        "id": "ixbU-r1FK4pJ",
        "outputId": "d307ac03-0be3-4379-91e3-7f4e27acc7b3"
      },
      "source": [
        "df2 = pd.DataFrame(\n",
        "    {\n",
        "        'A': 1.,\n",
        "        'B': pd.Timestamp('20210507'),\n",
        "        'C': pd.Series(1, index=list(range(4)), dtype='float32'),\n",
        "        'D': np.array([3]*4, dtype='int32'),\n",
        "        'E': pd.Categorical(['test','train','test','train']),\n",
        "        'F': 'foo'\n",
        "    }\n",
        ")\n",
        "df2"
      ],
      "execution_count": 25,
      "outputs": [
        {
          "output_type": "execute_result",
          "data": {
            "text/html": [
              "<div>\n",
              "<style scoped>\n",
              "    .dataframe tbody tr th:only-of-type {\n",
              "        vertical-align: middle;\n",
              "    }\n",
              "\n",
              "    .dataframe tbody tr th {\n",
              "        vertical-align: top;\n",
              "    }\n",
              "\n",
              "    .dataframe thead th {\n",
              "        text-align: right;\n",
              "    }\n",
              "</style>\n",
              "<table border=\"1\" class=\"dataframe\">\n",
              "  <thead>\n",
              "    <tr style=\"text-align: right;\">\n",
              "      <th></th>\n",
              "      <th>A</th>\n",
              "      <th>B</th>\n",
              "      <th>C</th>\n",
              "      <th>D</th>\n",
              "      <th>E</th>\n",
              "      <th>F</th>\n",
              "    </tr>\n",
              "  </thead>\n",
              "  <tbody>\n",
              "    <tr>\n",
              "      <th>0</th>\n",
              "      <td>1.0</td>\n",
              "      <td>2021-05-07</td>\n",
              "      <td>1.0</td>\n",
              "      <td>3</td>\n",
              "      <td>test</td>\n",
              "      <td>foo</td>\n",
              "    </tr>\n",
              "    <tr>\n",
              "      <th>1</th>\n",
              "      <td>1.0</td>\n",
              "      <td>2021-05-07</td>\n",
              "      <td>1.0</td>\n",
              "      <td>3</td>\n",
              "      <td>train</td>\n",
              "      <td>foo</td>\n",
              "    </tr>\n",
              "    <tr>\n",
              "      <th>2</th>\n",
              "      <td>1.0</td>\n",
              "      <td>2021-05-07</td>\n",
              "      <td>1.0</td>\n",
              "      <td>3</td>\n",
              "      <td>test</td>\n",
              "      <td>foo</td>\n",
              "    </tr>\n",
              "    <tr>\n",
              "      <th>3</th>\n",
              "      <td>1.0</td>\n",
              "      <td>2021-05-07</td>\n",
              "      <td>1.0</td>\n",
              "      <td>3</td>\n",
              "      <td>train</td>\n",
              "      <td>foo</td>\n",
              "    </tr>\n",
              "  </tbody>\n",
              "</table>\n",
              "</div>"
            ],
            "text/plain": [
              "     A          B    C  D      E    F\n",
              "0  1.0 2021-05-07  1.0  3   test  foo\n",
              "1  1.0 2021-05-07  1.0  3  train  foo\n",
              "2  1.0 2021-05-07  1.0  3   test  foo\n",
              "3  1.0 2021-05-07  1.0  3  train  foo"
            ]
          },
          "metadata": {
            "tags": []
          },
          "execution_count": 25
        }
      ]
    },
    {
      "cell_type": "code",
      "metadata": {
        "colab": {
          "base_uri": "https://localhost:8080/",
          "height": 235
        },
        "id": "8IGQqTdGMkXp",
        "outputId": "aac343df-729a-47e9-87ba-b4258fc12555"
      },
      "source": [
        "df"
      ],
      "execution_count": 26,
      "outputs": [
        {
          "output_type": "execute_result",
          "data": {
            "text/html": [
              "<div>\n",
              "<style scoped>\n",
              "    .dataframe tbody tr th:only-of-type {\n",
              "        vertical-align: middle;\n",
              "    }\n",
              "\n",
              "    .dataframe tbody tr th {\n",
              "        vertical-align: top;\n",
              "    }\n",
              "\n",
              "    .dataframe thead th {\n",
              "        text-align: right;\n",
              "    }\n",
              "</style>\n",
              "<table border=\"1\" class=\"dataframe\">\n",
              "  <thead>\n",
              "    <tr style=\"text-align: right;\">\n",
              "      <th></th>\n",
              "      <th>A</th>\n",
              "      <th>B</th>\n",
              "      <th>C</th>\n",
              "      <th>D</th>\n",
              "    </tr>\n",
              "  </thead>\n",
              "  <tbody>\n",
              "    <tr>\n",
              "      <th>2021-05-07</th>\n",
              "      <td>-1.533255</td>\n",
              "      <td>0.388405</td>\n",
              "      <td>0.068276</td>\n",
              "      <td>-0.312922</td>\n",
              "    </tr>\n",
              "    <tr>\n",
              "      <th>2021-05-08</th>\n",
              "      <td>-1.106509</td>\n",
              "      <td>-1.601579</td>\n",
              "      <td>1.186206</td>\n",
              "      <td>-1.339727</td>\n",
              "    </tr>\n",
              "    <tr>\n",
              "      <th>2021-05-09</th>\n",
              "      <td>0.589555</td>\n",
              "      <td>0.657157</td>\n",
              "      <td>0.686625</td>\n",
              "      <td>-1.090934</td>\n",
              "    </tr>\n",
              "    <tr>\n",
              "      <th>2021-05-10</th>\n",
              "      <td>0.140175</td>\n",
              "      <td>-0.116257</td>\n",
              "      <td>-0.937970</td>\n",
              "      <td>0.500341</td>\n",
              "    </tr>\n",
              "    <tr>\n",
              "      <th>2021-05-11</th>\n",
              "      <td>-1.416478</td>\n",
              "      <td>0.542964</td>\n",
              "      <td>-0.150942</td>\n",
              "      <td>0.498580</td>\n",
              "    </tr>\n",
              "    <tr>\n",
              "      <th>2021-05-12</th>\n",
              "      <td>-1.248686</td>\n",
              "      <td>0.715119</td>\n",
              "      <td>-1.298888</td>\n",
              "      <td>-0.878634</td>\n",
              "    </tr>\n",
              "  </tbody>\n",
              "</table>\n",
              "</div>"
            ],
            "text/plain": [
              "                   A         B         C         D\n",
              "2021-05-07 -1.533255  0.388405  0.068276 -0.312922\n",
              "2021-05-08 -1.106509 -1.601579  1.186206 -1.339727\n",
              "2021-05-09  0.589555  0.657157  0.686625 -1.090934\n",
              "2021-05-10  0.140175 -0.116257 -0.937970  0.500341\n",
              "2021-05-11 -1.416478  0.542964 -0.150942  0.498580\n",
              "2021-05-12 -1.248686  0.715119 -1.298888 -0.878634"
            ]
          },
          "metadata": {
            "tags": []
          },
          "execution_count": 26
        }
      ]
    },
    {
      "cell_type": "code",
      "metadata": {
        "colab": {
          "base_uri": "https://localhost:8080/",
          "height": 204
        },
        "id": "TvvUAGYyM84o",
        "outputId": "f4301afb-e631-4470-ef66-ded4dd6ba877"
      },
      "source": [
        "df.head()"
      ],
      "execution_count": 27,
      "outputs": [
        {
          "output_type": "execute_result",
          "data": {
            "text/html": [
              "<div>\n",
              "<style scoped>\n",
              "    .dataframe tbody tr th:only-of-type {\n",
              "        vertical-align: middle;\n",
              "    }\n",
              "\n",
              "    .dataframe tbody tr th {\n",
              "        vertical-align: top;\n",
              "    }\n",
              "\n",
              "    .dataframe thead th {\n",
              "        text-align: right;\n",
              "    }\n",
              "</style>\n",
              "<table border=\"1\" class=\"dataframe\">\n",
              "  <thead>\n",
              "    <tr style=\"text-align: right;\">\n",
              "      <th></th>\n",
              "      <th>A</th>\n",
              "      <th>B</th>\n",
              "      <th>C</th>\n",
              "      <th>D</th>\n",
              "    </tr>\n",
              "  </thead>\n",
              "  <tbody>\n",
              "    <tr>\n",
              "      <th>2021-05-07</th>\n",
              "      <td>-1.533255</td>\n",
              "      <td>0.388405</td>\n",
              "      <td>0.068276</td>\n",
              "      <td>-0.312922</td>\n",
              "    </tr>\n",
              "    <tr>\n",
              "      <th>2021-05-08</th>\n",
              "      <td>-1.106509</td>\n",
              "      <td>-1.601579</td>\n",
              "      <td>1.186206</td>\n",
              "      <td>-1.339727</td>\n",
              "    </tr>\n",
              "    <tr>\n",
              "      <th>2021-05-09</th>\n",
              "      <td>0.589555</td>\n",
              "      <td>0.657157</td>\n",
              "      <td>0.686625</td>\n",
              "      <td>-1.090934</td>\n",
              "    </tr>\n",
              "    <tr>\n",
              "      <th>2021-05-10</th>\n",
              "      <td>0.140175</td>\n",
              "      <td>-0.116257</td>\n",
              "      <td>-0.937970</td>\n",
              "      <td>0.500341</td>\n",
              "    </tr>\n",
              "    <tr>\n",
              "      <th>2021-05-11</th>\n",
              "      <td>-1.416478</td>\n",
              "      <td>0.542964</td>\n",
              "      <td>-0.150942</td>\n",
              "      <td>0.498580</td>\n",
              "    </tr>\n",
              "  </tbody>\n",
              "</table>\n",
              "</div>"
            ],
            "text/plain": [
              "                   A         B         C         D\n",
              "2021-05-07 -1.533255  0.388405  0.068276 -0.312922\n",
              "2021-05-08 -1.106509 -1.601579  1.186206 -1.339727\n",
              "2021-05-09  0.589555  0.657157  0.686625 -1.090934\n",
              "2021-05-10  0.140175 -0.116257 -0.937970  0.500341\n",
              "2021-05-11 -1.416478  0.542964 -0.150942  0.498580"
            ]
          },
          "metadata": {
            "tags": []
          },
          "execution_count": 27
        }
      ]
    },
    {
      "cell_type": "code",
      "metadata": {
        "colab": {
          "base_uri": "https://localhost:8080/",
          "height": 204
        },
        "id": "cV9k_KQ_NLT4",
        "outputId": "fa67a866-dae8-4746-9302-8c0262c3d959"
      },
      "source": [
        "df.tail()"
      ],
      "execution_count": 28,
      "outputs": [
        {
          "output_type": "execute_result",
          "data": {
            "text/html": [
              "<div>\n",
              "<style scoped>\n",
              "    .dataframe tbody tr th:only-of-type {\n",
              "        vertical-align: middle;\n",
              "    }\n",
              "\n",
              "    .dataframe tbody tr th {\n",
              "        vertical-align: top;\n",
              "    }\n",
              "\n",
              "    .dataframe thead th {\n",
              "        text-align: right;\n",
              "    }\n",
              "</style>\n",
              "<table border=\"1\" class=\"dataframe\">\n",
              "  <thead>\n",
              "    <tr style=\"text-align: right;\">\n",
              "      <th></th>\n",
              "      <th>A</th>\n",
              "      <th>B</th>\n",
              "      <th>C</th>\n",
              "      <th>D</th>\n",
              "    </tr>\n",
              "  </thead>\n",
              "  <tbody>\n",
              "    <tr>\n",
              "      <th>2021-05-08</th>\n",
              "      <td>-1.106509</td>\n",
              "      <td>-1.601579</td>\n",
              "      <td>1.186206</td>\n",
              "      <td>-1.339727</td>\n",
              "    </tr>\n",
              "    <tr>\n",
              "      <th>2021-05-09</th>\n",
              "      <td>0.589555</td>\n",
              "      <td>0.657157</td>\n",
              "      <td>0.686625</td>\n",
              "      <td>-1.090934</td>\n",
              "    </tr>\n",
              "    <tr>\n",
              "      <th>2021-05-10</th>\n",
              "      <td>0.140175</td>\n",
              "      <td>-0.116257</td>\n",
              "      <td>-0.937970</td>\n",
              "      <td>0.500341</td>\n",
              "    </tr>\n",
              "    <tr>\n",
              "      <th>2021-05-11</th>\n",
              "      <td>-1.416478</td>\n",
              "      <td>0.542964</td>\n",
              "      <td>-0.150942</td>\n",
              "      <td>0.498580</td>\n",
              "    </tr>\n",
              "    <tr>\n",
              "      <th>2021-05-12</th>\n",
              "      <td>-1.248686</td>\n",
              "      <td>0.715119</td>\n",
              "      <td>-1.298888</td>\n",
              "      <td>-0.878634</td>\n",
              "    </tr>\n",
              "  </tbody>\n",
              "</table>\n",
              "</div>"
            ],
            "text/plain": [
              "                   A         B         C         D\n",
              "2021-05-08 -1.106509 -1.601579  1.186206 -1.339727\n",
              "2021-05-09  0.589555  0.657157  0.686625 -1.090934\n",
              "2021-05-10  0.140175 -0.116257 -0.937970  0.500341\n",
              "2021-05-11 -1.416478  0.542964 -0.150942  0.498580\n",
              "2021-05-12 -1.248686  0.715119 -1.298888 -0.878634"
            ]
          },
          "metadata": {
            "tags": []
          },
          "execution_count": 28
        }
      ]
    },
    {
      "cell_type": "code",
      "metadata": {
        "colab": {
          "base_uri": "https://localhost:8080/",
          "height": 235
        },
        "id": "Wq54dhiNNRBX",
        "outputId": "ac541622-d219-4ebe-ab43-58a9435866ac"
      },
      "source": [
        "df"
      ],
      "execution_count": 29,
      "outputs": [
        {
          "output_type": "execute_result",
          "data": {
            "text/html": [
              "<div>\n",
              "<style scoped>\n",
              "    .dataframe tbody tr th:only-of-type {\n",
              "        vertical-align: middle;\n",
              "    }\n",
              "\n",
              "    .dataframe tbody tr th {\n",
              "        vertical-align: top;\n",
              "    }\n",
              "\n",
              "    .dataframe thead th {\n",
              "        text-align: right;\n",
              "    }\n",
              "</style>\n",
              "<table border=\"1\" class=\"dataframe\">\n",
              "  <thead>\n",
              "    <tr style=\"text-align: right;\">\n",
              "      <th></th>\n",
              "      <th>A</th>\n",
              "      <th>B</th>\n",
              "      <th>C</th>\n",
              "      <th>D</th>\n",
              "    </tr>\n",
              "  </thead>\n",
              "  <tbody>\n",
              "    <tr>\n",
              "      <th>2021-05-07</th>\n",
              "      <td>-1.533255</td>\n",
              "      <td>0.388405</td>\n",
              "      <td>0.068276</td>\n",
              "      <td>-0.312922</td>\n",
              "    </tr>\n",
              "    <tr>\n",
              "      <th>2021-05-08</th>\n",
              "      <td>-1.106509</td>\n",
              "      <td>-1.601579</td>\n",
              "      <td>1.186206</td>\n",
              "      <td>-1.339727</td>\n",
              "    </tr>\n",
              "    <tr>\n",
              "      <th>2021-05-09</th>\n",
              "      <td>0.589555</td>\n",
              "      <td>0.657157</td>\n",
              "      <td>0.686625</td>\n",
              "      <td>-1.090934</td>\n",
              "    </tr>\n",
              "    <tr>\n",
              "      <th>2021-05-10</th>\n",
              "      <td>0.140175</td>\n",
              "      <td>-0.116257</td>\n",
              "      <td>-0.937970</td>\n",
              "      <td>0.500341</td>\n",
              "    </tr>\n",
              "    <tr>\n",
              "      <th>2021-05-11</th>\n",
              "      <td>-1.416478</td>\n",
              "      <td>0.542964</td>\n",
              "      <td>-0.150942</td>\n",
              "      <td>0.498580</td>\n",
              "    </tr>\n",
              "    <tr>\n",
              "      <th>2021-05-12</th>\n",
              "      <td>-1.248686</td>\n",
              "      <td>0.715119</td>\n",
              "      <td>-1.298888</td>\n",
              "      <td>-0.878634</td>\n",
              "    </tr>\n",
              "  </tbody>\n",
              "</table>\n",
              "</div>"
            ],
            "text/plain": [
              "                   A         B         C         D\n",
              "2021-05-07 -1.533255  0.388405  0.068276 -0.312922\n",
              "2021-05-08 -1.106509 -1.601579  1.186206 -1.339727\n",
              "2021-05-09  0.589555  0.657157  0.686625 -1.090934\n",
              "2021-05-10  0.140175 -0.116257 -0.937970  0.500341\n",
              "2021-05-11 -1.416478  0.542964 -0.150942  0.498580\n",
              "2021-05-12 -1.248686  0.715119 -1.298888 -0.878634"
            ]
          },
          "metadata": {
            "tags": []
          },
          "execution_count": 29
        }
      ]
    },
    {
      "cell_type": "code",
      "metadata": {
        "colab": {
          "base_uri": "https://localhost:8080/",
          "height": 80
        },
        "id": "35Cw1GxMNY8H",
        "outputId": "42817434-fa9e-4ab2-ba2b-517448e61296"
      },
      "source": [
        "df.head(1)"
      ],
      "execution_count": 30,
      "outputs": [
        {
          "output_type": "execute_result",
          "data": {
            "text/html": [
              "<div>\n",
              "<style scoped>\n",
              "    .dataframe tbody tr th:only-of-type {\n",
              "        vertical-align: middle;\n",
              "    }\n",
              "\n",
              "    .dataframe tbody tr th {\n",
              "        vertical-align: top;\n",
              "    }\n",
              "\n",
              "    .dataframe thead th {\n",
              "        text-align: right;\n",
              "    }\n",
              "</style>\n",
              "<table border=\"1\" class=\"dataframe\">\n",
              "  <thead>\n",
              "    <tr style=\"text-align: right;\">\n",
              "      <th></th>\n",
              "      <th>A</th>\n",
              "      <th>B</th>\n",
              "      <th>C</th>\n",
              "      <th>D</th>\n",
              "    </tr>\n",
              "  </thead>\n",
              "  <tbody>\n",
              "    <tr>\n",
              "      <th>2021-05-07</th>\n",
              "      <td>-1.533255</td>\n",
              "      <td>0.388405</td>\n",
              "      <td>0.068276</td>\n",
              "      <td>-0.312922</td>\n",
              "    </tr>\n",
              "  </tbody>\n",
              "</table>\n",
              "</div>"
            ],
            "text/plain": [
              "                   A         B         C         D\n",
              "2021-05-07 -1.533255  0.388405  0.068276 -0.312922"
            ]
          },
          "metadata": {
            "tags": []
          },
          "execution_count": 30
        }
      ]
    },
    {
      "cell_type": "code",
      "metadata": {
        "colab": {
          "base_uri": "https://localhost:8080/",
          "height": 111
        },
        "id": "eBnnKkMYNes4",
        "outputId": "1fa4378c-293a-4217-b83d-0b76b09e2ae8"
      },
      "source": [
        "df.tail(2)"
      ],
      "execution_count": 31,
      "outputs": [
        {
          "output_type": "execute_result",
          "data": {
            "text/html": [
              "<div>\n",
              "<style scoped>\n",
              "    .dataframe tbody tr th:only-of-type {\n",
              "        vertical-align: middle;\n",
              "    }\n",
              "\n",
              "    .dataframe tbody tr th {\n",
              "        vertical-align: top;\n",
              "    }\n",
              "\n",
              "    .dataframe thead th {\n",
              "        text-align: right;\n",
              "    }\n",
              "</style>\n",
              "<table border=\"1\" class=\"dataframe\">\n",
              "  <thead>\n",
              "    <tr style=\"text-align: right;\">\n",
              "      <th></th>\n",
              "      <th>A</th>\n",
              "      <th>B</th>\n",
              "      <th>C</th>\n",
              "      <th>D</th>\n",
              "    </tr>\n",
              "  </thead>\n",
              "  <tbody>\n",
              "    <tr>\n",
              "      <th>2021-05-11</th>\n",
              "      <td>-1.416478</td>\n",
              "      <td>0.542964</td>\n",
              "      <td>-0.150942</td>\n",
              "      <td>0.498580</td>\n",
              "    </tr>\n",
              "    <tr>\n",
              "      <th>2021-05-12</th>\n",
              "      <td>-1.248686</td>\n",
              "      <td>0.715119</td>\n",
              "      <td>-1.298888</td>\n",
              "      <td>-0.878634</td>\n",
              "    </tr>\n",
              "  </tbody>\n",
              "</table>\n",
              "</div>"
            ],
            "text/plain": [
              "                   A         B         C         D\n",
              "2021-05-11 -1.416478  0.542964 -0.150942  0.498580\n",
              "2021-05-12 -1.248686  0.715119 -1.298888 -0.878634"
            ]
          },
          "metadata": {
            "tags": []
          },
          "execution_count": 31
        }
      ]
    },
    {
      "cell_type": "code",
      "metadata": {
        "colab": {
          "base_uri": "https://localhost:8080/",
          "height": 235
        },
        "id": "6IvifTkCNhw3",
        "outputId": "727ea871-c593-465a-90c2-d333ed68dd7c"
      },
      "source": [
        "df"
      ],
      "execution_count": 32,
      "outputs": [
        {
          "output_type": "execute_result",
          "data": {
            "text/html": [
              "<div>\n",
              "<style scoped>\n",
              "    .dataframe tbody tr th:only-of-type {\n",
              "        vertical-align: middle;\n",
              "    }\n",
              "\n",
              "    .dataframe tbody tr th {\n",
              "        vertical-align: top;\n",
              "    }\n",
              "\n",
              "    .dataframe thead th {\n",
              "        text-align: right;\n",
              "    }\n",
              "</style>\n",
              "<table border=\"1\" class=\"dataframe\">\n",
              "  <thead>\n",
              "    <tr style=\"text-align: right;\">\n",
              "      <th></th>\n",
              "      <th>A</th>\n",
              "      <th>B</th>\n",
              "      <th>C</th>\n",
              "      <th>D</th>\n",
              "    </tr>\n",
              "  </thead>\n",
              "  <tbody>\n",
              "    <tr>\n",
              "      <th>2021-05-07</th>\n",
              "      <td>-1.533255</td>\n",
              "      <td>0.388405</td>\n",
              "      <td>0.068276</td>\n",
              "      <td>-0.312922</td>\n",
              "    </tr>\n",
              "    <tr>\n",
              "      <th>2021-05-08</th>\n",
              "      <td>-1.106509</td>\n",
              "      <td>-1.601579</td>\n",
              "      <td>1.186206</td>\n",
              "      <td>-1.339727</td>\n",
              "    </tr>\n",
              "    <tr>\n",
              "      <th>2021-05-09</th>\n",
              "      <td>0.589555</td>\n",
              "      <td>0.657157</td>\n",
              "      <td>0.686625</td>\n",
              "      <td>-1.090934</td>\n",
              "    </tr>\n",
              "    <tr>\n",
              "      <th>2021-05-10</th>\n",
              "      <td>0.140175</td>\n",
              "      <td>-0.116257</td>\n",
              "      <td>-0.937970</td>\n",
              "      <td>0.500341</td>\n",
              "    </tr>\n",
              "    <tr>\n",
              "      <th>2021-05-11</th>\n",
              "      <td>-1.416478</td>\n",
              "      <td>0.542964</td>\n",
              "      <td>-0.150942</td>\n",
              "      <td>0.498580</td>\n",
              "    </tr>\n",
              "    <tr>\n",
              "      <th>2021-05-12</th>\n",
              "      <td>-1.248686</td>\n",
              "      <td>0.715119</td>\n",
              "      <td>-1.298888</td>\n",
              "      <td>-0.878634</td>\n",
              "    </tr>\n",
              "  </tbody>\n",
              "</table>\n",
              "</div>"
            ],
            "text/plain": [
              "                   A         B         C         D\n",
              "2021-05-07 -1.533255  0.388405  0.068276 -0.312922\n",
              "2021-05-08 -1.106509 -1.601579  1.186206 -1.339727\n",
              "2021-05-09  0.589555  0.657157  0.686625 -1.090934\n",
              "2021-05-10  0.140175 -0.116257 -0.937970  0.500341\n",
              "2021-05-11 -1.416478  0.542964 -0.150942  0.498580\n",
              "2021-05-12 -1.248686  0.715119 -1.298888 -0.878634"
            ]
          },
          "metadata": {
            "tags": []
          },
          "execution_count": 32
        }
      ]
    },
    {
      "cell_type": "code",
      "metadata": {
        "colab": {
          "base_uri": "https://localhost:8080/"
        },
        "id": "tBgzyXmnNsQX",
        "outputId": "bdb8909f-8a21-44c9-c00e-1c7902609ffc"
      },
      "source": [
        "df.index"
      ],
      "execution_count": 33,
      "outputs": [
        {
          "output_type": "execute_result",
          "data": {
            "text/plain": [
              "DatetimeIndex(['2021-05-07', '2021-05-08', '2021-05-09', '2021-05-10',\n",
              "               '2021-05-11', '2021-05-12'],\n",
              "              dtype='datetime64[ns]', freq='D')"
            ]
          },
          "metadata": {
            "tags": []
          },
          "execution_count": 33
        }
      ]
    },
    {
      "cell_type": "code",
      "metadata": {
        "colab": {
          "base_uri": "https://localhost:8080/"
        },
        "id": "82xbBZpRNyyH",
        "outputId": "eb45efa2-98dd-4dfc-be35-6de9caf340dd"
      },
      "source": [
        "df.columns"
      ],
      "execution_count": 34,
      "outputs": [
        {
          "output_type": "execute_result",
          "data": {
            "text/plain": [
              "Index(['A', 'B', 'C', 'D'], dtype='object')"
            ]
          },
          "metadata": {
            "tags": []
          },
          "execution_count": 34
        }
      ]
    },
    {
      "cell_type": "code",
      "metadata": {
        "colab": {
          "base_uri": "https://localhost:8080/"
        },
        "id": "u1mJEiSGN6hX",
        "outputId": "e238da05-3eba-4014-f413-53a3c0556cd5"
      },
      "source": [
        "df.values"
      ],
      "execution_count": 35,
      "outputs": [
        {
          "output_type": "execute_result",
          "data": {
            "text/plain": [
              "array([[-1.53325473,  0.38840491,  0.06827605, -0.31292209],\n",
              "       [-1.10650946, -1.60157892,  1.18620598, -1.33972727],\n",
              "       [ 0.58955478,  0.65715695,  0.68662546, -1.09093445],\n",
              "       [ 0.14017462, -0.11625748, -0.93796983,  0.50034083],\n",
              "       [-1.4164776 ,  0.54296417, -0.1509416 ,  0.49858009],\n",
              "       [-1.24868577,  0.71511852, -1.29888761, -0.878634  ]])"
            ]
          },
          "metadata": {
            "tags": []
          },
          "execution_count": 35
        }
      ]
    },
    {
      "cell_type": "code",
      "metadata": {
        "colab": {
          "base_uri": "https://localhost:8080/",
          "height": 297
        },
        "id": "8EE2CU7XOF3G",
        "outputId": "bec0cb17-7b52-456b-a795-372f6a686d6a"
      },
      "source": [
        "df.describe()"
      ],
      "execution_count": 36,
      "outputs": [
        {
          "output_type": "execute_result",
          "data": {
            "text/html": [
              "<div>\n",
              "<style scoped>\n",
              "    .dataframe tbody tr th:only-of-type {\n",
              "        vertical-align: middle;\n",
              "    }\n",
              "\n",
              "    .dataframe tbody tr th {\n",
              "        vertical-align: top;\n",
              "    }\n",
              "\n",
              "    .dataframe thead th {\n",
              "        text-align: right;\n",
              "    }\n",
              "</style>\n",
              "<table border=\"1\" class=\"dataframe\">\n",
              "  <thead>\n",
              "    <tr style=\"text-align: right;\">\n",
              "      <th></th>\n",
              "      <th>A</th>\n",
              "      <th>B</th>\n",
              "      <th>C</th>\n",
              "      <th>D</th>\n",
              "    </tr>\n",
              "  </thead>\n",
              "  <tbody>\n",
              "    <tr>\n",
              "      <th>count</th>\n",
              "      <td>6.000000</td>\n",
              "      <td>6.000000</td>\n",
              "      <td>6.000000</td>\n",
              "      <td>6.000000</td>\n",
              "    </tr>\n",
              "    <tr>\n",
              "      <th>mean</th>\n",
              "      <td>-0.762533</td>\n",
              "      <td>0.097635</td>\n",
              "      <td>-0.074449</td>\n",
              "      <td>-0.437216</td>\n",
              "    </tr>\n",
              "    <tr>\n",
              "      <th>std</th>\n",
              "      <td>0.896587</td>\n",
              "      <td>0.884341</td>\n",
              "      <td>0.942298</td>\n",
              "      <td>0.800862</td>\n",
              "    </tr>\n",
              "    <tr>\n",
              "      <th>min</th>\n",
              "      <td>-1.533255</td>\n",
              "      <td>-1.601579</td>\n",
              "      <td>-1.298888</td>\n",
              "      <td>-1.339727</td>\n",
              "    </tr>\n",
              "    <tr>\n",
              "      <th>25%</th>\n",
              "      <td>-1.374530</td>\n",
              "      <td>0.009908</td>\n",
              "      <td>-0.741213</td>\n",
              "      <td>-1.037859</td>\n",
              "    </tr>\n",
              "    <tr>\n",
              "      <th>50%</th>\n",
              "      <td>-1.177598</td>\n",
              "      <td>0.465685</td>\n",
              "      <td>-0.041333</td>\n",
              "      <td>-0.595778</td>\n",
              "    </tr>\n",
              "    <tr>\n",
              "      <th>75%</th>\n",
              "      <td>-0.171496</td>\n",
              "      <td>0.628609</td>\n",
              "      <td>0.532038</td>\n",
              "      <td>0.295705</td>\n",
              "    </tr>\n",
              "    <tr>\n",
              "      <th>max</th>\n",
              "      <td>0.589555</td>\n",
              "      <td>0.715119</td>\n",
              "      <td>1.186206</td>\n",
              "      <td>0.500341</td>\n",
              "    </tr>\n",
              "  </tbody>\n",
              "</table>\n",
              "</div>"
            ],
            "text/plain": [
              "              A         B         C         D\n",
              "count  6.000000  6.000000  6.000000  6.000000\n",
              "mean  -0.762533  0.097635 -0.074449 -0.437216\n",
              "std    0.896587  0.884341  0.942298  0.800862\n",
              "min   -1.533255 -1.601579 -1.298888 -1.339727\n",
              "25%   -1.374530  0.009908 -0.741213 -1.037859\n",
              "50%   -1.177598  0.465685 -0.041333 -0.595778\n",
              "75%   -0.171496  0.628609  0.532038  0.295705\n",
              "max    0.589555  0.715119  1.186206  0.500341"
            ]
          },
          "metadata": {
            "tags": []
          },
          "execution_count": 36
        }
      ]
    },
    {
      "cell_type": "code",
      "metadata": {
        "colab": {
          "base_uri": "https://localhost:8080/",
          "height": 235
        },
        "id": "4SNdR-JLONPH",
        "outputId": "b1fc3d21-19d9-4f14-fc9a-04b0998e0a98"
      },
      "source": [
        "df"
      ],
      "execution_count": 37,
      "outputs": [
        {
          "output_type": "execute_result",
          "data": {
            "text/html": [
              "<div>\n",
              "<style scoped>\n",
              "    .dataframe tbody tr th:only-of-type {\n",
              "        vertical-align: middle;\n",
              "    }\n",
              "\n",
              "    .dataframe tbody tr th {\n",
              "        vertical-align: top;\n",
              "    }\n",
              "\n",
              "    .dataframe thead th {\n",
              "        text-align: right;\n",
              "    }\n",
              "</style>\n",
              "<table border=\"1\" class=\"dataframe\">\n",
              "  <thead>\n",
              "    <tr style=\"text-align: right;\">\n",
              "      <th></th>\n",
              "      <th>A</th>\n",
              "      <th>B</th>\n",
              "      <th>C</th>\n",
              "      <th>D</th>\n",
              "    </tr>\n",
              "  </thead>\n",
              "  <tbody>\n",
              "    <tr>\n",
              "      <th>2021-05-07</th>\n",
              "      <td>-1.533255</td>\n",
              "      <td>0.388405</td>\n",
              "      <td>0.068276</td>\n",
              "      <td>-0.312922</td>\n",
              "    </tr>\n",
              "    <tr>\n",
              "      <th>2021-05-08</th>\n",
              "      <td>-1.106509</td>\n",
              "      <td>-1.601579</td>\n",
              "      <td>1.186206</td>\n",
              "      <td>-1.339727</td>\n",
              "    </tr>\n",
              "    <tr>\n",
              "      <th>2021-05-09</th>\n",
              "      <td>0.589555</td>\n",
              "      <td>0.657157</td>\n",
              "      <td>0.686625</td>\n",
              "      <td>-1.090934</td>\n",
              "    </tr>\n",
              "    <tr>\n",
              "      <th>2021-05-10</th>\n",
              "      <td>0.140175</td>\n",
              "      <td>-0.116257</td>\n",
              "      <td>-0.937970</td>\n",
              "      <td>0.500341</td>\n",
              "    </tr>\n",
              "    <tr>\n",
              "      <th>2021-05-11</th>\n",
              "      <td>-1.416478</td>\n",
              "      <td>0.542964</td>\n",
              "      <td>-0.150942</td>\n",
              "      <td>0.498580</td>\n",
              "    </tr>\n",
              "    <tr>\n",
              "      <th>2021-05-12</th>\n",
              "      <td>-1.248686</td>\n",
              "      <td>0.715119</td>\n",
              "      <td>-1.298888</td>\n",
              "      <td>-0.878634</td>\n",
              "    </tr>\n",
              "  </tbody>\n",
              "</table>\n",
              "</div>"
            ],
            "text/plain": [
              "                   A         B         C         D\n",
              "2021-05-07 -1.533255  0.388405  0.068276 -0.312922\n",
              "2021-05-08 -1.106509 -1.601579  1.186206 -1.339727\n",
              "2021-05-09  0.589555  0.657157  0.686625 -1.090934\n",
              "2021-05-10  0.140175 -0.116257 -0.937970  0.500341\n",
              "2021-05-11 -1.416478  0.542964 -0.150942  0.498580\n",
              "2021-05-12 -1.248686  0.715119 -1.298888 -0.878634"
            ]
          },
          "metadata": {
            "tags": []
          },
          "execution_count": 37
        }
      ]
    },
    {
      "cell_type": "code",
      "metadata": {
        "colab": {
          "base_uri": "https://localhost:8080/",
          "height": 173
        },
        "id": "tS2fGYKSO1WH",
        "outputId": "8d425d66-922f-464b-b238-0a2a283814c4"
      },
      "source": [
        "df.T"
      ],
      "execution_count": 38,
      "outputs": [
        {
          "output_type": "execute_result",
          "data": {
            "text/html": [
              "<div>\n",
              "<style scoped>\n",
              "    .dataframe tbody tr th:only-of-type {\n",
              "        vertical-align: middle;\n",
              "    }\n",
              "\n",
              "    .dataframe tbody tr th {\n",
              "        vertical-align: top;\n",
              "    }\n",
              "\n",
              "    .dataframe thead th {\n",
              "        text-align: right;\n",
              "    }\n",
              "</style>\n",
              "<table border=\"1\" class=\"dataframe\">\n",
              "  <thead>\n",
              "    <tr style=\"text-align: right;\">\n",
              "      <th></th>\n",
              "      <th>2021-05-07</th>\n",
              "      <th>2021-05-08</th>\n",
              "      <th>2021-05-09</th>\n",
              "      <th>2021-05-10</th>\n",
              "      <th>2021-05-11</th>\n",
              "      <th>2021-05-12</th>\n",
              "    </tr>\n",
              "  </thead>\n",
              "  <tbody>\n",
              "    <tr>\n",
              "      <th>A</th>\n",
              "      <td>-1.533255</td>\n",
              "      <td>-1.106509</td>\n",
              "      <td>0.589555</td>\n",
              "      <td>0.140175</td>\n",
              "      <td>-1.416478</td>\n",
              "      <td>-1.248686</td>\n",
              "    </tr>\n",
              "    <tr>\n",
              "      <th>B</th>\n",
              "      <td>0.388405</td>\n",
              "      <td>-1.601579</td>\n",
              "      <td>0.657157</td>\n",
              "      <td>-0.116257</td>\n",
              "      <td>0.542964</td>\n",
              "      <td>0.715119</td>\n",
              "    </tr>\n",
              "    <tr>\n",
              "      <th>C</th>\n",
              "      <td>0.068276</td>\n",
              "      <td>1.186206</td>\n",
              "      <td>0.686625</td>\n",
              "      <td>-0.937970</td>\n",
              "      <td>-0.150942</td>\n",
              "      <td>-1.298888</td>\n",
              "    </tr>\n",
              "    <tr>\n",
              "      <th>D</th>\n",
              "      <td>-0.312922</td>\n",
              "      <td>-1.339727</td>\n",
              "      <td>-1.090934</td>\n",
              "      <td>0.500341</td>\n",
              "      <td>0.498580</td>\n",
              "      <td>-0.878634</td>\n",
              "    </tr>\n",
              "  </tbody>\n",
              "</table>\n",
              "</div>"
            ],
            "text/plain": [
              "   2021-05-07  2021-05-08  2021-05-09  2021-05-10  2021-05-11  2021-05-12\n",
              "A   -1.533255   -1.106509    0.589555    0.140175   -1.416478   -1.248686\n",
              "B    0.388405   -1.601579    0.657157   -0.116257    0.542964    0.715119\n",
              "C    0.068276    1.186206    0.686625   -0.937970   -0.150942   -1.298888\n",
              "D   -0.312922   -1.339727   -1.090934    0.500341    0.498580   -0.878634"
            ]
          },
          "metadata": {
            "tags": []
          },
          "execution_count": 38
        }
      ]
    },
    {
      "cell_type": "code",
      "metadata": {
        "id": "9_G1VbQXO4x3"
      },
      "source": [
        ""
      ],
      "execution_count": null,
      "outputs": []
    }
  ]
}