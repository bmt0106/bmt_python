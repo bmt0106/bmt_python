{
  "nbformat": 4,
  "nbformat_minor": 0,
  "metadata": {
    "colab": {
      "name": "기초_2_python_basic_bsm.ipynb",
      "provenance": [],
      "collapsed_sections": [
        "Uh6H33JvqxQn",
        "NQV_PMXM6hs7"
      ],
      "toc_visible": true,
      "include_colab_link": true
    },
    "kernelspec": {
      "name": "python3",
      "display_name": "Python 3"
    }
  },
  "cells": [
    {
      "cell_type": "markdown",
      "metadata": {
        "id": "view-in-github",
        "colab_type": "text"
      },
      "source": [
        "<a href=\"https://colab.research.google.com/github/bmt0106/bmt_python/blob/main/suhang/%EA%B8%B0%EC%B4%88_2_python_basic_bsm.ipynb\" target=\"_parent\"><img src=\"https://colab.research.google.com/assets/colab-badge.svg\" alt=\"Open In Colab\"/></a>"
      ]
    },
    {
      "cell_type": "markdown",
      "metadata": {
        "id": "wq1o6NKgqZkV"
      },
      "source": [
        "# 01장. 표준입출력, 문자열 연산, 컬렉션 자료형(리스트, 튜플, 딕션너리)"
      ]
    },
    {
      "cell_type": "markdown",
      "metadata": {
        "id": "5ZKg49_cqo1Y"
      },
      "source": [
        "## 1. 표준입출력"
      ]
    },
    {
      "cell_type": "markdown",
      "metadata": {
        "id": "Uh6H33JvqxQn"
      },
      "source": [
        "### 1) 표준출력 : print()함수"
      ]
    },
    {
      "cell_type": "code",
      "metadata": {
        "id": "ZGJN-uJlqPzw",
        "colab": {
          "base_uri": "https://localhost:8080/"
        },
        "outputId": "49bab946-d7f4-45b9-f95e-4797c1fd56e7"
      },
      "source": [
        "# 표준출력1 - 기본적으로 개행('\\n')\n",
        "\n",
        "print('Hello World')\n",
        "print('Busan')\n",
        "print('Mechanical')\n",
        "print('High School')"
      ],
      "execution_count": null,
      "outputs": [
        {
          "output_type": "stream",
          "text": [
            "Hello World\n",
            "Busan\n",
            "Mechanical\n",
            "High School\n"
          ],
          "name": "stdout"
        }
      ]
    },
    {
      "cell_type": "code",
      "metadata": {
        "id": "-pD_8AD9rSEO",
        "colab": {
          "base_uri": "https://localhost:8080/"
        },
        "outputId": "f918a061-6035-4f8d-8556-f54006c9bc9c"
      },
      "source": [
        "# 표준출력2 - end 속성\n",
        "\n",
        "print('Hello', end = ' ') # end 속성\n",
        "print('World')"
      ],
      "execution_count": null,
      "outputs": [
        {
          "output_type": "stream",
          "text": [
            "Hello World\n"
          ],
          "name": "stdout"
        }
      ]
    },
    {
      "cell_type": "code",
      "metadata": {
        "id": "SVVeS3ZV25Fp",
        "colab": {
          "base_uri": "https://localhost:8080/"
        },
        "outputId": "4ae20479-bcf3-41c2-fae2-d62a5e9c59e6"
      },
      "source": [
        "# 표준출력3 - 문자열 연산\n",
        "\n",
        "print('Hello', 'World')   # 각 문자열 한칸 띄우기\n",
        "print('Hello' + 'World')  # 문자열 합치기"
      ],
      "execution_count": null,
      "outputs": [
        {
          "output_type": "stream",
          "text": [
            "Hello World\n",
            "HelloWorld\n"
          ],
          "name": "stdout"
        }
      ]
    },
    {
      "cell_type": "code",
      "metadata": {
        "id": "ZHSy2EGN3Hoy",
        "colab": {
          "base_uri": "https://localhost:8080/"
        },
        "outputId": "c26410ef-6c8b-4810-a0e9-f50dca023787"
      },
      "source": [
        "# 이스케이프 시퀀스(Escape Sequence)\n",
        "# \\와 특정문자를 결합하여 문자를 표시해주는 문자\n",
        "\n",
        "print('Hello\\'') # \\' : 작은 따옴표 표시\n",
        "print('Hello\\\"') # \\\" : 큰 따옴표 표시\n",
        "print('Hello\\nWorld') # \\n : 개행(엔터)"
      ],
      "execution_count": null,
      "outputs": [
        {
          "output_type": "stream",
          "text": [
            "Hello'\n",
            "Hello\"\n",
            "Hello\n",
            "World\n"
          ],
          "name": "stdout"
        }
      ]
    },
    {
      "cell_type": "code",
      "metadata": {
        "id": "Gi_gq7Dm3hY6"
      },
      "source": [
        ""
      ],
      "execution_count": null,
      "outputs": []
    },
    {
      "cell_type": "markdown",
      "metadata": {
        "id": "kFvmYbzf4AnA"
      },
      "source": [
        "### 2) 표준입력 : input()함수"
      ]
    },
    {
      "cell_type": "code",
      "metadata": {
        "id": "sFb888Mg4HHa",
        "colab": {
          "base_uri": "https://localhost:8080/"
        },
        "outputId": "2b0f3dda-96d0-4a1b-f02f-43cb7b1b6e6c"
      },
      "source": [
        "# 표준입력\n",
        "z\n",
        "x = input() # 키보드를 통한 문자열 입력하고 그 값을 x 변수에 저장\n",
        "print(x) # 입력된 x 변수값 출력"
      ],
      "execution_count": null,
      "outputs": [
        {
          "output_type": "stream",
          "text": [
            "안녕하세요.\n",
            "안녕하세요.\n"
          ],
          "name": "stdout"
        }
      ]
    },
    {
      "cell_type": "code",
      "metadata": {
        "id": "Eo3uJh6f4aY-",
        "colab": {
          "base_uri": "https://localhost:8080/"
        },
        "outputId": "96f4aa37-c263-49ec-f38f-5bb2736fca72"
      },
      "source": [
        "# 두 값을 입력받아 더한 결과를 출력하기\n",
        "\n",
        "x = input('x 입력 : ')\n",
        "y = input('y 입력 : ')\n",
        "\n",
        "print(x, '+', y, '=', x+y)\n",
        "# 잘못된 출력 => 이유 입력되는 숫자도 문자열임. "
      ],
      "execution_count": null,
      "outputs": [
        {
          "output_type": "stream",
          "text": [
            "x 입력 : 1\n",
            "y 입력 : 2\n",
            "1 + 2 = 12\n"
          ],
          "name": "stdout"
        }
      ]
    },
    {
      "cell_type": "code",
      "metadata": {
        "id": "4CKfnpvJ4ukZ",
        "colab": {
          "base_uri": "https://localhost:8080/"
        },
        "outputId": "ff8b078d-1154-45df-d4f5-cd44aefc88b9"
      },
      "source": [
        "# 두 값을 입력받아 더한 결과를 출력하기 - 해결\n",
        "\n",
        "x = input('x 입력 : ')\n",
        "y = input('y 입력 : ')\n",
        "\n",
        "print(x, '+', y, '=', int(x)+int(y))"
      ],
      "execution_count": null,
      "outputs": [
        {
          "output_type": "stream",
          "text": [
            "x 입력 : 1\n",
            "y 입력 : 2\n",
            "1 + 2 = 3\n"
          ],
          "name": "stdout"
        }
      ]
    },
    {
      "cell_type": "code",
      "metadata": {
        "id": "NVk1oYqe5Jlq",
        "colab": {
          "base_uri": "https://localhost:8080/"
        },
        "outputId": "98e4a6a1-fa61-40a0-e970-18d52bf17107"
      },
      "source": [
        "# f 스트링 출력\n",
        "\n",
        "x = input('x 입력 : ')\n",
        "y = input('y 입력 : ')\n",
        "\n",
        "print(f'{x} + {y} = {int(x)+int(y)}')"
      ],
      "execution_count": null,
      "outputs": [
        {
          "output_type": "stream",
          "text": [
            "x 입력 : 1\n",
            "y 입력 : 2\n",
            "1 + 2 = 3\n"
          ],
          "name": "stdout"
        }
      ]
    },
    {
      "cell_type": "code",
      "metadata": {
        "id": "eOH83mF45ifb",
        "colab": {
          "base_uri": "https://localhost:8080/"
        },
        "outputId": "e345f423-75ad-4191-c22b-1f9b6c946671"
      },
      "source": [
        "# 정수 및 실수 입력\n",
        "# 정수 : int(input('메시지'))\n",
        "# 실수 : float(input('메시지'))\n",
        "# 형변환 : 정수형 int(), 실수형 float() 함수 사용\n",
        "\n",
        "x = int(input('x 입력 : '))\n",
        "y = float(input('y 입력 : '))\n",
        "\n",
        "print(f'{x} + {y} = {x+y}')"
      ],
      "execution_count": null,
      "outputs": [
        {
          "output_type": "stream",
          "text": [
            "x 입력 : 1\n",
            "y 입력 : 1.2\n",
            "1 + 1.2 = 2.2\n"
          ],
          "name": "stdout"
        }
      ]
    },
    {
      "cell_type": "code",
      "metadata": {
        "id": "iJo8lFOK6Pe8",
        "colab": {
          "base_uri": "https://localhost:8080/"
        },
        "outputId": "4a5ba2ff-baae-4409-fbcf-5a629d6f7a03"
      },
      "source": [
        "# 두 정수를 입력 받아서 사칙연산을 수행하는 프로그램\n",
        "\n",
        "# 입력부\n",
        "x = int(input('첫 번째 정수 입력 : '))\n",
        "y = int(input('두 번째 정수 입력 : '))\n",
        "\n",
        "# 제어부(연산작업) + 출력부\n",
        "print(x, '+', y, '=', (x + y))\n",
        "print(x, '-', y, '=', (x - y))\n",
        "print(x, 'x', y, '=', (x * y))\n",
        "print(x, '/', y, '=', (x / y))"
      ],
      "execution_count": null,
      "outputs": [
        {
          "output_type": "stream",
          "text": [
            "첫 번째 정수 입력 : 2\n",
            "두 번째 정수 입력 : 3\n",
            "2 + 3 = 5\n",
            "2 - 3 = -1\n",
            "2 x 3 = 6\n",
            "2 / 3 = 0.6666666666666666\n"
          ],
          "name": "stdout"
        }
      ]
    },
    {
      "cell_type": "code",
      "metadata": {
        "id": "tjb6mnQC67La",
        "colab": {
          "base_uri": "https://localhost:8080/"
        },
        "outputId": "3b8c73be-08d6-4511-f931-408ba672e0d9"
      },
      "source": [
        "# 나눈 몫과 나머지 연산을 수행하는 프로그램\n",
        "\n",
        "# 입력부\n",
        "x = int(input('첫 번째 정수 입력 : '))\n",
        "y = int(input('두 번째 정수 입력 : '))\n",
        "\n",
        "# 제어부(연산작업) + 출력부\n",
        "print(x, '+', y, '=', (x + y))\n",
        "print(x, '-', y, '=', (x - y))\n",
        "print(x, 'x', y, '=', (x * y))\n",
        "print(x, '/', y, '=', (x / y))\n",
        "print(x, '//', y, '=', (x // y)) # 몫\n",
        "print(x, '%', y, '=', (x % y)) # 나머지\n",
        "\n",
        "# 구분선\n",
        "print('*'*50)\n",
        "print(f'{x} + {y} = {x+y}')\n",
        "\n",
        "# f 스트링 사용한 출력부\n",
        "print(f'{x} + {y} = {x + y}')\n",
        "print(f'{x} - {y} = {x - y}')\n",
        "print(f'{x} x {y} = {x * y}')\n",
        "print(f'{x} / {y} = {x / y}')\n",
        "print(f'{x} // {y} (나눈 몫) = {x // y}')\n",
        "print(f'{x} % {y} (나눈 나머지) = {x % y}')"
      ],
      "execution_count": null,
      "outputs": [
        {
          "output_type": "stream",
          "text": [
            "첫 번째 정수 입력 : 2\n",
            "두 번째 정수 입력 : 3\n",
            "2 + 3 = 5\n",
            "2 - 3 = -1\n",
            "2 x 3 = 6\n",
            "2 / 3 = 0.6666666666666666\n",
            "2 // 3 = 0\n",
            "2 % 3 = 2\n",
            "**************************************************\n",
            "2 + 3 = 5\n",
            "2 - 3 = -1\n",
            "2 x 3 = 6\n",
            "2 / 3 = 0.6666666666666666\n",
            "2 // 3 (나눈 몫) = 0\n",
            "2 % 3 (나눈 나머지) = 2\n"
          ],
          "name": "stdout"
        }
      ]
    },
    {
      "cell_type": "markdown",
      "metadata": {
        "id": "3lqOF1wE8XGW"
      },
      "source": [
        "### 3) 해결문제"
      ]
    },
    {
      "cell_type": "code",
      "metadata": {
        "id": "kYxdyYpb78FT",
        "colab": {
          "base_uri": "https://localhost:8080/"
        },
        "outputId": "6ba03f1d-9edf-4efc-85c0-0f94a9811d99"
      },
      "source": [
        "# BMI(Body Mass Index) 지수 구하기\n",
        "\n",
        "# 입력부\n",
        "weight = int(input('weight(kg) : '))\n",
        "height = int(input('height(cm) : '))\n",
        "\n",
        "# 제어부\n",
        "BMI = weight / ( height/100)**2\n",
        "\n",
        "# 출력부\n",
        "print(f'BMI : {BMI:.2f}')"
      ],
      "execution_count": null,
      "outputs": [
        {
          "output_type": "stream",
          "text": [
            "weight(kg) : 80\n",
            "height(cm) : 174\n",
            "BMI : 26.42\n"
          ],
          "name": "stdout"
        }
      ]
    },
    {
      "cell_type": "code",
      "metadata": {
        "id": "NJsnTSf89hV7",
        "colab": {
          "base_uri": "https://localhost:8080/"
        },
        "outputId": "7eebe8af-feca-4c8c-d8e7-ea934306fe5a"
      },
      "source": [
        "# 환율 계산기\n",
        "\n",
        "# 입력부( 1000\\ = 0.84$, 1$ = 1187\\ )\n",
        "print('ExchangeRate Calc : $ - \\ ')\n",
        "ExchangeRate = float(input(' 1$ ExchangeRate : '))\n",
        "KRW = int(input('KRW : '))\n",
        "\n",
        "# 제어부 : 환율계산 => 0.84$ / 1000\\\n",
        "USD = ExchangeRate / 1000 * KRW\n",
        "\n",
        "# 출력부\n",
        "print(f'USD : {USD:.1f} $')"
      ],
      "execution_count": null,
      "outputs": [
        {
          "output_type": "stream",
          "text": [
            "ExchangeRate Calc : $ - \\ \n",
            " 1$ ExchangeRate : 0.84\n",
            "KRW : 100000\n",
            "USD : 84.0 $\n"
          ],
          "name": "stdout"
        }
      ]
    },
    {
      "cell_type": "code",
      "metadata": {
        "id": "W0u58aFnP7Ba",
        "colab": {
          "base_uri": "https://localhost:8080/"
        },
        "outputId": "f2827bbb-c364-4dc9-d06d-ca057b1ff005"
      },
      "source": [
        "# 섭씨(Celsius) <=> 화씨(Fahrenheit) 변환\n",
        "# F = C * 1.8 + 32 / C = (F-32) / 1.8\n",
        "\n",
        "# 입력부\n",
        "celsius = float(input('Celsius : '))\n",
        "\n",
        "# 제어부 : 변환\n",
        "fahrenheit = (celsius * 1.8) + 32\n",
        "\n",
        "# 출력부\n",
        "print(f'Fahrenheit : {fahrenheit}')"
      ],
      "execution_count": null,
      "outputs": [
        {
          "output_type": "stream",
          "text": [
            "Celsius : 0\n",
            "Fahrenheit : 32.0\n"
          ],
          "name": "stdout"
        }
      ]
    },
    {
      "cell_type": "markdown",
      "metadata": {
        "id": "4e5JG9PfSN45"
      },
      "source": [
        "## 2. 문자열 연산"
      ]
    },
    {
      "cell_type": "markdown",
      "metadata": {
        "id": "oBdrNT-USZx6"
      },
      "source": [
        "- len() : 문자열 길이 구하기\n",
        "- count() : 문자의 개수 구하기\n",
        "- find() : 문자가 처음 나오는 위치 반환, 없으면 -1\n",
        "- index() : 문자열이 처음 나오는 위치 반환, 없으면 오류\n",
        "- join() : 문자열 사이에 문자 삽입, 예:'삽입문자'.join(문자열)\n",
        "- upper() : 소문자를 대문자로 변환\n",
        "- lower() : 대문자를 소문자로 변환\n",
        "- replace() : 문자열 바꾸기, 예:replace(원본, 변환 문자)\n",
        "- split() : 문자열 나누기 - 인수가 없으면 공백(스페이스, 탭, 엔터 등 구분자)을 기준"
      ]
    },
    {
      "cell_type": "code",
      "metadata": {
        "id": "BK_WEyHuUHHL",
        "colab": {
          "base_uri": "https://localhost:8080/"
        },
        "outputId": "1fe0c1cf-a886-46bb-9a3c-fc681e8c1657"
      },
      "source": [
        "# len() : 문자열 길이\n",
        "\n",
        "x = 'Hello Python'\n",
        "\n",
        "len(x)\n",
        "print(f'len(x) : {len(x)}')"
      ],
      "execution_count": null,
      "outputs": [
        {
          "output_type": "stream",
          "text": [
            "len(x) : 12\n"
          ],
          "name": "stdout"
        }
      ]
    },
    {
      "cell_type": "code",
      "metadata": {
        "id": "jDBSwjlcUXOY",
        "colab": {
          "base_uri": "https://localhost:8080/"
        },
        "outputId": "cb6636a6-9c3d-4788-c47a-f37e273123e3"
      },
      "source": [
        "# count() : 문자 갯수\n",
        "\n",
        "x = 'Hello Python'\n",
        "\n",
        "x.count('o')\n",
        "print(f\"x.count('o') : {x.count('o')}\") # 안쪽에 작은 따옴표가 있기에 바깥쪽에는 큰 따옴표가 있어야 함."
      ],
      "execution_count": null,
      "outputs": [
        {
          "output_type": "stream",
          "text": [
            "x.count('o') : 2\n"
          ],
          "name": "stdout"
        }
      ]
    },
    {
      "cell_type": "code",
      "metadata": {
        "id": "cj8sHSMzUtxB",
        "colab": {
          "base_uri": "https://localhost:8080/"
        },
        "outputId": "9f1cc01e-14e4-4f24-c5e5-28d527b15a91"
      },
      "source": [
        "# find() : 문자 첫 위치 반환\n",
        "\n",
        "x = 'Hello Python'\n",
        "\n",
        "x.find(\"H\")\n",
        "print(f'x.find(\"H\") : {x.find(\"H\")}')"
      ],
      "execution_count": null,
      "outputs": [
        {
          "output_type": "stream",
          "text": [
            "x.find(\"H\") : 0\n"
          ],
          "name": "stdout"
        }
      ]
    },
    {
      "cell_type": "code",
      "metadata": {
        "id": "DcF23g5FVaff",
        "colab": {
          "base_uri": "https://localhost:8080/"
        },
        "outputId": "4d6b7503-eca5-434b-8c94-b92ff26e8874"
      },
      "source": [
        "# index() : 문자열의 첫 위치 반환\n",
        "\n",
        "x = 'Hello Python'\n",
        "\n",
        "x.index(\"Python\")\n",
        "print(f'x.index(\"Python\") : {x.index(\"Python\")}')"
      ],
      "execution_count": null,
      "outputs": [
        {
          "output_type": "stream",
          "text": [
            "x.index(\"Python\") : 6\n"
          ],
          "name": "stdout"
        }
      ]
    },
    {
      "cell_type": "code",
      "metadata": {
        "id": "KqEayrWnVvyJ",
        "colab": {
          "base_uri": "https://localhost:8080/"
        },
        "outputId": "f40cfaee-a962-48e8-d943-bfab0fb354e5"
      },
      "source": [
        "# join() : 문자열 사이 문자 삽입\n",
        "\n",
        "x = 'Hello Python'\n",
        "\n",
        "z = '-'.join(x)\n",
        "print(z)"
      ],
      "execution_count": null,
      "outputs": [
        {
          "output_type": "stream",
          "text": [
            "H-e-l-l-o- -P-y-t-h-o-n\n"
          ],
          "name": "stdout"
        }
      ]
    },
    {
      "cell_type": "code",
      "metadata": {
        "id": "_-U3u1PXV8mC",
        "colab": {
          "base_uri": "https://localhost:8080/"
        },
        "outputId": "30675cc8-4ea4-4fde-a123-ae75f600cc70"
      },
      "source": [
        "# upper() : 소문자를 대문자로\n",
        "\n",
        "x = 'Hello Python'\n",
        "\n",
        "x.upper()\n",
        "print(f'x.upper() : {x.upper()}')"
      ],
      "execution_count": null,
      "outputs": [
        {
          "output_type": "stream",
          "text": [
            "x.upper() : HELLO PYTHON\n"
          ],
          "name": "stdout"
        }
      ]
    },
    {
      "cell_type": "code",
      "metadata": {
        "id": "U8YZ6zHaWNnB",
        "colab": {
          "base_uri": "https://localhost:8080/"
        },
        "outputId": "ffa57b2e-91e4-4605-90fb-7ad3218633ae"
      },
      "source": [
        "# lower() : 대문자를 소문자로\n",
        "\n",
        "x = 'Hello Python'\n",
        "\n",
        "x.lower()\n",
        "print(f'x.lower() : {x.lower()}')"
      ],
      "execution_count": null,
      "outputs": [
        {
          "output_type": "stream",
          "text": [
            "x.lower() : hello python\n"
          ],
          "name": "stdout"
        }
      ]
    },
    {
      "cell_type": "code",
      "metadata": {
        "id": "AaB_HeevWXtR",
        "colab": {
          "base_uri": "https://localhost:8080/"
        },
        "outputId": "c6e2b89b-4811-4f12-b320-abea8cb6dd41"
      },
      "source": [
        "# replace() : 문자열 바꾸기\n",
        "\n",
        "x = 'Hello Python'\n",
        "\n",
        "x.replace(\"P\", \"★\")\n",
        "print(f'x.replace(\"P\", \"★\") : {x.replace(\"P\", \"★\")}')"
      ],
      "execution_count": null,
      "outputs": [
        {
          "output_type": "stream",
          "text": [
            "x.replace(\"P\", \"★\") : Hello ★ython\n"
          ],
          "name": "stdout"
        }
      ]
    },
    {
      "cell_type": "code",
      "metadata": {
        "id": "xmvMjiO1Wz4p",
        "colab": {
          "base_uri": "https://localhost:8080/"
        },
        "outputId": "9f7cd0fd-9fb0-406f-a279-7e54a4dc1c5d"
      },
      "source": [
        "# split() : 문자열 나누기\n",
        "\n",
        "x = 'Hello Python'\n",
        "\n",
        "y = '-'.join(x)\n",
        "print(y)\n",
        "\n",
        "y.split(\"-\")\n",
        "print(f'y.split(\"-\") : {y.split(\"-\")}')"
      ],
      "execution_count": null,
      "outputs": [
        {
          "output_type": "stream",
          "text": [
            "H-e-l-l-o- -P-y-t-h-o-n\n",
            "y.split(\"-\") : ['H', 'e', 'l', 'l', 'o', ' ', 'P', 'y', 't', 'h', 'o', 'n']\n"
          ],
          "name": "stdout"
        }
      ]
    },
    {
      "cell_type": "markdown",
      "metadata": {
        "id": "WGBQIaIDXjHN"
      },
      "source": [
        "### 1) 해결문제\n",
        "- 몇 개의 문장으로 구성되어 있는지 출력하시요.\n",
        "- 찾고자 하는 단어를 입력 받아서 해당 단어가 몇 번 언급되었는지 확인하시요."
      ]
    },
    {
      "cell_type": "code",
      "metadata": {
        "id": "4_0wRYJOXHox",
        "colab": {
          "base_uri": "https://localhost:8080/"
        },
        "outputId": "102bc1f5-74e7-4518-83ba-fd150ea85411"
      },
      "source": [
        "# 코로나 어원\n",
        "\n",
        "corona = '''\n",
        "코로나(corona)는 라틴말로 왕관을 뜻하며 통상 태양을 둘러싼 외곽의 빛(광환)을 지칭한다.\n",
        "코로나 바이러스라는 이름은 전자현미경으로 이 바이러스를 관찰했을 때 마치 코로나와 유사한 모양을 띠어 붙여진 이름이다.\n",
        "이번에 중국의 우환에서 시작된 코로나 바이러스는 2019년에 발견된 새로운 코로나 바이러스라는 뜻으로 2019-nCov로 붙여졌다.\n",
        "nCov는 novel(새로운) Cov(코로나 바이러스)라는 뜻이다.\n",
        "'''\n",
        "print('-'*50)\n",
        "sentence = corona.count('.')\n",
        "print(f'{sentence} 개의 문장으로 이루어짐')\n",
        "print(corona.replace('\\n','').split('.'))\n",
        "\n",
        "print()\n",
        "\n",
        "print('-'*50)\n",
        "str = input('찾으려는 단어를 입력하시요 : ')\n",
        "cnt = corona.count(str)\n",
        "print(f\"'{str}'(은/는) {cnt} 번 언급됨\")"
      ],
      "execution_count": null,
      "outputs": [
        {
          "output_type": "stream",
          "text": [
            "--------------------------------------------------\n",
            "4 개의 문장으로 이루어짐\n",
            "['코로나(corona)는 라틴말로 왕관을 뜻하며 통상 태양을 둘러싼 외곽의 빛(광환)을 지칭한다', '코로나 바이러스라는 이름은 전자현미경으로 이 바이러스를 관찰했을 때 마치 코로나와 유사한 모양을 띠어 붙여진 이름이다', '이번에 중국의 우환에서 시작된 코로나 바이러스는 2019년에 발견된 새로운 코로나 바이러스라는 뜻으로 2019-nCov로 붙여졌다', 'nCov는 novel(새로운) Cov(코로나 바이러스)라는 뜻이다', '']\n",
            "\n",
            "--------------------------------------------------\n",
            "찾으려는 단어를 입력하시요 : 코로나\n",
            "'코로나'(은/는) 6 번 언급됨\n"
          ],
          "name": "stdout"
        }
      ]
    },
    {
      "cell_type": "code",
      "metadata": {
        "id": "zKy8NcgMZ8T6",
        "colab": {
          "base_uri": "https://localhost:8080/"
        },
        "outputId": "1361ff3b-9b36-4cd6-d091-e937e789b69f"
      },
      "source": [
        "# 지코의 아무노래 가사\n",
        "\n",
        "anysong = '''\n",
        "왜들 그리 다운돼있어? 뭐가 문제야 say something\n",
        "분위기가 겁나 싸해 요새는 이런 게 유행인가\n",
        "왜들 그리 재미없어? 아 그건 나도 마찬가지\n",
        "Tell me what I got to do 급한 대로 블루투스 켜\n",
        "아무 노래나 일단 틀어 아무거나 신나는 걸로\n",
        "아무렇게나 춤춰 아무렇지 않아 보이게\n",
        "아무 생각 하기 싫어 아무개로 살래 잠시\n",
        "I'm sick and tired of my every day, keep it up 한 곡 더\n",
        "아무 노래나 일단 틀어 아무렴 어때 it's so boring\n",
        "아무래도 refresh가 시급한 듯해 쌓여가 스트레스가\n",
        "배꼽 빠질 만큼만 폭소하고 싶은 날이야\n",
        "What up my dawgs? 어디야 너희 올 때 병맥주랑 까까 몇 개 사 와 uh\n",
        "클럽은 구미가 잘 안 당겨 우리 집 거실로 빨랑 모여\n",
        "외부인은 요령껏 차단 시켜 밤새 수다 떨 시간도 모자라\n",
        "누군 힘들어 죽겠고 누군 축제 괜히 싱숭생숭 I want my youth back\n",
        "좀 전까지 왁자지껄 하다 한 명 두 명씩 자릴 떠\n",
        "왜들 그리 다운돼있어? 뭐가 문제야 say something\n",
        "분위기가 겁나 싸해 요새는 이런 게 유행인가\n",
        "왜들 그리 재미없어? 아 그건 나도 마찬가지\n",
        "Tell me what I got to do 급한 대로 블루투스 켜\n",
        "아무 노래나 일단 틀어 아무거나 신나는 걸로\n",
        "아무렇게나 춤춰 아무렇지 않아 보이게\n",
        "아무 생각 하기 싫어 아무개로 살래 잠시\n",
        "I'm sick and tired of my every day, keep it up 한 곡 더\n",
        "떠나질 못할 바엔\n",
        "창밖은 쳐다도 안 봐\n",
        "회까닥해서 추태를 부려도\n",
        "No worries at all 이미지 왜 챙겨 그래 봤자 우리끼린데\n",
        "Ooh 늦기 전에 막판 스퍼트 20대가 얼마 안 남았어\n",
        "편한 옷으로 갈아입어 you look nice, get 'em high\n",
        "얼핏 보면 그냥 코미디 이렇게 무해한 파티 처음이지?\n",
        "만감이 교차하는 새벽 2시경 술잔과 감정이 소용돌이쳐\n",
        "왜들 그리 다운돼있어? 뭐가 문제야 say something\n",
        "분위기가 겁나 싸해 요새는 이런 게 유행인가\n",
        "왜들 그리 재미없어? 아 그건 나도 마찬가지\n",
        "Tell me what I got to do 급한 대로 블루투스 켜\n",
        "아무 노래나 일단 틀어 아무거나 신나는 걸로\n",
        "아무렇게나 춤춰 아무렇지 않아 보이게\n",
        "아무 생각 하기 싫어 아무개로 살래 잠시\n",
        "I'm sick and tired of my every day, keep it up 한 곡 더\n",
        "아무 노래나 일단\n",
        "La-la-la, la-la-la, la-la-la-la\n",
        "La-la-la, la-la-la, la-la-la-la (You ain't gonna get a day like this)\n",
        "아무 노래 아무 노래 아무 노래나 틀어봐\n",
        "아무 노래 아무 노래 아무 노래나 틀어봐 (Yeah)\n",
        "아무 노래 (ooh) 아무 노래 아무 노래나 틀어봐\n",
        "아무 노래 아무 노래 아무 노래나 KOZ\n",
        "'''\n",
        "\n",
        "song = anysong.count('\\n')\n",
        "print(f'{song-1} 개의 문장으로 이루어짐')\n",
        "\n",
        "print(anysong.replace('\\n', ', ').split('\\n'))\n",
        "print('-'*50)\n",
        "\n",
        "str = input('찾으려는 단어를 입력하세요 : ')\n",
        "cnt = anysong.count(str)\n",
        "print(f\"'{str}'(은/는) {cnt} 번 언급됨.\")"
      ],
      "execution_count": null,
      "outputs": [
        {
          "output_type": "stream",
          "text": [
            "47 개의 문장으로 이루어짐\n",
            "[\", 왜들 그리 다운돼있어? 뭐가 문제야 say something, 분위기가 겁나 싸해 요새는 이런 게 유행인가, 왜들 그리 재미없어? 아 그건 나도 마찬가지, Tell me what I got to do 급한 대로 블루투스 켜, 아무 노래나 일단 틀어 아무거나 신나는 걸로, 아무렇게나 춤춰 아무렇지 않아 보이게, 아무 생각 하기 싫어 아무개로 살래 잠시, I'm sick and tired of my every day, keep it up 한 곡 더, 아무 노래나 일단 틀어 아무렴 어때 it's so boring, 아무래도 refresh가 시급한 듯해 쌓여가 스트레스가, 배꼽 빠질 만큼만 폭소하고 싶은 날이야, What up my dawgs? 어디야 너희 올 때 병맥주랑 까까 몇 개 사 와 uh, 클럽은 구미가 잘 안 당겨 우리 집 거실로 빨랑 모여, 외부인은 요령껏 차단 시켜 밤새 수다 떨 시간도 모자라, 누군 힘들어 죽겠고 누군 축제 괜히 싱숭생숭 I want my youth back, 좀 전까지 왁자지껄 하다 한 명 두 명씩 자릴 떠, 왜들 그리 다운돼있어? 뭐가 문제야 say something, 분위기가 겁나 싸해 요새는 이런 게 유행인가, 왜들 그리 재미없어? 아 그건 나도 마찬가지, Tell me what I got to do 급한 대로 블루투스 켜, 아무 노래나 일단 틀어 아무거나 신나는 걸로, 아무렇게나 춤춰 아무렇지 않아 보이게, 아무 생각 하기 싫어 아무개로 살래 잠시, I'm sick and tired of my every day, keep it up 한 곡 더, 떠나질 못할 바엔, 창밖은 쳐다도 안 봐, 회까닥해서 추태를 부려도, No worries at all 이미지 왜 챙겨 그래 봤자 우리끼린데, Ooh 늦기 전에 막판 스퍼트 20대가 얼마 안 남았어, 편한 옷으로 갈아입어 you look nice, get 'em high, 얼핏 보면 그냥 코미디 이렇게 무해한 파티 처음이지?, 만감이 교차하는 새벽 2시경 술잔과 감정이 소용돌이쳐, 왜들 그리 다운돼있어? 뭐가 문제야 say something, 분위기가 겁나 싸해 요새는 이런 게 유행인가, 왜들 그리 재미없어? 아 그건 나도 마찬가지, Tell me what I got to do 급한 대로 블루투스 켜, 아무 노래나 일단 틀어 아무거나 신나는 걸로, 아무렇게나 춤춰 아무렇지 않아 보이게, 아무 생각 하기 싫어 아무개로 살래 잠시, I'm sick and tired of my every day, keep it up 한 곡 더, 아무 노래나 일단, La-la-la, la-la-la, la-la-la-la, La-la-la, la-la-la, la-la-la-la (You ain't gonna get a day like this), 아무 노래 아무 노래 아무 노래나 틀어봐, 아무 노래 아무 노래 아무 노래나 틀어봐 (Yeah), 아무 노래 (ooh) 아무 노래 아무 노래나 틀어봐, 아무 노래 아무 노래 아무 노래나 KOZ, \"]\n",
            "--------------------------------------------------\n",
            "찾으려는 단어를 입력하세요 : 아무 노래\n",
            "'아무 노래'(은/는) 17 번 언급됨.\n"
          ],
          "name": "stdout"
        }
      ]
    },
    {
      "cell_type": "markdown",
      "metadata": {
        "id": "MskW0i-KcRt8"
      },
      "source": [
        "## 3. 컬렉션 자료형\n",
        "- 리스트, 튜플, 딕션너리, 집합\n",
        "- 여러 요소를 묶어서 처리할 수 있는 자료형\n",
        "- 각 요소에 접근하는 방법이 제공"
      ]
    },
    {
      "cell_type": "markdown",
      "metadata": {
        "id": "XwG9bzkFcWi8"
      },
      "source": [
        "### 1) 리스트"
      ]
    },
    {
      "cell_type": "markdown",
      "metadata": {
        "id": "Bg1qRh4ec5bb"
      },
      "source": [
        "- 리스트 생성 : [] 또는 리스트 함수 이용\n",
        "- 인덱싱\n",
        "    - 요소의 선택은 0부터 시작되는 인덱스로 접근\n",
        "    - 리스트명[인덱스]\n",
        "- 슬라이싱\n",
        "    - 요소의 일부분 선택\n",
        "    - 리스트명[시작인덱스:종료인덱스] \n",
        "    - 종료 인덱스는 포함되지 않음\n",
        "- 연산\n",
        "    - \\+ 연산 : 리스트와 리스트 연결\n",
        "    - \\* 연산 : 리스트 요소 반복\n",
        "- 추가\n",
        "    - 리스트명.append(추가요소) : 마지막에 추가\n",
        "    - 리스트명.insert(인덱스, 추가요소) : 해당 인덱스에 요소 추가\n",
        "- 삭제\n",
        "    - 리스트명.pop() : 마지막 요소 삭제\n",
        "    - 리스트명.pop(인덱스) : 해당 인덱스 요소 삭제\n",
        "    - 리스트명.remove(요소값) : 해당 요소값 삭제, 해당 값이 없으면 오류\n",
        "- 수정\n",
        "    - 리스트명[인덱스] = 변경값\n",
        "- 위치 반환\n",
        "    - 리스트명.index(요소값)\n",
        "    - 해당 요소값의 위치를 반환\n",
        "    - 여러 개 요소가 존재하면 첫 번째 위치 반환하고 없으면 오류\n",
        "- 요소 개수 구하기\n",
        "    - 리스트명.count(요소값)\n",
        "- 정렬\n",
        "    - 리스트명.sort() : 오름차순\n",
        "    - 리스트명.sort(reverse=True) : 내림차순\n",
        "- 뒤집기\n",
        "    - 리스트명.reverse() : 요소를 역순으로 뒤집어 줌"
      ]
    },
    {
      "cell_type": "code",
      "metadata": {
        "id": "SydXsBYUsXe2",
        "colab": {
          "base_uri": "https://localhost:8080/"
        },
        "outputId": "d276bca0-dbba-43e1-9e7b-45c5961be885"
      },
      "source": [
        "# 리스트 생성 : [] or list()\n",
        "\n",
        "lst = []\n",
        "print(lst)\n",
        "\n",
        "lst = list()\n",
        "print(lst)\n",
        "\n",
        "lst = [10, 20, 30]\n",
        "print(lst)"
      ],
      "execution_count": null,
      "outputs": [
        {
          "output_type": "stream",
          "text": [
            "[]\n",
            "[]\n",
            "[10, 20, 30]\n"
          ],
          "name": "stdout"
        }
      ]
    },
    {
      "cell_type": "code",
      "metadata": {
        "id": "EOf-gGLWsdqe",
        "colab": {
          "base_uri": "https://localhost:8080/"
        },
        "outputId": "c44dbc3c-f4c7-4c4d-c862-1fce2673f888"
      },
      "source": [
        "# 인덱싱 : 요소는 인덱스로 접근(0부터 시작)\n",
        "\n",
        "lst = [10, 20, 30]\n",
        "\n",
        "print(f'lst[0] : {lst[0]}')    # 인덱스 0 : 첫번째 요소\n",
        "print(f'lst[-1] : {lst[-1]}')  # 인덱스 -1  마지막 요소"
      ],
      "execution_count": null,
      "outputs": [
        {
          "output_type": "stream",
          "text": [
            "lst[0] : 10\n",
            "lst[-1] : 30\n"
          ],
          "name": "stdout"
        }
      ]
    },
    {
      "cell_type": "code",
      "metadata": {
        "id": "dgQKknKWtACl",
        "colab": {
          "base_uri": "https://localhost:8080/"
        },
        "outputId": "bb5eb06b-ba79-40b0-8c24-5acf98b494de"
      },
      "source": [
        "# 슬라이싱 : 요소의 일부분 선택\n",
        "\n",
        "lst = [10, 20, 30]\n",
        "\n",
        "print(lst[:2]) # 처음부터 (두번째인자 - 1)까지 출력"
      ],
      "execution_count": null,
      "outputs": [
        {
          "output_type": "stream",
          "text": [
            "[10, 20]\n"
          ],
          "name": "stdout"
        }
      ]
    },
    {
      "cell_type": "code",
      "metadata": {
        "id": "-93LoiQAtSVk",
        "colab": {
          "base_uri": "https://localhost:8080/"
        },
        "outputId": "ee1ee8b4-cfb5-4a30-d87c-e78adec0871b"
      },
      "source": [
        "# 리스트의 연산\n",
        "\n",
        "lst1 = [10, 20]\n",
        "lst2 = [100, 200]\n",
        "\n",
        "lst3 = lst1 + lst2\n",
        "print(lst3)\n",
        "\n",
        "lst4 = lst3 * 3\n",
        "print(lst4)"
      ],
      "execution_count": null,
      "outputs": [
        {
          "output_type": "stream",
          "text": [
            "[10, 20, 100, 200]\n",
            "[10, 20, 100, 200, 10, 20, 100, 200, 10, 20, 100, 200]\n"
          ],
          "name": "stdout"
        }
      ]
    },
    {
      "cell_type": "code",
      "metadata": {
        "id": "DCndrr1zto3k",
        "colab": {
          "base_uri": "https://localhost:8080/"
        },
        "outputId": "5b1dffb8-ce15-4948-b6ef-dc97b817b7f4"
      },
      "source": [
        "# 리스트의 추가\n",
        "# 리스트명.append(추가요소) : 마지막에 추가\n",
        "# 리스트명.insert(인덱스, 추가요소) : 해당 인덱스에 요소 추가\n",
        "\n",
        "lst = ['a', 'b', 'c']\n",
        "\n",
        "lst.append('d')\n",
        "print(lst)\n",
        "\n",
        "lst.insert(0,'z')\n",
        "print(lst)"
      ],
      "execution_count": null,
      "outputs": [
        {
          "output_type": "stream",
          "text": [
            "['a', 'b', 'c', 'd']\n",
            "['z', 'a', 'b', 'c', 'd']\n"
          ],
          "name": "stdout"
        }
      ]
    },
    {
      "cell_type": "code",
      "metadata": {
        "id": "-TjDtYv9uI7E",
        "colab": {
          "base_uri": "https://localhost:8080/"
        },
        "outputId": "b645654e-3d05-4df8-dfa5-f9c5d770301a"
      },
      "source": [
        "# 리스트의 삭제\n",
        "# 리스트명.pop() : 마지막 요소 삭제\n",
        "# 리스트명.pop(인덱스) : 해당 인덱스 요소 삭제\n",
        "# 리스트명.remove(요소값) : 해당 요소값 삭제, 해당 값이 없으면 오류\n",
        "\n",
        "lst = ['a', 'b', 'c']\n",
        "\n",
        "print(lst)\n",
        "print(lst.pop())\n",
        "print(lst)"
      ],
      "execution_count": null,
      "outputs": [
        {
          "output_type": "stream",
          "text": [
            "['a', 'b', 'c']\n",
            "c\n",
            "['a', 'b']\n"
          ],
          "name": "stdout"
        }
      ]
    },
    {
      "cell_type": "code",
      "metadata": {
        "id": "Y3Li9J0pumlp",
        "colab": {
          "base_uri": "https://localhost:8080/"
        },
        "outputId": "f5960e2f-f85f-4650-ec16-37a56d0eeabd"
      },
      "source": [
        "# 리스트 수정\n",
        "# 리스트명[인덱스] = 변경값\n",
        "\n",
        "lst = ['a', 'b', 'c']\n",
        "\n",
        "lst[0] = 'e'\n",
        "\n",
        "print(f'리스트 수정:{lst}')"
      ],
      "execution_count": null,
      "outputs": [
        {
          "output_type": "stream",
          "text": [
            "리스트 수정:['e', 'b', 'c']\n"
          ],
          "name": "stdout"
        }
      ]
    },
    {
      "cell_type": "code",
      "metadata": {
        "id": "3J9ljSHNvJGc",
        "colab": {
          "base_uri": "https://localhost:8080/"
        },
        "outputId": "18cb0144-e682-4f63-ef7f-486f104fd25b"
      },
      "source": [
        "# 리스트 위치 반환\n",
        "# 리스트명.index(요소값) : 해당 요소값의 위치를 반환, 없으면 오류\n",
        "\n",
        "lst = ['a', 'b', 'c']\n",
        "\n",
        "print(f'b의 위치 lst.index(\"b\") : {lst.index(\"b\")}')"
      ],
      "execution_count": null,
      "outputs": [
        {
          "output_type": "stream",
          "text": [
            "b의 위치 lst.index(\"b\") : 1\n"
          ],
          "name": "stdout"
        }
      ]
    },
    {
      "cell_type": "code",
      "metadata": {
        "id": "QqKCMuM1vlvU",
        "colab": {
          "base_uri": "https://localhost:8080/"
        },
        "outputId": "02ee9d93-3b6e-43e0-c740-9c5cc1bc9518"
      },
      "source": [
        "# 리스트 요소 개수 구하기\n",
        "# 리스트명.count(요소값)\n",
        "\n",
        "lst = ['a', 'b', 'c']\n",
        "\n",
        "print(f'c의 개수 lst.count(\"c\") : {lst.count(\"c\")}')"
      ],
      "execution_count": null,
      "outputs": [
        {
          "output_type": "stream",
          "text": [
            "c의 개수 lst.count(\"c\") : 1\n"
          ],
          "name": "stdout"
        }
      ]
    },
    {
      "cell_type": "code",
      "metadata": {
        "id": "j94Oe7U3v-3c",
        "colab": {
          "base_uri": "https://localhost:8080/"
        },
        "outputId": "ef3ca7ac-60ee-4fdc-d50f-78be5524303a"
      },
      "source": [
        "# 리스트 정렬\n",
        "# 리스트명.sort() : 오름차순\n",
        "# 리스트명.sort(reverse=True) : 내림차순\n",
        "\n",
        "lst = ['c', 'a', 'b']\n",
        "\n",
        "lst.sort()\n",
        "print(f'리스트 정렬(오름차순) lst.sort() : {lst}')\n",
        "\n",
        "lst.sort(reverse=True)\n",
        "print(f'리스트 정렬(내림차순) lst.sort(reverse=True) : {lst}')"
      ],
      "execution_count": null,
      "outputs": [
        {
          "output_type": "stream",
          "text": [
            "리스트 정렬(오름차순) lst.sort() : ['a', 'b', 'c']\n",
            "리스트 정렬(내림차순) lst.sort(reverse=True) : ['c', 'b', 'a']\n"
          ],
          "name": "stdout"
        }
      ]
    },
    {
      "cell_type": "code",
      "metadata": {
        "id": "V89w8GkTwWc0",
        "colab": {
          "base_uri": "https://localhost:8080/"
        },
        "outputId": "758f749c-13b7-4916-aeca-392d4e8a36dd"
      },
      "source": [
        "# 리스트 뒤집기\n",
        "# 리스트명.reverse() : 요소를 역순으로 뒤집어 줌\n",
        "\n",
        "lst = ['c', 'a', 'b']\n",
        "\n",
        "lst.reverse()\n",
        "\n",
        "print(f'리스트 뒤집기 lst.reverse() : {lst}')"
      ],
      "execution_count": null,
      "outputs": [
        {
          "output_type": "stream",
          "text": [
            "리스트 뒤집기 lst.reverse() : ['b', 'a', 'c']\n"
          ],
          "name": "stdout"
        }
      ]
    },
    {
      "cell_type": "markdown",
      "metadata": {
        "id": "LLA8S3ZIw8JH"
      },
      "source": [
        "### 2) 튜플"
      ]
    },
    {
      "cell_type": "markdown",
      "metadata": {
        "id": "uGiq8uDkxD32"
      },
      "source": [
        "- 튜플의 각 요소는 순서를 가지고 있음.\n",
        "- 괄호로 작성되며 각 요소는 쉼표로 구분\n",
        "- 요소를 추가, 수정, 삭제 불가능\n",
        "- 한번 결정된 요소는 변경 불가능\n",
        "- 인덱싱과 슬라이싱은 리스트와 동일\n",
        "- \\+ 와 * 연산은 리스트와 동일\n",
        "- 각 요소에 변수 할당 가능\n",
        "    - 예) x, y = (10, 20)"
      ]
    },
    {
      "cell_type": "code",
      "metadata": {
        "id": "FeLlEL_2yMM7",
        "colab": {
          "base_uri": "https://localhost:8080/"
        },
        "outputId": "46274879-6a41-4d23-8ca7-9a28ba62ab80"
      },
      "source": [
        "# 인덱싱과 슬라이싱은 리스트와 동일\n",
        "\n",
        "tp = (10, 20, 30)\n",
        "\n",
        "print(f'tp[0] = {tp[0]}')\n",
        "print(f'tp[:2] = {tp[:2]}')"
      ],
      "execution_count": null,
      "outputs": [
        {
          "output_type": "stream",
          "text": [
            "tp[0] = 10\n",
            "tp[:2] = (10, 20)\n"
          ],
          "name": "stdout"
        }
      ]
    },
    {
      "cell_type": "code",
      "metadata": {
        "id": "OGDVZ_O1ydqM",
        "colab": {
          "base_uri": "https://localhost:8080/"
        },
        "outputId": "9a728be4-f02a-43c3-80ce-75fb9db49e7e"
      },
      "source": [
        "# + 와 * 연산은 리스트와 동일\n",
        "\n",
        "tp1 = (10, 20)\n",
        "tp2 = (30, 40)\n",
        "\n",
        "print(f'tp1 : {tp1}')\n",
        "print(f'tp2 : {tp2}')\n",
        "\n",
        "tp3 = tp1 + tp2\n",
        "print(f'tp3 = tp1 + tp2 : {tp1 + tp2}')\n",
        "tp\n",
        "tp4 = tp3 * 2\n",
        "print(f'tp4 = tp3 * 2 : {tp3 * 2}')"
      ],
      "execution_count": null,
      "outputs": [
        {
          "output_type": "stream",
          "text": [
            "tp1 : (10, 20)\n",
            "tp2 : (30, 40)\n",
            "tp3 = tp1 + tp2 : (10, 20, 30, 40)\n",
            "tp4 = tp3 * 2 : (10, 20, 30, 40, 10, 20, 30, 40)\n"
          ],
          "name": "stdout"
        }
      ]
    },
    {
      "cell_type": "code",
      "metadata": {
        "id": "wKYv1P3-yzHd",
        "colab": {
          "base_uri": "https://localhost:8080/"
        },
        "outputId": "fb32d1eb-9d2d-4e7d-ec84-7efaf9f4fb1c"
      },
      "source": [
        "# 각 요소에 변수 할당 가능\n",
        "\n",
        "tpx, tpy = (10, 20)\n",
        "\n",
        "print(f'tpx = {tpx}, tpy = {tpy}')"
      ],
      "execution_count": null,
      "outputs": [
        {
          "output_type": "stream",
          "text": [
            "tpx = 10, tpy = 20\n"
          ],
          "name": "stdout"
        }
      ]
    },
    {
      "cell_type": "code",
      "metadata": {
        "id": "f0mhixXK1COy",
        "colab": {
          "base_uri": "https://localhost:8080/",
          "height": 211
        },
        "outputId": "51e82c0e-e6d0-46ad-b78b-3bc33e254a33"
      },
      "source": [
        "# 요소 추가, 수정, 삭제 불가능 : 튜플의 특징\n",
        "# 한 번 결정된 요소는 변경 불가능\n",
        "\n",
        "tp = (10, 20, 30)\n",
        "tp[0] = 100\n",
        "# 변경 불가능 하기에 에러 발생"
      ],
      "execution_count": null,
      "outputs": [
        {
          "output_type": "error",
          "ename": "TypeError",
          "evalue": "ignored",
          "traceback": [
            "\u001b[0;31m---------------------------------------------------------------------------\u001b[0m",
            "\u001b[0;31mTypeError\u001b[0m                                 Traceback (most recent call last)",
            "\u001b[0;32m<ipython-input-85-8cb7295748ab>\u001b[0m in \u001b[0;36m<module>\u001b[0;34m()\u001b[0m\n\u001b[1;32m      2\u001b[0m \u001b[0;31m# 한 번 결정된 요소는 변경 불가능\u001b[0m\u001b[0;34m\u001b[0m\u001b[0;34m\u001b[0m\u001b[0;34m\u001b[0m\u001b[0m\n\u001b[1;32m      3\u001b[0m \u001b[0mtp\u001b[0m \u001b[0;34m=\u001b[0m \u001b[0;34m(\u001b[0m\u001b[0;36m10\u001b[0m\u001b[0;34m,\u001b[0m \u001b[0;36m20\u001b[0m\u001b[0;34m,\u001b[0m \u001b[0;36m30\u001b[0m\u001b[0;34m)\u001b[0m\u001b[0;34m\u001b[0m\u001b[0;34m\u001b[0m\u001b[0m\n\u001b[0;32m----> 4\u001b[0;31m \u001b[0mtp\u001b[0m\u001b[0;34m[\u001b[0m\u001b[0;36m0\u001b[0m\u001b[0;34m]\u001b[0m \u001b[0;34m=\u001b[0m \u001b[0;36m100\u001b[0m\u001b[0;34m\u001b[0m\u001b[0;34m\u001b[0m\u001b[0m\n\u001b[0m",
            "\u001b[0;31mTypeError\u001b[0m: 'tuple' object does not support item assignment"
          ]
        }
      ]
    },
    {
      "cell_type": "markdown",
      "metadata": {
        "id": "k6vKwbSDEM2o"
      },
      "source": [
        "### 3) 딕셔너리"
      ]
    },
    {
      "cell_type": "markdown",
      "metadata": {
        "id": "DhEqobYeERWu"
      },
      "source": [
        "- 특징\n",
        "  - 키(key)와 값(value) 쌍을 요소로 가짐\n",
        "  - 중괄호로 작성되며 각 요소는 쉼표로 구분\n",
        "  - 순서 없음\n",
        "  - 키는 변경할 수 없으며 값은 변경가능\n",
        "- 딕셔너리 접근\n",
        "  - 특정 요소 값 : 딕셔너리명[키]\n",
        "  - 요소 키 컬렉션 : 딕셔너리명.keys()\n",
        "  - 요소 값 컬렉션 : 딕셔너리명.values()\n",
        "  - 키와 요소 컬렉션은 list() 생성자로 리스트로 변환가능\n",
        "- 요소 추가\n",
        "  - 딕셔너리명[추가키] = 값\n",
        "- 요소 수정\n",
        "  - 딕셔너리명[키] = 값\n",
        "- 요소 삭제\n",
        "  - del 딕셔너리명[키]\n",
        "  - 딕셔너리명.pop(키)"
      ]
    },
    {
      "cell_type": "code",
      "metadata": {
        "id": "nFGj_QdUGKPy",
        "colab": {
          "base_uri": "https://localhost:8080/"
        },
        "outputId": "c60309f6-1488-45bb-ff68-b387a720e555"
      },
      "source": [
        "# 딕셔너리\n",
        "dt = {'a':200, 'b':150, 'c':100}\n",
        "\n",
        "print(f'딕셔너리 dt : {dt}')"
      ],
      "execution_count": null,
      "outputs": [
        {
          "output_type": "stream",
          "text": [
            "딕셔너리 dt : {'a': 200, 'b': 150, 'c': 100}\n"
          ],
          "name": "stdout"
        }
      ]
    },
    {
      "cell_type": "code",
      "metadata": {
        "id": "uWg5UzOIEGLI",
        "colab": {
          "base_uri": "https://localhost:8080/"
        },
        "outputId": "6ff9b072-4aa0-44fd-bf79-3407551cbd67"
      },
      "source": [
        "# 딕셔너리 키\n",
        "\n",
        "dt = {'a':200, 'b':150, 'c':100}\n",
        "\n",
        "print(f'딕셔너리 키 list(dt.keys()) : {list(dt.keys())}')"
      ],
      "execution_count": null,
      "outputs": [
        {
          "output_type": "stream",
          "text": [
            "딕셔너리 키 list(dt.keys()) : ['a', 'b', 'c']\n"
          ],
          "name": "stdout"
        }
      ]
    },
    {
      "cell_type": "code",
      "metadata": {
        "id": "fYqX6_qTFgr5",
        "colab": {
          "base_uri": "https://localhost:8080/"
        },
        "outputId": "0e0f2e24-55c6-4fee-f05d-d9fba8c9c9a2"
      },
      "source": [
        "# 딕셔너리 값\n",
        "\n",
        "dt = {'a':200, 'b':150, 'c':100}\n",
        "\n",
        "print(f'딕셔너리 값 list(dt.values()) : {list(dt.values())}')"
      ],
      "execution_count": null,
      "outputs": [
        {
          "output_type": "stream",
          "text": [
            "딕셔너리 값 list(dt.values()) : [200, 150, 100]\n"
          ],
          "name": "stdout"
        }
      ]
    },
    {
      "cell_type": "code",
      "metadata": {
        "id": "9TyEwdxmGGqR",
        "colab": {
          "base_uri": "https://localhost:8080/"
        },
        "outputId": "3d770193-9e34-40d4-cc06-a9647ffff8ab"
      },
      "source": [
        "# 딕셔너리 접근\n",
        "\n",
        "dt = {'a':200, 'b':150, 'c':100}\n",
        "\n",
        "print(f\"딕셔너리 a 값 dt['a']: {dt['a']}\")"
      ],
      "execution_count": null,
      "outputs": [
        {
          "output_type": "stream",
          "text": [
            "딕셔너리 a 값 dt['a']: 200\n"
          ],
          "name": "stdout"
        }
      ]
    },
    {
      "cell_type": "code",
      "metadata": {
        "id": "D5xmXAWdGrWY",
        "colab": {
          "base_uri": "https://localhost:8080/"
        },
        "outputId": "636b63d6-7140-42f3-b168-fb7fad0103c0"
      },
      "source": [
        "# 딕셔너리 추가\n",
        "\n",
        "dt = {'a':200, 'b':150, 'c':100}\n",
        "\n",
        "dt['d'] = 30\n",
        "\n",
        "print(dt)"
      ],
      "execution_count": null,
      "outputs": [
        {
          "output_type": "stream",
          "text": [
            "{'a': 200, 'b': 150, 'c': 100, 'd': 30}\n"
          ],
          "name": "stdout"
        }
      ]
    },
    {
      "cell_type": "code",
      "metadata": {
        "id": "_GfTXjYOG_g3",
        "colab": {
          "base_uri": "https://localhost:8080/"
        },
        "outputId": "ed8ecda5-696f-4d7b-f4b6-4bfa85d5af40"
      },
      "source": [
        "# 딕셔너리 삭제\n",
        "\n",
        "dt = {'a':200, 'b':150, 'c':100}\n",
        "\n",
        "del dt['b']\n",
        "\n",
        "print(dt)"
      ],
      "execution_count": null,
      "outputs": [
        {
          "output_type": "stream",
          "text": [
            "{'a': 200, 'c': 100}\n"
          ],
          "name": "stdout"
        }
      ]
    },
    {
      "cell_type": "code",
      "metadata": {
        "id": "mGnITNDfHHYA"
      },
      "source": [
        ""
      ],
      "execution_count": null,
      "outputs": []
    },
    {
      "cell_type": "markdown",
      "metadata": {
        "id": "vXLLh6NxI8sh"
      },
      "source": [
        "### 4) 집합"
      ]
    },
    {
      "cell_type": "markdown",
      "metadata": {
        "id": "HvQEE0XtklZI"
      },
      "source": [
        "- 특징\n",
        "  - 중복 없는 요소로만 구성\n",
        "  - 중괄호로 작성되며 각 요소는 쉼표로 구분\n",
        "  - 순서 없음\n",
        "- 생성자 : set()\n",
        "  - 리스트나 튜플의 중복 요소 제거\n",
        "- 요소 추가\n",
        "  - 집합명.add(요소) : 하나의 요소 추가\n",
        "  - 집합명.update(추가집합) : 여러 요소를 추가\n",
        "- 요소 삭제\n",
        "  - 집합명.remove(요소값) : 하나의 요소 삭제\n",
        "  - 집합명.clear() : 모든 요소 삭제\n",
        "- 집합 연산\n",
        "  - 교집합 : &\n",
        "  - 합집합 :|\n",
        "  - 차집합 : -"
      ]
    },
    {
      "cell_type": "code",
      "metadata": {
        "id": "TCCP4Ee-lv4S",
        "colab": {
          "base_uri": "https://localhost:8080/"
        },
        "outputId": "6ed47f5f-823f-4d03-9b29-d50963f85ffe"
      },
      "source": [
        "# 집합\n",
        "\n",
        "a = (1, 2, 2, 3)\n",
        "b = [10, 20, 30, 30]\n",
        "\n",
        "print(f'{a}의 type : {type(a)}')\n",
        "print(f'{b}의 type : {type(b)}')\n",
        "\n",
        "b = set(b)\n",
        "print(f'{b}의 type : {type(b)}')"
      ],
      "execution_count": null,
      "outputs": [
        {
          "output_type": "stream",
          "text": [
            "(1, 2, 2, 3)의 type : <class 'tuple'>\n",
            "[10, 20, 30, 30]의 type : <class 'list'>\n",
            "{10, 20, 30}의 type : <class 'set'>\n"
          ],
          "name": "stdout"
        }
      ]
    },
    {
      "cell_type": "code",
      "metadata": {
        "id": "qy7E1C4rmI5-",
        "colab": {
          "base_uri": "https://localhost:8080/"
        },
        "outputId": "d39e9dab-b2e1-47f7-9898-66a44571f91f"
      },
      "source": [
        "# 집합 요소 추가\n",
        "\n",
        "a = (1, 2, 2, 3)\n",
        "b = [10, 20, 30, 30]\n",
        "\n",
        "a = set(a)\n",
        "b = set(b)\n",
        "\n",
        "a.add(100)\n",
        "b.update({100,200,300})\n",
        "\n",
        "print(a)\n",
        "print(b)"
      ],
      "execution_count": null,
      "outputs": [
        {
          "output_type": "stream",
          "text": [
            "{1, 2, 3, 100}\n",
            "{20, 100, 200, 10, 300, 30}\n"
          ],
          "name": "stdout"
        }
      ]
    },
    {
      "cell_type": "code",
      "metadata": {
        "id": "1B-hu2Tgm52H",
        "colab": {
          "base_uri": "https://localhost:8080/"
        },
        "outputId": "e1cf9932-c142-49e9-fc65-3a6619143aaf"
      },
      "source": [
        "# 집합 요소 삭제\n",
        "\n",
        "a = (1, 2, 2, 3)\n",
        "b = [10, 20, 30, 30]\n",
        "\n",
        "a = set(a)\n",
        "b = set(b)\n",
        "\n",
        "a.add(100)\n",
        "b.update({100,200,300})\n",
        "\n",
        "a.remove(100)\n",
        "print(a)\n",
        "\n",
        "a.clear()\n",
        "print(a)"
      ],
      "execution_count": null,
      "outputs": [
        {
          "output_type": "stream",
          "text": [
            "{1, 2, 3}\n",
            "set()\n"
          ],
          "name": "stdout"
        }
      ]
    },
    {
      "cell_type": "code",
      "metadata": {
        "id": "pJYxnPi9nLP1",
        "colab": {
          "base_uri": "https://localhost:8080/"
        },
        "outputId": "7fac5b31-dac7-4efc-bcd6-59ba06748031"
      },
      "source": [
        "# 집합 연산\n",
        "\n",
        "a = (1, 2, 2, 3)\n",
        "b = [10, 20, 30, 30]\n",
        "\n",
        "a = set(a)\n",
        "b = set(b)\n",
        "\n",
        "a.add(100)\n",
        "b.update({100,200,300})\n",
        "\n",
        "a.clear()\n",
        "\n",
        "a.update({100, 200, 500})\n",
        "\n",
        "print(f'a집합 = {a}, b집합 = {b}')\n",
        "print(f'교집합 a & b = {a & b}')\n",
        "print(f'합집합 a | b = {a | b}')\n",
        "print(f'차집합 a - b = {a - b}')\n",
        "print(f'차집합 b - a = {b - a}')"
      ],
      "execution_count": null,
      "outputs": [
        {
          "output_type": "stream",
          "text": [
            "a집합 = {200, 100, 500}, b집합 = {20, 100, 200, 10, 300, 30}\n",
            "교집합 a & b = {200, 100}\n",
            "합집합 a | b = {100, 200, 10, 300, 500, 20, 30}\n",
            "차집합 a - b = {500}\n",
            "차집합 b - a = {10, 20, 300, 30}\n"
          ],
          "name": "stdout"
        }
      ]
    },
    {
      "cell_type": "markdown",
      "metadata": {
        "id": "2106IAsdqD9j"
      },
      "source": [
        "컬렉션 데이터 활용\n",
        "- 컬렉션 데이터 모든 요소에 접근\n",
        "- for 요소변수 in 컬렉션명 :\n",
        "- zip() 함수 : 동일한 개수로 이루어진 자료형을 묶어 주는 역할을 하는 함수"
      ]
    },
    {
      "cell_type": "code",
      "metadata": {
        "id": "WNIgTa7rnsIH",
        "colab": {
          "base_uri": "https://localhost:8080/"
        },
        "outputId": "bd466751-a7a6-4889-b181-de2f2e7eec15"
      },
      "source": [
        "# 컬렉션 요소 접근\n",
        "\n",
        "lst = [10, 50, 30]\n",
        "tp = ('a', 'b', 'c')\n",
        "\n",
        "for item in lst:\n",
        "  print(item, end = ' ')\n",
        "\n",
        "print()\n",
        "\n",
        "for item in tp:\n",
        "  print(item, end = ' ')"
      ],
      "execution_count": null,
      "outputs": [
        {
          "output_type": "stream",
          "text": [
            "10 50 30 \n",
            "a b c "
          ],
          "name": "stdout"
        }
      ]
    },
    {
      "cell_type": "code",
      "metadata": {
        "id": "cVErCwCGqybw",
        "colab": {
          "base_uri": "https://localhost:8080/"
        },
        "outputId": "00131a57-0445-4449-acdc-d8be92d4ff5f"
      },
      "source": [
        "# 딕션너리 만들기 : dict()함수와 zip()함수 이용\n",
        "\n",
        "dt = dict(zip(tp, lst))\n",
        "print(dt)\n",
        "\n",
        "for item in dt :\n",
        "  print(f'{item} : {dt[item]}')"
      ],
      "execution_count": null,
      "outputs": [
        {
          "output_type": "stream",
          "text": [
            "{'a': 10, 'b': 50, 'c': 30}\n",
            "a : 10\n",
            "b : 50\n",
            "c : 30\n"
          ],
          "name": "stdout"
        }
      ]
    },
    {
      "cell_type": "markdown",
      "metadata": {
        "id": "VNn4RIIrrjXd"
      },
      "source": [
        "내장함수\n",
        "- len(컬렉션명) : 컬렉션 요소 개수\n",
        "- max(컬렉션명) : 가장 큰 요소값 반환\n",
        "  - 딕션너리인 경우는 키 값 중 가장 큰 요소 반환\n",
        "- min(컬렉션명) : 가장 작은 요소값 반환\n",
        "  - 딕션너리인 경우는 키 값 중 가장 작은 요소 반환\n",
        "- sum(컬렉션명) : 수치 요소로 이루어진 컬렉션 요소의 합\n",
        "  - 딕션너리인 경우는 키 값의 합\n",
        "- sorted(컬렉션명) : 컬렉션 요소 정렬\n",
        "  - 딕션너리인 경우는 키 값을 정렬하여 키 리스트 반환"
      ]
    },
    {
      "cell_type": "code",
      "metadata": {
        "id": "-ryYrdUnrAfu",
        "colab": {
          "base_uri": "https://localhost:8080/"
        },
        "outputId": "c9c6fcda-c937-4192-e989-1ff0578992c7"
      },
      "source": [
        "# 내장함수\n",
        "\n",
        "lst = [10, 50, 30]\n",
        "\n",
        "print(f'{lst}의 요소 개수 : {len(lst)}')\n",
        "print(f'{lst}의 최대값 : {max(lst)}')\n",
        "print(f'{lst}의 최소값 : {min(lst)}')\n",
        "print(f'{lst}의 합계 : {sum(lst)}')\n",
        "print(f'{lst}의 정렬 : {sorted(lst)}')\n",
        "print(f'lst {lst}')"
      ],
      "execution_count": null,
      "outputs": [
        {
          "output_type": "stream",
          "text": [
            "[10, 50, 30]의 요소 개수 : 3\n",
            "[10, 50, 30]의 최대값 : 50\n",
            "[10, 50, 30]의 최소값 : 10\n",
            "[10, 50, 30]의 합계 : 90\n",
            "[10, 50, 30]의 정렬 : [10, 30, 50]\n",
            "lst [10, 50, 30]\n"
          ],
          "name": "stdout"
        }
      ]
    },
    {
      "cell_type": "markdown",
      "metadata": {
        "id": "A5Ubu86fwV0X"
      },
      "source": [
        "### 5) 해결문제"
      ]
    },
    {
      "cell_type": "code",
      "metadata": {
        "id": "j-5RKQlOvKqz",
        "colab": {
          "base_uri": "https://localhost:8080/"
        },
        "outputId": "4c0dc279-b2c3-457a-cabb-40a17fe3a4f8"
      },
      "source": [
        "# 해결문제 1\n",
        "\n",
        "# 기상청에서 제공하는 2020년 3월 1일에서 3월 31일까지의 평균기온 정보를 참고하여 다음을 구하시오\n",
        "# - 최고기온인 날 \n",
        "# - 최저기온인 날\n",
        "# - 3월 평균기온\n",
        "\n",
        "# 부산 3월 기온\n",
        "temp = [10.8,  8.5,  8.7,  7.9,  5.1,\n",
        "         8.1,  8.2, 10.4,   11,  9.9,\n",
        "         7.8,  9.5, 11.6,  8.2,  7.7,\n",
        "         6.6, 11.1, 12.2, 12.6, 10.4,\n",
        "        13.7, 14.1, 12.6, 11.5,   13,\n",
        "        14.5, 13.7,  9.4, 10.4, 11.6, 12.9]\n",
        "\n",
        "print(f'최고기온 : {max(temp) : 6.2f} 도')\n",
        "print(f'최저기온 : {min(temp) : 6.2f} 도')\n",
        "print(f'평균기온 : {sum(temp) / len(temp) : 6.2f} 도')"
      ],
      "execution_count": null,
      "outputs": [
        {
          "output_type": "stream",
          "text": [
            "최고기온 :  14.50 도\n",
            "최저기온 :   5.10 도\n",
            "평균기온 :  10.44 도\n"
          ],
          "name": "stdout"
        }
      ]
    },
    {
      "cell_type": "code",
      "metadata": {
        "id": "jbeCDOjPwmkE",
        "colab": {
          "base_uri": "https://localhost:8080/"
        },
        "outputId": "6eb9b61b-c684-4759-f804-3a6e95e9b37a"
      },
      "source": [
        "# 해결문제 2\n",
        "\n",
        "# 기상청 공공데이터 사이트(https://data.kma.go.kr/stcs/grnd/grndTaList.do?pgmNo=70)에서 2019년 1월에서 12월까지\n",
        "# 부산 평균기온을 조사해서 2019년의 전체 평균기온을 구하시오.\n",
        "\n",
        "avgtemp = [ 4.5,  6.6, 10.5, 13.4, \n",
        "           19.3, 21.1, 24.3, 27.0, \n",
        "           23.1, 18.6, 13.0,  7.0]\n",
        "\n",
        "print(f'평균기온 : {sum(avgtemp) / len(avgtemp) : 6.2f} 도')          "
      ],
      "execution_count": null,
      "outputs": [
        {
          "output_type": "stream",
          "text": [
            "평균기온 :  15.70 도\n"
          ],
          "name": "stdout"
        }
      ]
    },
    {
      "cell_type": "code",
      "metadata": {
        "id": "-BhCckdxzvtz",
        "colab": {
          "base_uri": "https://localhost:8080/"
        },
        "outputId": "70c56836-4d33-437b-8e66-a67ff3e0db16"
      },
      "source": [
        "# 해결문제 3\n",
        "\n",
        "# 다음은 2010~2019년 기온 데이터(년도, 평균, 최소, 최대)이다.\n",
        "# - 홀수년도만 출력\n",
        "# - 년도 출력하기\n",
        "# - 년도와 평균기온 딕셔너리 만들기\n",
        "# - 평균기온 최소일 때 해당년도 추출하기 예) 2012년 - 14.5도\n",
        "# - 최고기온 최대일 때 해당년도 추출하기 예) 2016년 - 19.6도\n",
        "# - 최저기온 최소일 때 해당년도 추출하기 예) 2012년 - 18.6도\n",
        "\n",
        "y    = [2010, 2011, 2012, 2013, 2014, 2015, 2016, 2017, 2018, 2019]\n",
        "yavg = [14.9, 14.6, 14.5, 15.3, 15.1, 15.4, 15.7, 15.2, 15.1, 15.7]\n",
        "ymax = [34.1,   33, 34.5,   35, 32.9, 33.5, 37.3, 36.2, 36.4,   35]\n",
        "ymin = [  19, 18.8, 18.6, 19.5, 19.2, 19.5, 19.8, 19.6, 19.2, 19.8]\n",
        "\n",
        "# 주석 처리 명령어 : ctrl + /\n",
        "# 번호줄 명령어 : ctrl + M + L\n",
        "# for i in range(len(y)):\n",
        "#   y[i] = str(y[i])\n",
        "\n",
        "# 홀수년도\n",
        "yodd = [item for item in y if item % 2 == 1]\n",
        "print(yodd)\n",
        "\n",
        "# 년도\n",
        "y = [str(item) for item in y]\n",
        "print(y)\n",
        "\n",
        "# 년도와 평균기온 딕셔너리 만들기\n",
        "ytemp = dict(zip(y, yavg))\n",
        "print(ytemp)\n",
        "\n",
        "print()\n",
        "\n",
        "# 년도와 평균기온 딕셔너리에서 평균기온 최소값과 그 년도를 추출하기\n",
        "mintemp = min(ytemp.values())\n",
        "ryear = []\n",
        "\n",
        "for year, temp in ytemp.items():\n",
        "  if temp == mintemp:\n",
        "    ryear.append(year)\n",
        "\n",
        "print(f'평균기온 최소 {ryear}: {mintemp} 도')\n",
        "print('-'*50)\n",
        "\n",
        "# ymax 최대값\n",
        "maxv = max(ymax)\n",
        "\n",
        "# 최대값이 있는 위치\n",
        "ylist = []\n",
        "for i in range(len(ymax)):\n",
        "  if ymax[i] == maxv :\n",
        "    ylist.append(y[i])\n",
        "\n",
        "# y의 요소 인덱싱\n",
        "print(f'최고기온 최대 {ylist}: {maxv} 도')\n",
        "print('-'*50)\n",
        "\n",
        "# ymin 최소값\n",
        "minv = min(ymin)\n",
        "\n",
        "# 최소값이 있는 위치\n",
        "ymlist = []\n",
        "for i in range(len(ymin)):\n",
        "  if ymin[i] == minv : ymlist.append(y[i])\n",
        "\n",
        "print(f'최저기온 최저 {ymlist}: {minv} 도')\n",
        "print('-'*50)"
      ],
      "execution_count": null,
      "outputs": [
        {
          "output_type": "stream",
          "text": [
            "[2011, 2013, 2015, 2017, 2019]\n",
            "['2010', '2011', '2012', '2013', '2014', '2015', '2016', '2017', '2018', '2019']\n",
            "{'2010': 14.9, '2011': 14.6, '2012': 14.5, '2013': 15.3, '2014': 15.1, '2015': 15.4, '2016': 15.7, '2017': 15.2, '2018': 15.1, '2019': 15.7}\n",
            "\n",
            "평균기온 최소 ['2012']: 14.5 도\n",
            "--------------------------------------------------\n",
            "최고기온 최대 ['2016']: 37.3 도\n",
            "--------------------------------------------------\n",
            "최저기온 최저 ['2012']: 18.6 도\n",
            "--------------------------------------------------\n"
          ],
          "name": "stdout"
        }
      ]
    },
    {
      "cell_type": "markdown",
      "metadata": {
        "id": "X3lB28Sq6VPB"
      },
      "source": [
        "# 02장. 제어문, 함수, 파일"
      ]
    },
    {
      "cell_type": "markdown",
      "metadata": {
        "id": "jS9oEcS76cuV"
      },
      "source": [
        "## 1. 제어문(조건, 반복)"
      ]
    },
    {
      "cell_type": "markdown",
      "metadata": {
        "id": "NQV_PMXM6hs7"
      },
      "source": [
        "### 1) 조건문 - if\n",
        "- 프로그램의 실행 흐름을 바꾸고자 할 때 사용하는 제어문\n",
        "- 사용자가 지정한 조건에 따라 실행할 문장을 결정함"
      ]
    },
    {
      "cell_type": "markdown",
      "metadata": {
        "id": "ZcJTENou6mPS"
      },
      "source": [
        "if ... : elif ... :\n",
        "- if 조건문 뒤에는 반드시 콜론(:)\n",
        "- 바로 아래 문장부터 if문에 속하는 모든 문장에 들여쓰기를 해야 함.\n",
        "- 파이선에는 다른 언어에 있는 switch 문이 존재하지 않음.\n",
        "- if ... elif ... elif ... 문으로 수행\n",
        "- pass : def 문이나 if 문처럼 코드 블록을 본문으로 갖는 표현에서 본문을 비워 둘 때 사용"
      ]
    },
    {
      "cell_type": "code",
      "metadata": {
        "id": "N4dhAfdR1dyh",
        "colab": {
          "base_uri": "https://localhost:8080/"
        },
        "outputId": "eb2ddc36-9bf3-479a-aea7-48de4b9ecea2"
      },
      "source": [
        "# 홀수 짝수 구분 - 1\n",
        "\n",
        "x = int(input('값 입력 : '))\n",
        "\n",
        "if x % 2 == 0:\n",
        "  print(f'{x}는 짝수')"
      ],
      "execution_count": null,
      "outputs": [
        {
          "output_type": "stream",
          "text": [
            "값 입력 : 3\n"
          ],
          "name": "stdout"
        }
      ]
    },
    {
      "cell_type": "code",
      "metadata": {
        "id": "CvX2WMBj8XZC",
        "colab": {
          "base_uri": "https://localhost:8080/"
        },
        "outputId": "c046048a-9c12-4f50-b9e5-1d265b7928d9"
      },
      "source": [
        "# 홀수 짝수 구분 - 2\n",
        "\n",
        "x = int(input('값 입력 : '))\n",
        "\n",
        "if x % 2 == 0:\n",
        "  print(f'{x}(은/는) 짝수')\n",
        "else :\n",
        "  print(f'{x}(은/는) 홀수')"
      ],
      "execution_count": null,
      "outputs": [
        {
          "output_type": "stream",
          "text": [
            "값 입력 : 5\n",
            "5(은/는) 홀수\n"
          ],
          "name": "stdout"
        }
      ]
    },
    {
      "cell_type": "code",
      "metadata": {
        "id": "slnCWvfZ8heZ",
        "colab": {
          "base_uri": "https://localhost:8080/"
        },
        "outputId": "df1188b1-dd5f-4261-f97c-ea875ec38601"
      },
      "source": [
        "# 성적처리\n",
        "\n",
        "x = float(input('성적입력 : '))\n",
        "\n",
        "if x >= 70:\n",
        "  print(f'{x} : Pass')\n",
        "elif x >= 60:\n",
        "  print(f'{x} : 재시험')\n",
        "else:\n",
        "  print(f'{x} : fail')"
      ],
      "execution_count": null,
      "outputs": [
        {
          "output_type": "stream",
          "text": [
            "성적입력 : 100\n",
            "100.0 : Pass\n"
          ],
          "name": "stdout"
        }
      ]
    },
    {
      "cell_type": "markdown",
      "metadata": {
        "id": "36rIQHwR-RvR"
      },
      "source": [
        "비교연산자\n",
        "  - \\> , <, ==, != \n",
        "  - True, False 값 반환\n",
        "\n",
        "논리연산자\n",
        "  - and : 양변의 인수가 둘 다 참일 때 True\n",
        "  - or : 양변의 인수 중 하나 이상 참일 때 True\n",
        "  - not : 반전\n",
        "\n",
        "멤버십 연산자 : in\n",
        "  - 문자열, 리스트, 튜플과 같이 연속적인 자료구조에 속한 멤버를 확인하기 위한 연산자"
      ]
    },
    {
      "cell_type": "code",
      "metadata": {
        "id": "5DaV14Lw9J35",
        "colab": {
          "base_uri": "https://localhost:8080/"
        },
        "outputId": "3253a13b-ebbb-4e10-a374-e71b93163466"
      },
      "source": [
        "str = '안녕하세요.'\n",
        "\n",
        "'안' in str"
      ],
      "execution_count": null,
      "outputs": [
        {
          "output_type": "execute_result",
          "data": {
            "text/plain": [
              "True"
            ]
          },
          "metadata": {
            "tags": []
          },
          "execution_count": 61
        }
      ]
    },
    {
      "cell_type": "code",
      "metadata": {
        "id": "jhf9kTTV_7jb",
        "colab": {
          "base_uri": "https://localhost:8080/"
        },
        "outputId": "a5cdc648-facd-415c-f315-094ad7e0f5ed"
      },
      "source": [
        "lst = list(range(5))\n",
        "\n",
        "5 in lst"
      ],
      "execution_count": null,
      "outputs": [
        {
          "output_type": "execute_result",
          "data": {
            "text/plain": [
              "False"
            ]
          },
          "metadata": {
            "tags": []
          },
          "execution_count": 63
        }
      ]
    },
    {
      "cell_type": "markdown",
      "metadata": {
        "id": "-1QsS_FCbhg7"
      },
      "source": [
        "# "
      ]
    },
    {
      "cell_type": "code",
      "metadata": {
        "id": "wpCACCuFACRZ",
        "colab": {
          "base_uri": "https://localhost:8080/"
        },
        "outputId": "30770632-4b4f-45f7-8d76-48aebcaca7c1"
      },
      "source": [
        "d = {'a':1, 'b':2}\n",
        "\n",
        "'a' in d"
      ],
      "execution_count": null,
      "outputs": [
        {
          "output_type": "execute_result",
          "data": {
            "text/plain": [
              "True"
            ]
          },
          "metadata": {
            "tags": []
          },
          "execution_count": 64
        }
      ]
    },
    {
      "cell_type": "code",
      "metadata": {
        "id": "mwVi7CJMAVe_",
        "colab": {
          "base_uri": "https://localhost:8080/"
        },
        "outputId": "07b37c2a-f91d-4a5b-f9df-963217c00319"
      },
      "source": [
        "2 in d.values()"
      ],
      "execution_count": null,
      "outputs": [
        {
          "output_type": "execute_result",
          "data": {
            "text/plain": [
              "True"
            ]
          },
          "metadata": {
            "tags": []
          },
          "execution_count": 66
        }
      ]
    },
    {
      "cell_type": "markdown",
      "metadata": {
        "id": "zYYJsslUAc7G"
      },
      "source": [
        "### 2) 반복문 - for\n",
        "- 컬렉션으로부터 하나씩 요소를 가져와, 루프 내의 문장들을 실행"
      ]
    },
    {
      "cell_type": "code",
      "metadata": {
        "id": "hLufQnkCAZeA",
        "colab": {
          "base_uri": "https://localhost:8080/"
        },
        "outputId": "ffb261d6-8099-436a-f937-eca26cd767e8"
      },
      "source": [
        "# 문자열\n",
        "\n",
        "str = '안녕하세요'\n",
        "\n",
        "for item in str:\n",
        "  print(item)"
      ],
      "execution_count": null,
      "outputs": [
        {
          "output_type": "stream",
          "text": [
            "안\n",
            "녕\n",
            "하\n",
            "세\n",
            "요\n"
          ],
          "name": "stdout"
        }
      ]
    },
    {
      "cell_type": "code",
      "metadata": {
        "id": "jHlmcmBLA4Rj",
        "colab": {
          "base_uri": "https://localhost:8080/"
        },
        "outputId": "f3a4fb94-aba6-47ab-8151-acebe72a47c2"
      },
      "source": [
        "# 리스트\n",
        "\n",
        "lst = list(range(5))\n",
        "\n",
        "for item in lst:\n",
        "  print(item)"
      ],
      "execution_count": null,
      "outputs": [
        {
          "output_type": "stream",
          "text": [
            "0\n",
            "1\n",
            "2\n",
            "3\n",
            "4\n"
          ],
          "name": "stdout"
        }
      ]
    },
    {
      "cell_type": "code",
      "metadata": {
        "id": "wUWfV-HhBJm6",
        "colab": {
          "base_uri": "https://localhost:8080/"
        },
        "outputId": "27788d4f-2dbf-4b83-fe51-cb91aa9e292f"
      },
      "source": [
        "# 딕셔너리\n",
        "\n",
        "d = {'a':1, 'b':2}\n",
        "\n",
        "for item in d:\n",
        "  print(item, end=' ')\n",
        "print()\n",
        "for item in d.values():\n",
        "  print(item, end=' ')\n",
        "print()\n",
        "for key, value in d.items():\n",
        "  print(key, value)"
      ],
      "execution_count": null,
      "outputs": [
        {
          "output_type": "stream",
          "text": [
            "a b \n",
            "1 2 \n",
            "a 1\n",
            "b 2\n"
          ],
          "name": "stdout"
        }
      ]
    },
    {
      "cell_type": "markdown",
      "metadata": {
        "id": "aEK7xa5ICLCC"
      },
      "source": [
        "range()함수\n",
        "- range(시작 숫자, 종료 숫자, step)\n",
        "- 결과는 시작 숫자부터 종료 숫자 바로 앞 숫자까지 컬렉션 생성\n",
        "- 값을 확인하기 위해서는 순서가 있는 리스트나 튜플 컬렉션으로 변환해야 함\n",
        "- 시작 숫자를 생략하면 0부터 생성\n",
        "- step을 생략하면 1씩 증가"
      ]
    },
    {
      "cell_type": "code",
      "metadata": {
        "id": "SWO7_faEBUz5",
        "colab": {
          "base_uri": "https://localhost:8080/"
        },
        "outputId": "6be5067b-0e76-476b-af18-e7919b118e52"
      },
      "source": [
        "xlist = range(10)\n",
        "print(type(xlist))\n",
        "print(xlist)\n",
        "\n",
        "for item in xlist:\n",
        "  print(item, end=' ')"
      ],
      "execution_count": null,
      "outputs": [
        {
          "output_type": "stream",
          "text": [
            "<class 'range'>\n",
            "range(0, 10)\n",
            "0 1 2 3 4 5 6 7 8 9 "
          ],
          "name": "stdout"
        }
      ]
    },
    {
      "cell_type": "code",
      "metadata": {
        "id": "JuK3N4OsCqcK",
        "colab": {
          "base_uri": "https://localhost:8080/"
        },
        "outputId": "b1084706-9aaa-4fcd-b3aa-bd81bfb9257e"
      },
      "source": [
        "xlist = list(range(10))\n",
        "print(type(xlist))\n",
        "print(xlist)\n",
        "\n",
        "for item in xlist:\n",
        "  print(item, end=' ')"
      ],
      "execution_count": null,
      "outputs": [
        {
          "output_type": "stream",
          "text": [
            "<class 'list'>\n",
            "[0, 1, 2, 3, 4, 5, 6, 7, 8, 9]\n",
            "0 1 2 3 4 5 6 7 8 9 "
          ],
          "name": "stdout"
        }
      ]
    },
    {
      "cell_type": "code",
      "metadata": {
        "id": "JONzoznoDAPp",
        "colab": {
          "base_uri": "https://localhost:8080/"
        },
        "outputId": "2b5e551e-6c4d-4ea7-a2e4-f4f33331bc20"
      },
      "source": [
        "xlist = ['1', '2']\n",
        "xlist = [int(item) for item in xlist]\n",
        "print(xlist)"
      ],
      "execution_count": null,
      "outputs": [
        {
          "output_type": "stream",
          "text": [
            "[1, 2]\n"
          ],
          "name": "stdout"
        }
      ]
    },
    {
      "cell_type": "markdown",
      "metadata": {
        "id": "s3f5gtSUDZRW"
      },
      "source": [
        "### 3) 반복문 - while\n",
        "- while 키워드 다음의 조건식이 참일 경우 계속 while 안의 블럭을 실행\n",
        "- break 문 : 반복문 안에서 루프를 빠져나오기 위해 사용\n",
        "- continue 문 : 루프 블록의 나머지 문장들을 실행하지 않고 다음 루프로 직접 돌아가게 함."
      ]
    },
    {
      "cell_type": "code",
      "metadata": {
        "id": "t18foMVODFxB",
        "colab": {
          "base_uri": "https://localhost:8080/"
        },
        "outputId": "37e51e92-2505-4331-9726-ff2017752191"
      },
      "source": [
        "i = 1\n",
        "\n",
        "while i <= 5 :\n",
        "  print(i)\n",
        "  i = i + 1"
      ],
      "execution_count": null,
      "outputs": [
        {
          "output_type": "stream",
          "text": [
            "1\n",
            "2\n",
            "3\n",
            "4\n",
            "5\n"
          ],
          "name": "stdout"
        }
      ]
    },
    {
      "cell_type": "code",
      "metadata": {
        "id": "YwxSKFZqDrSB",
        "colab": {
          "base_uri": "https://localhost:8080/"
        },
        "outputId": "0c4a0166-9389-4d10-8909-81c61ece4f58"
      },
      "source": [
        "i = 0\n",
        "\n",
        "while i <= 5 :\n",
        "  i = i + 1\n",
        "  if i == 2 : continue\n",
        "  \n",
        "  print(i)\n",
        "\n",
        "  if i == 4 : break"
      ],
      "execution_count": null,
      "outputs": [
        {
          "output_type": "stream",
          "text": [
            "1\n",
            "3\n",
            "4\n"
          ],
          "name": "stdout"
        }
      ]
    },
    {
      "cell_type": "markdown",
      "metadata": {
        "id": "IbL9B2pnEMlZ"
      },
      "source": [
        "### 4) 해결문제"
      ]
    },
    {
      "cell_type": "code",
      "metadata": {
        "id": "GDMwsL1WELIJ",
        "colab": {
          "base_uri": "https://localhost:8080/"
        },
        "outputId": "7bdfa138-9e47-4cc2-f303-6ebce11b8cdf"
      },
      "source": [
        "# 5개의 숫자를 입력받아서\n",
        "# 리스트에 저장하고 \n",
        "# 짝수와 홀수 리스트를 만드시오.\n",
        "\n",
        "lst_even = list()\n",
        "lst_odd = []\n",
        "\n",
        "for i in range(5) :\n",
        "  num = int(input('숫자 입력 : '))\n",
        "\n",
        "  if num % 2 == 0 :\n",
        "    lst_even.append(num)\n",
        "  else :\n",
        "    lst_odd.append(num)\n",
        "\n",
        "print(lst_even)\n",
        "print(lst_odd)"
      ],
      "execution_count": null,
      "outputs": [
        {
          "output_type": "stream",
          "text": [
            "숫자 입력 : 5\n",
            "숫자 입력 : 2\n",
            "숫자 입력 : 10\n",
            "숫자 입력 : 7\n",
            "숫자 입력 : 1\n",
            "[2, 10]\n",
            "[5, 7, 1]\n"
          ],
          "name": "stdout"
        }
      ]
    },
    {
      "cell_type": "code",
      "metadata": {
        "id": "kYeTwBuCFAwY"
      },
      "source": [
        "# 지역별 식중독 지수와 대응 요령 딕션너리를 참고하여, 해당 지역을 입력받아서\n",
        "# 대응 요령을 출력하시오."
      ],
      "execution_count": null,
      "outputs": []
    },
    {
      "cell_type": "markdown",
      "metadata": {
        "id": "ZjNHmB8rFZNl"
      },
      "source": [
        "- 위험 : 86 이상\n",
        "  - 설사, 구토 등 식중독 의심 증상이 있으면 의료기관을 방문하여 의사 지시에 따름\n",
        "- 경고 : 71 이상 86 미만\n",
        "  - 조리도구는 세척, 소독 등을 거쳐 세균 오염을 방지하고 유통기한, 보관 방법 등을 확인하여 음식물 조리, 보관에 각별히 주의하여야 함\n",
        "- 주의 : 55 이상 71미만\n",
        "  - 조리 음식은 중심부까지 75도(어패류 85도)로 1분 이상 완전히 익히고 외부로 운반할 때에는 가급적 아이스박스 등을 이용하여 10도 이하에서 보관 및 운반\n",
        "- 관심 : 55미만\n",
        "  - 화장실 사용 후, 귀가 후, 조리 전에 손 씻기를 생활화"
      ]
    },
    {
      "cell_type": "code",
      "metadata": {
        "id": "nkKZVfUgW7_U",
        "colab": {
          "base_uri": "https://localhost:8080/"
        },
        "outputId": "029a78b5-3f06-4d97-c256-16d6f2eaf621"
      },
      "source": [
        "area = { '서울시':57, '부산시':62, '대구시':59,\n",
        "         '인천시':59, '강화군':58, '서해5도':64,\n",
        "         '광주시':62, '대전시':60, '울산시':53,\n",
        "         '세종시':58 }\n",
        "\n",
        "report = { '위험':'설사, 구토 등 식중독 의심 증상이 있으면 의료기관을 방문하여 의사 지시에 따름',\n",
        "           '경고':'조리도구는 세척, 소독 등을 거쳐 세균 오염을 방지하고 유통기한, 보관 방법 등을 확인하여 음식물 조리, 보관에 각별히 주의하여야 함',\n",
        "           '주의':'조리 음식은 중심부까지 75도(어패류 85도)로 1분 이상 완전히 익히고 외부로 운반할 때에는 가급적 아이스박스 등을 이용하여 10도 이하에서 보관 및 운반',\n",
        "           '관심':'화장실 사용 후, 귀가 후, 조리 전에 손 씻기를 생활화'\n",
        "          }\n",
        "\n",
        "# 딕셔너리 만들기\n",
        "areashow = {}\n",
        "\n",
        "for key, value in area.items():\n",
        "  if value >= 86: check = '위험'\n",
        "  elif value >= 71 : check = '경고'\n",
        "  elif value >= 55 : check = '주의'\n",
        "  else : check = '관심'\n",
        "\n",
        "  areashow[key] = check\n",
        "\n",
        "print(areashow)\n",
        "print('지역목록',list(area.keys()))\n",
        "indata = input('지역목록의 지역을 입력하세요 : ')\n",
        "print(f'{indata} : {area[indata]} {areashow[indata]} \\n {report[areashow[indata]]}')"
      ],
      "execution_count": null,
      "outputs": [
        {
          "output_type": "stream",
          "text": [
            "{'서울시': '주의', '부산시': '주의', '대구시': '주의', '인천시': '주의', '강화군': '주의', '서해5도': '주의', '광주시': '주의', '대전시': '주의', '울산시': '관심', '세종시': '주의'}\n",
            "지역목록 ['서울시', '부산시', '대구시', '인천시', '강화군', '서해5도', '광주시', '대전시', '울산시', '세종시']\n",
            "지역목록의 지역을 입력하세요 : 부산시\n",
            "부산시 : 62 주의 \n",
            " 조리 음식은 중심부까지 75도(어패류 85도)로 1분 이상 완전히 익히고 외부로 운반할 때에는 가급적 아이스박스 등을 이용하여 10도 이하에서 보관 및 운반\n"
          ],
          "name": "stdout"
        }
      ]
    },
    {
      "cell_type": "markdown",
      "metadata": {
        "id": "EW6Ou9tZwVOs"
      },
      "source": [
        "## 2. 함수"
      ]
    },
    {
      "cell_type": "markdown",
      "metadata": {
        "id": "Rv3-pbEKwZNE"
      },
      "source": [
        "- 특정 기능을 하나로 묶어서 따로 관리하기 위해 사용\n",
        "  - 반복되는 내용을 효율적으로 처리\n",
        "  - 코드의 가독성을 높임\n",
        "- 함수의 종류\n",
        "  - 내장함수 : 파이썬에서 기본으로 제공하는 함수\n",
        "  - 모듈함수 : import를 해서 가져다가 사용할 수 있는 함수\n",
        "  - 사용자정의함수 : 사용자가 함수를 직접 작성\n",
        "- parameter\n",
        "  - 스크립트 파일이 메인 프로그램으로 사용될 때와 모듈로 사용될 때를 구분하기 위한 용도\n",
        "  - if \\_\\_name\\_\\_ == '\\_\\_main__' :"
      ]
    },
    {
      "cell_type": "code",
      "metadata": {
        "id": "8UNezXMExAXP",
        "colab": {
          "base_uri": "https://localhost:8080/"
        },
        "outputId": "d7645944-d093-41f5-fc14-f501d6d75f4c"
      },
      "source": [
        "def cal(num1, num2, op) : \n",
        "  ans = 0\n",
        "  if   op == '+' : ans = num1 + num2\n",
        "  elif op == '-' : ans = num1 - num2\n",
        "  elif op == 'x' : ans = num1 * num2\n",
        "  elif op == '/' : ans = num1 / num2\n",
        "\n",
        "  show(num1, num2, op, ans)\n",
        "\n",
        "def numInput() :\n",
        "  data = int(input('숫자를 입력하세요 : '))\n",
        "  return data\n",
        "\n",
        "def strInput(msg) : \n",
        "  data = input(msg)\n",
        "  return data\n",
        "\n",
        "def show(num1, num2, op, ans) :\n",
        "  print(f'{num1}{op}{num2} = {ans}')\n",
        "\n",
        "if __name__ == '__main__' :\n",
        "  num1 = numInput()\n",
        "  num2 = numInput()\n",
        "  op = strInput('연산자를 입력하세요 : ')\n",
        "  cal(num1, num2, op)\n"
      ],
      "execution_count": null,
      "outputs": [
        {
          "output_type": "stream",
          "text": [
            "숫자를 입력하세요 : 1\n",
            "숫자를 입력하세요 : 2\n",
            "연산자를 입력하세요 : /\n",
            "1/2 = 0.5\n"
          ],
          "name": "stdout"
        }
      ]
    },
    {
      "cell_type": "markdown",
      "metadata": {
        "id": "7KMWjGVRyuxY"
      },
      "source": [
        "### 1) 해결문제"
      ]
    },
    {
      "cell_type": "code",
      "metadata": {
        "id": "Bux7SIt_ymvj",
        "colab": {
          "base_uri": "https://localhost:8080/"
        },
        "outputId": "85e4bbcb-4ee9-4912-d2b8-f1081c283a18"
      },
      "source": [
        "# 가로와 세로를 입력받아서 정사각형인지 직사각형인지 판단하고 면적을 구하시요.\n",
        "\n",
        "width = int(input('width : '))\n",
        "height = int(input('height : '))\n",
        "\n",
        "area = width * height\n",
        "\n",
        "if width == height : print(f'정사각형 넓이 : {area}')\n",
        "else : print(f'직사각형 넓이 : {area}')"
      ],
      "execution_count": null,
      "outputs": [
        {
          "output_type": "stream",
          "text": [
            "width : 10\n",
            "height : 5\n",
            "직사각형 넓이 : 50\n"
          ],
          "name": "stdout"
        }
      ]
    },
    {
      "cell_type": "code",
      "metadata": {
        "id": "QpgLIcP6zTrJ"
      },
      "source": [
        "# 표준체중과 BMI 지수를 구하고 BMI에 따른 비만 여부를 판단하는 프로그램을 작성하세요."
      ],
      "execution_count": null,
      "outputs": []
    },
    {
      "cell_type": "markdown",
      "metadata": {
        "id": "JMs5X5z6zi0P"
      },
      "source": [
        "- 입력 : 체중(kg), 키(cm), 남녀(남1, 여2)\n",
        "- 판단기준 \n",
        "  - 18.5 미만 : 저체중(Underweight)\n",
        "  - 18.5 이상 25 미만 : 정상(Normal range)\n",
        "  - 25 이상 : 비만(Overweight)\n",
        "- 표준체중, BMI 지수, 비만 판단은 함수로 작성\n",
        "- 출력\n",
        "  - 표준체중 = 키(m) x 키(m) x BMI(여자 21, 남자 22)\n",
        "  - BMI = 체중(kg) / (키(m) x 키(m))"
      ]
    },
    {
      "cell_type": "code",
      "metadata": {
        "id": "M3nwo5Wp01TP",
        "colab": {
          "base_uri": "https://localhost:8080/"
        },
        "outputId": "e1eaa896-ecad-4a58-f848-e7ec92763782"
      },
      "source": [
        "weight = float(input('체중 : '))\n",
        "height_cm = float(input('키 : '))\n",
        "height_m = height_cm / 100\n",
        "gender = int(input('성별(남:1, 여:2) : '))\n",
        "\n",
        "bmi = weight / (height_m**2)\n",
        "\n",
        "print('-'*50)\n",
        "\n",
        "def std_weight(gender) :\n",
        "  if gender == 1 :\n",
        "    std = (height_m**2)*22\n",
        "    print(f'표준체중(남) : {std:.2f} kg')\n",
        "  else :\n",
        "    std = (height_m**2)*21\n",
        "    print(f'표준체중(여) : {std:.2f} kg')\n",
        "  \n",
        "  return std\n",
        "\n",
        "def check(bmi) :\n",
        "  if bmi < 18.5 :\n",
        "    print('저체중(Underweight')\n",
        "  elif bmi >= 18.5 and bmi < 25 :\n",
        "    print('정상(Normal range')\n",
        "  else :\n",
        "    print('비만(Overweight)')\n",
        "\n",
        "std_weight(gender)\n",
        "print(f'체질량지수(BMI) : {bmi:.2f}')\n",
        "check(bmi)"
      ],
      "execution_count": null,
      "outputs": [
        {
          "output_type": "stream",
          "text": [
            "체중 : 80\n",
            "키 : 174\n",
            "성별(남:1, 여:2) : 1\n",
            "--------------------------------------------------\n",
            "표준체중(남) : 66.61 kg\n",
            "체질량지수(BMI) : 26.42\n",
            "비만(Overweight)\n"
          ],
          "name": "stdout"
        }
      ]
    },
    {
      "cell_type": "markdown",
      "metadata": {
        "id": "7DQOw-tI_qcS"
      },
      "source": [
        "## 3. 파일(file)"
      ]
    },
    {
      "cell_type": "markdown",
      "metadata": {
        "id": "XtsvunR2_zsP"
      },
      "source": [
        "- 파일생성\n",
        "  - 파일객체 = open(파일이름, 파일열기모드, encoding='UTF-8')\n",
        "  - 파일명이 한글일 경우는 encoding='UTF-8'dmf tkdyd\n",
        "  - 파일열기모드 : r(읽기), w(쓰기), a(추가)\n",
        "- 파일출력함수\n",
        "  - write()\n",
        "- 파일입력함수\n",
        "  - readline() : 파일의 첫 번째 줄을 읽어 출력하는 경우\n",
        "  - readlines() : 파일의 모든 라인을 읽어서 각각의 줄을 요소로 갖는 리스트로 리턴\n",
        "  - read() : 파일의 내용 전체를 문자열로 리턴\n",
        "- 파일 닫기\n",
        "  - 파일객체.close()"
      ]
    },
    {
      "cell_type": "code",
      "metadata": {
        "id": "yXnUCSgb93Y6",
        "colab": {
          "base_uri": "https://localhost:8080/"
        },
        "outputId": "d0db8ee2-6f63-4463-e529-5366b0e706bb"
      },
      "source": [
        "# 파일출력\n",
        "\n",
        "path = '/content/drive/My Drive/DATA/'\n",
        "\n",
        "f = open(path+'test.txt','w')\n",
        "\n",
        "inData = input('기록할 내용1 : ')\n",
        "f.write(inData + '\\n')\n",
        "\n",
        "inData = input('기록할 내용2 : ')\n",
        "f.write(inData + '\\n')\n",
        "\n",
        "f.close()\n",
        "\n",
        "\n",
        "# 파일 추가 기록\n",
        "\n",
        "f = open(path+'test.txt','a')\n",
        "\n",
        "inData = input('기록할 내용3 : ')\n",
        "f.write(inData)\n",
        "\n",
        "f.close()"
      ],
      "execution_count": null,
      "outputs": [
        {
          "output_type": "stream",
          "text": [
            "기록할 내용1 : 안녕하세요\n",
            "기록할 내용2 : 반갑습니다\n",
            "기록할 내용3 : 오늘도 좋은 하루!\n"
          ],
          "name": "stdout"
        }
      ]
    },
    {
      "cell_type": "code",
      "metadata": {
        "id": "iJjYj0pBCmH1",
        "colab": {
          "base_uri": "https://localhost:8080/"
        },
        "outputId": "287bfefa-9a92-4452-afdd-ef157bc7cb7b"
      },
      "source": [
        "# 구글 클래스룸의 자료 가져오기\n",
        "\n",
        "path = '/content/drive/My Drive/DATA/'\n",
        "\n",
        "fp = open(path+'지역평균기온.txt')\n",
        "data = fp.read()\n",
        "fp.close()\n",
        "print(data)"
      ],
      "execution_count": null,
      "outputs": [
        {
          "output_type": "stream",
          "text": [
            "서울,20\n",
            "부산,26\n",
            "대구,24\n",
            "인천,24\n",
            "광주,25\n",
            "대전,22\n",
            "울산,26\n",
            "세종,23\n",
            "경기,24\n",
            "강원,23\n",
            "충북,26\n",
            "충남,22\n",
            "전북,24\n",
            "전남,23\n",
            "경북,28\n",
            "경남,29\n",
            "제주,26\n"
          ],
          "name": "stdout"
        }
      ]
    },
    {
      "cell_type": "code",
      "metadata": {
        "id": "ASEG1byhZTgY",
        "colab": {
          "base_uri": "https://localhost:8080/"
        },
        "outputId": "79cd3ffb-e05d-4479-ac37-9dd60968dc69"
      },
      "source": [
        "# 파일입력\n",
        "\n",
        "path = '/content/drive/My Drive/DATA/'\n",
        "\n",
        "fp = open(path+'지역평균기온.txt', 'r', encoding='utf-8')\n",
        "data = fp.readlines()\n",
        "fp.close()\n",
        "\n",
        "dt = {}\n",
        "for line in data :\n",
        "  line = line.replace('\\n','')\n",
        "  items = line.split(',')\n",
        "  dt[items[0]] = int(items[1])\n",
        "\n",
        "dt"
      ],
      "execution_count": null,
      "outputs": [
        {
          "output_type": "execute_result",
          "data": {
            "text/plain": [
              "{'강원': 23,\n",
              " '경기': 24,\n",
              " '경남': 29,\n",
              " '경북': 28,\n",
              " '광주': 25,\n",
              " '대구': 24,\n",
              " '대전': 22,\n",
              " '부산': 26,\n",
              " '서울': 20,\n",
              " '세종': 23,\n",
              " '울산': 26,\n",
              " '인천': 24,\n",
              " '전남': 23,\n",
              " '전북': 24,\n",
              " '제주': 26,\n",
              " '충남': 22,\n",
              " '충북': 26}"
            ]
          },
          "metadata": {
            "tags": []
          },
          "execution_count": 2
        }
      ]
    },
    {
      "cell_type": "code",
      "metadata": {
        "id": "nY4jKym_aqEo",
        "colab": {
          "base_uri": "https://localhost:8080/"
        },
        "outputId": "8ad46758-3fb2-4c88-f7a3-b62a85f0d5c8"
      },
      "source": [
        "# with ... as 구문 사용하기\n",
        "\n",
        "with open('지역평균기온.txt', 'r') as fp :\n",
        "  data = fp.readlines()\n",
        "print(data)"
      ],
      "execution_count": null,
      "outputs": [
        {
          "output_type": "stream",
          "text": [
            "['서울,20\\n', '부산,26\\n', '대구,24\\n', '인천,24\\n', '광주,25\\n', '대전,22\\n', '울산,26\\n', '세종,23\\n', '경기,24\\n', '강원,23\\n', '충북,26\\n', '충남,22\\n', '전북,24\\n', '전남,23\\n', '경북,28\\n', '경남,29\\n', '제주,26']\n"
          ],
          "name": "stdout"
        }
      ]
    },
    {
      "cell_type": "markdown",
      "metadata": {
        "id": "RvUmVJLecMj_"
      },
      "source": [
        "### 1) 해결문제"
      ]
    },
    {
      "cell_type": "code",
      "metadata": {
        "id": "vN1RYGpAdule"
      },
      "source": [
        "# Colab에서 한글 글꼴 쓰기\n",
        "!sudo apt-get install -y fonts-nanum\n",
        "!sudo fc-cache -fv\n",
        "!rm ~/.cache/matplotlib -rf\n",
        "# 이후 런타임 재실행\n",
        "\n",
        "# import matplotlib.pyplot as plt\n",
        "# plt.rc('font', family='NanumBarunGothic') # 한글 글꼴 설정"
      ],
      "execution_count": null,
      "outputs": []
    },
    {
      "cell_type": "code",
      "metadata": {
        "id": "Ru7g_WPPbm3Q",
        "colab": {
          "base_uri": "https://localhost:8080/",
          "height": 241
        },
        "outputId": "e4111cef-6baf-4ebe-e37c-1c7bc0444cd1"
      },
      "source": [
        "# 지역평균기온.txt 파일을 읽어서 딕션너리를 만들고, 그래프를 표시하세요.\n",
        "\n",
        "fp = open('test.csv')\n",
        "data = fp.readlines()\n",
        "fp.close()\n",
        "\n",
        "dt = {}\n",
        "\n",
        "for line in data : \n",
        "  line = line.replace('\\n', '')\n",
        "  items = line.split(',')\n",
        "  dt[items[0]] = int(items[1])\n",
        "print(dt)\n",
        "\n",
        "area = list(dt.keys())\n",
        "temp = list(dt.values())\n",
        "print(area)\n",
        "print(temp)\n",
        "\n",
        "# 그래프 그리기\n",
        "\n",
        "import matplotlib.pyplot as plt\n",
        "\n",
        "plt.rc('font', family='NanumBarunGothic') # 한글 글꼴 설정\n",
        "\n",
        "plt.figure(figsize=(10, 5))\n",
        "plt.plot(area, temp, 'go--', color='skyblue')\n",
        "plt.xticks(rotation=0)\n",
        "plt.title('지역평균기온')\n",
        "plt.show()"
      ],
      "execution_count": null,
      "outputs": [
        {
          "output_type": "error",
          "ename": "ValueError",
          "evalue": "ignored",
          "traceback": [
            "\u001b[0;31m---------------------------------------------------------------------------\u001b[0m",
            "\u001b[0;31mValueError\u001b[0m                                Traceback (most recent call last)",
            "\u001b[0;32m<ipython-input-1-ac22058232fb>\u001b[0m in \u001b[0;36m<module>\u001b[0;34m()\u001b[0m\n\u001b[1;32m     10\u001b[0m   \u001b[0mline\u001b[0m \u001b[0;34m=\u001b[0m \u001b[0mline\u001b[0m\u001b[0;34m.\u001b[0m\u001b[0mreplace\u001b[0m\u001b[0;34m(\u001b[0m\u001b[0;34m'\\n'\u001b[0m\u001b[0;34m,\u001b[0m \u001b[0;34m''\u001b[0m\u001b[0;34m)\u001b[0m\u001b[0;34m\u001b[0m\u001b[0;34m\u001b[0m\u001b[0m\n\u001b[1;32m     11\u001b[0m   \u001b[0mitems\u001b[0m \u001b[0;34m=\u001b[0m \u001b[0mline\u001b[0m\u001b[0;34m.\u001b[0m\u001b[0msplit\u001b[0m\u001b[0;34m(\u001b[0m\u001b[0;34m','\u001b[0m\u001b[0;34m)\u001b[0m\u001b[0;34m\u001b[0m\u001b[0;34m\u001b[0m\u001b[0m\n\u001b[0;32m---> 12\u001b[0;31m   \u001b[0mdt\u001b[0m\u001b[0;34m[\u001b[0m\u001b[0mitems\u001b[0m\u001b[0;34m[\u001b[0m\u001b[0;36m0\u001b[0m\u001b[0;34m]\u001b[0m\u001b[0;34m]\u001b[0m \u001b[0;34m=\u001b[0m \u001b[0mint\u001b[0m\u001b[0;34m(\u001b[0m\u001b[0mitems\u001b[0m\u001b[0;34m[\u001b[0m\u001b[0;36m1\u001b[0m\u001b[0;34m]\u001b[0m\u001b[0;34m)\u001b[0m\u001b[0;34m\u001b[0m\u001b[0;34m\u001b[0m\u001b[0m\n\u001b[0m\u001b[1;32m     13\u001b[0m \u001b[0mprint\u001b[0m\u001b[0;34m(\u001b[0m\u001b[0mdt\u001b[0m\u001b[0;34m)\u001b[0m\u001b[0;34m\u001b[0m\u001b[0;34m\u001b[0m\u001b[0m\n\u001b[1;32m     14\u001b[0m \u001b[0;34m\u001b[0m\u001b[0m\n",
            "\u001b[0;31mValueError\u001b[0m: invalid literal for int() with base 10: '0.005555527'"
          ]
        }
      ]
    },
    {
      "cell_type": "code",
      "metadata": {
        "id": "TKhUzK9Vwapt"
      },
      "source": [
        ""
      ],
      "execution_count": null,
      "outputs": []
    }
  ]
}