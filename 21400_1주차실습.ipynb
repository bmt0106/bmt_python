{
  "nbformat": 4,
  "nbformat_minor": 0,
  "metadata": {
    "colab": {
      "name": "21400_1주차실습.ipynb",
      "provenance": [],
      "authorship_tag": "ABX9TyO1iTR0jTMpUPz6L1meHloe",
      "include_colab_link": true
    },
    "kernelspec": {
      "name": "python3",
      "display_name": "Python 3"
    },
    "language_info": {
      "name": "python"
    }
  },
  "cells": [
    {
      "cell_type": "markdown",
      "metadata": {
        "id": "view-in-github",
        "colab_type": "text"
      },
      "source": [
        "<a href=\"https://colab.research.google.com/github/bmt0106/bmt_python/blob/main/21400_1%EC%A3%BC%EC%B0%A8%EC%8B%A4%EC%8A%B5.ipynb\" target=\"_parent\"><img src=\"https://colab.research.google.com/assets/colab-badge.svg\" alt=\"Open In Colab\"/></a>"
      ]
    },
    {
      "cell_type": "code",
      "metadata": {
        "colab": {
          "base_uri": "https://localhost:8080/"
        },
        "id": "ukV-bxXCU7aQ",
        "outputId": "f482e250-6fb3-47de-d9fd-5a3a866f67ef"
      },
      "source": [
        "import csv\n",
        "\n",
        "f = open('busan.csv', 'r', encoding='cp949')\n",
        "data = csv.reader(f, delimiter=',')\n",
        "print(data)\n",
        "f.close()"
      ],
      "execution_count": null,
      "outputs": [
        {
          "output_type": "stream",
          "text": [
            "<_csv.reader object at 0x7fe120349dd0>\n"
          ],
          "name": "stdout"
        }
      ]
    },
    {
      "cell_type": "code",
      "metadata": {
        "id": "FHAfAcOSYZOv"
      },
      "source": [
        "import csv\n",
        "\n",
        "f = open('busan.csv','r',encoding='cp949')\n",
        "data = csv.reader(f,delimiter=',')\n",
        "for row in data:\n",
        "  print(row)\n",
        "f.close()"
      ],
      "execution_count": null,
      "outputs": []
    },
    {
      "cell_type": "code",
      "metadata": {
        "colab": {
          "base_uri": "https://localhost:8080/"
        },
        "id": "eNocdnAOaozP",
        "outputId": "67ababa4-1302-4b8b-b28d-fc619d7870a1"
      },
      "source": [
        "import csv\n",
        "\n",
        "f = open('busan.csv','r',encoding='cp949')\n",
        "data = csv.reader(f)\n",
        "\n",
        "header = next(data)\n",
        "print(header)\n",
        "\n",
        "f.close()"
      ],
      "execution_count": null,
      "outputs": [
        {
          "output_type": "stream",
          "text": [
            "['날짜', '지점', '평균기온(℃)', '최저기온(℃)', '최고기온(℃)']\n"
          ],
          "name": "stdout"
        }
      ]
    },
    {
      "cell_type": "code",
      "metadata": {
        "colab": {
          "base_uri": "https://localhost:8080/",
          "height": 383
        },
        "id": "n2B1NH5EcLxv",
        "outputId": "ac16dda9-8703-4c40-bf0d-28ef12d05f80"
      },
      "source": [
        "import csv\n",
        "\n",
        "f = open('busan.csv', 'r', encoding='cp949')\n",
        "data = csv.reader(f)\n",
        "\n",
        "header = next(data)\n",
        "for row in data:\n",
        "  row[-1]=float(row[-1])\n",
        "  print(row)"
      ],
      "execution_count": null,
      "outputs": [
        {
          "output_type": "stream",
          "text": [
            "['1904-04-09', '159', '11.3', '7.8', 16.1]\n",
            "['1904-04-10', '159', '9.3', '4.7', 15.2]\n",
            "['1904-04-11', '159', '10.6', '', 14.9]\n",
            "['1904-04-12', '159', '11.3', '8.8', 13.4]\n",
            "['1904-04-13', '159', '14.5', '11.1', 16.9]\n",
            "['1904-04-14', '159', '9.4', '8.6', 16.0]\n",
            "['1904-04-15', '159', '8.8', '7.4', 10.5]\n",
            "['1904-04-16', '159', '9.2', '6.7', 11.3]\n",
            "['1904-04-17', '159', '10.3', '', 12.6]\n"
          ],
          "name": "stdout"
        },
        {
          "output_type": "error",
          "ename": "ValueError",
          "evalue": "ignored",
          "traceback": [
            "\u001b[0;31m---------------------------------------------------------------------------\u001b[0m",
            "\u001b[0;31mValueError\u001b[0m                                Traceback (most recent call last)",
            "\u001b[0;32m<ipython-input-7-f1244dbb1bcf>\u001b[0m in \u001b[0;36m<module>\u001b[0;34m()\u001b[0m\n\u001b[1;32m      6\u001b[0m \u001b[0mheader\u001b[0m \u001b[0;34m=\u001b[0m \u001b[0mnext\u001b[0m\u001b[0;34m(\u001b[0m\u001b[0mdata\u001b[0m\u001b[0;34m)\u001b[0m\u001b[0;34m\u001b[0m\u001b[0;34m\u001b[0m\u001b[0m\n\u001b[1;32m      7\u001b[0m \u001b[0;32mfor\u001b[0m \u001b[0mrow\u001b[0m \u001b[0;32min\u001b[0m \u001b[0mdata\u001b[0m\u001b[0;34m:\u001b[0m\u001b[0;34m\u001b[0m\u001b[0;34m\u001b[0m\u001b[0m\n\u001b[0;32m----> 8\u001b[0;31m   \u001b[0mrow\u001b[0m\u001b[0;34m[\u001b[0m\u001b[0;34m-\u001b[0m\u001b[0;36m1\u001b[0m\u001b[0;34m]\u001b[0m\u001b[0;34m=\u001b[0m\u001b[0mfloat\u001b[0m\u001b[0;34m(\u001b[0m\u001b[0mrow\u001b[0m\u001b[0;34m[\u001b[0m\u001b[0;34m-\u001b[0m\u001b[0;36m1\u001b[0m\u001b[0;34m]\u001b[0m\u001b[0;34m)\u001b[0m\u001b[0;34m\u001b[0m\u001b[0;34m\u001b[0m\u001b[0m\n\u001b[0m\u001b[1;32m      9\u001b[0m   \u001b[0mprint\u001b[0m\u001b[0;34m(\u001b[0m\u001b[0mrow\u001b[0m\u001b[0;34m)\u001b[0m\u001b[0;34m\u001b[0m\u001b[0;34m\u001b[0m\u001b[0m\n",
            "\u001b[0;31mValueError\u001b[0m: could not convert string to float: "
          ]
        }
      ]
    },
    {
      "cell_type": "code",
      "metadata": {
        "id": "VH6USNQoh63g"
      },
      "source": [
        "import csv\n",
        "\n",
        "f = open('busan.csv', 'r', encoding='cp949')\n",
        "data = csv.reader(f)\n",
        "\n",
        "header = next(data)\n",
        "for row in data:\n",
        "  if row[-1] == '':\n",
        "    row[-1] = -999\n",
        "  row[-1] = float(row[-1])\n",
        "  print(row)\n",
        "\n",
        "f.close()"
      ],
      "execution_count": null,
      "outputs": []
    },
    {
      "cell_type": "code",
      "metadata": {
        "colab": {
          "base_uri": "https://localhost:8080/"
        },
        "id": "rX-ycD8MjbsV",
        "outputId": "543c7792-8e7a-4e0f-e941-246b8c53f694"
      },
      "source": [
        "import csv\n",
        "\n",
        "f = open('busan.csv', 'r', encoding='cp949')\n",
        "data = csv.reader(f)\n",
        "\n",
        "header = next(data)\n",
        "\n",
        "max_temp = -999\n",
        "max_date = ''\n",
        "\n",
        "for row in data:\n",
        "  if row[-1] == '':\n",
        "    row[-1] = -100\n",
        "  row[-1] = float(row[-1])\n",
        "\n",
        "  if max_temp < row[-1]:\n",
        "    max_temp = row[-1]\n",
        "    max_date = row[0]\n",
        "\n",
        "print(max_temp)\n",
        "print(max_date)"
      ],
      "execution_count": null,
      "outputs": [
        {
          "output_type": "stream",
          "text": [
            "37.3\n",
            "2016-08-14\n"
          ],
          "name": "stdout"
        }
      ]
    },
    {
      "cell_type": "code",
      "metadata": {
        "colab": {
          "base_uri": "https://localhost:8080/"
        },
        "id": "BW1cUGEkl9-Q",
        "outputId": "7d755db0-813e-4151-8e87-6019bea5df26"
      },
      "source": [
        "import csv\n",
        "\n",
        "f = open('busan.csv', 'r', encoding='cp949')\n",
        "data = csv.reader(f)\n",
        "header = next(data)\n",
        "\n",
        "min_temp = 999\n",
        "min_date = ''\n",
        "\n",
        "for row in data:\n",
        "  if row[-2] == '':\n",
        "    row[-2] = 100\n",
        "  row[-2] = float(row[-2])\n",
        "\n",
        "  if min_temp > row[-2]:\n",
        "    min_temp = row[-2]\n",
        "    min_date = row[0]\n",
        "\n",
        "print(min_temp)\n",
        "print(min_date)\n"
      ],
      "execution_count": null,
      "outputs": [
        {
          "output_type": "stream",
          "text": [
            "-14.0\n",
            "1915-01-13\n"
          ],
          "name": "stdout"
        }
      ]
    },
    {
      "cell_type": "code",
      "metadata": {
        "id": "AbKWLCRWotB_"
      },
      "source": [
        ""
      ],
      "execution_count": null,
      "outputs": []
    }
  ]
}