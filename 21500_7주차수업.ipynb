{
  "nbformat": 4,
  "nbformat_minor": 0,
  "metadata": {
    "colab": {
      "name": "21500_7주차수업.ipynb",
      "provenance": [],
      "collapsed_sections": [],
      "authorship_tag": "ABX9TyPfP5vRLDoRnk5On1D9YC5q",
      "include_colab_link": true
    },
    "kernelspec": {
      "name": "python3",
      "display_name": "Python 3"
    },
    "language_info": {
      "name": "python"
    }
  },
  "cells": [
    {
      "cell_type": "markdown",
      "metadata": {
        "id": "view-in-github",
        "colab_type": "text"
      },
      "source": [
        "<a href=\"https://colab.research.google.com/github/bmt0106/bmt_python/blob/main/21500_7%EC%A3%BC%EC%B0%A8%EC%88%98%EC%97%85.ipynb\" target=\"_parent\"><img src=\"https://colab.research.google.com/assets/colab-badge.svg\" alt=\"Open In Colab\"/></a>"
      ]
    },
    {
      "cell_type": "code",
      "metadata": {
        "colab": {
          "base_uri": "https://localhost:8080/"
        },
        "id": "_1INN02WI6Sr",
        "outputId": "a07a651b-d078-4150-f463-79e0069e3dae"
      },
      "source": [
        "x = int(input('값 입력 : '))"
      ],
      "execution_count": 7,
      "outputs": [
        {
          "output_type": "stream",
          "text": [
            "값 입력 : 4\n"
          ],
          "name": "stdout"
        }
      ]
    },
    {
      "cell_type": "code",
      "metadata": {
        "colab": {
          "base_uri": "https://localhost:8080/"
        },
        "id": "dwglfUrcKBH3",
        "outputId": "3e74fcdf-9027-4bb0-c5a9-8a5f3fd369e4"
      },
      "source": [
        "if x % 2 == 0:\n",
        "  print(f'{x} : even')\n",
        "  print('babo')\n",
        "print('hello')"
      ],
      "execution_count": 8,
      "outputs": [
        {
          "output_type": "stream",
          "text": [
            "4 : even\n",
            "babo\n",
            "hello\n"
          ],
          "name": "stdout"
        }
      ]
    },
    {
      "cell_type": "code",
      "metadata": {
        "colab": {
          "base_uri": "https://localhost:8080/"
        },
        "id": "uG8BXK3lKfJw",
        "outputId": "d4ce9bc9-3ce9-4b5c-db38-b80bfdf57080"
      },
      "source": [
        "x = int(input('값 입력 : '))\n",
        "if x % 2 == 0 :\n",
        "  print(f'{x} : 짝수')\n",
        "elif x % 2 == 1 :\n",
        "  print(f'{x} : 홀수')\n",
        "  "
      ],
      "execution_count": 11,
      "outputs": [
        {
          "output_type": "stream",
          "text": [
            "값 입력 : 2\n",
            "2 : 짝수\n"
          ],
          "name": "stdout"
        }
      ]
    },
    {
      "cell_type": "code",
      "metadata": {
        "colab": {
          "base_uri": "https://localhost:8080/"
        },
        "id": "aiOV95cgLJJX",
        "outputId": "b78768ad-bcc4-41e1-a408-adf83ff9306e"
      },
      "source": [
        "x = float(input('성적입력 : '))\n",
        "\n",
        "if x >= 70 :\n",
        "  print(f'{x} : PASS')\n",
        "elif x >= 60:   # 69 ~ 60\n",
        "  print(f'{x} : 재시험')\n",
        "else:\n",
        "  print(f'{x} : fail')"
      ],
      "execution_count": 12,
      "outputs": [
        {
          "output_type": "stream",
          "text": [
            "성적입력 : 90\n",
            "90.0 : PASS\n"
          ],
          "name": "stdout"
        }
      ]
    },
    {
      "cell_type": "code",
      "metadata": {
        "colab": {
          "base_uri": "https://localhost:8080/"
        },
        "id": "WdvUzW5WMQxY",
        "outputId": "14d4e994-7d71-4a7b-ac41-c104d210665a"
      },
      "source": [
        "str = '안녕하세요.'\n",
        "\n",
        "'.' in '안녕하세요'"
      ],
      "execution_count": 15,
      "outputs": [
        {
          "output_type": "execute_result",
          "data": {
            "text/plain": [
              "False"
            ]
          },
          "metadata": {
            "tags": []
          },
          "execution_count": 15
        }
      ]
    },
    {
      "cell_type": "code",
      "metadata": {
        "colab": {
          "base_uri": "https://localhost:8080/"
        },
        "id": "1-YaOsubNpQb",
        "outputId": "49b8decf-0dc4-4027-ff71-7b7555c2f984"
      },
      "source": [
        "1 in [1,2,3]"
      ],
      "execution_count": 16,
      "outputs": [
        {
          "output_type": "execute_result",
          "data": {
            "text/plain": [
              "True"
            ]
          },
          "metadata": {
            "tags": []
          },
          "execution_count": 16
        }
      ]
    },
    {
      "cell_type": "code",
      "metadata": {
        "colab": {
          "base_uri": "https://localhost:8080/"
        },
        "id": "06hGO7OrN08i",
        "outputId": "8943af91-73ee-4e00-d7d7-376a04330d87"
      },
      "source": [
        "str = '안녕하세요'\n",
        "\n",
        "for i in str:\n",
        "  print(i)"
      ],
      "execution_count": 17,
      "outputs": [
        {
          "output_type": "stream",
          "text": [
            "안\n",
            "녕\n",
            "하\n",
            "세\n",
            "요\n"
          ],
          "name": "stdout"
        }
      ]
    },
    {
      "cell_type": "code",
      "metadata": {
        "colab": {
          "base_uri": "https://localhost:8080/"
        },
        "id": "l2c8NnbNOP1i",
        "outputId": "b867762e-81ec-4fd9-d191-ce405f841426"
      },
      "source": [
        "# lst = [0, 1, 2, 3, 4]\n",
        "lst = list(range(5))\n",
        "\n",
        "for item in lst:\n",
        "  print(item)"
      ],
      "execution_count": 19,
      "outputs": [
        {
          "output_type": "stream",
          "text": [
            "0\n",
            "1\n",
            "2\n",
            "3\n",
            "4\n"
          ],
          "name": "stdout"
        }
      ]
    },
    {
      "cell_type": "code",
      "metadata": {
        "colab": {
          "base_uri": "https://localhost:8080/"
        },
        "id": "ivnrTodMOhSi",
        "outputId": "1e5b175c-66a8-407c-8a28-70ba32dd0b79"
      },
      "source": [
        "for item in range(5):\n",
        "  print(item, end=' ')\n",
        "  print(item*2, end=' ')\n",
        "  print(item**2, end=' ')\n",
        "  print()"
      ],
      "execution_count": 23,
      "outputs": [
        {
          "output_type": "stream",
          "text": [
            "0 0 0 \n",
            "1 2 1 \n",
            "2 4 4 \n",
            "3 6 9 \n",
            "4 8 16 \n"
          ],
          "name": "stdout"
        }
      ]
    },
    {
      "cell_type": "code",
      "metadata": {
        "colab": {
          "base_uri": "https://localhost:8080/"
        },
        "id": "CAuh5heyOnuy",
        "outputId": "b9159bf5-ce92-4668-b47a-f1b3041aed97"
      },
      "source": [
        "d = {'a':1, 'b':2}\n",
        "\n",
        "for item in d:\n",
        "  print(item)"
      ],
      "execution_count": 28,
      "outputs": [
        {
          "output_type": "stream",
          "text": [
            "a\n",
            "b\n"
          ],
          "name": "stdout"
        }
      ]
    },
    {
      "cell_type": "code",
      "metadata": {
        "colab": {
          "base_uri": "https://localhost:8080/"
        },
        "id": "GX0zDWDWPfpU",
        "outputId": "359aeab9-e9c9-4cf8-fd13-1695ae416791"
      },
      "source": [
        "for item in d.values():\n",
        "  print(item)"
      ],
      "execution_count": 29,
      "outputs": [
        {
          "output_type": "stream",
          "text": [
            "1\n",
            "2\n"
          ],
          "name": "stdout"
        }
      ]
    },
    {
      "cell_type": "code",
      "metadata": {
        "colab": {
          "base_uri": "https://localhost:8080/"
        },
        "id": "T0J2T_AhPn3Y",
        "outputId": "1bc6165f-db3b-49c3-89f7-ca97e8d9c43d"
      },
      "source": [
        "for item in d.keys():\n",
        "  print(item)"
      ],
      "execution_count": 30,
      "outputs": [
        {
          "output_type": "stream",
          "text": [
            "a\n",
            "b\n"
          ],
          "name": "stdout"
        }
      ]
    },
    {
      "cell_type": "code",
      "metadata": {
        "colab": {
          "base_uri": "https://localhost:8080/"
        },
        "id": "PKVfaQW2PpHC",
        "outputId": "7e71c57e-859a-4cc9-bf6c-d00622702d25"
      },
      "source": [
        "for key, value in d.items():\n",
        "  print(key, value)"
      ],
      "execution_count": 33,
      "outputs": [
        {
          "output_type": "stream",
          "text": [
            "a 1\n",
            "b 2\n"
          ],
          "name": "stdout"
        }
      ]
    },
    {
      "cell_type": "code",
      "metadata": {
        "colab": {
          "base_uri": "https://localhost:8080/"
        },
        "id": "gKbgtm00QZA8",
        "outputId": "d0964f8f-d713-4e0f-f154-510fb05ae887"
      },
      "source": [
        "value"
      ],
      "execution_count": 35,
      "outputs": [
        {
          "output_type": "execute_result",
          "data": {
            "text/plain": [
              "2"
            ]
          },
          "metadata": {
            "tags": []
          },
          "execution_count": 35
        }
      ]
    },
    {
      "cell_type": "code",
      "metadata": {
        "id": "WeFoQ9zuQcSM"
      },
      "source": [
        "xlist = range(10)"
      ],
      "execution_count": 36,
      "outputs": []
    },
    {
      "cell_type": "code",
      "metadata": {
        "colab": {
          "base_uri": "https://localhost:8080/"
        },
        "id": "IOHTVqAMQ5fT",
        "outputId": "babfbac2-909b-4de0-9cf8-018ff064804b"
      },
      "source": [
        "list(xlist)"
      ],
      "execution_count": 38,
      "outputs": [
        {
          "output_type": "execute_result",
          "data": {
            "text/plain": [
              "[0, 1, 2, 3, 4, 5, 6, 7, 8, 9]"
            ]
          },
          "metadata": {
            "tags": []
          },
          "execution_count": 38
        }
      ]
    },
    {
      "cell_type": "code",
      "metadata": {
        "colab": {
          "base_uri": "https://localhost:8080/"
        },
        "id": "d6-vKJ4QQ6dz",
        "outputId": "353f1194-d573-47ae-bfb1-f523ee2db5c4"
      },
      "source": [
        "for item in xlist:\n",
        "  print(item, end=' ')"
      ],
      "execution_count": 40,
      "outputs": [
        {
          "output_type": "stream",
          "text": [
            "0 1 2 3 4 5 6 7 8 9 "
          ],
          "name": "stdout"
        }
      ]
    },
    {
      "cell_type": "code",
      "metadata": {
        "id": "t9I90WaLROPj"
      },
      "source": [
        "xlist = ['1', '2']\n",
        "\n",
        "xlist = [ int(item) for item in xlist ]"
      ],
      "execution_count": 41,
      "outputs": []
    },
    {
      "cell_type": "code",
      "metadata": {
        "colab": {
          "base_uri": "https://localhost:8080/"
        },
        "id": "VERbIXyJR3Pj",
        "outputId": "71871698-3444-43e2-dfdd-cdf9a7fcf1ea"
      },
      "source": [
        "xlist"
      ],
      "execution_count": 42,
      "outputs": [
        {
          "output_type": "execute_result",
          "data": {
            "text/plain": [
              "[1, 2]"
            ]
          },
          "metadata": {
            "tags": []
          },
          "execution_count": 42
        }
      ]
    },
    {
      "cell_type": "code",
      "metadata": {
        "colab": {
          "base_uri": "https://localhost:8080/"
        },
        "id": "thn0C4y2R38D",
        "outputId": "1a2b5ddb-5308-499d-dff3-2345d7384662"
      },
      "source": [
        "i = 0\n",
        "\n",
        "while i <= 5 :\n",
        "  i = i + 1\n",
        "  if i == 2 : continue\n",
        "  \n",
        "  print(i)\n",
        "\n",
        "  if i == 4 : break"
      ],
      "execution_count": 43,
      "outputs": [
        {
          "output_type": "stream",
          "text": [
            "1\n",
            "3\n",
            "4\n"
          ],
          "name": "stdout"
        }
      ]
    }
  ]
}