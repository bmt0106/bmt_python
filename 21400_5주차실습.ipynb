{
  "nbformat": 4,
  "nbformat_minor": 0,
  "metadata": {
    "colab": {
      "name": "21400_5주차실습.ipynb",
      "provenance": [],
      "collapsed_sections": [],
      "authorship_tag": "ABX9TyPQ8gFREundElMkGS1hK77n",
      "include_colab_link": true
    },
    "kernelspec": {
      "name": "python3",
      "display_name": "Python 3"
    },
    "language_info": {
      "name": "python"
    }
  },
  "cells": [
    {
      "cell_type": "markdown",
      "metadata": {
        "id": "view-in-github",
        "colab_type": "text"
      },
      "source": [
        "<a href=\"https://colab.research.google.com/github/bmt0106/bmt_python/blob/main/21400_5%EC%A3%BC%EC%B0%A8%EC%8B%A4%EC%8A%B5.ipynb\" target=\"_parent\"><img src=\"https://colab.research.google.com/assets/colab-badge.svg\" alt=\"Open In Colab\"/></a>"
      ]
    },
    {
      "cell_type": "code",
      "metadata": {
        "id": "b_VF0VePQF5z"
      },
      "source": [
        "corona = '''\n",
        "코로나(corona)는 라틴말로 왕관을 뜻하며 통상 태양을 둘러싼 외곽의 빛(광환)을 지칭한다.\n",
        "코로나 바이러스라는 이름은 전자현미경으로 이 바이러스를 관찰했을 때 마치 코로나와 유사한 모양을 띠어 붙여진 이름이다.\n",
        "이번에 중국의 우환에서 시작된 코로나 바이러스는 2019년에 발견된 새로운 코로나 바이러스라는 뜻으로 2019-nCov로 붙여졌다.\n",
        "nCov는 novel(새로운) Cov(코로나 바이러스)라는 뜻이다.\n",
        "'''"
      ],
      "execution_count": null,
      "outputs": []
    }
  ]
}