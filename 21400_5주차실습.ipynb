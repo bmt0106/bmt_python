{
  "nbformat": 4,
  "nbformat_minor": 0,
  "metadata": {
    "colab": {
      "name": "21400_5주차실습.ipynb",
      "provenance": [],
      "collapsed_sections": [],
      "authorship_tag": "ABX9TyOmN5iPM6Y+0fSyipjO196d",
      "include_colab_link": true
    },
    "kernelspec": {
      "name": "python3",
      "display_name": "Python 3"
    },
    "language_info": {
      "name": "python"
    }
  },
  "cells": [
    {
      "cell_type": "markdown",
      "metadata": {
        "id": "view-in-github",
        "colab_type": "text"
      },
      "source": [
        "<a href=\"https://colab.research.google.com/github/bmt0106/bmt_python/blob/main/21400_5%EC%A3%BC%EC%B0%A8%EC%8B%A4%EC%8A%B5.ipynb\" target=\"_parent\"><img src=\"https://colab.research.google.com/assets/colab-badge.svg\" alt=\"Open In Colab\"/></a>"
      ]
    },
    {
      "cell_type": "code",
      "metadata": {
        "id": "NcORxzRY1eUz"
      },
      "source": [
        "corona = '''\n",
        "코로나(corona)는 라틴말로 왕관을 뜻하며 통상 태양을 둘러싼 외곽의 빛(광환)을 지칭한다.\n",
        "코로나 바이러스라는 이름은 전자현미경으로 이 바이러스를 관찰했을 때 마치 코로나와 유사한 모양을 띠어 붙여진 이름이다.\n",
        "이번에 중국의 우환에서 시작된 코로나 바이러스는 2019년에 발견된 새로운 코로나 바이러스라는 뜻으로 2019-nCov로 붙여졌다.\n",
        "nCov는 novel(새로운) Cov(코로나 바이러스)라는 뜻이다.\n",
        "'''"
      ],
      "execution_count": 1,
      "outputs": []
    },
    {
      "cell_type": "code",
      "metadata": {
        "colab": {
          "base_uri": "https://localhost:8080/",
          "height": 104
        },
        "id": "RgWi3tcY2H-X",
        "outputId": "f1138faf-bf00-4981-cd34-f82a463befc2"
      },
      "source": [
        "corona"
      ],
      "execution_count": 2,
      "outputs": [
        {
          "output_type": "execute_result",
          "data": {
            "application/vnd.google.colaboratory.intrinsic+json": {
              "type": "string"
            },
            "text/plain": [
              "'\\n코로나(corona)는 라틴말로 왕관을 뜻하며 통상 태양을 둘러싼 외곽의 빛(광환)을 지칭한다.\\n코로나 바이러스라는 이름은 전자현미경으로 이 바이러스를 관찰했을 때 마치 코로나와 유사한 모양을 띠어 붙여진 이름이다.\\n이번에 중국의 우환에서 시작된 코로나 바이러스는 2019년에 발견된 새로운 코로나 바이러스라는 뜻으로 2019-nCov로 붙여졌다.\\nnCov는 novel(새로운) Cov(코로나 바이러스)라는 뜻이다.\\n'"
            ]
          },
          "metadata": {
            "tags": []
          },
          "execution_count": 2
        }
      ]
    },
    {
      "cell_type": "code",
      "metadata": {
        "colab": {
          "base_uri": "https://localhost:8080/"
        },
        "id": "YLHWGXFA2KAf",
        "outputId": "df69c2fa-7b8f-42bf-bda4-88b47412c251"
      },
      "source": [
        "print('-'*50)"
      ],
      "execution_count": 3,
      "outputs": [
        {
          "output_type": "stream",
          "text": [
            "--------------------------------------------------\n"
          ],
          "name": "stdout"
        }
      ]
    },
    {
      "cell_type": "code",
      "metadata": {
        "colab": {
          "base_uri": "https://localhost:8080/"
        },
        "id": "4VZwpdVd2onA",
        "outputId": "643e2d30-2c95-4462-f458-91cb525fc92b"
      },
      "source": [
        "sentence = corona.count('.')\n",
        "sentence"
      ],
      "execution_count": 4,
      "outputs": [
        {
          "output_type": "execute_result",
          "data": {
            "text/plain": [
              "4"
            ]
          },
          "metadata": {
            "tags": []
          },
          "execution_count": 4
        }
      ]
    },
    {
      "cell_type": "code",
      "metadata": {
        "colab": {
          "base_uri": "https://localhost:8080/"
        },
        "id": "BwZzP3833Hc_",
        "outputId": "b5c8f451-171f-418b-a1df-ccaac1d3ea72"
      },
      "source": [
        "print(f'{sentence} 개의 문장으로 이루어짐.')"
      ],
      "execution_count": 5,
      "outputs": [
        {
          "output_type": "stream",
          "text": [
            "4 개의 문장으로 이루어짐.\n"
          ],
          "name": "stdout"
        }
      ]
    },
    {
      "cell_type": "code",
      "metadata": {
        "colab": {
          "base_uri": "https://localhost:8080/",
          "height": 104
        },
        "id": "HydEBJjy3ZfY",
        "outputId": "68c3db0d-afdd-41bf-c46d-72f39ed384a7"
      },
      "source": [
        "temp = corona.replace('\\n','')\n",
        "temp"
      ],
      "execution_count": 8,
      "outputs": [
        {
          "output_type": "execute_result",
          "data": {
            "application/vnd.google.colaboratory.intrinsic+json": {
              "type": "string"
            },
            "text/plain": [
              "'코로나(corona)는 라틴말로 왕관을 뜻하며 통상 태양을 둘러싼 외곽의 빛(광환)을 지칭한다.코로나 바이러스라는 이름은 전자현미경으로 이 바이러스를 관찰했을 때 마치 코로나와 유사한 모양을 띠어 붙여진 이름이다.이번에 중국의 우환에서 시작된 코로나 바이러스는 2019년에 발견된 새로운 코로나 바이러스라는 뜻으로 2019-nCov로 붙여졌다.nCov는 novel(새로운) Cov(코로나 바이러스)라는 뜻이다.'"
            ]
          },
          "metadata": {
            "tags": []
          },
          "execution_count": 8
        }
      ]
    },
    {
      "cell_type": "code",
      "metadata": {
        "colab": {
          "base_uri": "https://localhost:8080/"
        },
        "id": "xEthBsUI36lA",
        "outputId": "8fb07717-caf3-4e34-8db0-87cd2e74f76f"
      },
      "source": [
        "temp1 = temp.split('.')\n",
        "temp1"
      ],
      "execution_count": 11,
      "outputs": [
        {
          "output_type": "execute_result",
          "data": {
            "text/plain": [
              "['코로나(corona)는 라틴말로 왕관을 뜻하며 통상 태양을 둘러싼 외곽의 빛(광환)을 지칭한다',\n",
              " '코로나 바이러스라는 이름은 전자현미경으로 이 바이러스를 관찰했을 때 마치 코로나와 유사한 모양을 띠어 붙여진 이름이다',\n",
              " '이번에 중국의 우환에서 시작된 코로나 바이러스는 2019년에 발견된 새로운 코로나 바이러스라는 뜻으로 2019-nCov로 붙여졌다',\n",
              " 'nCov는 novel(새로운) Cov(코로나 바이러스)라는 뜻이다',\n",
              " '']"
            ]
          },
          "metadata": {
            "tags": []
          },
          "execution_count": 11
        }
      ]
    },
    {
      "cell_type": "code",
      "metadata": {
        "colab": {
          "base_uri": "https://localhost:8080/"
        },
        "id": "DwkRqktH4J-A",
        "outputId": "d044df24-55b5-452d-b994-1b169fd72cdf"
      },
      "source": [
        "len(temp1)"
      ],
      "execution_count": 12,
      "outputs": [
        {
          "output_type": "execute_result",
          "data": {
            "text/plain": [
              "5"
            ]
          },
          "metadata": {
            "tags": []
          },
          "execution_count": 12
        }
      ]
    },
    {
      "cell_type": "code",
      "metadata": {
        "colab": {
          "base_uri": "https://localhost:8080/",
          "height": 34
        },
        "id": "e7ZDSxQJ4eP5",
        "outputId": "52dc8629-4f5c-43e6-f0a4-adc67957b4cf"
      },
      "source": [
        "temp1[0]"
      ],
      "execution_count": 13,
      "outputs": [
        {
          "output_type": "execute_result",
          "data": {
            "application/vnd.google.colaboratory.intrinsic+json": {
              "type": "string"
            },
            "text/plain": [
              "'코로나(corona)는 라틴말로 왕관을 뜻하며 통상 태양을 둘러싼 외곽의 빛(광환)을 지칭한다'"
            ]
          },
          "metadata": {
            "tags": []
          },
          "execution_count": 13
        }
      ]
    },
    {
      "cell_type": "code",
      "metadata": {
        "colab": {
          "base_uri": "https://localhost:8080/",
          "height": 104
        },
        "id": "_ZxxqBMm4kcg",
        "outputId": "cc20f318-1d2f-4c3c-a204-3828bc2723df"
      },
      "source": [
        "corona"
      ],
      "execution_count": 14,
      "outputs": [
        {
          "output_type": "execute_result",
          "data": {
            "application/vnd.google.colaboratory.intrinsic+json": {
              "type": "string"
            },
            "text/plain": [
              "'\\n코로나(corona)는 라틴말로 왕관을 뜻하며 통상 태양을 둘러싼 외곽의 빛(광환)을 지칭한다.\\n코로나 바이러스라는 이름은 전자현미경으로 이 바이러스를 관찰했을 때 마치 코로나와 유사한 모양을 띠어 붙여진 이름이다.\\n이번에 중국의 우환에서 시작된 코로나 바이러스는 2019년에 발견된 새로운 코로나 바이러스라는 뜻으로 2019-nCov로 붙여졌다.\\nnCov는 novel(새로운) Cov(코로나 바이러스)라는 뜻이다.\\n'"
            ]
          },
          "metadata": {
            "tags": []
          },
          "execution_count": 14
        }
      ]
    },
    {
      "cell_type": "code",
      "metadata": {
        "colab": {
          "base_uri": "https://localhost:8080/"
        },
        "id": "yUsOACXZ4rV4",
        "outputId": "e5d780c2-da50-4cbe-ed1c-fbfc93b228c0"
      },
      "source": [
        "corona.replace('\\n','').split('.')"
      ],
      "execution_count": 15,
      "outputs": [
        {
          "output_type": "execute_result",
          "data": {
            "text/plain": [
              "['코로나(corona)는 라틴말로 왕관을 뜻하며 통상 태양을 둘러싼 외곽의 빛(광환)을 지칭한다',\n",
              " '코로나 바이러스라는 이름은 전자현미경으로 이 바이러스를 관찰했을 때 마치 코로나와 유사한 모양을 띠어 붙여진 이름이다',\n",
              " '이번에 중국의 우환에서 시작된 코로나 바이러스는 2019년에 발견된 새로운 코로나 바이러스라는 뜻으로 2019-nCov로 붙여졌다',\n",
              " 'nCov는 novel(새로운) Cov(코로나 바이러스)라는 뜻이다',\n",
              " '']"
            ]
          },
          "metadata": {
            "tags": []
          },
          "execution_count": 15
        }
      ]
    },
    {
      "cell_type": "code",
      "metadata": {
        "colab": {
          "base_uri": "https://localhost:8080/"
        },
        "id": "puwq1i_l4xih",
        "outputId": "32118950-7e9e-4bfd-f11e-556248b9351c"
      },
      "source": [
        "str_word = input('찾으려는 단어 입력 : ')"
      ],
      "execution_count": 16,
      "outputs": [
        {
          "output_type": "stream",
          "text": [
            "찾으려는 단어 입력 : 코로나\n"
          ],
          "name": "stdout"
        }
      ]
    },
    {
      "cell_type": "code",
      "metadata": {
        "colab": {
          "base_uri": "https://localhost:8080/"
        },
        "id": "J-HO2KO35J0w",
        "outputId": "3066b826-7994-4233-e2b1-eef00b4c64b7"
      },
      "source": [
        "corona.count(str_word)"
      ],
      "execution_count": 18,
      "outputs": [
        {
          "output_type": "execute_result",
          "data": {
            "text/plain": [
              "6"
            ]
          },
          "metadata": {
            "tags": []
          },
          "execution_count": 18
        }
      ]
    },
    {
      "cell_type": "code",
      "metadata": {
        "colab": {
          "base_uri": "https://localhost:8080/"
        },
        "id": "ZO0q6ec45QAw",
        "outputId": "d7836fa8-6c6a-4e6f-a1c4-75ad98276e88"
      },
      "source": [
        "# 코로나 어원\n",
        "\n",
        "corona = '''\n",
        "코로나(corona)는 라틴말로 왕관을 뜻하며 통상 태양을 둘러싼 외곽의 빛(광환)을 지칭한다.\n",
        "코로나 바이러스라는 이름은 전자현미경으로 이 바이러스를 관찰했을 때 마치 코로나와 유사한 모양을 띠어 붙여진 이름이다.\n",
        "이번에 중국의 우환에서 시작된 코로나 바이러스는 2019년에 발견된 새로운 코로나 바이러스라는 뜻으로 2019-nCov로 붙여졌다.\n",
        "nCov는 novel(새로운) Cov(코로나 바이러스)라는 뜻이다.\n",
        "'''\n",
        "print('-'*50)\n",
        "sentence = corona.count('.')\n",
        "print(f'{sentence} 개의 문장으로 이루어짐')\n",
        "print(corona.replace('\\n','').split('.'))\n",
        "\n",
        "print()\n",
        "\n",
        "print('-'*50)\n",
        "str = input('찾으려는 단어를 입력하시요 : ')\n",
        "cnt = corona.count(str)\n",
        "print(f\"'{str}'(은/는) {cnt} 번 언급됨\")"
      ],
      "execution_count": 20,
      "outputs": [
        {
          "output_type": "stream",
          "text": [
            "--------------------------------------------------\n",
            "4 개의 문장으로 이루어짐\n",
            "['코로나(corona)는 라틴말로 왕관을 뜻하며 통상 태양을 둘러싼 외곽의 빛(광환)을 지칭한다', '코로나 바이러스라는 이름은 전자현미경으로 이 바이러스를 관찰했을 때 마치 코로나와 유사한 모양을 띠어 붙여진 이름이다', '이번에 중국의 우환에서 시작된 코로나 바이러스는 2019년에 발견된 새로운 코로나 바이러스라는 뜻으로 2019-nCov로 붙여졌다', 'nCov는 novel(새로운) Cov(코로나 바이러스)라는 뜻이다', '']\n",
            "\n",
            "--------------------------------------------------\n",
            "찾으려는 단어를 입력하시요 : 코로나\n",
            "'코로나'(은/는) 6 번 언급됨\n"
          ],
          "name": "stdout"
        }
      ]
    },
    {
      "cell_type": "code",
      "metadata": {
        "colab": {
          "base_uri": "https://localhost:8080/"
        },
        "id": "JH4oT7Ce5iMd",
        "outputId": "ac9efefc-ea4a-4ca5-c657-eb80c29d221b"
      },
      "source": [
        "lyrics = '''\n",
        "Brave Girls\n",
        "You ready?\n",
        "그 날을 잊지 못해 baby\n",
        "날 보며 환히 웃던 너의 미소에\n",
        "홀린 듯 I'm fall in love\n",
        "But 너무 쪽팔림에 (난 그저)\n",
        "한마디 말도 못 해 baby\n",
        "I wanna you-u-u-u\n",
        "너의 눈빛은 날 자꾸 니 곁을 맴돌게 해\n",
        "Just only you-u-u-u\n",
        "굳게 닫힌 내 맘이 어느새 무너져버려 because of you\n",
        "온통 너의 생각뿐이야, 나도 미치겠어\n",
        "너무 보고 싶어 매일, 매일, 매일\n",
        "자꾸 초라해지잖아, 내 모습이\n",
        "그대여 내게 말해줘 사랑한다고\n",
        "Rollin' rollin' rollin' (hey)\n",
        "Rollin' rollin' rollin' (hey)\n",
        "Rollin' rollin' rollin'\n",
        "하루가 멀다 하고 rolling in the deep\n",
        "Rollin' rollin' rollin' (hey)\n",
        "Rollin' rollin' rollin' (hey)\n",
        "기다리고 있잖아 baby\n",
        "Just only you\n",
        "기다리고 있잖아 baby\n",
        "Just only you\n",
        "Hey, I just wanna be with you\n",
        "오늘 밤이 가기 전에\n",
        "I can't feel you 조금 더 다가와 줘\n",
        "Tonight I'm ready for you (yeah)\n",
        "You wanna touch me I know (I know)\n",
        "대체 뭘 고민해 빨리 안아\n",
        "아닌 척 모르는 척하다가\n",
        "늦게 놓치고 후회 말아\n",
        "I wanna you-u-u-u\n",
        "너의 눈빛은 날 자꾸 니 곁을 맴돌게 해\n",
        "Just only you-u-u-u\n",
        "굳게 닫힌 내 맘이 어느새 무너져버려 because of you\n",
        "온통 너의 생각뿐이야, 나도 미치겠어\n",
        "너무 보고 싶어 매일, 매일, 매일\n",
        "자꾸 초라해지잖아, 내 모습이\n",
        "그대여 내게 말해줘 사랑한다고\n",
        "Rollin' rollin' rollin' (hey)\n",
        "Rollin' rollin' rollin' (hey)\n",
        "Rollin' rollin' rollin'\n",
        "하루가 멀다 하고 rolling in the deep\n",
        "Rollin' rollin' rollin' (hey)\n",
        "Rollin' rollin' rollin' (hey)\n",
        "기다리고 있잖아 baby\n",
        "Just only you\n",
        "이제 와 숨기려 하지 마요\n",
        "(그대여) 아닌 척하지 마요\n",
        "온종일 난 그대 생각에 잠긴 채로\n",
        "나 이대로 기다리고 있어요\n",
        "Rollin' rollin' rollin' (hey)\n",
        "Rollin' rollin' rollin' (hey)\n",
        "Rollin' rollin' rollin'\n",
        "하루가 멀다 하고 rolling in the deep\n",
        "Rollin' rollin' rollin' (hey)\n",
        "Rollin' rollin' rollin' (hey)\n",
        "기다리고 있잖아 baby\n",
        "Just only you\n",
        "기다리고 있잖아 baby\n",
        "Just only you\n",
        "'''\n",
        "\n",
        "song = lyrics.count('\\n')\n",
        "print(f'{song-1} 개의 문장으로 이루어짐')"
      ],
      "execution_count": 21,
      "outputs": [
        {
          "output_type": "stream",
          "text": [
            "63 개의 문장으로 이루어짐\n"
          ],
          "name": "stdout"
        }
      ]
    },
    {
      "cell_type": "code",
      "metadata": {
        "colab": {
          "base_uri": "https://localhost:8080/"
        },
        "id": "QnipfUOv6EsB",
        "outputId": "5c211bc9-e5d1-49b3-d2b9-663433b6e6ca"
      },
      "source": [
        "print(lyrics.replace('\\n',',').split(','))"
      ],
      "execution_count": 22,
      "outputs": [
        {
          "output_type": "stream",
          "text": [
            "['', 'Brave Girls', 'You ready?', '그 날을 잊지 못해 baby', '날 보며 환히 웃던 너의 미소에', \"홀린 듯 I'm fall in love\", 'But 너무 쪽팔림에 (난 그저)', '한마디 말도 못 해 baby', 'I wanna you-u-u-u', '너의 눈빛은 날 자꾸 니 곁을 맴돌게 해', 'Just only you-u-u-u', '굳게 닫힌 내 맘이 어느새 무너져버려 because of you', '온통 너의 생각뿐이야', ' 나도 미치겠어', '너무 보고 싶어 매일', ' 매일', ' 매일', '자꾸 초라해지잖아', ' 내 모습이', '그대여 내게 말해줘 사랑한다고', \"Rollin' rollin' rollin' (hey)\", \"Rollin' rollin' rollin' (hey)\", \"Rollin' rollin' rollin'\", '하루가 멀다 하고 rolling in the deep', \"Rollin' rollin' rollin' (hey)\", \"Rollin' rollin' rollin' (hey)\", '기다리고 있잖아 baby', 'Just only you', '기다리고 있잖아 baby', 'Just only you', 'Hey', ' I just wanna be with you', '오늘 밤이 가기 전에', \"I can't feel you 조금 더 다가와 줘\", \"Tonight I'm ready for you (yeah)\", 'You wanna touch me I know (I know)', '대체 뭘 고민해 빨리 안아', '아닌 척 모르는 척하다가', '늦게 놓치고 후회 말아', 'I wanna you-u-u-u', '너의 눈빛은 날 자꾸 니 곁을 맴돌게 해', 'Just only you-u-u-u', '굳게 닫힌 내 맘이 어느새 무너져버려 because of you', '온통 너의 생각뿐이야', ' 나도 미치겠어', '너무 보고 싶어 매일', ' 매일', ' 매일', '자꾸 초라해지잖아', ' 내 모습이', '그대여 내게 말해줘 사랑한다고', \"Rollin' rollin' rollin' (hey)\", \"Rollin' rollin' rollin' (hey)\", \"Rollin' rollin' rollin'\", '하루가 멀다 하고 rolling in the deep', \"Rollin' rollin' rollin' (hey)\", \"Rollin' rollin' rollin' (hey)\", '기다리고 있잖아 baby', 'Just only you', '이제 와 숨기려 하지 마요', '(그대여) 아닌 척하지 마요', '온종일 난 그대 생각에 잠긴 채로', '나 이대로 기다리고 있어요', \"Rollin' rollin' rollin' (hey)\", \"Rollin' rollin' rollin' (hey)\", \"Rollin' rollin' rollin'\", '하루가 멀다 하고 rolling in the deep', \"Rollin' rollin' rollin' (hey)\", \"Rollin' rollin' rollin' (hey)\", '기다리고 있잖아 baby', 'Just only you', '기다리고 있잖아 baby', 'Just only you', '']\n"
          ],
          "name": "stdout"
        }
      ]
    },
    {
      "cell_type": "code",
      "metadata": {
        "colab": {
          "base_uri": "https://localhost:8080/"
        },
        "id": "wxWzw6UR6Vgh",
        "outputId": "51c613d6-5021-4553-ced4-bed2746af2ff"
      },
      "source": [
        "str_word = input('찾는 단어 입력 : ')"
      ],
      "execution_count": 25,
      "outputs": [
        {
          "output_type": "stream",
          "text": [
            "찾는 단어 입력 : rollin\n"
          ],
          "name": "stdout"
        }
      ]
    },
    {
      "cell_type": "code",
      "metadata": {
        "colab": {
          "base_uri": "https://localhost:8080/"
        },
        "id": "PTQATd9c6gJQ",
        "outputId": "21aa4c9a-e503-4945-fcfc-0ceb1be8de41"
      },
      "source": [
        "lyrics.count(str_word)"
      ],
      "execution_count": 26,
      "outputs": [
        {
          "output_type": "execute_result",
          "data": {
            "text/plain": [
              "33"
            ]
          },
          "metadata": {
            "tags": []
          },
          "execution_count": 26
        }
      ]
    },
    {
      "cell_type": "code",
      "metadata": {
        "colab": {
          "base_uri": "https://localhost:8080/"
        },
        "id": "xCtilpjg6ldQ",
        "outputId": "7edd80e5-193c-4b38-ca31-6b81900117bf"
      },
      "source": [
        "lst = []\n",
        "lst"
      ],
      "execution_count": 32,
      "outputs": [
        {
          "output_type": "execute_result",
          "data": {
            "text/plain": [
              "[]"
            ]
          },
          "metadata": {
            "tags": []
          },
          "execution_count": 32
        }
      ]
    },
    {
      "cell_type": "code",
      "metadata": {
        "colab": {
          "base_uri": "https://localhost:8080/"
        },
        "id": "AyadMC4q7xEL",
        "outputId": "f5e62dda-6eaa-4c7c-b565-7b7194ce1a3e"
      },
      "source": [
        "lst1 = list()\n",
        "lst1"
      ],
      "execution_count": 29,
      "outputs": [
        {
          "output_type": "execute_result",
          "data": {
            "text/plain": [
              "[]"
            ]
          },
          "metadata": {
            "tags": []
          },
          "execution_count": 29
        }
      ]
    },
    {
      "cell_type": "code",
      "metadata": {
        "colab": {
          "base_uri": "https://localhost:8080/"
        },
        "id": "eYTK56et72_I",
        "outputId": "c909c031-0734-4a29-de9a-7d8b7718d3c4"
      },
      "source": [
        "lst2 = [ 10,20,30]\n",
        "lst2"
      ],
      "execution_count": 44,
      "outputs": [
        {
          "output_type": "execute_result",
          "data": {
            "text/plain": [
              "[10, 20, 30]"
            ]
          },
          "metadata": {
            "tags": []
          },
          "execution_count": 44
        }
      ]
    },
    {
      "cell_type": "code",
      "metadata": {
        "id": "IkuGaZ-E78_o"
      },
      "source": [
        "lst = lst2"
      ],
      "execution_count": 45,
      "outputs": []
    },
    {
      "cell_type": "code",
      "metadata": {
        "colab": {
          "base_uri": "https://localhost:8080/"
        },
        "id": "CvGBKIes8GpB",
        "outputId": "e4edeb0c-b62d-4aa1-f569-8eddb2b3a10b"
      },
      "source": [
        "lst"
      ],
      "execution_count": 46,
      "outputs": [
        {
          "output_type": "execute_result",
          "data": {
            "text/plain": [
              "[10, 20, 30]"
            ]
          },
          "metadata": {
            "tags": []
          },
          "execution_count": 46
        }
      ]
    },
    {
      "cell_type": "code",
      "metadata": {
        "colab": {
          "base_uri": "https://localhost:8080/"
        },
        "id": "tlr673FS8JoR",
        "outputId": "40bf32cf-3ea2-4e79-b14b-6401c306e886"
      },
      "source": [
        "lst2"
      ],
      "execution_count": 47,
      "outputs": [
        {
          "output_type": "execute_result",
          "data": {
            "text/plain": [
              "[10, 20, 30]"
            ]
          },
          "metadata": {
            "tags": []
          },
          "execution_count": 47
        }
      ]
    },
    {
      "cell_type": "code",
      "metadata": {
        "id": "0o52cXs68LOY"
      },
      "source": [
        "lst2[0] = 100"
      ],
      "execution_count": 48,
      "outputs": []
    },
    {
      "cell_type": "code",
      "metadata": {
        "colab": {
          "base_uri": "https://localhost:8080/"
        },
        "id": "-erdmysm8QA5",
        "outputId": "be35d151-2983-4e7a-ffba-7a8f327184d4"
      },
      "source": [
        "lst"
      ],
      "execution_count": 49,
      "outputs": [
        {
          "output_type": "execute_result",
          "data": {
            "text/plain": [
              "[100, 20, 30]"
            ]
          },
          "metadata": {
            "tags": []
          },
          "execution_count": 49
        }
      ]
    },
    {
      "cell_type": "code",
      "metadata": {
        "id": "Zfc41_WR8T7a"
      },
      "source": [
        "lst = lst2.copy()"
      ],
      "execution_count": 50,
      "outputs": []
    },
    {
      "cell_type": "code",
      "metadata": {
        "colab": {
          "base_uri": "https://localhost:8080/"
        },
        "id": "WS7M3oRc8Z4a",
        "outputId": "4c8b92a8-40bc-4ab0-c835-d9b8904dc5b0"
      },
      "source": [
        "lst2"
      ],
      "execution_count": 51,
      "outputs": [
        {
          "output_type": "execute_result",
          "data": {
            "text/plain": [
              "[100, 20, 30]"
            ]
          },
          "metadata": {
            "tags": []
          },
          "execution_count": 51
        }
      ]
    },
    {
      "cell_type": "code",
      "metadata": {
        "colab": {
          "base_uri": "https://localhost:8080/"
        },
        "id": "S91Ye4O48a7p",
        "outputId": "5ea4dcaf-5735-4608-ec56-0e720ae8c6ca"
      },
      "source": [
        "lst"
      ],
      "execution_count": 52,
      "outputs": [
        {
          "output_type": "execute_result",
          "data": {
            "text/plain": [
              "[100, 20, 30]"
            ]
          },
          "metadata": {
            "tags": []
          },
          "execution_count": 52
        }
      ]
    },
    {
      "cell_type": "code",
      "metadata": {
        "id": "n2Ura9WF8cSR"
      },
      "source": [
        "lst2[0] = 10"
      ],
      "execution_count": 53,
      "outputs": []
    },
    {
      "cell_type": "code",
      "metadata": {
        "colab": {
          "base_uri": "https://localhost:8080/"
        },
        "id": "UbqF1PeI8e6Z",
        "outputId": "a09610dd-cb5c-4740-80e7-2a1be58006e1"
      },
      "source": [
        "lst2"
      ],
      "execution_count": 54,
      "outputs": [
        {
          "output_type": "execute_result",
          "data": {
            "text/plain": [
              "[10, 20, 30]"
            ]
          },
          "metadata": {
            "tags": []
          },
          "execution_count": 54
        }
      ]
    },
    {
      "cell_type": "code",
      "metadata": {
        "colab": {
          "base_uri": "https://localhost:8080/"
        },
        "id": "nFMZUG_K8fs-",
        "outputId": "a486f4a1-83ad-49d3-e4ca-44ca1b1f6643"
      },
      "source": [
        "lst"
      ],
      "execution_count": 55,
      "outputs": [
        {
          "output_type": "execute_result",
          "data": {
            "text/plain": [
              "[100, 20, 30]"
            ]
          },
          "metadata": {
            "tags": []
          },
          "execution_count": 55
        }
      ]
    },
    {
      "cell_type": "code",
      "metadata": {
        "id": "6rrT9Qsf8hwJ"
      },
      "source": [
        "lst[0] = 10"
      ],
      "execution_count": 56,
      "outputs": []
    },
    {
      "cell_type": "code",
      "metadata": {
        "colab": {
          "base_uri": "https://localhost:8080/"
        },
        "id": "GiGE4_6W9Bsx",
        "outputId": "18dfa647-6128-490c-e26d-58f97770e581"
      },
      "source": [
        "lst"
      ],
      "execution_count": 57,
      "outputs": [
        {
          "output_type": "execute_result",
          "data": {
            "text/plain": [
              "[10, 20, 30]"
            ]
          },
          "metadata": {
            "tags": []
          },
          "execution_count": 57
        }
      ]
    },
    {
      "cell_type": "code",
      "metadata": {
        "colab": {
          "base_uri": "https://localhost:8080/"
        },
        "id": "UXHEDEfe9CPZ",
        "outputId": "f7e1b2a4-9e3e-403d-c00f-7d9f1583d5a7"
      },
      "source": [
        "lst[0]"
      ],
      "execution_count": 58,
      "outputs": [
        {
          "output_type": "execute_result",
          "data": {
            "text/plain": [
              "10"
            ]
          },
          "metadata": {
            "tags": []
          },
          "execution_count": 58
        }
      ]
    },
    {
      "cell_type": "code",
      "metadata": {
        "colab": {
          "base_uri": "https://localhost:8080/"
        },
        "id": "8R_hRW6W9FEB",
        "outputId": "e33e81ce-c016-4d0f-f374-f2e31a446d19"
      },
      "source": [
        "lst[-1]"
      ],
      "execution_count": 59,
      "outputs": [
        {
          "output_type": "execute_result",
          "data": {
            "text/plain": [
              "30"
            ]
          },
          "metadata": {
            "tags": []
          },
          "execution_count": 59
        }
      ]
    },
    {
      "cell_type": "code",
      "metadata": {
        "colab": {
          "base_uri": "https://localhost:8080/"
        },
        "id": "SgaHtzEr9HAo",
        "outputId": "ead888a4-58dc-42a2-9cdc-c65c7eb92fc4"
      },
      "source": [
        "lst[:]"
      ],
      "execution_count": 60,
      "outputs": [
        {
          "output_type": "execute_result",
          "data": {
            "text/plain": [
              "[10, 20, 30]"
            ]
          },
          "metadata": {
            "tags": []
          },
          "execution_count": 60
        }
      ]
    },
    {
      "cell_type": "code",
      "metadata": {
        "colab": {
          "base_uri": "https://localhost:8080/"
        },
        "id": "PPrxgqUF9M0o",
        "outputId": "20aa78be-193c-4f6c-801e-0abee59c1809"
      },
      "source": [
        "lst[:2]"
      ],
      "execution_count": 61,
      "outputs": [
        {
          "output_type": "execute_result",
          "data": {
            "text/plain": [
              "[10, 20]"
            ]
          },
          "metadata": {
            "tags": []
          },
          "execution_count": 61
        }
      ]
    },
    {
      "cell_type": "code",
      "metadata": {
        "colab": {
          "base_uri": "https://localhost:8080/"
        },
        "id": "_wa3D4iW9RNR",
        "outputId": "ec7636b5-8964-4d4b-8ce6-eac624b9f3d5"
      },
      "source": [
        "lst[1:]"
      ],
      "execution_count": 62,
      "outputs": [
        {
          "output_type": "execute_result",
          "data": {
            "text/plain": [
              "[20, 30]"
            ]
          },
          "metadata": {
            "tags": []
          },
          "execution_count": 62
        }
      ]
    },
    {
      "cell_type": "code",
      "metadata": {
        "id": "SE4LuunE9WXY"
      },
      "source": [
        "lst1 = [10, 20]\n",
        "lst2 = [ 100, 200]"
      ],
      "execution_count": 63,
      "outputs": []
    },
    {
      "cell_type": "code",
      "metadata": {
        "colab": {
          "base_uri": "https://localhost:8080/"
        },
        "id": "RhkS105T9fs4",
        "outputId": "2e943062-8d1e-408a-a131-0479da664232"
      },
      "source": [
        "lst3 = lst1 + lst2\n",
        "lst3"
      ],
      "execution_count": 64,
      "outputs": [
        {
          "output_type": "execute_result",
          "data": {
            "text/plain": [
              "[10, 20, 100, 200]"
            ]
          },
          "metadata": {
            "tags": []
          },
          "execution_count": 64
        }
      ]
    },
    {
      "cell_type": "code",
      "metadata": {
        "colab": {
          "base_uri": "https://localhost:8080/"
        },
        "id": "Aaya_17X9ljJ",
        "outputId": "4d3ce988-7064-4d72-f876-908ddf771926"
      },
      "source": [
        "lst4 = lst3 * 3\n",
        "lst4"
      ],
      "execution_count": 65,
      "outputs": [
        {
          "output_type": "execute_result",
          "data": {
            "text/plain": [
              "[10, 20, 100, 200, 10, 20, 100, 200, 10, 20, 100, 200]"
            ]
          },
          "metadata": {
            "tags": []
          },
          "execution_count": 65
        }
      ]
    },
    {
      "cell_type": "code",
      "metadata": {
        "id": "nZmvcmFt9xMJ"
      },
      "source": [
        "lst = ['a','b','c']"
      ],
      "execution_count": 66,
      "outputs": []
    },
    {
      "cell_type": "code",
      "metadata": {
        "id": "nP8GhCpe94ny"
      },
      "source": [
        "lst.append('d')"
      ],
      "execution_count": 68,
      "outputs": []
    },
    {
      "cell_type": "code",
      "metadata": {
        "colab": {
          "base_uri": "https://localhost:8080/"
        },
        "id": "Bh1CtPCe9_-5",
        "outputId": "51f787fb-3917-416d-c994-eea23557d4d7"
      },
      "source": [
        "lst"
      ],
      "execution_count": 69,
      "outputs": [
        {
          "output_type": "execute_result",
          "data": {
            "text/plain": [
              "['a', 'b', 'c', 'd']"
            ]
          },
          "metadata": {
            "tags": []
          },
          "execution_count": 69
        }
      ]
    },
    {
      "cell_type": "code",
      "metadata": {
        "id": "aKvzH-JC-a6p"
      },
      "source": [
        "lst.append(100)"
      ],
      "execution_count": 70,
      "outputs": []
    },
    {
      "cell_type": "code",
      "metadata": {
        "colab": {
          "base_uri": "https://localhost:8080/"
        },
        "id": "rTU4keBd-fih",
        "outputId": "acd2a94d-e4f5-4e10-d1c3-7ee900aba5ad"
      },
      "source": [
        "lst"
      ],
      "execution_count": 71,
      "outputs": [
        {
          "output_type": "execute_result",
          "data": {
            "text/plain": [
              "['a', 'b', 'c', 'd', 100]"
            ]
          },
          "metadata": {
            "tags": []
          },
          "execution_count": 71
        }
      ]
    },
    {
      "cell_type": "code",
      "metadata": {
        "colab": {
          "base_uri": "https://localhost:8080/"
        },
        "id": "JpwszxfB-gIx",
        "outputId": "11305126-f49f-4595-fa78-d6c3b082c875"
      },
      "source": [
        "lst.pop"
      ],
      "execution_count": 72,
      "outputs": [
        {
          "output_type": "execute_result",
          "data": {
            "text/plain": [
              "<function list.pop>"
            ]
          },
          "metadata": {
            "tags": []
          },
          "execution_count": 72
        }
      ]
    },
    {
      "cell_type": "code",
      "metadata": {
        "colab": {
          "base_uri": "https://localhost:8080/"
        },
        "id": "LCvpxpvW-pN5",
        "outputId": "babb2c3e-7902-4468-87ba-6b4da6f4d63b"
      },
      "source": [
        "lst"
      ],
      "execution_count": 73,
      "outputs": [
        {
          "output_type": "execute_result",
          "data": {
            "text/plain": [
              "['a', 'b', 'c', 'd', 100]"
            ]
          },
          "metadata": {
            "tags": []
          },
          "execution_count": 73
        }
      ]
    },
    {
      "cell_type": "code",
      "metadata": {
        "colab": {
          "base_uri": "https://localhost:8080/"
        },
        "id": "435CTH9o-qdA",
        "outputId": "94fcbf0d-0da3-40b5-977e-b7881065ad05"
      },
      "source": [
        "lst.pop()"
      ],
      "execution_count": 74,
      "outputs": [
        {
          "output_type": "execute_result",
          "data": {
            "text/plain": [
              "100"
            ]
          },
          "metadata": {
            "tags": []
          },
          "execution_count": 74
        }
      ]
    },
    {
      "cell_type": "code",
      "metadata": {
        "colab": {
          "base_uri": "https://localhost:8080/"
        },
        "id": "bt1rGfdn-tl6",
        "outputId": "94ccacfd-aeb6-43a2-c8d3-01f04bf3f7b1"
      },
      "source": [
        "lst"
      ],
      "execution_count": 75,
      "outputs": [
        {
          "output_type": "execute_result",
          "data": {
            "text/plain": [
              "['a', 'b', 'c', 'd']"
            ]
          },
          "metadata": {
            "tags": []
          },
          "execution_count": 75
        }
      ]
    },
    {
      "cell_type": "code",
      "metadata": {
        "colab": {
          "base_uri": "https://localhost:8080/",
          "height": 34
        },
        "id": "vKDZuYRA-w8Q",
        "outputId": "5e2b013c-f13c-4c25-aa48-131a82c66d77"
      },
      "source": [
        "lst.pop()"
      ],
      "execution_count": 76,
      "outputs": [
        {
          "output_type": "execute_result",
          "data": {
            "application/vnd.google.colaboratory.intrinsic+json": {
              "type": "string"
            },
            "text/plain": [
              "'d'"
            ]
          },
          "metadata": {
            "tags": []
          },
          "execution_count": 76
        }
      ]
    },
    {
      "cell_type": "code",
      "metadata": {
        "colab": {
          "base_uri": "https://localhost:8080/"
        },
        "id": "-wZ06yxl-yyQ",
        "outputId": "cbc1dca4-65c4-4601-e2e1-91d2844a772f"
      },
      "source": [
        "lst"
      ],
      "execution_count": 77,
      "outputs": [
        {
          "output_type": "execute_result",
          "data": {
            "text/plain": [
              "['a', 'b', 'c']"
            ]
          },
          "metadata": {
            "tags": []
          },
          "execution_count": 77
        }
      ]
    },
    {
      "cell_type": "code",
      "metadata": {
        "colab": {
          "base_uri": "https://localhost:8080/"
        },
        "id": "-TJdAeLd-0kL",
        "outputId": "16d315c6-7345-45b7-f31b-5b3735b5af86"
      },
      "source": [
        "lst"
      ],
      "execution_count": 78,
      "outputs": [
        {
          "output_type": "execute_result",
          "data": {
            "text/plain": [
              "['a', 'b', 'c']"
            ]
          },
          "metadata": {
            "tags": []
          },
          "execution_count": 78
        }
      ]
    },
    {
      "cell_type": "code",
      "metadata": {
        "colab": {
          "base_uri": "https://localhost:8080/"
        },
        "id": "_LmViG_z-62K",
        "outputId": "c2bb30dc-06dd-4d0d-9051-6b0208785a50"
      },
      "source": [
        "lst.index('b')"
      ],
      "execution_count": 81,
      "outputs": [
        {
          "output_type": "execute_result",
          "data": {
            "text/plain": [
              "1"
            ]
          },
          "metadata": {
            "tags": []
          },
          "execution_count": 81
        }
      ]
    },
    {
      "cell_type": "code",
      "metadata": {
        "colab": {
          "base_uri": "https://localhost:8080/",
          "height": 34
        },
        "id": "mn2Xw2tC_Gng",
        "outputId": "9415b4aa-6021-43cc-d681-69c3bae1f53c"
      },
      "source": [
        "lst[1]"
      ],
      "execution_count": 82,
      "outputs": [
        {
          "output_type": "execute_result",
          "data": {
            "application/vnd.google.colaboratory.intrinsic+json": {
              "type": "string"
            },
            "text/plain": [
              "'b'"
            ]
          },
          "metadata": {
            "tags": []
          },
          "execution_count": 82
        }
      ]
    },
    {
      "cell_type": "code",
      "metadata": {
        "id": "wnF4UdUK_JVo"
      },
      "source": [
        "lst = ['c','a','b']"
      ],
      "execution_count": 83,
      "outputs": []
    },
    {
      "cell_type": "code",
      "metadata": {
        "colab": {
          "base_uri": "https://localhost:8080/"
        },
        "id": "Pl3JPW_BB0k5",
        "outputId": "595a7bd3-83fe-4ec5-8a13-34ddb83dd4f6"
      },
      "source": [
        "lst.sort()\n",
        "lst"
      ],
      "execution_count": 86,
      "outputs": [
        {
          "output_type": "execute_result",
          "data": {
            "text/plain": [
              "['a', 'b', 'c']"
            ]
          },
          "metadata": {
            "tags": []
          },
          "execution_count": 86
        }
      ]
    },
    {
      "cell_type": "code",
      "metadata": {
        "colab": {
          "base_uri": "https://localhost:8080/"
        },
        "id": "SnY2XkJ3B5eC",
        "outputId": "a81f5806-2df4-4cb4-f5ff-b88473188ece"
      },
      "source": [
        "lst.sort(reverse=True)\n",
        "lst"
      ],
      "execution_count": 88,
      "outputs": [
        {
          "output_type": "execute_result",
          "data": {
            "text/plain": [
              "['c', 'b', 'a']"
            ]
          },
          "metadata": {
            "tags": []
          },
          "execution_count": 88
        }
      ]
    },
    {
      "cell_type": "code",
      "metadata": {
        "id": "uUEG-L9MB60k"
      },
      "source": [
        "lst = ['c','a','b']\n",
        "lst.reverse()"
      ],
      "execution_count": 89,
      "outputs": []
    },
    {
      "cell_type": "code",
      "metadata": {
        "colab": {
          "base_uri": "https://localhost:8080/"
        },
        "id": "NRThYb7CC4H5",
        "outputId": "c9a520c2-225d-435c-9873-1b74d4573528"
      },
      "source": [
        "lst"
      ],
      "execution_count": 90,
      "outputs": [
        {
          "output_type": "execute_result",
          "data": {
            "text/plain": [
              "['b', 'a', 'c']"
            ]
          },
          "metadata": {
            "tags": []
          },
          "execution_count": 90
        }
      ]
    },
    {
      "cell_type": "code",
      "metadata": {
        "id": "_w8IGO_LC5fo"
      },
      "source": [
        "tp = (10,20,30)"
      ],
      "execution_count": 91,
      "outputs": []
    },
    {
      "cell_type": "code",
      "metadata": {
        "colab": {
          "base_uri": "https://localhost:8080/"
        },
        "id": "k9BJJKkbDQiE",
        "outputId": "9718af5d-3834-43fb-b77c-6dc1060a9fc1"
      },
      "source": [
        "tp[1:]"
      ],
      "execution_count": 95,
      "outputs": [
        {
          "output_type": "execute_result",
          "data": {
            "text/plain": [
              "(20, 30)"
            ]
          },
          "metadata": {
            "tags": []
          },
          "execution_count": 95
        }
      ]
    },
    {
      "cell_type": "code",
      "metadata": {
        "id": "u_jEzNVlDSbS"
      },
      "source": [
        "tp1 = (10,20)\n",
        "tp2 = (30,40)\n"
      ],
      "execution_count": 96,
      "outputs": []
    },
    {
      "cell_type": "code",
      "metadata": {
        "colab": {
          "base_uri": "https://localhost:8080/"
        },
        "id": "vSYzUndTDgSC",
        "outputId": "4db3a419-02d8-476b-8c57-5aea805fa129"
      },
      "source": [
        "tp1"
      ],
      "execution_count": 97,
      "outputs": [
        {
          "output_type": "execute_result",
          "data": {
            "text/plain": [
              "(10, 20)"
            ]
          },
          "metadata": {
            "tags": []
          },
          "execution_count": 97
        }
      ]
    },
    {
      "cell_type": "code",
      "metadata": {
        "colab": {
          "base_uri": "https://localhost:8080/"
        },
        "id": "vTioeTs5DhPq",
        "outputId": "65c2c1fe-29f3-46d4-a48b-a9b59f9c1a0e"
      },
      "source": [
        "tp2"
      ],
      "execution_count": 98,
      "outputs": [
        {
          "output_type": "execute_result",
          "data": {
            "text/plain": [
              "(30, 40)"
            ]
          },
          "metadata": {
            "tags": []
          },
          "execution_count": 98
        }
      ]
    },
    {
      "cell_type": "code",
      "metadata": {
        "id": "r62z6B93DioD"
      },
      "source": [
        "tp3 = tp1 + tp2"
      ],
      "execution_count": 99,
      "outputs": []
    },
    {
      "cell_type": "code",
      "metadata": {
        "colab": {
          "base_uri": "https://localhost:8080/"
        },
        "id": "RbdfTTfaDlri",
        "outputId": "50f8dcdb-9c30-4e71-cfa1-918f1fcfc9e8"
      },
      "source": [
        "tp3"
      ],
      "execution_count": 100,
      "outputs": [
        {
          "output_type": "execute_result",
          "data": {
            "text/plain": [
              "(10, 20, 30, 40)"
            ]
          },
          "metadata": {
            "tags": []
          },
          "execution_count": 100
        }
      ]
    },
    {
      "cell_type": "code",
      "metadata": {
        "id": "y3TPXsg0DmbS"
      },
      "source": [
        "tp4 = tp3*3"
      ],
      "execution_count": 101,
      "outputs": []
    },
    {
      "cell_type": "code",
      "metadata": {
        "colab": {
          "base_uri": "https://localhost:8080/"
        },
        "id": "aDSC9NqlDpys",
        "outputId": "624df004-e100-440c-d898-f2b723519c35"
      },
      "source": [
        "tp4"
      ],
      "execution_count": 102,
      "outputs": [
        {
          "output_type": "execute_result",
          "data": {
            "text/plain": [
              "(10, 20, 30, 40, 10, 20, 30, 40, 10, 20, 30, 40)"
            ]
          },
          "metadata": {
            "tags": []
          },
          "execution_count": 102
        }
      ]
    },
    {
      "cell_type": "code",
      "metadata": {
        "id": "yLXTT1LrDrBD"
      },
      "source": [
        "tpx, tpy, tpz = (10, 20, 30)"
      ],
      "execution_count": 107,
      "outputs": []
    },
    {
      "cell_type": "code",
      "metadata": {
        "colab": {
          "base_uri": "https://localhost:8080/"
        },
        "id": "Cr7HcVNKDzp6",
        "outputId": "3ca3ab3b-d7d6-433a-e75b-e0bf2dcf45eb"
      },
      "source": [
        "tpx"
      ],
      "execution_count": 108,
      "outputs": [
        {
          "output_type": "execute_result",
          "data": {
            "text/plain": [
              "10"
            ]
          },
          "metadata": {
            "tags": []
          },
          "execution_count": 108
        }
      ]
    },
    {
      "cell_type": "code",
      "metadata": {
        "colab": {
          "base_uri": "https://localhost:8080/"
        },
        "id": "YyEknVGXD0Qa",
        "outputId": "27a92bfc-04b4-47fc-c9d4-856f8a6b7578"
      },
      "source": [
        "tpy"
      ],
      "execution_count": 105,
      "outputs": [
        {
          "output_type": "execute_result",
          "data": {
            "text/plain": [
              "20"
            ]
          },
          "metadata": {
            "tags": []
          },
          "execution_count": 105
        }
      ]
    },
    {
      "cell_type": "code",
      "metadata": {
        "colab": {
          "base_uri": "https://localhost:8080/"
        },
        "id": "qJ45ISalD1Li",
        "outputId": "8ce00286-cbb1-47b9-cf30-e91f0ca58c15"
      },
      "source": [
        "tpz"
      ],
      "execution_count": 109,
      "outputs": [
        {
          "output_type": "execute_result",
          "data": {
            "text/plain": [
              "30"
            ]
          },
          "metadata": {
            "tags": []
          },
          "execution_count": 109
        }
      ]
    },
    {
      "cell_type": "code",
      "metadata": {
        "id": "NQCi4Wz0EB-z"
      },
      "source": [
        "tp = (10, 20, 30)"
      ],
      "execution_count": 110,
      "outputs": []
    },
    {
      "cell_type": "code",
      "metadata": {
        "colab": {
          "base_uri": "https://localhost:8080/",
          "height": 168
        },
        "id": "i_KoeBq9EIKC",
        "outputId": "66929811-33d1-4919-e044-87ee1c17f890"
      },
      "source": [
        "tp[0] = 100"
      ],
      "execution_count": 111,
      "outputs": [
        {
          "output_type": "error",
          "ename": "TypeError",
          "evalue": "ignored",
          "traceback": [
            "\u001b[0;31m---------------------------------------------------------------------------\u001b[0m",
            "\u001b[0;31mTypeError\u001b[0m                                 Traceback (most recent call last)",
            "\u001b[0;32m<ipython-input-111-302511da1ebd>\u001b[0m in \u001b[0;36m<module>\u001b[0;34m()\u001b[0m\n\u001b[0;32m----> 1\u001b[0;31m \u001b[0mtp\u001b[0m\u001b[0;34m[\u001b[0m\u001b[0;36m0\u001b[0m\u001b[0;34m]\u001b[0m \u001b[0;34m=\u001b[0m \u001b[0;36m100\u001b[0m\u001b[0;34m\u001b[0m\u001b[0;34m\u001b[0m\u001b[0m\n\u001b[0m",
            "\u001b[0;31mTypeError\u001b[0m: 'tuple' object does not support item assignment"
          ]
        }
      ]
    },
    {
      "cell_type": "code",
      "metadata": {
        "colab": {
          "base_uri": "https://localhost:8080/"
        },
        "id": "WTmHEr1LEJwS",
        "outputId": "a8c840a0-47f4-4790-c320-f7f90e0e3952"
      },
      "source": [
        "dt = {\n",
        "      'a' : 200,\n",
        "      'b' : 150,\n",
        "      'c' : 100\n",
        "     }\n",
        "\n",
        "dt"
      ],
      "execution_count": 112,
      "outputs": [
        {
          "output_type": "execute_result",
          "data": {
            "text/plain": [
              "{'a': 200, 'b': 150, 'c': 100}"
            ]
          },
          "metadata": {
            "tags": []
          },
          "execution_count": 112
        }
      ]
    },
    {
      "cell_type": "code",
      "metadata": {
        "colab": {
          "base_uri": "https://localhost:8080/"
        },
        "id": "9kPezPzoFJZ1",
        "outputId": "1c84f9bf-a050-42bd-8b4b-5a3450786cbb"
      },
      "source": [
        "dt.keys()"
      ],
      "execution_count": 113,
      "outputs": [
        {
          "output_type": "execute_result",
          "data": {
            "text/plain": [
              "dict_keys(['a', 'b', 'c'])"
            ]
          },
          "metadata": {
            "tags": []
          },
          "execution_count": 113
        }
      ]
    },
    {
      "cell_type": "code",
      "metadata": {
        "colab": {
          "base_uri": "https://localhost:8080/"
        },
        "id": "zVBwlOuEFRV6",
        "outputId": "d43c3054-acfd-402f-b28e-8110293811ce"
      },
      "source": [
        "list(dt.keys())"
      ],
      "execution_count": 114,
      "outputs": [
        {
          "output_type": "execute_result",
          "data": {
            "text/plain": [
              "['a', 'b', 'c']"
            ]
          },
          "metadata": {
            "tags": []
          },
          "execution_count": 114
        }
      ]
    },
    {
      "cell_type": "code",
      "metadata": {
        "colab": {
          "base_uri": "https://localhost:8080/"
        },
        "id": "-myoZjJ9FW3C",
        "outputId": "e0ea3c06-6ca0-4acc-d8ba-682c6809d0a8"
      },
      "source": [
        "dt.values()"
      ],
      "execution_count": 115,
      "outputs": [
        {
          "output_type": "execute_result",
          "data": {
            "text/plain": [
              "dict_values([200, 150, 100])"
            ]
          },
          "metadata": {
            "tags": []
          },
          "execution_count": 115
        }
      ]
    },
    {
      "cell_type": "code",
      "metadata": {
        "colab": {
          "base_uri": "https://localhost:8080/"
        },
        "id": "hp-aP-BBFwGi",
        "outputId": "30b8f10c-45ad-4a8c-9999-335f46707ad6"
      },
      "source": [
        "list(dt.values())"
      ],
      "execution_count": 116,
      "outputs": [
        {
          "output_type": "execute_result",
          "data": {
            "text/plain": [
              "[200, 150, 100]"
            ]
          },
          "metadata": {
            "tags": []
          },
          "execution_count": 116
        }
      ]
    },
    {
      "cell_type": "code",
      "metadata": {
        "colab": {
          "base_uri": "https://localhost:8080/"
        },
        "id": "iDQgXQ7CF3L6",
        "outputId": "0923652e-d0bc-4b24-fc84-4a73787c46f9"
      },
      "source": [
        "dt"
      ],
      "execution_count": 117,
      "outputs": [
        {
          "output_type": "execute_result",
          "data": {
            "text/plain": [
              "{'a': 200, 'b': 150, 'c': 100}"
            ]
          },
          "metadata": {
            "tags": []
          },
          "execution_count": 117
        }
      ]
    },
    {
      "cell_type": "code",
      "metadata": {
        "colab": {
          "base_uri": "https://localhost:8080/"
        },
        "id": "k0G6XopdF6Ay",
        "outputId": "c1de829b-7787-41bb-beab-1bbc07886e28"
      },
      "source": [
        "dt['a']"
      ],
      "execution_count": 118,
      "outputs": [
        {
          "output_type": "execute_result",
          "data": {
            "text/plain": [
              "200"
            ]
          },
          "metadata": {
            "tags": []
          },
          "execution_count": 118
        }
      ]
    },
    {
      "cell_type": "code",
      "metadata": {
        "colab": {
          "base_uri": "https://localhost:8080/"
        },
        "id": "Db0ersM9F-8C",
        "outputId": "f457cbe0-6edb-4491-f473-5e7aa62ed534"
      },
      "source": [
        "dt"
      ],
      "execution_count": 119,
      "outputs": [
        {
          "output_type": "execute_result",
          "data": {
            "text/plain": [
              "{'a': 200, 'b': 150, 'c': 100}"
            ]
          },
          "metadata": {
            "tags": []
          },
          "execution_count": 119
        }
      ]
    },
    {
      "cell_type": "code",
      "metadata": {
        "id": "LpFaKUq0GDtK"
      },
      "source": [
        "dt['d'] = 30"
      ],
      "execution_count": 120,
      "outputs": []
    },
    {
      "cell_type": "code",
      "metadata": {
        "colab": {
          "base_uri": "https://localhost:8080/"
        },
        "id": "Eob0ekXUGIlK",
        "outputId": "81448794-d68b-4088-85ad-eb1d1f664fd9"
      },
      "source": [
        "dt"
      ],
      "execution_count": 123,
      "outputs": [
        {
          "output_type": "execute_result",
          "data": {
            "text/plain": [
              "{'a': 200, 'b': 150, 'c': 100, 'd': 30}"
            ]
          },
          "metadata": {
            "tags": []
          },
          "execution_count": 123
        }
      ]
    },
    {
      "cell_type": "code",
      "metadata": {
        "id": "TvNwK4GnGJPS"
      },
      "source": [
        "del dt['b']"
      ],
      "execution_count": 124,
      "outputs": []
    },
    {
      "cell_type": "code",
      "metadata": {
        "colab": {
          "base_uri": "https://localhost:8080/"
        },
        "id": "RvmLt4-RGQ0a",
        "outputId": "39293949-568a-4b5f-e5a7-ba2841f08f66"
      },
      "source": [
        "dt"
      ],
      "execution_count": 125,
      "outputs": [
        {
          "output_type": "execute_result",
          "data": {
            "text/plain": [
              "{'a': 200, 'c': 100, 'd': 30}"
            ]
          },
          "metadata": {
            "tags": []
          },
          "execution_count": 125
        }
      ]
    },
    {
      "cell_type": "code",
      "metadata": {
        "id": "dAkPJa-JGRoC"
      },
      "source": [
        "a = (1, 2, 2, 3)\n",
        "b = [10, 20, 30, 30]"
      ],
      "execution_count": 126,
      "outputs": []
    },
    {
      "cell_type": "code",
      "metadata": {
        "colab": {
          "base_uri": "https://localhost:8080/"
        },
        "id": "BNWZELpnHC8K",
        "outputId": "23034f24-6e55-4aa2-f933-51a081b0a769"
      },
      "source": [
        "type(a), type(b)"
      ],
      "execution_count": 127,
      "outputs": [
        {
          "output_type": "execute_result",
          "data": {
            "text/plain": [
              "(tuple, list)"
            ]
          },
          "metadata": {
            "tags": []
          },
          "execution_count": 127
        }
      ]
    },
    {
      "cell_type": "code",
      "metadata": {
        "colab": {
          "base_uri": "https://localhost:8080/"
        },
        "id": "4plB5ycaHIF6",
        "outputId": "16c3fb74-5062-40f8-a978-cde1391e2137"
      },
      "source": [
        "c = set(a)\n",
        "c"
      ],
      "execution_count": 128,
      "outputs": [
        {
          "output_type": "execute_result",
          "data": {
            "text/plain": [
              "{1, 2, 3}"
            ]
          },
          "metadata": {
            "tags": []
          },
          "execution_count": 128
        }
      ]
    },
    {
      "cell_type": "code",
      "metadata": {
        "colab": {
          "base_uri": "https://localhost:8080/"
        },
        "id": "C7wMzkhhHVmz",
        "outputId": "1dd0dcd3-6ecf-4796-a040-d2713a4affa4"
      },
      "source": [
        "type(c)"
      ],
      "execution_count": 129,
      "outputs": [
        {
          "output_type": "execute_result",
          "data": {
            "text/plain": [
              "set"
            ]
          },
          "metadata": {
            "tags": []
          },
          "execution_count": 129
        }
      ]
    },
    {
      "cell_type": "code",
      "metadata": {
        "id": "4rh4HCOdHcCS"
      },
      "source": [
        "d = set(b)"
      ],
      "execution_count": 130,
      "outputs": []
    },
    {
      "cell_type": "code",
      "metadata": {
        "colab": {
          "base_uri": "https://localhost:8080/"
        },
        "id": "vEVAFWBqHfA6",
        "outputId": "187e126e-6400-4c85-88d6-de4428cb3c96"
      },
      "source": [
        "d"
      ],
      "execution_count": 131,
      "outputs": [
        {
          "output_type": "execute_result",
          "data": {
            "text/plain": [
              "{10, 20, 30}"
            ]
          },
          "metadata": {
            "tags": []
          },
          "execution_count": 131
        }
      ]
    },
    {
      "cell_type": "code",
      "metadata": {
        "id": "6PLL1fTvHfor"
      },
      "source": [
        "a = set(a)\n",
        "b = set(b)"
      ],
      "execution_count": 133,
      "outputs": []
    },
    {
      "cell_type": "code",
      "metadata": {
        "colab": {
          "base_uri": "https://localhost:8080/"
        },
        "id": "CkcUvCUKHqYR",
        "outputId": "f6628563-c77a-40cd-99dc-a59cc473581f"
      },
      "source": [
        "a"
      ],
      "execution_count": 134,
      "outputs": [
        {
          "output_type": "execute_result",
          "data": {
            "text/plain": [
              "{1, 2, 3}"
            ]
          },
          "metadata": {
            "tags": []
          },
          "execution_count": 134
        }
      ]
    },
    {
      "cell_type": "code",
      "metadata": {
        "colab": {
          "base_uri": "https://localhost:8080/"
        },
        "id": "QFg5FYBRHuOa",
        "outputId": "afc0b3e8-7347-47ca-b8ce-e9931510ae16"
      },
      "source": [
        "b"
      ],
      "execution_count": 135,
      "outputs": [
        {
          "output_type": "execute_result",
          "data": {
            "text/plain": [
              "{10, 20, 30}"
            ]
          },
          "metadata": {
            "tags": []
          },
          "execution_count": 135
        }
      ]
    },
    {
      "cell_type": "code",
      "metadata": {
        "id": "CS8nMXk-Hu8L"
      },
      "source": [
        "a.add(100)"
      ],
      "execution_count": 138,
      "outputs": []
    },
    {
      "cell_type": "code",
      "metadata": {
        "colab": {
          "base_uri": "https://localhost:8080/"
        },
        "id": "qx7VlWX5Hzxr",
        "outputId": "6cdbd470-2b96-43e7-f5a3-5f5ed5ff059f"
      },
      "source": [
        "a"
      ],
      "execution_count": 139,
      "outputs": [
        {
          "output_type": "execute_result",
          "data": {
            "text/plain": [
              "{1, 2, 3, 100}"
            ]
          },
          "metadata": {
            "tags": []
          },
          "execution_count": 139
        }
      ]
    },
    {
      "cell_type": "code",
      "metadata": {
        "colab": {
          "base_uri": "https://localhost:8080/"
        },
        "id": "6Ye5Mqb6H0ya",
        "outputId": "a2c72631-62da-44fd-eb70-33ceb4d32736"
      },
      "source": [
        "b"
      ],
      "execution_count": 140,
      "outputs": [
        {
          "output_type": "execute_result",
          "data": {
            "text/plain": [
              "{10, 20, 30}"
            ]
          },
          "metadata": {
            "tags": []
          },
          "execution_count": 140
        }
      ]
    },
    {
      "cell_type": "code",
      "metadata": {
        "id": "dJJ03Te8IBES"
      },
      "source": [
        "b.update({100,200,300})"
      ],
      "execution_count": 142,
      "outputs": []
    },
    {
      "cell_type": "code",
      "metadata": {
        "colab": {
          "base_uri": "https://localhost:8080/"
        },
        "id": "sldEiV2mICo7",
        "outputId": "f93c3f3e-fa17-43b2-d1a0-b585e722bc01"
      },
      "source": [
        "b"
      ],
      "execution_count": 143,
      "outputs": [
        {
          "output_type": "execute_result",
          "data": {
            "text/plain": [
              "{10, 20, 30, 100, 200, 300}"
            ]
          },
          "metadata": {
            "tags": []
          },
          "execution_count": 143
        }
      ]
    },
    {
      "cell_type": "code",
      "metadata": {
        "colab": {
          "base_uri": "https://localhost:8080/"
        },
        "id": "ctTbqAs9IMtb",
        "outputId": "bd2b6657-26e8-4ea2-ad2b-272f04c1de51"
      },
      "source": [
        "a"
      ],
      "execution_count": 144,
      "outputs": [
        {
          "output_type": "execute_result",
          "data": {
            "text/plain": [
              "{1, 2, 3, 100}"
            ]
          },
          "metadata": {
            "tags": []
          },
          "execution_count": 144
        }
      ]
    },
    {
      "cell_type": "code",
      "metadata": {
        "id": "k2nhbQ_fISrT"
      },
      "source": [
        "a.remove(100)"
      ],
      "execution_count": 145,
      "outputs": []
    },
    {
      "cell_type": "code",
      "metadata": {
        "colab": {
          "base_uri": "https://localhost:8080/"
        },
        "id": "P5qTiC7iIVPj",
        "outputId": "c7a0e1e4-774a-4479-c64e-c3655b7dad5a"
      },
      "source": [
        "a"
      ],
      "execution_count": 146,
      "outputs": [
        {
          "output_type": "execute_result",
          "data": {
            "text/plain": [
              "{1, 2, 3}"
            ]
          },
          "metadata": {
            "tags": []
          },
          "execution_count": 146
        }
      ]
    },
    {
      "cell_type": "code",
      "metadata": {
        "id": "pBraphwdIWD7"
      },
      "source": [
        "a.clear()"
      ],
      "execution_count": 147,
      "outputs": []
    },
    {
      "cell_type": "code",
      "metadata": {
        "colab": {
          "base_uri": "https://localhost:8080/"
        },
        "id": "SrNCfLudIYHD",
        "outputId": "26892192-09d7-4d90-d76b-b1a8a5132aec"
      },
      "source": [
        "a"
      ],
      "execution_count": 148,
      "outputs": [
        {
          "output_type": "execute_result",
          "data": {
            "text/plain": [
              "set()"
            ]
          },
          "metadata": {
            "tags": []
          },
          "execution_count": 148
        }
      ]
    },
    {
      "cell_type": "code",
      "metadata": {
        "id": "jxi2ietsIZBz"
      },
      "source": [
        "a.update({100,200,300})"
      ],
      "execution_count": 149,
      "outputs": []
    },
    {
      "cell_type": "code",
      "metadata": {
        "colab": {
          "base_uri": "https://localhost:8080/"
        },
        "id": "Ohq3u1A6Ih0q",
        "outputId": "31f0b58a-b239-44bc-cf18-de590858f809"
      },
      "source": [
        "a"
      ],
      "execution_count": 150,
      "outputs": [
        {
          "output_type": "execute_result",
          "data": {
            "text/plain": [
              "{100, 200, 300}"
            ]
          },
          "metadata": {
            "tags": []
          },
          "execution_count": 150
        }
      ]
    },
    {
      "cell_type": "code",
      "metadata": {
        "colab": {
          "base_uri": "https://localhost:8080/"
        },
        "id": "W8lmwYq5IinT",
        "outputId": "1b4f89b4-78fd-41fc-ec74-10b874baa364"
      },
      "source": [
        "b"
      ],
      "execution_count": 151,
      "outputs": [
        {
          "output_type": "execute_result",
          "data": {
            "text/plain": [
              "{10, 20, 30, 100, 200, 300}"
            ]
          },
          "metadata": {
            "tags": []
          },
          "execution_count": 151
        }
      ]
    },
    {
      "cell_type": "code",
      "metadata": {
        "colab": {
          "base_uri": "https://localhost:8080/"
        },
        "id": "_m5g9OtSIjQS",
        "outputId": "d44a1ea4-9a32-4b2b-e02e-ee3a3a5f1c5d"
      },
      "source": [
        "a & b"
      ],
      "execution_count": 152,
      "outputs": [
        {
          "output_type": "execute_result",
          "data": {
            "text/plain": [
              "{100, 200, 300}"
            ]
          },
          "metadata": {
            "tags": []
          },
          "execution_count": 152
        }
      ]
    },
    {
      "cell_type": "code",
      "metadata": {
        "colab": {
          "base_uri": "https://localhost:8080/"
        },
        "id": "fF-QnLtXIuuC",
        "outputId": "d483ab6f-102c-4e7b-b2b6-2ba1d0b526e3"
      },
      "source": [
        "a | b"
      ],
      "execution_count": 153,
      "outputs": [
        {
          "output_type": "execute_result",
          "data": {
            "text/plain": [
              "{10, 20, 30, 100, 200, 300}"
            ]
          },
          "metadata": {
            "tags": []
          },
          "execution_count": 153
        }
      ]
    },
    {
      "cell_type": "code",
      "metadata": {
        "colab": {
          "base_uri": "https://localhost:8080/"
        },
        "id": "wWLQ9uGBIymD",
        "outputId": "e722eefe-21f7-47af-a5ac-5c2f2134a228"
      },
      "source": [
        "a - b"
      ],
      "execution_count": 154,
      "outputs": [
        {
          "output_type": "execute_result",
          "data": {
            "text/plain": [
              "set()"
            ]
          },
          "metadata": {
            "tags": []
          },
          "execution_count": 154
        }
      ]
    },
    {
      "cell_type": "code",
      "metadata": {
        "colab": {
          "base_uri": "https://localhost:8080/"
        },
        "id": "1P04IeFyI1Pr",
        "outputId": "4f2e6906-c39e-4fbb-89f3-10f4b8969b28"
      },
      "source": [
        "b - a"
      ],
      "execution_count": 155,
      "outputs": [
        {
          "output_type": "execute_result",
          "data": {
            "text/plain": [
              "{10, 20, 30}"
            ]
          },
          "metadata": {
            "tags": []
          },
          "execution_count": 155
        }
      ]
    },
    {
      "cell_type": "code",
      "metadata": {
        "id": "9hDjC0IkI-qz"
      },
      "source": [
        "lst = [10, 50, 30]\n",
        "tp = ('a', 'b', 'c')"
      ],
      "execution_count": 156,
      "outputs": []
    },
    {
      "cell_type": "code",
      "metadata": {
        "colab": {
          "base_uri": "https://localhost:8080/"
        },
        "id": "a9j05X-BJRZy",
        "outputId": "1299cf89-4bfb-46f3-f171-d1007330631a"
      },
      "source": [
        "for item in lst:\n",
        "  print(item)"
      ],
      "execution_count": 157,
      "outputs": [
        {
          "output_type": "stream",
          "text": [
            "10\n",
            "50\n",
            "30\n"
          ],
          "name": "stdout"
        }
      ]
    },
    {
      "cell_type": "code",
      "metadata": {
        "colab": {
          "base_uri": "https://localhost:8080/"
        },
        "id": "Yi1IAarfJg1S",
        "outputId": "34a5ac94-7363-4b0d-c5cf-0593c1447c0c"
      },
      "source": [
        "for item in tp:\n",
        "  print(item)"
      ],
      "execution_count": 158,
      "outputs": [
        {
          "output_type": "stream",
          "text": [
            "a\n",
            "b\n",
            "c\n"
          ],
          "name": "stdout"
        }
      ]
    },
    {
      "cell_type": "code",
      "metadata": {
        "colab": {
          "base_uri": "https://localhost:8080/"
        },
        "id": "vRHcz3hJJogD",
        "outputId": "3e33166b-1b33-4604-815b-19ffee63672a"
      },
      "source": [
        "tp, lst"
      ],
      "execution_count": 161,
      "outputs": [
        {
          "output_type": "execute_result",
          "data": {
            "text/plain": [
              "(('a', 'b', 'c'), [10, 50, 30])"
            ]
          },
          "metadata": {
            "tags": []
          },
          "execution_count": 161
        }
      ]
    },
    {
      "cell_type": "code",
      "metadata": {
        "colab": {
          "base_uri": "https://localhost:8080/"
        },
        "id": "wGhQuKCzJuwz",
        "outputId": "731b1903-c8a1-4e8a-dbdb-d4f3984747eb"
      },
      "source": [
        "zip(tp, lst)"
      ],
      "execution_count": 164,
      "outputs": [
        {
          "output_type": "execute_result",
          "data": {
            "text/plain": [
              "<zip at 0x7f22048e0b40>"
            ]
          },
          "metadata": {
            "tags": []
          },
          "execution_count": 164
        }
      ]
    },
    {
      "cell_type": "code",
      "metadata": {
        "colab": {
          "base_uri": "https://localhost:8080/"
        },
        "id": "RfZo4apVJ6B7",
        "outputId": "0c490709-19a3-4cfd-ee3e-ccee5c74255e"
      },
      "source": [
        "for item in zip(tp,lst):\n",
        "  print(item)"
      ],
      "execution_count": 165,
      "outputs": [
        {
          "output_type": "stream",
          "text": [
            "('a', 10)\n",
            "('b', 50)\n",
            "('c', 30)\n"
          ],
          "name": "stdout"
        }
      ]
    },
    {
      "cell_type": "code",
      "metadata": {
        "id": "jZ2tIfJ4KLvi"
      },
      "source": [
        "dt = dict(zip(tp,lst))"
      ],
      "execution_count": 166,
      "outputs": []
    },
    {
      "cell_type": "code",
      "metadata": {
        "colab": {
          "base_uri": "https://localhost:8080/"
        },
        "id": "_n7gk0yPKZ1b",
        "outputId": "780fd453-bacd-443c-9989-dadc8cc23b13"
      },
      "source": [
        "dt"
      ],
      "execution_count": 167,
      "outputs": [
        {
          "output_type": "execute_result",
          "data": {
            "text/plain": [
              "{'a': 10, 'b': 50, 'c': 30}"
            ]
          },
          "metadata": {
            "tags": []
          },
          "execution_count": 167
        }
      ]
    },
    {
      "cell_type": "code",
      "metadata": {
        "colab": {
          "base_uri": "https://localhost:8080/"
        },
        "id": "0IOrAdVvKaU0",
        "outputId": "7bc09b61-773b-4a5f-be20-f47e3cc2e3e9"
      },
      "source": [
        "for item in dt:\n",
        "  print(f'{item} : {dt[item]}')"
      ],
      "execution_count": 168,
      "outputs": [
        {
          "output_type": "stream",
          "text": [
            "a : 10\n",
            "b : 50\n",
            "c : 30\n"
          ],
          "name": "stdout"
        }
      ]
    },
    {
      "cell_type": "code",
      "metadata": {
        "id": "AdmYdcZ9Kx8b"
      },
      "source": [
        "# 부산 3월 기온\n",
        "temp = [10.8,  8.5,  8.7,  7.9,  5.1,\n",
        "         8.1,  8.2, 10.4,   11,  9.9,\n",
        "         7.8,  9.5, 11.6,  8.2,  7.7,\n",
        "         6.6, 11.1, 12.2, 12.6, 10.4,\n",
        "        13.7, 14.1, 12.6, 11.5,   13,\n",
        "        14.5, 13.7,  9.4, 10.4, 11.6, 12.9]"
      ],
      "execution_count": 169,
      "outputs": []
    },
    {
      "cell_type": "code",
      "metadata": {
        "colab": {
          "base_uri": "https://localhost:8080/"
        },
        "id": "GfHcgRRVLVd6",
        "outputId": "6787b4be-a36d-4370-fc44-0541eae742a3"
      },
      "source": [
        "max(temp)"
      ],
      "execution_count": 171,
      "outputs": [
        {
          "output_type": "execute_result",
          "data": {
            "text/plain": [
              "14.5"
            ]
          },
          "metadata": {
            "tags": []
          },
          "execution_count": 171
        }
      ]
    },
    {
      "cell_type": "code",
      "metadata": {
        "colab": {
          "base_uri": "https://localhost:8080/"
        },
        "id": "9tUrtHB_LZS8",
        "outputId": "6ff0f3f5-2c3e-4b12-80de-ac32e861bae0"
      },
      "source": [
        "print(f'최고기온 : {max(temp) : 6.2f} 도')"
      ],
      "execution_count": 182,
      "outputs": [
        {
          "output_type": "stream",
          "text": [
            "최고기온 :  14.50 도\n"
          ],
          "name": "stdout"
        }
      ]
    },
    {
      "cell_type": "code",
      "metadata": {
        "colab": {
          "base_uri": "https://localhost:8080/"
        },
        "id": "cxuKz8T7Ln4I",
        "outputId": "3d92cc7e-d1e1-4c97-976c-e896f03b0619"
      },
      "source": [
        "min(temp)"
      ],
      "execution_count": 176,
      "outputs": [
        {
          "output_type": "execute_result",
          "data": {
            "text/plain": [
              "5.1"
            ]
          },
          "metadata": {
            "tags": []
          },
          "execution_count": 176
        }
      ]
    },
    {
      "cell_type": "code",
      "metadata": {
        "colab": {
          "base_uri": "https://localhost:8080/"
        },
        "id": "6hz50I_9L1wT",
        "outputId": "e6630088-ade9-4f55-8359-79961c050cda"
      },
      "source": [
        "print(f'최저기온 : {min(temp) : 6.2f} 도')"
      ],
      "execution_count": 183,
      "outputs": [
        {
          "output_type": "stream",
          "text": [
            "최저기온 :   5.10 도\n"
          ],
          "name": "stdout"
        }
      ]
    },
    {
      "cell_type": "code",
      "metadata": {
        "colab": {
          "base_uri": "https://localhost:8080/"
        },
        "id": "dbGg6TovL8xb",
        "outputId": "cd434d9e-8e9c-4061-9274-d6d553b0d803"
      },
      "source": [
        "avg = sum(temp) / len(temp)\n",
        "avg"
      ],
      "execution_count": 180,
      "outputs": [
        {
          "output_type": "execute_result",
          "data": {
            "text/plain": [
              "10.441935483870964"
            ]
          },
          "metadata": {
            "tags": []
          },
          "execution_count": 180
        }
      ]
    },
    {
      "cell_type": "code",
      "metadata": {
        "colab": {
          "base_uri": "https://localhost:8080/"
        },
        "id": "UyVcDwt-MDIU",
        "outputId": "2f27c63d-fc36-401b-cd1d-eb5f7dfd685d"
      },
      "source": [
        "print(f'평균기온 : {avg : 6.2f} 도')"
      ],
      "execution_count": 184,
      "outputs": [
        {
          "output_type": "stream",
          "text": [
            "평균기온 :  10.44 도\n"
          ],
          "name": "stdout"
        }
      ]
    },
    {
      "cell_type": "code",
      "metadata": {
        "id": "qQxpVDibMNIj"
      },
      "source": [
        ""
      ],
      "execution_count": null,
      "outputs": []
    }
  ]
}